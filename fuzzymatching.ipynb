{
 "cells": [
  {
   "cell_type": "code",
   "execution_count": null,
   "id": "eb7881a9",
   "metadata": {},
   "outputs": [],
   "source": [
    "pip install fuzzywuzzy"
   ]
  },
  {
   "cell_type": "code",
   "execution_count": 172,
   "id": "39236f9d",
   "metadata": {},
   "outputs": [
    {
     "data": {
      "text/html": [
       "<div>\n",
       "<style scoped>\n",
       "    .dataframe tbody tr th:only-of-type {\n",
       "        vertical-align: middle;\n",
       "    }\n",
       "\n",
       "    .dataframe tbody tr th {\n",
       "        vertical-align: top;\n",
       "    }\n",
       "\n",
       "    .dataframe thead th {\n",
       "        text-align: right;\n",
       "    }\n",
       "</style>\n",
       "<table border=\"1\" class=\"dataframe\">\n",
       "  <thead>\n",
       "    <tr style=\"text-align: right;\">\n",
       "      <th></th>\n",
       "      <th>place</th>\n",
       "      <th>interaction</th>\n",
       "      <th>description</th>\n",
       "    </tr>\n",
       "  </thead>\n",
       "  <tbody>\n",
       "    <tr>\n",
       "      <th>0</th>\n",
       "      <td>Jerusalem</td>\n",
       "      <td>visited</td>\n",
       "      <td>Visited and explored various localities in and...</td>\n",
       "    </tr>\n",
       "    <tr>\n",
       "      <th>1</th>\n",
       "      <td>Bethlehem</td>\n",
       "      <td>mentioned</td>\n",
       "      <td>Plans to visit Bethlehem and reflect on the bi...</td>\n",
       "    </tr>\n",
       "    <tr>\n",
       "      <th>2</th>\n",
       "      <td>Bethany</td>\n",
       "      <td>mentioned</td>\n",
       "      <td>Intends to visit Bethany and read about the re...</td>\n",
       "    </tr>\n",
       "    <tr>\n",
       "      <th>3</th>\n",
       "      <td>Gethsemane</td>\n",
       "      <td>mentioned</td>\n",
       "      <td>Looks forward to visiting Gethsemane to contem...</td>\n",
       "    </tr>\n",
       "    <tr>\n",
       "      <th>4</th>\n",
       "      <td>Calvary</td>\n",
       "      <td>mentioned</td>\n",
       "      <td>Aims to visit Calvary and reflect on the story...</td>\n",
       "    </tr>\n",
       "    <tr>\n",
       "      <th>5</th>\n",
       "      <td>Mount Olivet</td>\n",
       "      <td>mentioned</td>\n",
       "      <td>Anticipates visiting Mount Olivet to consider ...</td>\n",
       "    </tr>\n",
       "    <tr>\n",
       "      <th>6</th>\n",
       "      <td>Zion</td>\n",
       "      <td>observed</td>\n",
       "      <td>Observed the hill of Zion, a significant locat...</td>\n",
       "    </tr>\n",
       "    <tr>\n",
       "      <th>7</th>\n",
       "      <td>Akra</td>\n",
       "      <td>observed</td>\n",
       "      <td>Noted the hill of Akra while exploring Jerusalem.</td>\n",
       "    </tr>\n",
       "    <tr>\n",
       "      <th>8</th>\n",
       "      <td>Bezetha</td>\n",
       "      <td>observed</td>\n",
       "      <td>Bezetha, one of the hills on which Jerusalem i...</td>\n",
       "    </tr>\n",
       "    <tr>\n",
       "      <th>9</th>\n",
       "      <td>Moriah</td>\n",
       "      <td>observed</td>\n",
       "      <td>Observed Moriah, another hill forming part of ...</td>\n",
       "    </tr>\n",
       "    <tr>\n",
       "      <th>10</th>\n",
       "      <td>Damascus Gate</td>\n",
       "      <td>visited</td>\n",
       "      <td>Visited the Damascus Gate, located midway alon...</td>\n",
       "    </tr>\n",
       "    <tr>\n",
       "      <th>11</th>\n",
       "      <td>St. Stephen's Gate</td>\n",
       "      <td>visited</td>\n",
       "      <td>Visited St. Stephen's Gate, facing Mount Olivet.</td>\n",
       "    </tr>\n",
       "    <tr>\n",
       "      <th>12</th>\n",
       "      <td>Church of Ascension</td>\n",
       "      <td>observed</td>\n",
       "      <td>Observed the Church of Ascension while near St...</td>\n",
       "    </tr>\n",
       "    <tr>\n",
       "      <th>13</th>\n",
       "      <td>Golden Gate</td>\n",
       "      <td>observed</td>\n",
       "      <td>Observed the now closed Golden Gate of the Tem...</td>\n",
       "    </tr>\n",
       "    <tr>\n",
       "      <th>14</th>\n",
       "      <td>Zion Gate</td>\n",
       "      <td>visited</td>\n",
       "      <td>Visited Zion Gate, located near the southern p...</td>\n",
       "    </tr>\n",
       "    <tr>\n",
       "      <th>15</th>\n",
       "      <td>Jaffa Gate</td>\n",
       "      <td>visited</td>\n",
       "      <td>Visited Jaffa Gate, situated near the west of ...</td>\n",
       "    </tr>\n",
       "    <tr>\n",
       "      <th>16</th>\n",
       "      <td>Mugrabin Gate</td>\n",
       "      <td>mentioned</td>\n",
       "      <td>Mentioned the Mugrabin Gate in the context of ...</td>\n",
       "    </tr>\n",
       "    <tr>\n",
       "      <th>17</th>\n",
       "      <td>Virgin's Fount</td>\n",
       "      <td>mentioned</td>\n",
       "      <td>Mentioned Virgin's Fount in relation to Jerusa...</td>\n",
       "    </tr>\n",
       "    <tr>\n",
       "      <th>18</th>\n",
       "      <td>Pool of Siloam</td>\n",
       "      <td>mentioned</td>\n",
       "      <td>Referred to the Pool of Siloam as part of Jeru...</td>\n",
       "    </tr>\n",
       "    <tr>\n",
       "      <th>19</th>\n",
       "      <td>Well of Nehemiah Yuab</td>\n",
       "      <td>mentioned</td>\n",
       "      <td>Mentioned the Well of Nehemiah Yuab (En-rogel)...</td>\n",
       "    </tr>\n",
       "    <tr>\n",
       "      <th>20</th>\n",
       "      <td>Fortress of David</td>\n",
       "      <td>visited</td>\n",
       "      <td>Visited the Fortress of David, including the T...</td>\n",
       "    </tr>\n",
       "    <tr>\n",
       "      <th>21</th>\n",
       "      <td>Church of Yacobeiah</td>\n",
       "      <td>visited</td>\n",
       "      <td>Visited the ruins of the Church of Yacobeiah, ...</td>\n",
       "    </tr>\n",
       "    <tr>\n",
       "      <th>22</th>\n",
       "      <td>Church of St. James</td>\n",
       "      <td>visited</td>\n",
       "      <td>Visited the Church of St. James, related to th...</td>\n",
       "    </tr>\n",
       "    <tr>\n",
       "      <th>23</th>\n",
       "      <td>Armenian Patriarch's palace</td>\n",
       "      <td>passed</td>\n",
       "      <td>Passed the palace of the Armenian Patriarch.</td>\n",
       "    </tr>\n",
       "    <tr>\n",
       "      <th>24</th>\n",
       "      <td>Tomb of David</td>\n",
       "      <td>visited</td>\n",
       "      <td>Visited the Tomb of David and associated relig...</td>\n",
       "    </tr>\n",
       "    <tr>\n",
       "      <th>25</th>\n",
       "      <td>Via Dolorosa</td>\n",
       "      <td>visited</td>\n",
       "      <td>Walked along the Via Dolorosa, reflecting on C...</td>\n",
       "    </tr>\n",
       "    <tr>\n",
       "      <th>26</th>\n",
       "      <td>Pool of Bethesda</td>\n",
       "      <td>observed</td>\n",
       "      <td>Observed the site thought to be the Pool of Be...</td>\n",
       "    </tr>\n",
       "    <tr>\n",
       "      <th>27</th>\n",
       "      <td>Church of St. Anne</td>\n",
       "      <td>observed</td>\n",
       "      <td>Observed the Church of St. Anne, believed to b...</td>\n",
       "    </tr>\n",
       "    <tr>\n",
       "      <th>28</th>\n",
       "      <td>Governor of Jerusalem's residence</td>\n",
       "      <td>visited</td>\n",
       "      <td>Visited the residence of the Governor of Jerus...</td>\n",
       "    </tr>\n",
       "    <tr>\n",
       "      <th>29</th>\n",
       "      <td>Church of the Holy Sepulchre</td>\n",
       "      <td>visited</td>\n",
       "      <td>Visited the Church of the Holy Sepulchre, a ke...</td>\n",
       "    </tr>\n",
       "    <tr>\n",
       "      <th>30</th>\n",
       "      <td>Church of Flagellation</td>\n",
       "      <td>passed</td>\n",
       "      <td>Passed by the Church of Flagellation.</td>\n",
       "    </tr>\n",
       "    <tr>\n",
       "      <th>31</th>\n",
       "      <td>King Baldwin's Bath</td>\n",
       "      <td>observed</td>\n",
       "      <td>Observed King Baldwin's Bath, a preserved hist...</td>\n",
       "    </tr>\n",
       "  </tbody>\n",
       "</table>\n",
       "</div>"
      ],
      "text/plain": [
       "                                place interaction  \\\n",
       "0                           Jerusalem     visited   \n",
       "1                           Bethlehem   mentioned   \n",
       "2                             Bethany   mentioned   \n",
       "3                          Gethsemane   mentioned   \n",
       "4                             Calvary   mentioned   \n",
       "5                        Mount Olivet   mentioned   \n",
       "6                                Zion    observed   \n",
       "7                                Akra    observed   \n",
       "8                             Bezetha    observed   \n",
       "9                              Moriah    observed   \n",
       "10                      Damascus Gate     visited   \n",
       "11                 St. Stephen's Gate     visited   \n",
       "12                Church of Ascension    observed   \n",
       "13                        Golden Gate    observed   \n",
       "14                          Zion Gate     visited   \n",
       "15                         Jaffa Gate     visited   \n",
       "16                      Mugrabin Gate   mentioned   \n",
       "17                     Virgin's Fount   mentioned   \n",
       "18                     Pool of Siloam   mentioned   \n",
       "19              Well of Nehemiah Yuab   mentioned   \n",
       "20                  Fortress of David     visited   \n",
       "21                Church of Yacobeiah     visited   \n",
       "22                Church of St. James     visited   \n",
       "23        Armenian Patriarch's palace      passed   \n",
       "24                      Tomb of David     visited   \n",
       "25                       Via Dolorosa     visited   \n",
       "26                   Pool of Bethesda    observed   \n",
       "27                 Church of St. Anne    observed   \n",
       "28  Governor of Jerusalem's residence     visited   \n",
       "29       Church of the Holy Sepulchre     visited   \n",
       "30             Church of Flagellation      passed   \n",
       "31                King Baldwin's Bath    observed   \n",
       "\n",
       "                                          description  \n",
       "0   Visited and explored various localities in and...  \n",
       "1   Plans to visit Bethlehem and reflect on the bi...  \n",
       "2   Intends to visit Bethany and read about the re...  \n",
       "3   Looks forward to visiting Gethsemane to contem...  \n",
       "4   Aims to visit Calvary and reflect on the story...  \n",
       "5   Anticipates visiting Mount Olivet to consider ...  \n",
       "6   Observed the hill of Zion, a significant locat...  \n",
       "7   Noted the hill of Akra while exploring Jerusalem.  \n",
       "8   Bezetha, one of the hills on which Jerusalem i...  \n",
       "9   Observed Moriah, another hill forming part of ...  \n",
       "10  Visited the Damascus Gate, located midway alon...  \n",
       "11   Visited St. Stephen's Gate, facing Mount Olivet.  \n",
       "12  Observed the Church of Ascension while near St...  \n",
       "13  Observed the now closed Golden Gate of the Tem...  \n",
       "14  Visited Zion Gate, located near the southern p...  \n",
       "15  Visited Jaffa Gate, situated near the west of ...  \n",
       "16  Mentioned the Mugrabin Gate in the context of ...  \n",
       "17  Mentioned Virgin's Fount in relation to Jerusa...  \n",
       "18  Referred to the Pool of Siloam as part of Jeru...  \n",
       "19  Mentioned the Well of Nehemiah Yuab (En-rogel)...  \n",
       "20  Visited the Fortress of David, including the T...  \n",
       "21  Visited the ruins of the Church of Yacobeiah, ...  \n",
       "22  Visited the Church of St. James, related to th...  \n",
       "23       Passed the palace of the Armenian Patriarch.  \n",
       "24  Visited the Tomb of David and associated relig...  \n",
       "25  Walked along the Via Dolorosa, reflecting on C...  \n",
       "26  Observed the site thought to be the Pool of Be...  \n",
       "27  Observed the Church of St. Anne, believed to b...  \n",
       "28  Visited the residence of the Governor of Jerus...  \n",
       "29  Visited the Church of the Holy Sepulchre, a ke...  \n",
       "30              Passed by the Church of Flagellation.  \n",
       "31  Observed King Baldwin's Bath, a preserved hist...  "
      ]
     },
     "metadata": {},
     "output_type": "display_data"
    }
   ],
   "source": [
    "import json\n",
    "import pandas as pd\n",
    "import geopandas as gpd\n",
    "from fuzzywuzzy import fuzz\n",
    "\n",
    "with open('Data/unsupervised_places_interactions_ch3.json', 'r') as f:\n",
    "    data = json.load(f)\n",
    "\n",
    "json_df = pd.read_json('Data/unsupervised_places_interactions_ch3.json')\n",
    "\n",
    "#display(data)\n",
    "display(json_df)\n",
    "\n"
   ]
  },
  {
   "cell_type": "code",
   "execution_count": 173,
   "id": "705b616e",
   "metadata": {},
   "outputs": [
    {
     "data": {
      "text/html": [
       "<div>\n",
       "<style scoped>\n",
       "    .dataframe tbody tr th:only-of-type {\n",
       "        vertical-align: middle;\n",
       "    }\n",
       "\n",
       "    .dataframe tbody tr th {\n",
       "        vertical-align: top;\n",
       "    }\n",
       "\n",
       "    .dataframe thead th {\n",
       "        text-align: right;\n",
       "    }\n",
       "</style>\n",
       "<table border=\"1\" class=\"dataframe\">\n",
       "  <thead>\n",
       "    <tr style=\"text-align: right;\">\n",
       "      <th></th>\n",
       "      <th>id</th>\n",
       "      <th>English</th>\n",
       "      <th>Arabic</th>\n",
       "      <th>Arabic_2</th>\n",
       "      <th>German</th>\n",
       "      <th>English_2</th>\n",
       "      <th>Hebrew</th>\n",
       "      <th>geometry</th>\n",
       "    </tr>\n",
       "  </thead>\n",
       "  <tbody>\n",
       "    <tr>\n",
       "      <th>0</th>\n",
       "      <td>None</td>\n",
       "      <td>Storks Tower</td>\n",
       "      <td>Burj Laklak</td>\n",
       "      <td>None</td>\n",
       "      <td>None</td>\n",
       "      <td>None</td>\n",
       "      <td>None</td>\n",
       "      <td>POINT (35.23671 31.78368)</td>\n",
       "    </tr>\n",
       "    <tr>\n",
       "      <th>1</th>\n",
       "      <td>None</td>\n",
       "      <td>St. Stephen's Gate</td>\n",
       "      <td>Bâb Sitti Maryam</td>\n",
       "      <td>Bāb Sitti Marjam</td>\n",
       "      <td>Stephansthor</td>\n",
       "      <td>None</td>\n",
       "      <td>None</td>\n",
       "      <td>POINT (35.23693 31.78085)</td>\n",
       "    </tr>\n",
       "    <tr>\n",
       "      <th>2</th>\n",
       "      <td>None</td>\n",
       "      <td>Gate of the Tribes\\t\\t\\t\\t</td>\n",
       "      <td>Bâb al Asbât\\t</td>\n",
       "      <td>None</td>\n",
       "      <td>None</td>\n",
       "      <td>None</td>\n",
       "      <td>None</td>\n",
       "      <td>POINT (35.23693 31.78026)</td>\n",
       "    </tr>\n",
       "    <tr>\n",
       "      <th>3</th>\n",
       "      <td>None</td>\n",
       "      <td>Solomon's Throne</td>\n",
       "      <td>None</td>\n",
       "      <td>None</td>\n",
       "      <td>None</td>\n",
       "      <td>None</td>\n",
       "      <td>None</td>\n",
       "      <td>POINT (35.23706 31.77941)</td>\n",
       "    </tr>\n",
       "    <tr>\n",
       "      <th>4</th>\n",
       "      <td>None</td>\n",
       "      <td>Golden Gate</td>\n",
       "      <td>Bâb al Taûbe'</td>\n",
       "      <td>None</td>\n",
       "      <td>None</td>\n",
       "      <td>None</td>\n",
       "      <td>None</td>\n",
       "      <td>POINT (35.23707 31.77897)</td>\n",
       "    </tr>\n",
       "    <tr>\n",
       "      <th>...</th>\n",
       "      <td>...</td>\n",
       "      <td>...</td>\n",
       "      <td>...</td>\n",
       "      <td>...</td>\n",
       "      <td>...</td>\n",
       "      <td>...</td>\n",
       "      <td>...</td>\n",
       "      <td>...</td>\n",
       "    </tr>\n",
       "    <tr>\n",
       "      <th>155</th>\n",
       "      <td>None</td>\n",
       "      <td>German Colony</td>\n",
       "      <td>None</td>\n",
       "      <td>None</td>\n",
       "      <td>None</td>\n",
       "      <td>None</td>\n",
       "      <td>None</td>\n",
       "      <td>POINT (35.22056 31.76486)</td>\n",
       "    </tr>\n",
       "    <tr>\n",
       "      <th>156</th>\n",
       "      <td>None</td>\n",
       "      <td>Railway Station</td>\n",
       "      <td>None</td>\n",
       "      <td>None</td>\n",
       "      <td>None</td>\n",
       "      <td>None</td>\n",
       "      <td>None</td>\n",
       "      <td>POINT (35.22457 31.76697)</td>\n",
       "    </tr>\n",
       "    <tr>\n",
       "      <th>157</th>\n",
       "      <td>None</td>\n",
       "      <td>Chapel of the Ascension</td>\n",
       "      <td>None</td>\n",
       "      <td>None</td>\n",
       "      <td>None</td>\n",
       "      <td>None</td>\n",
       "      <td>None</td>\n",
       "      <td>POINT (35.24499 31.77891)</td>\n",
       "    </tr>\n",
       "    <tr>\n",
       "      <th>158</th>\n",
       "      <td>None</td>\n",
       "      <td>German Hospice</td>\n",
       "      <td>None</td>\n",
       "      <td>None</td>\n",
       "      <td>None</td>\n",
       "      <td>None</td>\n",
       "      <td>None</td>\n",
       "      <td>POINT (35.24939 31.78678)</td>\n",
       "    </tr>\n",
       "    <tr>\n",
       "      <th>159</th>\n",
       "      <td>None</td>\n",
       "      <td>Hebrew University</td>\n",
       "      <td>None</td>\n",
       "      <td>None</td>\n",
       "      <td>None</td>\n",
       "      <td>None</td>\n",
       "      <td>None</td>\n",
       "      <td>POINT (35.24601 31.79243)</td>\n",
       "    </tr>\n",
       "  </tbody>\n",
       "</table>\n",
       "<p>160 rows × 8 columns</p>\n",
       "</div>"
      ],
      "text/plain": [
       "       id                     English            Arabic          Arabic_2  \\\n",
       "0    None                Storks Tower       Burj Laklak              None   \n",
       "1    None          St. Stephen's Gate  Bâb Sitti Maryam  Bāb Sitti Marjam   \n",
       "2    None  Gate of the Tribes\\t\\t\\t\\t    Bâb al Asbât\\t              None   \n",
       "3    None            Solomon's Throne              None              None   \n",
       "4    None                 Golden Gate     Bâb al Taûbe'              None   \n",
       "..    ...                         ...               ...               ...   \n",
       "155  None               German Colony              None              None   \n",
       "156  None             Railway Station              None              None   \n",
       "157  None     Chapel of the Ascension              None              None   \n",
       "158  None              German Hospice              None              None   \n",
       "159  None           Hebrew University              None              None   \n",
       "\n",
       "           German English_2 Hebrew                   geometry  \n",
       "0            None      None   None  POINT (35.23671 31.78368)  \n",
       "1    Stephansthor      None   None  POINT (35.23693 31.78085)  \n",
       "2            None      None   None  POINT (35.23693 31.78026)  \n",
       "3            None      None   None  POINT (35.23706 31.77941)  \n",
       "4            None      None   None  POINT (35.23707 31.77897)  \n",
       "..            ...       ...    ...                        ...  \n",
       "155          None      None   None  POINT (35.22056 31.76486)  \n",
       "156          None      None   None  POINT (35.22457 31.76697)  \n",
       "157          None      None   None  POINT (35.24499 31.77891)  \n",
       "158          None      None   None  POINT (35.24939 31.78678)  \n",
       "159          None      None   None  POINT (35.24601 31.79243)  \n",
       "\n",
       "[160 rows x 8 columns]"
      ]
     },
     "execution_count": 173,
     "metadata": {},
     "output_type": "execute_result"
    }
   ],
   "source": [
    "# Replace this with the path to your .shp file\n",
    "shapefile_path = 'Data/landmarks_names.shp'\n",
    "\n",
    "# Read the shapefile\n",
    "gdf = gpd.read_file(shapefile_path)\n",
    "\n",
    "# Now you can work with the GeoDataFrame 'gdf' as you would with a Pandas DataFrame\n",
    "gdf  # This will print the first few rows of the GeoDataFrame\n",
    "\n",
    "#gdf.plot(\"area\", legend=True)"
   ]
  },
  {
   "cell_type": "code",
   "execution_count": 174,
   "id": "732d479b",
   "metadata": {},
   "outputs": [
    {
     "name": "stdout",
     "output_type": "stream",
     "text": [
      "                   place_in_json                   place_in_gdf  \\\n",
      "0                     Gethsemane                     Gethsemane   \n",
      "1                           Zion                      Zion Gate   \n",
      "2                  Damascus Gate        Damascus Gate\\t\\t\\t\\t\\t   \n",
      "3             St. Stephen's Gate             St. Stephen's Gate   \n",
      "4                    Golden Gate                    Golden Gate   \n",
      "5                      Zion Gate                      Zion Gate   \n",
      "6                     Jaffa Gate                     Jaffa Gate   \n",
      "7                 Pool of Siloam                 Pool of Siloam   \n",
      "8            Church of St. James             Church of St. Anne   \n",
      "9                  Tomb of David                   David's Tomb   \n",
      "10                  Via Dolorosa                   Via Dolorosa   \n",
      "11            Church of St. Anne             Church of St. Anne   \n",
      "12  Church of the Holy Sepulchre   Church of the Holy Sepulchre   \n",
      "13        Church of Flagellation  Monastery of the Flagellation   \n",
      "\n",
      "    similarity_score                   geometry  \\\n",
      "0                100  POINT (35.23944 31.77956)   \n",
      "1                100  POINT (35.22970 31.77287)   \n",
      "2                100  POINT (35.23044 31.78164)   \n",
      "3                100  POINT (35.23693 31.78085)   \n",
      "4                100  POINT (35.23707 31.77897)   \n",
      "5                100  POINT (35.22970 31.77287)   \n",
      "6                100  POINT (35.22759 31.77663)   \n",
      "7                100  POINT (35.23453 31.77084)   \n",
      "8                 86  POINT (35.23644 31.78137)   \n",
      "9                 91  POINT (35.22906 31.77155)   \n",
      "10               100  POINT (35.23218 31.78005)   \n",
      "11               100  POINT (35.23644 31.78137)   \n",
      "12               100  POINT (35.22977 31.77849)   \n",
      "13                81  POINT (35.23404 31.78059)   \n",
      "\n",
      "                                          description  \n",
      "0   Looks forward to visiting Gethsemane to contem...  \n",
      "1   Observed the hill of Zion, a significant locat...  \n",
      "2   Visited the Damascus Gate, located midway alon...  \n",
      "3    Visited St. Stephen's Gate, facing Mount Olivet.  \n",
      "4   Observed the now closed Golden Gate of the Tem...  \n",
      "5   Visited Zion Gate, located near the southern p...  \n",
      "6   Visited Jaffa Gate, situated near the west of ...  \n",
      "7   Referred to the Pool of Siloam as part of Jeru...  \n",
      "8   Visited the Church of St. James, related to th...  \n",
      "9   Visited the Tomb of David and associated relig...  \n",
      "10  Walked along the Via Dolorosa, reflecting on C...  \n",
      "11  Observed the Church of St. Anne, believed to b...  \n",
      "12  Visited the Church of the Holy Sepulchre, a ke...  \n",
      "13              Passed by the Church of Flagellation.  \n"
     ]
    }
   ],
   "source": [
    "# Function to perform fuzzy matching\n",
    "def fuzzy_match(toponym1, toponym2):\n",
    "    return fuzz.token_set_ratio(str(toponym1), str(toponym2))\n",
    "\n",
    "# Dictionary to store the best match for each place in json_df\n",
    "best_matches = {}\n",
    "\n",
    "# Iterate through rows in json_df and find matches in gdf\n",
    "for index1, row1 in json_df.iterrows():\n",
    "    place_in_json = row1['place']\n",
    "\n",
    "    # Initialize variables to track the best match for the current place_in_json\n",
    "    best_match_score = 0\n",
    "    best_match_place = None\n",
    "    best_match_geometry = None\n",
    "\n",
    "    # Iterate through rows in gdf\n",
    "    for index2, row2 in gdf.iterrows():\n",
    "        # Iterate through language columns in gdf\n",
    "        for lang_column in [\"English\", \"Arabic\", \"English_2\", \"Arabic_2\", \"German\", \"Hebrew\"]:\n",
    "            place_in_gdf = row2[lang_column]\n",
    "\n",
    "            # Skip if the language column is None\n",
    "            if pd.notnull(place_in_gdf):\n",
    "                similarity_score = fuzzy_match(place_in_json, place_in_gdf)\n",
    "                \n",
    "                # Update the best match if the current match has a higher similarity score\n",
    "                if similarity_score >= 80 and similarity_score > best_match_score:\n",
    "                    best_match_score = similarity_score\n",
    "                    best_match_place = place_in_gdf\n",
    "                    best_match_geometry = row2['geometry']\n",
    "\n",
    "    # Store the best match for the current place_in_json in the dictionary\n",
    "    if best_match_place is not None:\n",
    "        best_matches[place_in_json] = {\n",
    "            'place_in_json': place_in_json,\n",
    "            'place_in_gdf': best_match_place,\n",
    "            'similarity_score': best_match_score,\n",
    "            'geometry': best_match_geometry,\n",
    "            'description': row1['description']\n",
    "        }\n",
    "\n",
    "# Create a dataframe from the dictionary of best matches\n",
    "best_matches_df = pd.DataFrame(list(best_matches.values()))\n",
    "\n",
    "# Convert the best_matches_df to a GeoDataFrame\n",
    "best_matches_gdf = gpd.GeoDataFrame(best_matches_df, geometry='geometry')\n",
    "\n",
    "# Display or further process the best_matches_gdf as needed\n",
    "print(best_matches_gdf)\n"
   ]
  },
  {
   "cell_type": "code",
   "execution_count": 175,
   "id": "eb4414e0",
   "metadata": {},
   "outputs": [
    {
     "data": {
      "image/png": "[encoded data removed]",
      "text/plain": [
       "<Figure size 1000x1000 with 1 Axes>"
      ]
     },
     "metadata": {},
     "output_type": "display_data"
    }
   ],
   "source": [
    "import geopandas as gpd\n",
    "from shapely.geometry import Point\n",
    "import matplotlib.pyplot as plt\n",
    "\n",
    "# Create a GeoDataFrame for Jerusalem\n",
    "jerusalem_point = gpd.GeoDataFrame({'place_in_json': ['Jerusalem']},\n",
    "                                   geometry=[Point(35.2354, 31.7766)])  # Coordinates for Jerusalem\n",
    "\n",
    "# Get the bounding box of the best_matches_gdf\n",
    "xmin, ymin, xmax, ymax = best_matches_gdf.total_bounds\n",
    "\n",
    "# Set up the map extent\n",
    "#buffer_distance = 0.001  # degrees of longitude and latitude to include around Jerusalem\n",
    "#xmin, ymin, xmax, ymax = jerusalem_point.total_bounds\n",
    "#xmin -= buffer_distance\n",
    "#ymin -= buffer_distance\n",
    "#xmax += buffer_distance\n",
    "#ymax += buffer_distance\n",
    "\n",
    "# Plot the best_matches_gdf on a map centered around the bounding box\n",
    "fig, ax = plt.subplots(figsize=(10, 10))\n",
    "ax.set_xlim(xmin, xmax)\n",
    "ax.set_ylim(ymin, ymax)\n",
    "\n",
    "# Plot the map background (optional)\n",
    "#gpd.datasets.get_path('naturalearth_lowres') provides a world map shapefile\n",
    "# You may need to download the world shapefile or replace it with another local shapefile\n",
    "#world = gpd.read_file(gpd.datasets.get_path('naturalearth_lowres'))\n",
    "#world.plot(ax=ax, color='lightgray', edgecolor='black')\n",
    "\n",
    "# Plot the best_matches_gdf points with reduced marker size\n",
    "best_matches_gdf.plot(ax=ax, color='red', marker='o', markersize=20, alpha=0.7)\n",
    "\n",
    "# Plot the Jerusalem point with a larger marker\n",
    "jerusalem_point.plot(ax=ax, color='blue', marker='*', markersize=200, label='Jerusalem')\n",
    "\n",
    "# Add labels with adjusted positions\n",
    "for x, y, label in zip(best_matches_gdf.geometry.x, best_matches_gdf.geometry.y, best_matches_gdf['place_in_json']):\n",
    "    ax.text(x, y, label, fontsize=8, ha='right', va='bottom', color='black')\n",
    "\n",
    "# Add label for Jerusalem\n",
    "ax.text(jerusalem_point.geometry.x[0], jerusalem_point.geometry.y[0], 'Jerusalem', fontsize=12, ha='right', va='bottom', color='black')\n",
    "\n",
    "# Show the plot\n",
    "plt.legend()\n",
    "plt.show()\n"
   ]
  },
  {
   "cell_type": "code",
   "execution_count": 176,
   "id": "1df481d2",
   "metadata": {},
   "outputs": [
    {
     "name": "stdout",
     "output_type": "stream",
     "text": [
      "Collecting package metadata (current_repodata.json): | DEBUG:urllib3.connectionpool:Starting new HTTPS connection (1): repo.anaconda.com:443\n",
      "DEBUG:urllib3.connectionpool:Starting new HTTPS connection (1): repo.anaconda.com:443\n",
      "DEBUG:urllib3.connectionpool:Starting new HTTPS connection (1): repo.anaconda.com:443\n",
      "DEBUG:urllib3.connectionpool:Starting new HTTPS connection (1): repo.anaconda.com:443\n",
      "/ DEBUG:urllib3.connectionpool:https://repo.anaconda.com:443 \"GET /pkgs/main/noarch/current_repodata.json HTTP/1.1\" 304 0\n",
      "DEBUG:urllib3.connectionpool:https://repo.anaconda.com:443 \"GET /pkgs/main/osx-arm64/current_repodata.json HTTP/1.1\" 200 None\n",
      "DEBUG:urllib3.connectionpool:https://repo.anaconda.com:443 \"GET /pkgs/r/noarch/current_repodata.json HTTP/1.1\" 304 0\n",
      "DEBUG:urllib3.connectionpool:https://repo.anaconda.com:443 \"GET /pkgs/r/osx-arm64/current_repodata.json HTTP/1.1\" 304 0\n",
      "done\n",
      "Solving environment: done\n",
      "\n",
      "\n",
      "==> WARNING: A newer version of conda exists. <==\n",
      "  current version: 23.7.4\n",
      "  latest version: 23.11.0\n",
      "\n",
      "Please update conda by running\n",
      "\n",
      "    $ conda update -n base -c defaults conda\n",
      "\n",
      "Or to minimize the number of packages updated during conda update use\n",
      "\n",
      "     conda install conda=23.11.0\n",
      "\n",
      "\n",
      "\n",
      "# All requested packages already installed.\n",
      "\n",
      "\n",
      "Note: you may need to restart the kernel to use updated packages.\n"
     ]
    }
   ],
   "source": [
    "conda install nbformat"
   ]
  },
  {
   "cell_type": "code",
   "execution_count": 177,
   "id": "4dcbdde5",
   "metadata": {},
   "outputs": [
    {
     "data": {
      "text/html": [
       "<div>\n",
       "<style scoped>\n",
       "    .dataframe tbody tr th:only-of-type {\n",
       "        vertical-align: middle;\n",
       "    }\n",
       "\n",
       "    .dataframe tbody tr th {\n",
       "        vertical-align: top;\n",
       "    }\n",
       "\n",
       "    .dataframe thead th {\n",
       "        text-align: right;\n",
       "    }\n",
       "</style>\n",
       "<table border=\"1\" class=\"dataframe\">\n",
       "  <thead>\n",
       "    <tr style=\"text-align: right;\">\n",
       "      <th></th>\n",
       "      <th>place_in_json</th>\n",
       "      <th>place_in_gdf</th>\n",
       "      <th>similarity_score</th>\n",
       "      <th>geometry</th>\n",
       "      <th>description</th>\n",
       "    </tr>\n",
       "  </thead>\n",
       "  <tbody>\n",
       "    <tr>\n",
       "      <th>0</th>\n",
       "      <td>Gethsemane</td>\n",
       "      <td>Gethsemane</td>\n",
       "      <td>100</td>\n",
       "      <td>POINT (35.23944 31.77956)</td>\n",
       "      <td>Looks forward to visiting Gethsemane to contem...</td>\n",
       "    </tr>\n",
       "    <tr>\n",
       "      <th>1</th>\n",
       "      <td>Zion</td>\n",
       "      <td>Zion Gate</td>\n",
       "      <td>100</td>\n",
       "      <td>POINT (35.22970 31.77287)</td>\n",
       "      <td>Observed the hill of Zion, a significant locat...</td>\n",
       "    </tr>\n",
       "    <tr>\n",
       "      <th>2</th>\n",
       "      <td>Damascus Gate</td>\n",
       "      <td>Damascus Gate\\t\\t\\t\\t\\t</td>\n",
       "      <td>100</td>\n",
       "      <td>POINT (35.23044 31.78164)</td>\n",
       "      <td>Visited the Damascus Gate, located midway alon...</td>\n",
       "    </tr>\n",
       "    <tr>\n",
       "      <th>3</th>\n",
       "      <td>St. Stephen's Gate</td>\n",
       "      <td>St. Stephen's Gate</td>\n",
       "      <td>100</td>\n",
       "      <td>POINT (35.23693 31.78085)</td>\n",
       "      <td>Visited St. Stephen's Gate, facing Mount Olivet.</td>\n",
       "    </tr>\n",
       "    <tr>\n",
       "      <th>4</th>\n",
       "      <td>Golden Gate</td>\n",
       "      <td>Golden Gate</td>\n",
       "      <td>100</td>\n",
       "      <td>POINT (35.23707 31.77897)</td>\n",
       "      <td>Observed the now closed Golden Gate of the Tem...</td>\n",
       "    </tr>\n",
       "    <tr>\n",
       "      <th>5</th>\n",
       "      <td>Zion Gate</td>\n",
       "      <td>Zion Gate</td>\n",
       "      <td>100</td>\n",
       "      <td>POINT (35.22970 31.77287)</td>\n",
       "      <td>Visited Zion Gate, located near the southern p...</td>\n",
       "    </tr>\n",
       "    <tr>\n",
       "      <th>6</th>\n",
       "      <td>Jaffa Gate</td>\n",
       "      <td>Jaffa Gate</td>\n",
       "      <td>100</td>\n",
       "      <td>POINT (35.22759 31.77663)</td>\n",
       "      <td>Visited Jaffa Gate, situated near the west of ...</td>\n",
       "    </tr>\n",
       "    <tr>\n",
       "      <th>7</th>\n",
       "      <td>Pool of Siloam</td>\n",
       "      <td>Pool of Siloam</td>\n",
       "      <td>100</td>\n",
       "      <td>POINT (35.23453 31.77084)</td>\n",
       "      <td>Referred to the Pool of Siloam as part of Jeru...</td>\n",
       "    </tr>\n",
       "    <tr>\n",
       "      <th>8</th>\n",
       "      <td>Church of St. James</td>\n",
       "      <td>Church of St. Anne</td>\n",
       "      <td>86</td>\n",
       "      <td>POINT (35.23644 31.78137)</td>\n",
       "      <td>Visited the Church of St. James, related to th...</td>\n",
       "    </tr>\n",
       "    <tr>\n",
       "      <th>9</th>\n",
       "      <td>Tomb of David</td>\n",
       "      <td>David's Tomb</td>\n",
       "      <td>91</td>\n",
       "      <td>POINT (35.22906 31.77155)</td>\n",
       "      <td>Visited the Tomb of David and associated relig...</td>\n",
       "    </tr>\n",
       "    <tr>\n",
       "      <th>10</th>\n",
       "      <td>Via Dolorosa</td>\n",
       "      <td>Via Dolorosa</td>\n",
       "      <td>100</td>\n",
       "      <td>POINT (35.23218 31.78005)</td>\n",
       "      <td>Walked along the Via Dolorosa, reflecting on C...</td>\n",
       "    </tr>\n",
       "    <tr>\n",
       "      <th>11</th>\n",
       "      <td>Church of St. Anne</td>\n",
       "      <td>Church of St. Anne</td>\n",
       "      <td>100</td>\n",
       "      <td>POINT (35.23644 31.78137)</td>\n",
       "      <td>Observed the Church of St. Anne, believed to b...</td>\n",
       "    </tr>\n",
       "    <tr>\n",
       "      <th>12</th>\n",
       "      <td>Church of the Holy Sepulchre</td>\n",
       "      <td>Church of the Holy Sepulchre</td>\n",
       "      <td>100</td>\n",
       "      <td>POINT (35.22977 31.77849)</td>\n",
       "      <td>Visited the Church of the Holy Sepulchre, a ke...</td>\n",
       "    </tr>\n",
       "    <tr>\n",
       "      <th>13</th>\n",
       "      <td>Church of Flagellation</td>\n",
       "      <td>Monastery of the Flagellation</td>\n",
       "      <td>81</td>\n",
       "      <td>POINT (35.23404 31.78059)</td>\n",
       "      <td>Passed by the Church of Flagellation.</td>\n",
       "    </tr>\n",
       "  </tbody>\n",
       "</table>\n",
       "</div>"
      ],
      "text/plain": [
       "                   place_in_json                   place_in_gdf  \\\n",
       "0                     Gethsemane                     Gethsemane   \n",
       "1                           Zion                      Zion Gate   \n",
       "2                  Damascus Gate        Damascus Gate\\t\\t\\t\\t\\t   \n",
       "3             St. Stephen's Gate             St. Stephen's Gate   \n",
       "4                    Golden Gate                    Golden Gate   \n",
       "5                      Zion Gate                      Zion Gate   \n",
       "6                     Jaffa Gate                     Jaffa Gate   \n",
       "7                 Pool of Siloam                 Pool of Siloam   \n",
       "8            Church of St. James             Church of St. Anne   \n",
       "9                  Tomb of David                   David's Tomb   \n",
       "10                  Via Dolorosa                   Via Dolorosa   \n",
       "11            Church of St. Anne             Church of St. Anne   \n",
       "12  Church of the Holy Sepulchre   Church of the Holy Sepulchre   \n",
       "13        Church of Flagellation  Monastery of the Flagellation   \n",
       "\n",
       "    similarity_score                   geometry  \\\n",
       "0                100  POINT (35.23944 31.77956)   \n",
       "1                100  POINT (35.22970 31.77287)   \n",
       "2                100  POINT (35.23044 31.78164)   \n",
       "3                100  POINT (35.23693 31.78085)   \n",
       "4                100  POINT (35.23707 31.77897)   \n",
       "5                100  POINT (35.22970 31.77287)   \n",
       "6                100  POINT (35.22759 31.77663)   \n",
       "7                100  POINT (35.23453 31.77084)   \n",
       "8                 86  POINT (35.23644 31.78137)   \n",
       "9                 91  POINT (35.22906 31.77155)   \n",
       "10               100  POINT (35.23218 31.78005)   \n",
       "11               100  POINT (35.23644 31.78137)   \n",
       "12               100  POINT (35.22977 31.77849)   \n",
       "13                81  POINT (35.23404 31.78059)   \n",
       "\n",
       "                                          description  \n",
       "0   Looks forward to visiting Gethsemane to contem...  \n",
       "1   Observed the hill of Zion, a significant locat...  \n",
       "2   Visited the Damascus Gate, located midway alon...  \n",
       "3    Visited St. Stephen's Gate, facing Mount Olivet.  \n",
       "4   Observed the now closed Golden Gate of the Tem...  \n",
       "5   Visited Zion Gate, located near the southern p...  \n",
       "6   Visited Jaffa Gate, situated near the west of ...  \n",
       "7   Referred to the Pool of Siloam as part of Jeru...  \n",
       "8   Visited the Church of St. James, related to th...  \n",
       "9   Visited the Tomb of David and associated relig...  \n",
       "10  Walked along the Via Dolorosa, reflecting on C...  \n",
       "11  Observed the Church of St. Anne, believed to b...  \n",
       "12  Visited the Church of the Holy Sepulchre, a ke...  \n",
       "13              Passed by the Church of Flagellation.  "
      ]
     },
     "metadata": {},
     "output_type": "display_data"
    }
   ],
   "source": [
    "display(best_matches_gdf)"
   ]
  },
  {
   "cell_type": "code",
   "execution_count": 206,
   "id": "df632ba2",
   "metadata": {},
   "outputs": [
    {
     "data": {
      "application/vnd.plotly.v1+json": {
       "config": {
        "plotlyServerURL": "https://plot.ly"
       },
       "data": [
        {
         "geo": "geo",
         "hovertemplate": "<b>%{hovertext}</b><br><br>place_in_json=%{text}<br>latitude=%{lat}<br>longitude=%{lon}<extra></extra>",
         "hovertext": [
          "Looks forward to visiting Gethsemane to contemplate Christ's agony.",
          "Observed the hill of Zion, a significant location in Jerusalem.",
          "Visited the Damascus Gate, located midway along the northern wall of Jerusalem.",
          "Visited St. Stephen's Gate, facing Mount Olivet.",
          "Observed the now closed Golden Gate of the Temple wall.",
          "Visited Zion Gate, located near the southern part of Jerusalem.",
          "Visited Jaffa Gate, situated near the west of Jerusalem.",
          "Referred to the Pool of Siloam as part of Jerusalem's water infrastructure.",
          "Visited the Church of St. James, related to the beheading of Apostle James.",
          "Visited the Tomb of David and associated religious sites.",
          "Walked along the Via Dolorosa, reflecting on Christ's journey to crucifixion.",
          "Observed the Church of St. Anne, believed to be the birthplace of the Virgin Mary.",
          "Visited the Church of the Holy Sepulchre, a key religious site.",
          "Passed by the Church of Flagellation."
         ],
         "lat": [
          31.779560147092745,
          31.772872905818765,
          31.7816388236984,
          31.78085258922594,
          31.7789715527608,
          31.772872905818765,
          31.77663307634744,
          31.77084077793449,
          31.78136765981732,
          31.77155246266625,
          31.78004939406585,
          31.78136765981732,
          31.778494399768512,
          31.780586614078345
         ],
         "legendgroup": "",
         "lon": [
          35.23943907973402,
          35.22970261243407,
          35.230440150025665,
          35.236929678025774,
          35.23706912127512,
          35.22970261243407,
          35.227590878343186,
          35.23452676886375,
          35.23644054362671,
          35.229058407470404,
          35.232177579097744,
          35.23644054362671,
          35.22977329116965,
          35.23403580281836
         ],
         "marker": {
          "color": "#636efa",
          "symbol": "circle"
         },
         "mode": "markers+text",
         "name": "",
         "showlegend": false,
         "text": [
          "Gethsemane",
          "Zion",
          "Damascus Gate",
          "St. Stephen's Gate",
          "Golden Gate",
          "Zion Gate",
          "Jaffa Gate",
          "Pool of Siloam",
          "Church of St. James",
          "Tomb of David",
          "Via Dolorosa",
          "Church of St. Anne",
          "Church of the Holy Sepulchre",
          "Church of Flagellation"
         ],
         "textposition": "bottom center",
         "type": "scattergeo"
        }
       ],
       "layout": {
        "annotations": [
         {
          "arrowhead": 2,
          "ax": 35.23943907973402,
          "axref": "x domain",
          "ay": 31.772872905818765,
          "ayref": "y",
          "text": "Pino",
          "x": 35.22970261243407,
          "xref": "x",
          "y": 31.772872905818765,
          "yref": "y"
         },
         {
          "arrowhead": 2,
          "ax": 35.22970261243407,
          "axref": "x domain",
          "ay": 31.7816388236984,
          "ayref": "y",
          "text": "Pino",
          "x": 35.230440150025665,
          "xref": "x",
          "y": 31.7816388236984,
          "yref": "y"
         },
         {
          "arrowhead": 2,
          "ax": 35.230440150025665,
          "axref": "x domain",
          "ay": 31.78085258922594,
          "ayref": "y",
          "text": "Pino",
          "x": 35.236929678025774,
          "xref": "x",
          "y": 31.78085258922594,
          "yref": "y"
         },
         {
          "arrowhead": 2,
          "ax": 35.236929678025774,
          "axref": "x domain",
          "ay": 31.7789715527608,
          "ayref": "y",
          "text": "Pino",
          "x": 35.23706912127512,
          "xref": "x",
          "y": 31.7789715527608,
          "yref": "y"
         },
         {
          "arrowhead": 2,
          "ax": 35.23706912127512,
          "axref": "x domain",
          "ay": 31.772872905818765,
          "ayref": "y",
          "text": "Pino",
          "x": 35.22970261243407,
          "xref": "x",
          "y": 31.772872905818765,
          "yref": "y"
         },
         {
          "arrowhead": 2,
          "ax": 35.22970261243407,
          "axref": "x domain",
          "ay": 31.77663307634744,
          "ayref": "y",
          "text": "Pino",
          "x": 35.227590878343186,
          "xref": "x",
          "y": 31.77663307634744,
          "yref": "y"
         },
         {
          "arrowhead": 2,
          "ax": 35.227590878343186,
          "axref": "x domain",
          "ay": 31.77084077793449,
          "ayref": "y",
          "text": "Pino",
          "x": 35.23452676886375,
          "xref": "x",
          "y": 31.77084077793449,
          "yref": "y"
         },
         {
          "arrowhead": 2,
          "ax": 35.23452676886375,
          "axref": "x domain",
          "ay": 31.78136765981732,
          "ayref": "y",
          "text": "Pino",
          "x": 35.23644054362671,
          "xref": "x",
          "y": 31.78136765981732,
          "yref": "y"
         },
         {
          "arrowhead": 2,
          "ax": 35.23644054362671,
          "axref": "x domain",
          "ay": 31.77155246266625,
          "ayref": "y",
          "text": "Pino",
          "x": 35.229058407470404,
          "xref": "x",
          "y": 31.77155246266625,
          "yref": "y"
         },
         {
          "arrowhead": 2,
          "ax": 35.229058407470404,
          "axref": "x domain",
          "ay": 31.78004939406585,
          "ayref": "y",
          "text": "Pino",
          "x": 35.232177579097744,
          "xref": "x",
          "y": 31.78004939406585,
          "yref": "y"
         },
         {
          "arrowhead": 2,
          "ax": 35.232177579097744,
          "axref": "x domain",
          "ay": 31.78136765981732,
          "ayref": "y",
          "text": "Pino",
          "x": 35.23644054362671,
          "xref": "x",
          "y": 31.78136765981732,
          "yref": "y"
         },
         {
          "arrowhead": 2,
          "ax": 35.23644054362671,
          "axref": "x domain",
          "ay": 31.778494399768512,
          "ayref": "y",
          "text": "Pino",
          "x": 35.22977329116965,
          "xref": "x",
          "y": 31.778494399768512,
          "yref": "y"
         },
         {
          "arrowhead": 2,
          "ax": 35.22977329116965,
          "axref": "x domain",
          "ay": 31.780586614078345,
          "ayref": "y",
          "text": "Pino",
          "x": 35.23403580281836,
          "xref": "x",
          "y": 31.780586614078345,
          "yref": "y"
         }
        ],
        "geo": {
         "center": {},
         "coastlinecolor": "RebeccaPurple",
         "countrycolor": "DarkBlue",
         "domain": {
          "x": [
           0,
           1
          ],
          "y": [
           0,
           1
          ]
         },
         "fitbounds": "locations",
         "landcolor": "LightGreen",
         "projection": {
          "type": "equirectangular"
         },
         "showcoastlines": true,
         "showframe": true,
         "showland": true
        },
        "legend": {
         "tracegroupgap": 0
        },
        "margin": {
         "t": 60
        },
        "template": {
         "data": {
          "bar": [
           {
            "error_x": {
             "color": "#2a3f5f"
            },
            "error_y": {
             "color": "#2a3f5f"
            },
            "marker": {
             "line": {
              "color": "#E5ECF6",
              "width": 0.5
             },
             "pattern": {
              "fillmode": "overlay",
              "size": 10,
              "solidity": 0.2
             }
            },
            "type": "bar"
           }
          ],
          "barpolar": [
           {
            "marker": {
             "line": {
              "color": "#E5ECF6",
              "width": 0.5
             },
             "pattern": {
              "fillmode": "overlay",
              "size": 10,
              "solidity": 0.2
             }
            },
            "type": "barpolar"
           }
          ],
          "carpet": [
           {
            "aaxis": {
             "endlinecolor": "#2a3f5f",
             "gridcolor": "white",
             "linecolor": "white",
             "minorgridcolor": "white",
             "startlinecolor": "#2a3f5f"
            },
            "baxis": {
             "endlinecolor": "#2a3f5f",
             "gridcolor": "white",
             "linecolor": "white",
             "minorgridcolor": "white",
             "startlinecolor": "#2a3f5f"
            },
            "type": "carpet"
           }
          ],
          "choropleth": [
           {
            "colorbar": {
             "outlinewidth": 0,
             "ticks": ""
            },
            "type": "choropleth"
           }
          ],
          "contour": [
           {
            "colorbar": {
             "outlinewidth": 0,
             "ticks": ""
            },
            "colorscale": [
             [
              0,
              "#0d0887"
             ],
             [
              0.1111111111111111,
              "#46039f"
             ],
             [
              0.2222222222222222,
              "#7201a8"
             ],
             [
              0.3333333333333333,
              "#9c179e"
             ],
             [
              0.4444444444444444,
              "#bd3786"
             ],
             [
              0.5555555555555556,
              "#d8576b"
             ],
             [
              0.6666666666666666,
              "#ed7953"
             ],
             [
              0.7777777777777778,
              "#fb9f3a"
             ],
             [
              0.8888888888888888,
              "#fdca26"
             ],
             [
              1,
              "#f0f921"
             ]
            ],
            "type": "contour"
           }
          ],
          "contourcarpet": [
           {
            "colorbar": {
             "outlinewidth": 0,
             "ticks": ""
            },
            "type": "contourcarpet"
           }
          ],
          "heatmap": [
           {
            "colorbar": {
             "outlinewidth": 0,
             "ticks": ""
            },
            "colorscale": [
             [
              0,
              "#0d0887"
             ],
             [
              0.1111111111111111,
              "#46039f"
             ],
             [
              0.2222222222222222,
              "#7201a8"
             ],
             [
              0.3333333333333333,
              "#9c179e"
             ],
             [
              0.4444444444444444,
              "#bd3786"
             ],
             [
              0.5555555555555556,
              "#d8576b"
             ],
             [
              0.6666666666666666,
              "#ed7953"
             ],
             [
              0.7777777777777778,
              "#fb9f3a"
             ],
             [
              0.8888888888888888,
              "#fdca26"
             ],
             [
              1,
              "#f0f921"
             ]
            ],
            "type": "heatmap"
           }
          ],
          "heatmapgl": [
           {
            "colorbar": {
             "outlinewidth": 0,
             "ticks": ""
            },
            "colorscale": [
             [
              0,
              "#0d0887"
             ],
             [
              0.1111111111111111,
              "#46039f"
             ],
             [
              0.2222222222222222,
              "#7201a8"
             ],
             [
              0.3333333333333333,
              "#9c179e"
             ],
             [
              0.4444444444444444,
              "#bd3786"
             ],
             [
              0.5555555555555556,
              "#d8576b"
             ],
             [
              0.6666666666666666,
              "#ed7953"
             ],
             [
              0.7777777777777778,
              "#fb9f3a"
             ],
             [
              0.8888888888888888,
              "#fdca26"
             ],
             [
              1,
              "#f0f921"
             ]
            ],
            "type": "heatmapgl"
           }
          ],
          "histogram": [
           {
            "marker": {
             "pattern": {
              "fillmode": "overlay",
              "size": 10,
              "solidity": 0.2
             }
            },
            "type": "histogram"
           }
          ],
          "histogram2d": [
           {
            "colorbar": {
             "outlinewidth": 0,
             "ticks": ""
            },
            "colorscale": [
             [
              0,
              "#0d0887"
             ],
             [
              0.1111111111111111,
              "#46039f"
             ],
             [
              0.2222222222222222,
              "#7201a8"
             ],
             [
              0.3333333333333333,
              "#9c179e"
             ],
             [
              0.4444444444444444,
              "#bd3786"
             ],
             [
              0.5555555555555556,
              "#d8576b"
             ],
             [
              0.6666666666666666,
              "#ed7953"
             ],
             [
              0.7777777777777778,
              "#fb9f3a"
             ],
             [
              0.8888888888888888,
              "#fdca26"
             ],
             [
              1,
              "#f0f921"
             ]
            ],
            "type": "histogram2d"
           }
          ],
          "histogram2dcontour": [
           {
            "colorbar": {
             "outlinewidth": 0,
             "ticks": ""
            },
            "colorscale": [
             [
              0,
              "#0d0887"
             ],
             [
              0.1111111111111111,
              "#46039f"
             ],
             [
              0.2222222222222222,
              "#7201a8"
             ],
             [
              0.3333333333333333,
              "#9c179e"
             ],
             [
              0.4444444444444444,
              "#bd3786"
             ],
             [
              0.5555555555555556,
              "#d8576b"
             ],
             [
              0.6666666666666666,
              "#ed7953"
             ],
             [
              0.7777777777777778,
              "#fb9f3a"
             ],
             [
              0.8888888888888888,
              "#fdca26"
             ],
             [
              1,
              "#f0f921"
             ]
            ],
            "type": "histogram2dcontour"
           }
          ],
          "mesh3d": [
           {
            "colorbar": {
             "outlinewidth": 0,
             "ticks": ""
            },
            "type": "mesh3d"
           }
          ],
          "parcoords": [
           {
            "line": {
             "colorbar": {
              "outlinewidth": 0,
              "ticks": ""
             }
            },
            "type": "parcoords"
           }
          ],
          "pie": [
           {
            "automargin": true,
            "type": "pie"
           }
          ],
          "scatter": [
           {
            "fillpattern": {
             "fillmode": "overlay",
             "size": 10,
             "solidity": 0.2
            },
            "type": "scatter"
           }
          ],
          "scatter3d": [
           {
            "line": {
             "colorbar": {
              "outlinewidth": 0,
              "ticks": ""
             }
            },
            "marker": {
             "colorbar": {
              "outlinewidth": 0,
              "ticks": ""
             }
            },
            "type": "scatter3d"
           }
          ],
          "scattercarpet": [
           {
            "marker": {
             "colorbar": {
              "outlinewidth": 0,
              "ticks": ""
             }
            },
            "type": "scattercarpet"
           }
          ],
          "scattergeo": [
           {
            "marker": {
             "colorbar": {
              "outlinewidth": 0,
              "ticks": ""
             }
            },
            "type": "scattergeo"
           }
          ],
          "scattergl": [
           {
            "marker": {
             "colorbar": {
              "outlinewidth": 0,
              "ticks": ""
             }
            },
            "type": "scattergl"
           }
          ],
          "scattermapbox": [
           {
            "marker": {
             "colorbar": {
              "outlinewidth": 0,
              "ticks": ""
             }
            },
            "type": "scattermapbox"
           }
          ],
          "scatterpolar": [
           {
            "marker": {
             "colorbar": {
              "outlinewidth": 0,
              "ticks": ""
             }
            },
            "type": "scatterpolar"
           }
          ],
          "scatterpolargl": [
           {
            "marker": {
             "colorbar": {
              "outlinewidth": 0,
              "ticks": ""
             }
            },
            "type": "scatterpolargl"
           }
          ],
          "scatterternary": [
           {
            "marker": {
             "colorbar": {
              "outlinewidth": 0,
              "ticks": ""
             }
            },
            "type": "scatterternary"
           }
          ],
          "surface": [
           {
            "colorbar": {
             "outlinewidth": 0,
             "ticks": ""
            },
            "colorscale": [
             [
              0,
              "#0d0887"
             ],
             [
              0.1111111111111111,
              "#46039f"
             ],
             [
              0.2222222222222222,
              "#7201a8"
             ],
             [
              0.3333333333333333,
              "#9c179e"
             ],
             [
              0.4444444444444444,
              "#bd3786"
             ],
             [
              0.5555555555555556,
              "#d8576b"
             ],
             [
              0.6666666666666666,
              "#ed7953"
             ],
             [
              0.7777777777777778,
              "#fb9f3a"
             ],
             [
              0.8888888888888888,
              "#fdca26"
             ],
             [
              1,
              "#f0f921"
             ]
            ],
            "type": "surface"
           }
          ],
          "table": [
           {
            "cells": {
             "fill": {
              "color": "#EBF0F8"
             },
             "line": {
              "color": "white"
             }
            },
            "header": {
             "fill": {
              "color": "#C8D4E3"
             },
             "line": {
              "color": "white"
             }
            },
            "type": "table"
           }
          ]
         },
         "layout": {
          "annotationdefaults": {
           "arrowcolor": "#2a3f5f",
           "arrowhead": 0,
           "arrowwidth": 1
          },
          "autotypenumbers": "strict",
          "coloraxis": {
           "colorbar": {
            "outlinewidth": 0,
            "ticks": ""
           }
          },
          "colorscale": {
           "diverging": [
            [
             0,
             "#8e0152"
            ],
            [
             0.1,
             "#c51b7d"
            ],
            [
             0.2,
             "#de77ae"
            ],
            [
             0.3,
             "#f1b6da"
            ],
            [
             0.4,
             "#fde0ef"
            ],
            [
             0.5,
             "#f7f7f7"
            ],
            [
             0.6,
             "#e6f5d0"
            ],
            [
             0.7,
             "#b8e186"
            ],
            [
             0.8,
             "#7fbc41"
            ],
            [
             0.9,
             "#4d9221"
            ],
            [
             1,
             "#276419"
            ]
           ],
           "sequential": [
            [
             0,
             "#0d0887"
            ],
            [
             0.1111111111111111,
             "#46039f"
            ],
            [
             0.2222222222222222,
             "#7201a8"
            ],
            [
             0.3333333333333333,
             "#9c179e"
            ],
            [
             0.4444444444444444,
             "#bd3786"
            ],
            [
             0.5555555555555556,
             "#d8576b"
            ],
            [
             0.6666666666666666,
             "#ed7953"
            ],
            [
             0.7777777777777778,
             "#fb9f3a"
            ],
            [
             0.8888888888888888,
             "#fdca26"
            ],
            [
             1,
             "#f0f921"
            ]
           ],
           "sequentialminus": [
            [
             0,
             "#0d0887"
            ],
            [
             0.1111111111111111,
             "#46039f"
            ],
            [
             0.2222222222222222,
             "#7201a8"
            ],
            [
             0.3333333333333333,
             "#9c179e"
            ],
            [
             0.4444444444444444,
             "#bd3786"
            ],
            [
             0.5555555555555556,
             "#d8576b"
            ],
            [
             0.6666666666666666,
             "#ed7953"
            ],
            [
             0.7777777777777778,
             "#fb9f3a"
            ],
            [
             0.8888888888888888,
             "#fdca26"
            ],
            [
             1,
             "#f0f921"
            ]
           ]
          },
          "colorway": [
           "#636efa",
           "#EF553B",
           "#00cc96",
           "#ab63fa",
           "#FFA15A",
           "#19d3f3",
           "#FF6692",
           "#B6E880",
           "#FF97FF",
           "#FECB52"
          ],
          "font": {
           "color": "#2a3f5f"
          },
          "geo": {
           "bgcolor": "white",
           "lakecolor": "white",
           "landcolor": "#E5ECF6",
           "showlakes": true,
           "showland": true,
           "subunitcolor": "white"
          },
          "hoverlabel": {
           "align": "left"
          },
          "hovermode": "closest",
          "mapbox": {
           "style": "light"
          },
          "paper_bgcolor": "white",
          "plot_bgcolor": "#E5ECF6",
          "polar": {
           "angularaxis": {
            "gridcolor": "white",
            "linecolor": "white",
            "ticks": ""
           },
           "bgcolor": "#E5ECF6",
           "radialaxis": {
            "gridcolor": "white",
            "linecolor": "white",
            "ticks": ""
           }
          },
          "scene": {
           "xaxis": {
            "backgroundcolor": "#E5ECF6",
            "gridcolor": "white",
            "gridwidth": 2,
            "linecolor": "white",
            "showbackground": true,
            "ticks": "",
            "zerolinecolor": "white"
           },
           "yaxis": {
            "backgroundcolor": "#E5ECF6",
            "gridcolor": "white",
            "gridwidth": 2,
            "linecolor": "white",
            "showbackground": true,
            "ticks": "",
            "zerolinecolor": "white"
           },
           "zaxis": {
            "backgroundcolor": "#E5ECF6",
            "gridcolor": "white",
            "gridwidth": 2,
            "linecolor": "white",
            "showbackground": true,
            "ticks": "",
            "zerolinecolor": "white"
           }
          },
          "shapedefaults": {
           "line": {
            "color": "#2a3f5f"
           }
          },
          "ternary": {
           "aaxis": {
            "gridcolor": "white",
            "linecolor": "white",
            "ticks": ""
           },
           "baxis": {
            "gridcolor": "white",
            "linecolor": "white",
            "ticks": ""
           },
           "bgcolor": "#E5ECF6",
           "caxis": {
            "gridcolor": "white",
            "linecolor": "white",
            "ticks": ""
           }
          },
          "title": {
           "x": 0.05
          },
          "xaxis": {
           "automargin": true,
           "gridcolor": "white",
           "linecolor": "white",
           "ticks": "",
           "title": {
            "standoff": 15
           },
           "zerolinecolor": "white",
           "zerolinewidth": 2
          },
          "yaxis": {
           "automargin": true,
           "gridcolor": "white",
           "linecolor": "white",
           "ticks": "",
           "title": {
            "standoff": 15
           },
           "zerolinecolor": "white",
           "zerolinewidth": 2
          }
         }
        }
       }
      }
     },
     "metadata": {},
     "output_type": "display_data"
    }
   ],
   "source": [
    "import plotly.express as px\n",
    "import plotly.graph_objs as go\n",
    "import math\n",
    "\n",
    "\n",
    "# Import other necessary libraries like contextily or folium for the map\n",
    "\n",
    "\n",
    "\n",
    "best_matches_gdf['longitude'] = best_matches_gdf.geometry.x\n",
    "best_matches_gdf['latitude'] = best_matches_gdf.geometry.y\n",
    "\n",
    "fig = go.Figure()\n",
    "\n",
    "\n",
    "# Assuming 'df' is your GeoDataFrame with coordinates and place names\n",
    "fig = px.scatter_geo(best_matches_gdf, lat='latitude', lon='longitude', hover_name='description', text='place_in_json')\n",
    "fig.update_traces(textposition='bottom center')\n",
    "\n",
    "\n",
    "\n",
    "# Add lines and triangle annotations\n",
    "for i in range(len(best_matches_gdf) - 1):\n",
    "    lon1, lat1 = best_matches_gdf['longitude'].iloc[i], best_matches_gdf['latitude'].iloc[i]\n",
    "    lon2, lat2 = best_matches_gdf['longitude'].iloc[i+1], best_matches_gdf['latitude'].iloc[i+1]\n",
    "\n",
    "    fig.add_annotation(\n",
    "    xref=\"x\",\n",
    "    yref=\"y\",\n",
    "    x=lon2,\n",
    "    y=lat2,\n",
    "    text=\"Pino\",\n",
    "    # If axref is exactly the same as xref, then the text's position is\n",
    "    # absolute and specified in the same coordinates as xref.\n",
    "    axref=\"x domain\",\n",
    "    # The same is the case for yref and ayref, but here the coordinates are data\n",
    "    # coordinates\n",
    "    ayref=\"y\",\n",
    "    ax=lon1,\n",
    "    ay=lat2,\n",
    "    arrowhead=2,\n",
    "    )\n",
    "\n",
    "    \n",
    " \n",
    "\n",
    "\n",
    "fig.update_geos(fitbounds=\"locations\")\n",
    "fig.update_layout(\n",
    "    geo=dict(\n",
    "        showframe=True,  # Show frame around the map\n",
    "        showcoastlines=True,  # Show coastlines\n",
    "        showland=True,  # Show land\n",
    "        landcolor=\"LightGreen\",\n",
    "        countrycolor=\"DarkBlue\",\n",
    "        coastlinecolor=\"RebeccaPurple\",\n",
    "        projection=dict(type=\"equirectangular\"),\n",
    "        #lonaxis=dict(range=[min_lon - lon_expand, max_lon + lon_expand]), \n",
    "        #lataxis=dict(range=[min_lat - lat_expand, max_lat + lat_expand])\n",
    "    )\n",
    ")\n",
    "\n",
    "# Customize your map background here\n",
    "\n",
    "fig.show()"
   ]
  },
  {
   "cell_type": "code",
   "execution_count": 179,
   "id": "970414f2",
   "metadata": {},
   "outputs": [
    {
     "data": {
      "application/vnd.plotly.v1+json": {
       "config": {
        "plotlyServerURL": "https://plot.ly"
       },
       "data": [
        {
         "hoverinfo": "text",
         "lat": [
          31.779560147092745,
          31.772872905818765,
          31.7816388236984,
          31.78085258922594,
          31.7789715527608,
          31.772872905818765,
          31.77663307634744,
          31.77084077793449,
          31.78136765981732,
          31.77155246266625,
          31.78004939406585,
          31.78136765981732,
          31.778494399768512,
          31.780586614078345
         ],
         "lon": [
          35.23943907973402,
          35.22970261243407,
          35.230440150025665,
          35.236929678025774,
          35.23706912127512,
          35.22970261243407,
          35.227590878343186,
          35.23452676886375,
          35.23644054362671,
          35.229058407470404,
          35.232177579097744,
          35.23644054362671,
          35.22977329116965,
          35.23403580281836
         ],
         "mode": "markers",
         "type": "scattergeo"
        },
        {
         "lat": [
          31.779560147092745,
          31.772872905818765
         ],
         "line": {
          "color": "blue",
          "width": 2
         },
         "lon": [
          35.23943907973402,
          35.22970261243407
         ],
         "mode": "lines",
         "type": "scattergeo"
        },
        {
         "lat": [
          31.772872905818765,
          31.7816388236984
         ],
         "line": {
          "color": "blue",
          "width": 2
         },
         "lon": [
          35.22970261243407,
          35.230440150025665
         ],
         "mode": "lines",
         "type": "scattergeo"
        },
        {
         "lat": [
          31.7816388236984,
          31.78085258922594
         ],
         "line": {
          "color": "blue",
          "width": 2
         },
         "lon": [
          35.230440150025665,
          35.236929678025774
         ],
         "mode": "lines",
         "type": "scattergeo"
        },
        {
         "lat": [
          31.78085258922594,
          31.7789715527608
         ],
         "line": {
          "color": "blue",
          "width": 2
         },
         "lon": [
          35.236929678025774,
          35.23706912127512
         ],
         "mode": "lines",
         "type": "scattergeo"
        },
        {
         "lat": [
          31.7789715527608,
          31.772872905818765
         ],
         "line": {
          "color": "blue",
          "width": 2
         },
         "lon": [
          35.23706912127512,
          35.22970261243407
         ],
         "mode": "lines",
         "type": "scattergeo"
        },
        {
         "lat": [
          31.772872905818765,
          31.77663307634744
         ],
         "line": {
          "color": "blue",
          "width": 2
         },
         "lon": [
          35.22970261243407,
          35.227590878343186
         ],
         "mode": "lines",
         "type": "scattergeo"
        },
        {
         "lat": [
          31.77663307634744,
          31.77084077793449
         ],
         "line": {
          "color": "blue",
          "width": 2
         },
         "lon": [
          35.227590878343186,
          35.23452676886375
         ],
         "mode": "lines",
         "type": "scattergeo"
        },
        {
         "lat": [
          31.77084077793449,
          31.78136765981732
         ],
         "line": {
          "color": "blue",
          "width": 2
         },
         "lon": [
          35.23452676886375,
          35.23644054362671
         ],
         "mode": "lines",
         "type": "scattergeo"
        },
        {
         "lat": [
          31.78136765981732,
          31.77155246266625
         ],
         "line": {
          "color": "blue",
          "width": 2
         },
         "lon": [
          35.23644054362671,
          35.229058407470404
         ],
         "mode": "lines",
         "type": "scattergeo"
        },
        {
         "lat": [
          31.77155246266625,
          31.78004939406585
         ],
         "line": {
          "color": "blue",
          "width": 2
         },
         "lon": [
          35.229058407470404,
          35.232177579097744
         ],
         "mode": "lines",
         "type": "scattergeo"
        },
        {
         "lat": [
          31.78004939406585,
          31.78136765981732
         ],
         "line": {
          "color": "blue",
          "width": 2
         },
         "lon": [
          35.232177579097744,
          35.23644054362671
         ],
         "mode": "lines",
         "type": "scattergeo"
        },
        {
         "lat": [
          31.78136765981732,
          31.778494399768512
         ],
         "line": {
          "color": "blue",
          "width": 2
         },
         "lon": [
          35.23644054362671,
          35.22977329116965
         ],
         "mode": "lines",
         "type": "scattergeo"
        },
        {
         "lat": [
          31.778494399768512,
          31.780586614078345
         ],
         "line": {
          "color": "blue",
          "width": 2
         },
         "lon": [
          35.22977329116965,
          35.23403580281836
         ],
         "mode": "lines",
         "type": "scattergeo"
        }
       ],
       "layout": {
        "annotations": [
         {
          "align": "center",
          "font": {
           "size": 12
          },
          "showarrow": false,
          "text": "▲",
          "textangle": -145.5177786259764,
          "x": 35.22970261243407,
          "xanchor": "center",
          "xref": "x",
          "y": 31.772872905818765,
          "yanchor": "middle",
          "yref": "y"
         },
         {
          "align": "center",
          "font": {
           "size": 12
          },
          "showarrow": false,
          "text": "▲",
          "textangle": 85.19063507808363,
          "x": 35.230440150025665,
          "xanchor": "center",
          "xref": "x",
          "y": 31.7816388236984,
          "yanchor": "middle",
          "yref": "y"
         },
         {
          "align": "center",
          "font": {
           "size": 12
          },
          "showarrow": false,
          "text": "▲",
          "textangle": -6.907964332534448,
          "x": 35.236929678025774,
          "xanchor": "center",
          "xref": "x",
          "y": 31.78085258922594,
          "yanchor": "middle",
          "yref": "y"
         },
         {
          "align": "center",
          "font": {
           "size": 12
          },
          "showarrow": false,
          "text": "▲",
          "textangle": -85.7603573038905,
          "x": 35.23706912127512,
          "xanchor": "center",
          "xref": "x",
          "y": 31.7789715527608,
          "yanchor": "middle",
          "yref": "y"
         },
         {
          "align": "center",
          "font": {
           "size": 12
          },
          "showarrow": false,
          "text": "▲",
          "textangle": -140.37903834029672,
          "x": 35.22970261243407,
          "xanchor": "center",
          "xref": "x",
          "y": 31.772872905818765,
          "yanchor": "middle",
          "yref": "y"
         },
         {
          "align": "center",
          "font": {
           "size": 12
          },
          "showarrow": false,
          "text": "▲",
          "textangle": 119.3188251048548,
          "x": 35.227590878343186,
          "xanchor": "center",
          "xref": "x",
          "y": 31.77663307634744,
          "yanchor": "middle",
          "yref": "y"
         },
         {
          "align": "center",
          "font": {
           "size": 12
          },
          "showarrow": false,
          "text": "▲",
          "textangle": -39.86592014165535,
          "x": 35.23452676886375,
          "xanchor": "center",
          "xref": "x",
          "y": 31.77084077793449,
          "yanchor": "middle",
          "yref": "y"
         },
         {
          "align": "center",
          "font": {
           "size": 12
          },
          "showarrow": false,
          "text": "▲",
          "textangle": 79.69622707853881,
          "x": 35.23644054362671,
          "xanchor": "center",
          "xref": "x",
          "y": 31.78136765981732,
          "yanchor": "middle",
          "yref": "y"
         },
         {
          "align": "center",
          "font": {
           "size": 12
          },
          "showarrow": false,
          "text": "▲",
          "textangle": -126.94729677802619,
          "x": 35.229058407470404,
          "xanchor": "center",
          "xref": "x",
          "y": 31.77155246266625,
          "yanchor": "middle",
          "yref": "y"
         },
         {
          "align": "center",
          "font": {
           "size": 12
          },
          "showarrow": false,
          "text": "▲",
          "textangle": 69.84212222850385,
          "x": 35.232177579097744,
          "xanchor": "center",
          "xref": "x",
          "y": 31.78004939406585,
          "yanchor": "middle",
          "yref": "y"
         },
         {
          "align": "center",
          "font": {
           "size": 12
          },
          "showarrow": false,
          "text": "▲",
          "textangle": 17.183536256522473,
          "x": 35.23644054362671,
          "xanchor": "center",
          "xref": "x",
          "y": 31.78136765981732,
          "yanchor": "middle",
          "yref": "y"
         },
         {
          "align": "center",
          "font": {
           "size": 12
          },
          "showarrow": false,
          "text": "▲",
          "textangle": -156.68631873006856,
          "x": 35.22977329116965,
          "xanchor": "center",
          "xref": "x",
          "y": 31.778494399768512,
          "yanchor": "middle",
          "yref": "y"
         },
         {
          "align": "center",
          "font": {
           "size": 12
          },
          "showarrow": false,
          "text": "▲",
          "textangle": 26.14368476089294,
          "x": 35.23403580281836,
          "xanchor": "center",
          "xref": "x",
          "y": 31.780586614078345,
          "yanchor": "middle",
          "yref": "y"
         }
        ],
        "geo": {
         "projection": {
          "type": "equirectangular"
         },
         "scope": "world"
        },
        "showlegend": false,
        "template": {
         "data": {
          "bar": [
           {
            "error_x": {
             "color": "#2a3f5f"
            },
            "error_y": {
             "color": "#2a3f5f"
            },
            "marker": {
             "line": {
              "color": "#E5ECF6",
              "width": 0.5
             },
             "pattern": {
              "fillmode": "overlay",
              "size": 10,
              "solidity": 0.2
             }
            },
            "type": "bar"
           }
          ],
          "barpolar": [
           {
            "marker": {
             "line": {
              "color": "#E5ECF6",
              "width": 0.5
             },
             "pattern": {
              "fillmode": "overlay",
              "size": 10,
              "solidity": 0.2
             }
            },
            "type": "barpolar"
           }
          ],
          "carpet": [
           {
            "aaxis": {
             "endlinecolor": "#2a3f5f",
             "gridcolor": "white",
             "linecolor": "white",
             "minorgridcolor": "white",
             "startlinecolor": "#2a3f5f"
            },
            "baxis": {
             "endlinecolor": "#2a3f5f",
             "gridcolor": "white",
             "linecolor": "white",
             "minorgridcolor": "white",
             "startlinecolor": "#2a3f5f"
            },
            "type": "carpet"
           }
          ],
          "choropleth": [
           {
            "colorbar": {
             "outlinewidth": 0,
             "ticks": ""
            },
            "type": "choropleth"
           }
          ],
          "contour": [
           {
            "colorbar": {
             "outlinewidth": 0,
             "ticks": ""
            },
            "colorscale": [
             [
              0,
              "#0d0887"
             ],
             [
              0.1111111111111111,
              "#46039f"
             ],
             [
              0.2222222222222222,
              "#7201a8"
             ],
             [
              0.3333333333333333,
              "#9c179e"
             ],
             [
              0.4444444444444444,
              "#bd3786"
             ],
             [
              0.5555555555555556,
              "#d8576b"
             ],
             [
              0.6666666666666666,
              "#ed7953"
             ],
             [
              0.7777777777777778,
              "#fb9f3a"
             ],
             [
              0.8888888888888888,
              "#fdca26"
             ],
             [
              1,
              "#f0f921"
             ]
            ],
            "type": "contour"
           }
          ],
          "contourcarpet": [
           {
            "colorbar": {
             "outlinewidth": 0,
             "ticks": ""
            },
            "type": "contourcarpet"
           }
          ],
          "heatmap": [
           {
            "colorbar": {
             "outlinewidth": 0,
             "ticks": ""
            },
            "colorscale": [
             [
              0,
              "#0d0887"
             ],
             [
              0.1111111111111111,
              "#46039f"
             ],
             [
              0.2222222222222222,
              "#7201a8"
             ],
             [
              0.3333333333333333,
              "#9c179e"
             ],
             [
              0.4444444444444444,
              "#bd3786"
             ],
             [
              0.5555555555555556,
              "#d8576b"
             ],
             [
              0.6666666666666666,
              "#ed7953"
             ],
             [
              0.7777777777777778,
              "#fb9f3a"
             ],
             [
              0.8888888888888888,
              "#fdca26"
             ],
             [
              1,
              "#f0f921"
             ]
            ],
            "type": "heatmap"
           }
          ],
          "heatmapgl": [
           {
            "colorbar": {
             "outlinewidth": 0,
             "ticks": ""
            },
            "colorscale": [
             [
              0,
              "#0d0887"
             ],
             [
              0.1111111111111111,
              "#46039f"
             ],
             [
              0.2222222222222222,
              "#7201a8"
             ],
             [
              0.3333333333333333,
              "#9c179e"
             ],
             [
              0.4444444444444444,
              "#bd3786"
             ],
             [
              0.5555555555555556,
              "#d8576b"
             ],
             [
              0.6666666666666666,
              "#ed7953"
             ],
             [
              0.7777777777777778,
              "#fb9f3a"
             ],
             [
              0.8888888888888888,
              "#fdca26"
             ],
             [
              1,
              "#f0f921"
             ]
            ],
            "type": "heatmapgl"
           }
          ],
          "histogram": [
           {
            "marker": {
             "pattern": {
              "fillmode": "overlay",
              "size": 10,
              "solidity": 0.2
             }
            },
            "type": "histogram"
           }
          ],
          "histogram2d": [
           {
            "colorbar": {
             "outlinewidth": 0,
             "ticks": ""
            },
            "colorscale": [
             [
              0,
              "#0d0887"
             ],
             [
              0.1111111111111111,
              "#46039f"
             ],
             [
              0.2222222222222222,
              "#7201a8"
             ],
             [
              0.3333333333333333,
              "#9c179e"
             ],
             [
              0.4444444444444444,
              "#bd3786"
             ],
             [
              0.5555555555555556,
              "#d8576b"
             ],
             [
              0.6666666666666666,
              "#ed7953"
             ],
             [
              0.7777777777777778,
              "#fb9f3a"
             ],
             [
              0.8888888888888888,
              "#fdca26"
             ],
             [
              1,
              "#f0f921"
             ]
            ],
            "type": "histogram2d"
           }
          ],
          "histogram2dcontour": [
           {
            "colorbar": {
             "outlinewidth": 0,
             "ticks": ""
            },
            "colorscale": [
             [
              0,
              "#0d0887"
             ],
             [
              0.1111111111111111,
              "#46039f"
             ],
             [
              0.2222222222222222,
              "#7201a8"
             ],
             [
              0.3333333333333333,
              "#9c179e"
             ],
             [
              0.4444444444444444,
              "#bd3786"
             ],
             [
              0.5555555555555556,
              "#d8576b"
             ],
             [
              0.6666666666666666,
              "#ed7953"
             ],
             [
              0.7777777777777778,
              "#fb9f3a"
             ],
             [
              0.8888888888888888,
              "#fdca26"
             ],
             [
              1,
              "#f0f921"
             ]
            ],
            "type": "histogram2dcontour"
           }
          ],
          "mesh3d": [
           {
            "colorbar": {
             "outlinewidth": 0,
             "ticks": ""
            },
            "type": "mesh3d"
           }
          ],
          "parcoords": [
           {
            "line": {
             "colorbar": {
              "outlinewidth": 0,
              "ticks": ""
             }
            },
            "type": "parcoords"
           }
          ],
          "pie": [
           {
            "automargin": true,
            "type": "pie"
           }
          ],
          "scatter": [
           {
            "fillpattern": {
             "fillmode": "overlay",
             "size": 10,
             "solidity": 0.2
            },
            "type": "scatter"
           }
          ],
          "scatter3d": [
           {
            "line": {
             "colorbar": {
              "outlinewidth": 0,
              "ticks": ""
             }
            },
            "marker": {
             "colorbar": {
              "outlinewidth": 0,
              "ticks": ""
             }
            },
            "type": "scatter3d"
           }
          ],
          "scattercarpet": [
           {
            "marker": {
             "colorbar": {
              "outlinewidth": 0,
              "ticks": ""
             }
            },
            "type": "scattercarpet"
           }
          ],
          "scattergeo": [
           {
            "marker": {
             "colorbar": {
              "outlinewidth": 0,
              "ticks": ""
             }
            },
            "type": "scattergeo"
           }
          ],
          "scattergl": [
           {
            "marker": {
             "colorbar": {
              "outlinewidth": 0,
              "ticks": ""
             }
            },
            "type": "scattergl"
           }
          ],
          "scattermapbox": [
           {
            "marker": {
             "colorbar": {
              "outlinewidth": 0,
              "ticks": ""
             }
            },
            "type": "scattermapbox"
           }
          ],
          "scatterpolar": [
           {
            "marker": {
             "colorbar": {
              "outlinewidth": 0,
              "ticks": ""
             }
            },
            "type": "scatterpolar"
           }
          ],
          "scatterpolargl": [
           {
            "marker": {
             "colorbar": {
              "outlinewidth": 0,
              "ticks": ""
             }
            },
            "type": "scatterpolargl"
           }
          ],
          "scatterternary": [
           {
            "marker": {
             "colorbar": {
              "outlinewidth": 0,
              "ticks": ""
             }
            },
            "type": "scatterternary"
           }
          ],
          "surface": [
           {
            "colorbar": {
             "outlinewidth": 0,
             "ticks": ""
            },
            "colorscale": [
             [
              0,
              "#0d0887"
             ],
             [
              0.1111111111111111,
              "#46039f"
             ],
             [
              0.2222222222222222,
              "#7201a8"
             ],
             [
              0.3333333333333333,
              "#9c179e"
             ],
             [
              0.4444444444444444,
              "#bd3786"
             ],
             [
              0.5555555555555556,
              "#d8576b"
             ],
             [
              0.6666666666666666,
              "#ed7953"
             ],
             [
              0.7777777777777778,
              "#fb9f3a"
             ],
             [
              0.8888888888888888,
              "#fdca26"
             ],
             [
              1,
              "#f0f921"
             ]
            ],
            "type": "surface"
           }
          ],
          "table": [
           {
            "cells": {
             "fill": {
              "color": "#EBF0F8"
             },
             "line": {
              "color": "white"
             }
            },
            "header": {
             "fill": {
              "color": "#C8D4E3"
             },
             "line": {
              "color": "white"
             }
            },
            "type": "table"
           }
          ]
         },
         "layout": {
          "annotationdefaults": {
           "arrowcolor": "#2a3f5f",
           "arrowhead": 0,
           "arrowwidth": 1
          },
          "autotypenumbers": "strict",
          "coloraxis": {
           "colorbar": {
            "outlinewidth": 0,
            "ticks": ""
           }
          },
          "colorscale": {
           "diverging": [
            [
             0,
             "#8e0152"
            ],
            [
             0.1,
             "#c51b7d"
            ],
            [
             0.2,
             "#de77ae"
            ],
            [
             0.3,
             "#f1b6da"
            ],
            [
             0.4,
             "#fde0ef"
            ],
            [
             0.5,
             "#f7f7f7"
            ],
            [
             0.6,
             "#e6f5d0"
            ],
            [
             0.7,
             "#b8e186"
            ],
            [
             0.8,
             "#7fbc41"
            ],
            [
             0.9,
             "#4d9221"
            ],
            [
             1,
             "#276419"
            ]
           ],
           "sequential": [
            [
             0,
             "#0d0887"
            ],
            [
             0.1111111111111111,
             "#46039f"
            ],
            [
             0.2222222222222222,
             "#7201a8"
            ],
            [
             0.3333333333333333,
             "#9c179e"
            ],
            [
             0.4444444444444444,
             "#bd3786"
            ],
            [
             0.5555555555555556,
             "#d8576b"
            ],
            [
             0.6666666666666666,
             "#ed7953"
            ],
            [
             0.7777777777777778,
             "#fb9f3a"
            ],
            [
             0.8888888888888888,
             "#fdca26"
            ],
            [
             1,
             "#f0f921"
            ]
           ],
           "sequentialminus": [
            [
             0,
             "#0d0887"
            ],
            [
             0.1111111111111111,
             "#46039f"
            ],
            [
             0.2222222222222222,
             "#7201a8"
            ],
            [
             0.3333333333333333,
             "#9c179e"
            ],
            [
             0.4444444444444444,
             "#bd3786"
            ],
            [
             0.5555555555555556,
             "#d8576b"
            ],
            [
             0.6666666666666666,
             "#ed7953"
            ],
            [
             0.7777777777777778,
             "#fb9f3a"
            ],
            [
             0.8888888888888888,
             "#fdca26"
            ],
            [
             1,
             "#f0f921"
            ]
           ]
          },
          "colorway": [
           "#636efa",
           "#EF553B",
           "#00cc96",
           "#ab63fa",
           "#FFA15A",
           "#19d3f3",
           "#FF6692",
           "#B6E880",
           "#FF97FF",
           "#FECB52"
          ],
          "font": {
           "color": "#2a3f5f"
          },
          "geo": {
           "bgcolor": "white",
           "lakecolor": "white",
           "landcolor": "#E5ECF6",
           "showlakes": true,
           "showland": true,
           "subunitcolor": "white"
          },
          "hoverlabel": {
           "align": "left"
          },
          "hovermode": "closest",
          "mapbox": {
           "style": "light"
          },
          "paper_bgcolor": "white",
          "plot_bgcolor": "#E5ECF6",
          "polar": {
           "angularaxis": {
            "gridcolor": "white",
            "linecolor": "white",
            "ticks": ""
           },
           "bgcolor": "#E5ECF6",
           "radialaxis": {
            "gridcolor": "white",
            "linecolor": "white",
            "ticks": ""
           }
          },
          "scene": {
           "xaxis": {
            "backgroundcolor": "#E5ECF6",
            "gridcolor": "white",
            "gridwidth": 2,
            "linecolor": "white",
            "showbackground": true,
            "ticks": "",
            "zerolinecolor": "white"
           },
           "yaxis": {
            "backgroundcolor": "#E5ECF6",
            "gridcolor": "white",
            "gridwidth": 2,
            "linecolor": "white",
            "showbackground": true,
            "ticks": "",
            "zerolinecolor": "white"
           },
           "zaxis": {
            "backgroundcolor": "#E5ECF6",
            "gridcolor": "white",
            "gridwidth": 2,
            "linecolor": "white",
            "showbackground": true,
            "ticks": "",
            "zerolinecolor": "white"
           }
          },
          "shapedefaults": {
           "line": {
            "color": "#2a3f5f"
           }
          },
          "ternary": {
           "aaxis": {
            "gridcolor": "white",
            "linecolor": "white",
            "ticks": ""
           },
           "baxis": {
            "gridcolor": "white",
            "linecolor": "white",
            "ticks": ""
           },
           "bgcolor": "#E5ECF6",
           "caxis": {
            "gridcolor": "white",
            "linecolor": "white",
            "ticks": ""
           }
          },
          "title": {
           "x": 0.05
          },
          "xaxis": {
           "automargin": true,
           "gridcolor": "white",
           "linecolor": "white",
           "ticks": "",
           "title": {
            "standoff": 15
           },
           "zerolinecolor": "white",
           "zerolinewidth": 2
          },
          "yaxis": {
           "automargin": true,
           "gridcolor": "white",
           "linecolor": "white",
           "ticks": "",
           "title": {
            "standoff": 15
           },
           "zerolinecolor": "white",
           "zerolinewidth": 2
          }
         }
        },
        "title": {
         "text": "Journey Plot"
        }
       }
      }
     },
     "metadata": {},
     "output_type": "display_data"
    }
   ],
   "source": [
    "import geopandas as gpd\n",
    "import plotly.graph_objs as go\n",
    "import math\n",
    "\n",
    "# Assuming 'gdf' is your GeoDataFrame\n",
    "best_matches_gdf['longitude'] = best_matches_gdf['geometry'].x\n",
    "best_matches_gdf['latitude'] = best_matches_gdf['geometry'].y\n",
    "\n",
    "# Initialize a figure\n",
    "fig = go.Figure()\n",
    "\n",
    "# Add scatter plot for points\n",
    "fig.add_trace(go.Scattergeo(\n",
    "    lon=best_matches_gdf['longitude'],\n",
    "    lat=best_matches_gdf['latitude'],\n",
    "    mode='markers',\n",
    "    hoverinfo='text'\n",
    "))\n",
    "\n",
    "# Function to calculate rotation angle\n",
    "def calculate_angle(lon1, lat1, lon2, lat2):\n",
    "    angle = math.atan2(lat2 - lat1, lon2 - lon1)\n",
    "    return math.degrees(angle)\n",
    "\n",
    "# Add lines and triangle annotations\n",
    "for i in range(len(best_matches_gdf) - 1):\n",
    "    lon1, lat1 = best_matches_gdf['longitude'].iloc[i], best_matches_gdf['latitude'].iloc[i]\n",
    "    lon2, lat2 = best_matches_gdf['longitude'].iloc[i+1], best_matches_gdf['latitude'].iloc[i+1]\n",
    "    \n",
    "    # Draw line\n",
    "    fig.add_trace(\n",
    "        go.Scattergeo(\n",
    "            lon=[lon1, lon2],\n",
    "            lat=[lat1, lat2],\n",
    "            mode='lines',\n",
    "            line=dict(width=2, color='blue'),\n",
    "        )\n",
    "    )\n",
    "    \n",
    "    # Calculate angle for the arrow\n",
    "    angle = calculate_angle(lon1, lat1, lon2, lat2)\n",
    "    \n",
    "    # Add rotated triangle (arrow)\n",
    "    fig.add_annotation(\n",
    "        x=lon2, y=lat2,\n",
    "        xref=\"x\", yref=\"y\",\n",
    "        text=\"▲\", # Triangle symbol as arrow\n",
    "        showarrow=False,\n",
    "        font=dict(size=12),\n",
    "        xanchor=\"center\",\n",
    "        yanchor=\"middle\",\n",
    "        align=\"center\",\n",
    "        textangle=angle\n",
    "    )\n",
    "\n",
    "# Update layout\n",
    "fig.update_layout(\n",
    "    title='Journey Plot',\n",
    "    showlegend=False,\n",
    "    geo=dict(\n",
    "        scope='world',\n",
    "        projection_type='equirectangular',\n",
    "    ),\n",
    ")\n",
    "\n",
    "fig.show()\n"
   ]
  },
  {
   "cell_type": "code",
   "execution_count": 203,
   "id": "0bed6bd9",
   "metadata": {},
   "outputs": [
    {
     "data": {
      "application/vnd.plotly.v1+json": {
       "config": {
        "plotlyServerURL": "https://plot.ly"
       },
       "data": [
        {
         "geo": "geo",
         "hovertemplate": "<b>%{hovertext}</b><br><br>place_in_json=%{text}<br>latitude=%{lat}<br>longitude=%{lon}<extra></extra>",
         "hovertext": [
          "Looks forward to visiting Gethsemane to contemplate Christ's agony.",
          "Observed the hill of Zion, a significant location in Jerusalem.",
          "Visited the Damascus Gate, located midway along the northern wall of Jerusalem.",
          "Visited St. Stephen's Gate, facing Mount Olivet.",
          "Observed the now closed Golden Gate of the Temple wall.",
          "Visited Zion Gate, located near the southern part of Jerusalem.",
          "Visited Jaffa Gate, situated near the west of Jerusalem.",
          "Referred to the Pool of Siloam as part of Jerusalem's water infrastructure.",
          "Visited the Church of St. James, related to the beheading of Apostle James.",
          "Visited the Tomb of David and associated religious sites.",
          "Walked along the Via Dolorosa, reflecting on Christ's journey to crucifixion.",
          "Observed the Church of St. Anne, believed to be the birthplace of the Virgin Mary.",
          "Visited the Church of the Holy Sepulchre, a key religious site.",
          "Passed by the Church of Flagellation."
         ],
         "lat": [
          31.779560147092745,
          31.772872905818765,
          31.7816388236984,
          31.78085258922594,
          31.7789715527608,
          31.772872905818765,
          31.77663307634744,
          31.77084077793449,
          31.78136765981732,
          31.77155246266625,
          31.78004939406585,
          31.78136765981732,
          31.778494399768512,
          31.780586614078345
         ],
         "legendgroup": "",
         "lon": [
          35.23943907973402,
          35.22970261243407,
          35.230440150025665,
          35.236929678025774,
          35.23706912127512,
          35.22970261243407,
          35.227590878343186,
          35.23452676886375,
          35.23644054362671,
          35.229058407470404,
          35.232177579097744,
          35.23644054362671,
          35.22977329116965,
          35.23403580281836
         ],
         "marker": {
          "color": "#636efa",
          "symbol": "circle"
         },
         "mode": "markers+text",
         "name": "",
         "showlegend": false,
         "text": [
          "Gethsemane",
          "Zion",
          "Damascus Gate",
          "St. Stephen's Gate",
          "Golden Gate",
          "Zion Gate",
          "Jaffa Gate",
          "Pool of Siloam",
          "Church of St. James",
          "Tomb of David",
          "Via Dolorosa",
          "Church of St. Anne",
          "Church of the Holy Sepulchre",
          "Church of Flagellation"
         ],
         "textposition": "bottom center",
         "type": "scattergeo"
        },
        {
         "lat": [
          31.779560147092745,
          31.772872905818765
         ],
         "line": {
          "color": "blue",
          "width": 2
         },
         "lon": [
          35.23943907973402,
          35.22970261243407
         ],
         "mode": "lines",
         "type": "scattergeo"
        },
        {
         "lat": [
          31.772872905818765,
          31.7816388236984
         ],
         "line": {
          "color": "blue",
          "width": 2
         },
         "lon": [
          35.22970261243407,
          35.230440150025665
         ],
         "mode": "lines",
         "type": "scattergeo"
        },
        {
         "lat": [
          31.7816388236984,
          31.78085258922594
         ],
         "line": {
          "color": "blue",
          "width": 2
         },
         "lon": [
          35.230440150025665,
          35.236929678025774
         ],
         "mode": "lines",
         "type": "scattergeo"
        },
        {
         "lat": [
          31.78085258922594,
          31.7789715527608
         ],
         "line": {
          "color": "blue",
          "width": 2
         },
         "lon": [
          35.236929678025774,
          35.23706912127512
         ],
         "mode": "lines",
         "type": "scattergeo"
        },
        {
         "lat": [
          31.7789715527608,
          31.772872905818765
         ],
         "line": {
          "color": "blue",
          "width": 2
         },
         "lon": [
          35.23706912127512,
          35.22970261243407
         ],
         "mode": "lines",
         "type": "scattergeo"
        },
        {
         "lat": [
          31.772872905818765,
          31.77663307634744
         ],
         "line": {
          "color": "blue",
          "width": 2
         },
         "lon": [
          35.22970261243407,
          35.227590878343186
         ],
         "mode": "lines",
         "type": "scattergeo"
        },
        {
         "lat": [
          31.77663307634744,
          31.77084077793449
         ],
         "line": {
          "color": "blue",
          "width": 2
         },
         "lon": [
          35.227590878343186,
          35.23452676886375
         ],
         "mode": "lines",
         "type": "scattergeo"
        },
        {
         "lat": [
          31.77084077793449,
          31.78136765981732
         ],
         "line": {
          "color": "blue",
          "width": 2
         },
         "lon": [
          35.23452676886375,
          35.23644054362671
         ],
         "mode": "lines",
         "type": "scattergeo"
        },
        {
         "lat": [
          31.78136765981732,
          31.77155246266625
         ],
         "line": {
          "color": "blue",
          "width": 2
         },
         "lon": [
          35.23644054362671,
          35.229058407470404
         ],
         "mode": "lines",
         "type": "scattergeo"
        },
        {
         "lat": [
          31.77155246266625,
          31.78004939406585
         ],
         "line": {
          "color": "blue",
          "width": 2
         },
         "lon": [
          35.229058407470404,
          35.232177579097744
         ],
         "mode": "lines",
         "type": "scattergeo"
        },
        {
         "lat": [
          31.78004939406585,
          31.78136765981732
         ],
         "line": {
          "color": "blue",
          "width": 2
         },
         "lon": [
          35.232177579097744,
          35.23644054362671
         ],
         "mode": "lines",
         "type": "scattergeo"
        },
        {
         "lat": [
          31.78136765981732,
          31.778494399768512
         ],
         "line": {
          "color": "blue",
          "width": 2
         },
         "lon": [
          35.23644054362671,
          35.22977329116965
         ],
         "mode": "lines",
         "type": "scattergeo"
        },
        {
         "lat": [
          31.778494399768512,
          31.780586614078345
         ],
         "line": {
          "color": "blue",
          "width": 2
         },
         "lon": [
          35.22977329116965,
          35.23403580281836
         ],
         "mode": "lines",
         "type": "scattergeo"
        }
       ],
       "layout": {
        "annotations": [
         {
          "arrowhead": 2,
          "ax": 35.23943907973402,
          "axref": "x",
          "ay": 31.779560147092745,
          "ayref": "y",
          "showarrow": true,
          "x": 35.22970261243407,
          "xref": "paper",
          "y": 31.772872905818765,
          "yref": "paper"
         },
         {
          "arrowhead": 2,
          "ax": 35.22970261243407,
          "axref": "x",
          "ay": 31.772872905818765,
          "ayref": "y",
          "showarrow": true,
          "x": 35.230440150025665,
          "xref": "paper",
          "y": 31.7816388236984,
          "yref": "paper"
         },
         {
          "arrowhead": 2,
          "ax": 35.230440150025665,
          "axref": "x",
          "ay": 31.7816388236984,
          "ayref": "y",
          "showarrow": true,
          "x": 35.236929678025774,
          "xref": "paper",
          "y": 31.78085258922594,
          "yref": "paper"
         },
         {
          "arrowhead": 2,
          "ax": 35.236929678025774,
          "axref": "x",
          "ay": 31.78085258922594,
          "ayref": "y",
          "showarrow": true,
          "x": 35.23706912127512,
          "xref": "paper",
          "y": 31.7789715527608,
          "yref": "paper"
         },
         {
          "arrowhead": 2,
          "ax": 35.23706912127512,
          "axref": "x",
          "ay": 31.7789715527608,
          "ayref": "y",
          "showarrow": true,
          "x": 35.22970261243407,
          "xref": "paper",
          "y": 31.772872905818765,
          "yref": "paper"
         },
         {
          "arrowhead": 2,
          "ax": 35.22970261243407,
          "axref": "x",
          "ay": 31.772872905818765,
          "ayref": "y",
          "showarrow": true,
          "x": 35.227590878343186,
          "xref": "paper",
          "y": 31.77663307634744,
          "yref": "paper"
         },
         {
          "arrowhead": 2,
          "ax": 35.227590878343186,
          "axref": "x",
          "ay": 31.77663307634744,
          "ayref": "y",
          "showarrow": true,
          "x": 35.23452676886375,
          "xref": "paper",
          "y": 31.77084077793449,
          "yref": "paper"
         },
         {
          "arrowhead": 2,
          "ax": 35.23452676886375,
          "axref": "x",
          "ay": 31.77084077793449,
          "ayref": "y",
          "showarrow": true,
          "x": 35.23644054362671,
          "xref": "paper",
          "y": 31.78136765981732,
          "yref": "paper"
         },
         {
          "arrowhead": 2,
          "ax": 35.23644054362671,
          "axref": "x",
          "ay": 31.78136765981732,
          "ayref": "y",
          "showarrow": true,
          "x": 35.229058407470404,
          "xref": "paper",
          "y": 31.77155246266625,
          "yref": "paper"
         },
         {
          "arrowhead": 2,
          "ax": 35.229058407470404,
          "axref": "x",
          "ay": 31.77155246266625,
          "ayref": "y",
          "showarrow": true,
          "x": 35.232177579097744,
          "xref": "paper",
          "y": 31.78004939406585,
          "yref": "paper"
         },
         {
          "arrowhead": 2,
          "ax": 35.232177579097744,
          "axref": "x",
          "ay": 31.78004939406585,
          "ayref": "y",
          "showarrow": true,
          "x": 35.23644054362671,
          "xref": "paper",
          "y": 31.78136765981732,
          "yref": "paper"
         },
         {
          "arrowhead": 2,
          "ax": 35.23644054362671,
          "axref": "x",
          "ay": 31.78136765981732,
          "ayref": "y",
          "showarrow": true,
          "x": 35.22977329116965,
          "xref": "paper",
          "y": 31.778494399768512,
          "yref": "paper"
         },
         {
          "arrowhead": 2,
          "ax": 35.22977329116965,
          "axref": "x",
          "ay": 31.778494399768512,
          "ayref": "y",
          "showarrow": true,
          "x": 35.23403580281836,
          "xref": "paper",
          "y": 31.780586614078345,
          "yref": "paper"
         }
        ],
        "geo": {
         "center": {},
         "coastlinecolor": "RebeccaPurple",
         "countrycolor": "DarkBlue",
         "domain": {
          "x": [
           0,
           1
          ],
          "y": [
           0,
           1
          ]
         },
         "fitbounds": "locations",
         "landcolor": "LightGreen",
         "projection": {
          "type": "equirectangular"
         },
         "showcoastlines": true,
         "showframe": true,
         "showland": true
        },
        "legend": {
         "tracegroupgap": 0
        },
        "margin": {
         "t": 60
        },
        "template": {
         "data": {
          "bar": [
           {
            "error_x": {
             "color": "#2a3f5f"
            },
            "error_y": {
             "color": "#2a3f5f"
            },
            "marker": {
             "line": {
              "color": "#E5ECF6",
              "width": 0.5
             },
             "pattern": {
              "fillmode": "overlay",
              "size": 10,
              "solidity": 0.2
             }
            },
            "type": "bar"
           }
          ],
          "barpolar": [
           {
            "marker": {
             "line": {
              "color": "#E5ECF6",
              "width": 0.5
             },
             "pattern": {
              "fillmode": "overlay",
              "size": 10,
              "solidity": 0.2
             }
            },
            "type": "barpolar"
           }
          ],
          "carpet": [
           {
            "aaxis": {
             "endlinecolor": "#2a3f5f",
             "gridcolor": "white",
             "linecolor": "white",
             "minorgridcolor": "white",
             "startlinecolor": "#2a3f5f"
            },
            "baxis": {
             "endlinecolor": "#2a3f5f",
             "gridcolor": "white",
             "linecolor": "white",
             "minorgridcolor": "white",
             "startlinecolor": "#2a3f5f"
            },
            "type": "carpet"
           }
          ],
          "choropleth": [
           {
            "colorbar": {
             "outlinewidth": 0,
             "ticks": ""
            },
            "type": "choropleth"
           }
          ],
          "contour": [
           {
            "colorbar": {
             "outlinewidth": 0,
             "ticks": ""
            },
            "colorscale": [
             [
              0,
              "#0d0887"
             ],
             [
              0.1111111111111111,
              "#46039f"
             ],
             [
              0.2222222222222222,
              "#7201a8"
             ],
             [
              0.3333333333333333,
              "#9c179e"
             ],
             [
              0.4444444444444444,
              "#bd3786"
             ],
             [
              0.5555555555555556,
              "#d8576b"
             ],
             [
              0.6666666666666666,
              "#ed7953"
             ],
             [
              0.7777777777777778,
              "#fb9f3a"
             ],
             [
              0.8888888888888888,
              "#fdca26"
             ],
             [
              1,
              "#f0f921"
             ]
            ],
            "type": "contour"
           }
          ],
          "contourcarpet": [
           {
            "colorbar": {
             "outlinewidth": 0,
             "ticks": ""
            },
            "type": "contourcarpet"
           }
          ],
          "heatmap": [
           {
            "colorbar": {
             "outlinewidth": 0,
             "ticks": ""
            },
            "colorscale": [
             [
              0,
              "#0d0887"
             ],
             [
              0.1111111111111111,
              "#46039f"
             ],
             [
              0.2222222222222222,
              "#7201a8"
             ],
             [
              0.3333333333333333,
              "#9c179e"
             ],
             [
              0.4444444444444444,
              "#bd3786"
             ],
             [
              0.5555555555555556,
              "#d8576b"
             ],
             [
              0.6666666666666666,
              "#ed7953"
             ],
             [
              0.7777777777777778,
              "#fb9f3a"
             ],
             [
              0.8888888888888888,
              "#fdca26"
             ],
             [
              1,
              "#f0f921"
             ]
            ],
            "type": "heatmap"
           }
          ],
          "heatmapgl": [
           {
            "colorbar": {
             "outlinewidth": 0,
             "ticks": ""
            },
            "colorscale": [
             [
              0,
              "#0d0887"
             ],
             [
              0.1111111111111111,
              "#46039f"
             ],
             [
              0.2222222222222222,
              "#7201a8"
             ],
             [
              0.3333333333333333,
              "#9c179e"
             ],
             [
              0.4444444444444444,
              "#bd3786"
             ],
             [
              0.5555555555555556,
              "#d8576b"
             ],
             [
              0.6666666666666666,
              "#ed7953"
             ],
             [
              0.7777777777777778,
              "#fb9f3a"
             ],
             [
              0.8888888888888888,
              "#fdca26"
             ],
             [
              1,
              "#f0f921"
             ]
            ],
            "type": "heatmapgl"
           }
          ],
          "histogram": [
           {
            "marker": {
             "pattern": {
              "fillmode": "overlay",
              "size": 10,
              "solidity": 0.2
             }
            },
            "type": "histogram"
           }
          ],
          "histogram2d": [
           {
            "colorbar": {
             "outlinewidth": 0,
             "ticks": ""
            },
            "colorscale": [
             [
              0,
              "#0d0887"
             ],
             [
              0.1111111111111111,
              "#46039f"
             ],
             [
              0.2222222222222222,
              "#7201a8"
             ],
             [
              0.3333333333333333,
              "#9c179e"
             ],
             [
              0.4444444444444444,
              "#bd3786"
             ],
             [
              0.5555555555555556,
              "#d8576b"
             ],
             [
              0.6666666666666666,
              "#ed7953"
             ],
             [
              0.7777777777777778,
              "#fb9f3a"
             ],
             [
              0.8888888888888888,
              "#fdca26"
             ],
             [
              1,
              "#f0f921"
             ]
            ],
            "type": "histogram2d"
           }
          ],
          "histogram2dcontour": [
           {
            "colorbar": {
             "outlinewidth": 0,
             "ticks": ""
            },
            "colorscale": [
             [
              0,
              "#0d0887"
             ],
             [
              0.1111111111111111,
              "#46039f"
             ],
             [
              0.2222222222222222,
              "#7201a8"
             ],
             [
              0.3333333333333333,
              "#9c179e"
             ],
             [
              0.4444444444444444,
              "#bd3786"
             ],
             [
              0.5555555555555556,
              "#d8576b"
             ],
             [
              0.6666666666666666,
              "#ed7953"
             ],
             [
              0.7777777777777778,
              "#fb9f3a"
             ],
             [
              0.8888888888888888,
              "#fdca26"
             ],
             [
              1,
              "#f0f921"
             ]
            ],
            "type": "histogram2dcontour"
           }
          ],
          "mesh3d": [
           {
            "colorbar": {
             "outlinewidth": 0,
             "ticks": ""
            },
            "type": "mesh3d"
           }
          ],
          "parcoords": [
           {
            "line": {
             "colorbar": {
              "outlinewidth": 0,
              "ticks": ""
             }
            },
            "type": "parcoords"
           }
          ],
          "pie": [
           {
            "automargin": true,
            "type": "pie"
           }
          ],
          "scatter": [
           {
            "fillpattern": {
             "fillmode": "overlay",
             "size": 10,
             "solidity": 0.2
            },
            "type": "scatter"
           }
          ],
          "scatter3d": [
           {
            "line": {
             "colorbar": {
              "outlinewidth": 0,
              "ticks": ""
             }
            },
            "marker": {
             "colorbar": {
              "outlinewidth": 0,
              "ticks": ""
             }
            },
            "type": "scatter3d"
           }
          ],
          "scattercarpet": [
           {
            "marker": {
             "colorbar": {
              "outlinewidth": 0,
              "ticks": ""
             }
            },
            "type": "scattercarpet"
           }
          ],
          "scattergeo": [
           {
            "marker": {
             "colorbar": {
              "outlinewidth": 0,
              "ticks": ""
             }
            },
            "type": "scattergeo"
           }
          ],
          "scattergl": [
           {
            "marker": {
             "colorbar": {
              "outlinewidth": 0,
              "ticks": ""
             }
            },
            "type": "scattergl"
           }
          ],
          "scattermapbox": [
           {
            "marker": {
             "colorbar": {
              "outlinewidth": 0,
              "ticks": ""
             }
            },
            "type": "scattermapbox"
           }
          ],
          "scatterpolar": [
           {
            "marker": {
             "colorbar": {
              "outlinewidth": 0,
              "ticks": ""
             }
            },
            "type": "scatterpolar"
           }
          ],
          "scatterpolargl": [
           {
            "marker": {
             "colorbar": {
              "outlinewidth": 0,
              "ticks": ""
             }
            },
            "type": "scatterpolargl"
           }
          ],
          "scatterternary": [
           {
            "marker": {
             "colorbar": {
              "outlinewidth": 0,
              "ticks": ""
             }
            },
            "type": "scatterternary"
           }
          ],
          "surface": [
           {
            "colorbar": {
             "outlinewidth": 0,
             "ticks": ""
            },
            "colorscale": [
             [
              0,
              "#0d0887"
             ],
             [
              0.1111111111111111,
              "#46039f"
             ],
             [
              0.2222222222222222,
              "#7201a8"
             ],
             [
              0.3333333333333333,
              "#9c179e"
             ],
             [
              0.4444444444444444,
              "#bd3786"
             ],
             [
              0.5555555555555556,
              "#d8576b"
             ],
             [
              0.6666666666666666,
              "#ed7953"
             ],
             [
              0.7777777777777778,
              "#fb9f3a"
             ],
             [
              0.8888888888888888,
              "#fdca26"
             ],
             [
              1,
              "#f0f921"
             ]
            ],
            "type": "surface"
           }
          ],
          "table": [
           {
            "cells": {
             "fill": {
              "color": "#EBF0F8"
             },
             "line": {
              "color": "white"
             }
            },
            "header": {
             "fill": {
              "color": "#C8D4E3"
             },
             "line": {
              "color": "white"
             }
            },
            "type": "table"
           }
          ]
         },
         "layout": {
          "annotationdefaults": {
           "arrowcolor": "#2a3f5f",
           "arrowhead": 0,
           "arrowwidth": 1
          },
          "autotypenumbers": "strict",
          "coloraxis": {
           "colorbar": {
            "outlinewidth": 0,
            "ticks": ""
           }
          },
          "colorscale": {
           "diverging": [
            [
             0,
             "#8e0152"
            ],
            [
             0.1,
             "#c51b7d"
            ],
            [
             0.2,
             "#de77ae"
            ],
            [
             0.3,
             "#f1b6da"
            ],
            [
             0.4,
             "#fde0ef"
            ],
            [
             0.5,
             "#f7f7f7"
            ],
            [
             0.6,
             "#e6f5d0"
            ],
            [
             0.7,
             "#b8e186"
            ],
            [
             0.8,
             "#7fbc41"
            ],
            [
             0.9,
             "#4d9221"
            ],
            [
             1,
             "#276419"
            ]
           ],
           "sequential": [
            [
             0,
             "#0d0887"
            ],
            [
             0.1111111111111111,
             "#46039f"
            ],
            [
             0.2222222222222222,
             "#7201a8"
            ],
            [
             0.3333333333333333,
             "#9c179e"
            ],
            [
             0.4444444444444444,
             "#bd3786"
            ],
            [
             0.5555555555555556,
             "#d8576b"
            ],
            [
             0.6666666666666666,
             "#ed7953"
            ],
            [
             0.7777777777777778,
             "#fb9f3a"
            ],
            [
             0.8888888888888888,
             "#fdca26"
            ],
            [
             1,
             "#f0f921"
            ]
           ],
           "sequentialminus": [
            [
             0,
             "#0d0887"
            ],
            [
             0.1111111111111111,
             "#46039f"
            ],
            [
             0.2222222222222222,
             "#7201a8"
            ],
            [
             0.3333333333333333,
             "#9c179e"
            ],
            [
             0.4444444444444444,
             "#bd3786"
            ],
            [
             0.5555555555555556,
             "#d8576b"
            ],
            [
             0.6666666666666666,
             "#ed7953"
            ],
            [
             0.7777777777777778,
             "#fb9f3a"
            ],
            [
             0.8888888888888888,
             "#fdca26"
            ],
            [
             1,
             "#f0f921"
            ]
           ]
          },
          "colorway": [
           "#636efa",
           "#EF553B",
           "#00cc96",
           "#ab63fa",
           "#FFA15A",
           "#19d3f3",
           "#FF6692",
           "#B6E880",
           "#FF97FF",
           "#FECB52"
          ],
          "font": {
           "color": "#2a3f5f"
          },
          "geo": {
           "bgcolor": "white",
           "lakecolor": "white",
           "landcolor": "#E5ECF6",
           "showlakes": true,
           "showland": true,
           "subunitcolor": "white"
          },
          "hoverlabel": {
           "align": "left"
          },
          "hovermode": "closest",
          "mapbox": {
           "style": "light"
          },
          "paper_bgcolor": "white",
          "plot_bgcolor": "#E5ECF6",
          "polar": {
           "angularaxis": {
            "gridcolor": "white",
            "linecolor": "white",
            "ticks": ""
           },
           "bgcolor": "#E5ECF6",
           "radialaxis": {
            "gridcolor": "white",
            "linecolor": "white",
            "ticks": ""
           }
          },
          "scene": {
           "xaxis": {
            "backgroundcolor": "#E5ECF6",
            "gridcolor": "white",
            "gridwidth": 2,
            "linecolor": "white",
            "showbackground": true,
            "ticks": "",
            "zerolinecolor": "white"
           },
           "yaxis": {
            "backgroundcolor": "#E5ECF6",
            "gridcolor": "white",
            "gridwidth": 2,
            "linecolor": "white",
            "showbackground": true,
            "ticks": "",
            "zerolinecolor": "white"
           },
           "zaxis": {
            "backgroundcolor": "#E5ECF6",
            "gridcolor": "white",
            "gridwidth": 2,
            "linecolor": "white",
            "showbackground": true,
            "ticks": "",
            "zerolinecolor": "white"
           }
          },
          "shapedefaults": {
           "line": {
            "color": "#2a3f5f"
           }
          },
          "ternary": {
           "aaxis": {
            "gridcolor": "white",
            "linecolor": "white",
            "ticks": ""
           },
           "baxis": {
            "gridcolor": "white",
            "linecolor": "white",
            "ticks": ""
           },
           "bgcolor": "#E5ECF6",
           "caxis": {
            "gridcolor": "white",
            "linecolor": "white",
            "ticks": ""
           }
          },
          "title": {
           "x": 0.05
          },
          "xaxis": {
           "automargin": true,
           "gridcolor": "white",
           "linecolor": "white",
           "ticks": "",
           "title": {
            "standoff": 15
           },
           "zerolinecolor": "white",
           "zerolinewidth": 2
          },
          "yaxis": {
           "automargin": true,
           "gridcolor": "white",
           "linecolor": "white",
           "ticks": "",
           "title": {
            "standoff": 15
           },
           "zerolinecolor": "white",
           "zerolinewidth": 2
          }
         }
        }
       }
      }
     },
     "metadata": {},
     "output_type": "display_data"
    }
   ],
   "source": [
    "import plotly.express as px\n",
    "import plotly.graph_objs as go\n",
    "import geopandas as gpd\n",
    "import math\n",
    "\n",
    "# Assuming 'best_matches_gdf' is your GeoDataFrame\n",
    "best_matches_gdf['longitude'] = best_matches_gdf.geometry.x\n",
    "best_matches_gdf['latitude'] = best_matches_gdf.geometry.y\n",
    "\n",
    "fig.update_layout(xaxis=dict(domain=[0, 0.5]), yaxis=dict(domain=[0.25, 0.75]))\n",
    "\n",
    "# Create initial scatter plot\n",
    "fig = px.scatter_geo(best_matches_gdf, lat='latitude', lon='longitude', hover_name='description', text='place_in_json')\n",
    "fig.update_traces(textposition='bottom center')\n",
    "\n",
    "# Add lines and annotations\n",
    "for i in range(len(best_matches_gdf) - 1):\n",
    "    lon1, lat1 = best_matches_gdf['longitude'].iloc[i], best_matches_gdf['latitude'].iloc[i]\n",
    "    lon2, lat2 = best_matches_gdf['longitude'].iloc[i+1], best_matches_gdf['latitude'].iloc[i+1]\n",
    "\n",
    "    # Adding lines\n",
    "    fig.add_trace(go.Scattergeo(\n",
    "        lon=[lon1, lon2],\n",
    "        lat=[lat1, lat2],\n",
    "        mode='lines',\n",
    "        line=dict(width=2, color='blue')\n",
    "    ))\n",
    "\n",
    "    # Adding annotations\n",
    "    fig.add_annotation(\n",
    "        x=lon2,\n",
    "        y=lat2,\n",
    "        ax=lon1,\n",
    "        ay=lat1,\n",
    "        xref=\"paper\",\n",
    "        yref=\"paper\",\n",
    "        axref=\"x\",\n",
    "        ayref=\"y\",\n",
    "        showarrow=True,\n",
    "        arrowhead=2,\n",
    "    )\n",
    "\n",
    "# Update layout\n",
    "fig.update_layout(\n",
    "    geo=dict(\n",
    "        showframe=True,\n",
    "        showcoastlines=True,\n",
    "        showland=True,\n",
    "        landcolor=\"LightGreen\",\n",
    "        countrycolor=\"DarkBlue\",\n",
    "        coastlinecolor=\"RebeccaPurple\",\n",
    "        projection=dict(type=\"equirectangular\")\n",
    "    )\n",
    ")\n",
    "fig.update_geos(fitbounds=\"locations\")\n",
    "\n",
    "# Show the figure\n",
    "fig.show()\n"
   ]
  },
  {
   "cell_type": "code",
   "execution_count": null,
   "metadata": {},
   "outputs": [],
   "source": []
  },
  {
   "cell_type": "code",
   "execution_count": null,
   "id": "af1d98d5",
   "metadata": {},
   "outputs": [],
   "source": []
  },
  {
   "cell_type": "code",
   "execution_count": 280,
   "id": "3eccc2e9",
   "metadata": {},
   "outputs": [
    {
     "data": {
      "application/vnd.plotly.v1+json": {
       "config": {
        "plotlyServerURL": "https://plot.ly"
       },
       "data": [
        {
         "geo": "geo",
         "hovertemplate": "<b>%{hovertext}</b><br><br>place_in_gdf=%{text}<br>latitude=%{lat}<br>longitude=%{lon}<extra></extra>",
         "hovertext": [
          "Looks forward to visiting Gethsemane to contemplate Christ's agony.",
          "Observed the hill of Zion, a significant location in Jerusalem.",
          "Visited the Damascus Gate, located midway along the northern wall of Jerusalem.",
          "Visited St. Stephen's Gate, facing Mount Olivet.",
          "Observed the now closed Golden Gate of the Temple wall.",
          "Visited Zion Gate, located near the southern part of Jerusalem.",
          "Visited Jaffa Gate, situated near the west of Jerusalem.",
          "Referred to the Pool of Siloam as part of Jerusalem's water infrastructure.",
          "Visited the Church of St. James, related to the beheading of Apostle James.",
          "Visited the Tomb of David and associated religious sites.",
          "Walked along the Via Dolorosa, reflecting on Christ's journey to crucifixion.",
          "Observed the Church of St. Anne, believed to be the birthplace of the Virgin Mary.",
          "Visited the Church of the Holy Sepulchre, a key religious site.",
          "Passed by the Church of Flagellation."
         ],
         "lat": [
          31.779560147092745,
          31.772872905818765,
          31.7816388236984,
          31.78085258922594,
          31.7789715527608,
          31.772872905818765,
          31.77663307634744,
          31.77084077793449,
          31.78136765981732,
          31.77155246266625,
          31.78004939406585,
          31.78136765981732,
          31.778494399768512,
          31.780586614078345
         ],
         "legendgroup": "",
         "lon": [
          35.23943907973402,
          35.22970261243407,
          35.230440150025665,
          35.236929678025774,
          35.23706912127512,
          35.22970261243407,
          35.227590878343186,
          35.23452676886375,
          35.23644054362671,
          35.229058407470404,
          35.232177579097744,
          35.23644054362671,
          35.22977329116965,
          35.23403580281836
         ],
         "marker": {
          "color": "#636efa",
          "symbol": "circle"
         },
         "mode": "markers+text",
         "name": "",
         "showlegend": false,
         "text": [
          "Gethsemane",
          "Zion Gate",
          "Damascus Gate\t\t\t\t\t",
          "St. Stephen's Gate",
          "Golden Gate",
          "Zion Gate",
          "Jaffa Gate",
          "Pool of Siloam",
          "Church of St. Anne",
          "David's Tomb",
          "Via Dolorosa",
          "Church of St. Anne",
          "Church of the Holy Sepulchre",
          "Monastery of the Flagellation"
         ],
         "textposition": "bottom center",
         "type": "scattergeo"
        },
        {
         "hovertext": "Looks forward to visiting Gethsemane to contemplate Christ's agony.",
         "lat": [
          31.779560147092745,
          31.772872905818765
         ],
         "line": {
          "color": "blue",
          "width": 2
         },
         "lon": [
          35.23943907973402,
          35.22970261243407
         ],
         "mode": "lines+text",
         "name": "1",
         "opacity": 1,
         "showlegend": false,
         "type": "scattergeo"
        },
        {
         "hovertext": "Looks forward to visiting Gethsemane to contemplate Christ's agony.",
         "lat": [
          31.776216526455755
         ],
         "lon": [
          35.23457084608404
         ],
         "marker": {
          "angle": -128.9329648224935,
          "color": "black",
          "opacity": 1,
          "size": 14,
          "symbol": "arrow-wide"
         },
         "mode": "text+markers",
         "name": "1",
         "opacity": 1,
         "showlegend": false,
         "text": "",
         "textfont": {
          "color": "red",
          "family": "Arial",
          "size": 14
         },
         "textposition": "middle center",
         "type": "scattergeo"
        },
        {
         "hovertext": "Observed the hill of Zion, a significant location in Jerusalem.",
         "lat": [
          31.772872905818765,
          31.7816388236984
         ],
         "line": {
          "color": "blue",
          "width": 2
         },
         "lon": [
          35.22970261243407,
          35.230440150025665
         ],
         "mode": "lines+text",
         "name": "2",
         "opacity": 1,
         "showlegend": false,
         "type": "scattergeo"
        },
        {
         "hovertext": "Observed the hill of Zion, a significant location in Jerusalem.",
         "lat": [
          31.777255864758583
         ],
         "lon": [
          35.23007138122986
         ],
         "marker": {
          "angle": 4.090917906668778,
          "color": "black",
          "opacity": 1,
          "size": 14,
          "symbol": "arrow-wide"
         },
         "mode": "text+markers",
         "name": "2",
         "opacity": 1,
         "showlegend": false,
         "text": "",
         "textfont": {
          "color": "red",
          "family": "Arial",
          "size": 14
         },
         "textposition": "middle center",
         "type": "scattergeo"
        },
        {
         "hovertext": "Visited the Damascus Gate, located midway along the northern wall of Jerusalem.",
         "lat": [
          31.7816388236984,
          31.78085258922594
         ],
         "line": {
          "color": "blue",
          "width": 2
         },
         "lon": [
          35.230440150025665,
          35.236929678025774
         ],
         "mode": "lines+text",
         "name": "3",
         "opacity": 1,
         "showlegend": false,
         "type": "scattergeo"
        },
        {
         "hovertext": "Visited the Damascus Gate, located midway along the northern wall of Jerusalem.",
         "lat": [
          31.781245706462173
         ],
         "lon": [
          35.233684914025716
         ],
         "marker": {
          "angle": 98.10966385061153,
          "color": "black",
          "opacity": 1,
          "size": 14,
          "symbol": "arrow-wide"
         },
         "mode": "text+markers",
         "name": "3",
         "opacity": 1,
         "showlegend": false,
         "text": "",
         "textfont": {
          "color": "red",
          "family": "Arial",
          "size": 14
         },
         "textposition": "middle center",
         "type": "scattergeo"
        },
        {
         "hovertext": "Visited St. Stephen's Gate, facing Mount Olivet.",
         "lat": [
          31.78085258922594,
          31.7789715527608
         ],
         "line": {
          "color": "blue",
          "width": 2
         },
         "lon": [
          35.236929678025774,
          35.23706912127512
         ],
         "mode": "lines+text",
         "name": "4",
         "opacity": 1,
         "showlegend": false,
         "type": "scattergeo"
        },
        {
         "hovertext": "Visited St. Stephen's Gate, facing Mount Olivet.",
         "lat": [
          31.77991207099337
         ],
         "lon": [
          35.23699939965044
         ],
         "marker": {
          "angle": 176.3941147424432,
          "color": "black",
          "opacity": 1,
          "size": 14,
          "symbol": "arrow-wide"
         },
         "mode": "text+markers",
         "name": "4",
         "opacity": 1,
         "showlegend": false,
         "text": "",
         "textfont": {
          "color": "red",
          "family": "Arial",
          "size": 14
         },
         "textposition": "middle center",
         "type": "scattergeo"
        },
        {
         "hovertext": "Observed the now closed Golden Gate of the Temple wall.",
         "lat": [
          31.7789715527608,
          31.772872905818765
         ],
         "line": {
          "color": "blue",
          "width": 2
         },
         "lon": [
          35.23706912127512,
          35.22970261243407
         ],
         "mode": "lines+text",
         "name": "5",
         "opacity": 1,
         "showlegend": false,
         "type": "scattergeo"
        },
        {
         "hovertext": "Observed the now closed Golden Gate of the Temple wall.",
         "lat": [
          31.775922229289783
         ],
         "lon": [
          35.23338586685459
         ],
         "marker": {
          "angle": -134.23920303056593,
          "color": "black",
          "opacity": 1,
          "size": 14,
          "symbol": "arrow-wide"
         },
         "mode": "text+markers",
         "name": "5",
         "opacity": 1,
         "showlegend": false,
         "text": "",
         "textfont": {
          "color": "red",
          "family": "Arial",
          "size": 14
         },
         "textposition": "middle center",
         "type": "scattergeo"
        },
        {
         "hovertext": "Visited Zion Gate, located near the southern part of Jerusalem.",
         "lat": [
          31.772872905818765,
          31.77663307634744
         ],
         "line": {
          "color": "blue",
          "width": 2
         },
         "lon": [
          35.22970261243407,
          35.227590878343186
         ],
         "mode": "lines+text",
         "name": "6",
         "opacity": 1,
         "showlegend": false,
         "type": "scattergeo"
        },
        {
         "hovertext": "Visited Zion Gate, located near the southern part of Jerusalem.",
         "lat": [
          31.774752991083105
         ],
         "lon": [
          35.22864674538863
         ],
         "marker": {
          "angle": -25.520893079215284,
          "color": "black",
          "opacity": 1,
          "size": 14,
          "symbol": "arrow-wide"
         },
         "mode": "text+markers",
         "name": "6",
         "opacity": 1,
         "showlegend": false,
         "text": "",
         "textfont": {
          "color": "red",
          "family": "Arial",
          "size": 14
         },
         "textposition": "middle center",
         "type": "scattergeo"
        },
        {
         "hovertext": "Visited Jaffa Gate, situated near the west of Jerusalem.",
         "lat": [
          31.77663307634744,
          31.77084077793449
         ],
         "line": {
          "color": "blue",
          "width": 2
         },
         "lon": [
          35.227590878343186,
          35.23452676886375
         ],
         "mode": "lines+text",
         "name": "7",
         "opacity": 1,
         "showlegend": false,
         "type": "scattergeo"
        },
        {
         "hovertext": "Visited Jaffa Gate, situated near the west of Jerusalem.",
         "lat": [
          31.773736927140966
         ],
         "lon": [
          35.23105882360347
         ],
         "marker": {
          "angle": 134.48771955442044,
          "color": "black",
          "opacity": 1,
          "size": 14,
          "symbol": "arrow-wide"
         },
         "mode": "text+markers",
         "name": "7",
         "opacity": 1,
         "showlegend": false,
         "text": "",
         "textfont": {
          "color": "red",
          "family": "Arial",
          "size": 14
         },
         "textposition": "middle center",
         "type": "scattergeo"
        },
        {
         "hovertext": "Referred to the Pool of Siloam as part of Jerusalem's water infrastructure.",
         "lat": [
          31.77084077793449,
          31.78136765981732
         ],
         "line": {
          "color": "blue",
          "width": 2
         },
         "lon": [
          35.23452676886375,
          35.23644054362671
         ],
         "mode": "lines+text",
         "name": "8",
         "opacity": 1,
         "showlegend": false,
         "type": "scattergeo"
        },
        {
         "hovertext": "Referred to the Pool of Siloam as part of Jerusalem's water infrastructure.",
         "lat": [
          31.776104218875908
         ],
         "lon": [
          35.235483656245236
         ],
         "marker": {
          "angle": 8.785017537549265,
          "color": "black",
          "opacity": 1,
          "size": 14,
          "symbol": "arrow-wide"
         },
         "mode": "text+markers",
         "name": "8",
         "opacity": 1,
         "showlegend": false,
         "text": "",
         "textfont": {
          "color": "red",
          "family": "Arial",
          "size": 14
         },
         "textposition": "middle center",
         "type": "scattergeo"
        },
        {
         "hovertext": "Visited the Church of St. James, related to the beheading of Apostle James.",
         "lat": [
          31.78136765981732,
          31.77155246266625
         ],
         "line": {
          "color": "blue",
          "width": 2
         },
         "lon": [
          35.23644054362671,
          35.229058407470404
         ],
         "mode": "lines+text",
         "name": "9",
         "opacity": 1,
         "showlegend": false,
         "type": "scattergeo"
        },
        {
         "hovertext": "Visited the Church of St. James, related to the beheading of Apostle James.",
         "lat": [
          31.776460061241785
         ],
         "lon": [
          35.23274947554856
         ],
         "marker": {
          "angle": -147.40410195846687,
          "color": "black",
          "opacity": 1,
          "size": 14,
          "symbol": "arrow-wide"
         },
         "mode": "text+markers",
         "name": "9",
         "opacity": 1,
         "showlegend": false,
         "text": "",
         "textfont": {
          "color": "red",
          "family": "Arial",
          "size": 14
         },
         "textposition": "middle center",
         "type": "scattergeo"
        },
        {
         "hovertext": "Visited the Tomb of David and associated religious sites.",
         "lat": [
          31.77155246266625,
          31.78004939406585
         ],
         "line": {
          "color": "blue",
          "width": 2
         },
         "lon": [
          35.229058407470404,
          35.232177579097744
         ],
         "mode": "lines+text",
         "name": "10",
         "opacity": 1,
         "showlegend": false,
         "type": "scattergeo"
        },
        {
         "hovertext": "Visited the Tomb of David and associated religious sites.",
         "lat": [
          31.77580092836605
         ],
         "lon": [
          35.23061799328407
         ],
         "marker": {
          "angle": 17.330864523511195,
          "color": "black",
          "opacity": 1,
          "size": 14,
          "symbol": "arrow-wide"
         },
         "mode": "text+markers",
         "name": "10",
         "opacity": 1,
         "showlegend": false,
         "text": "",
         "textfont": {
          "color": "red",
          "family": "Arial",
          "size": 14
         },
         "textposition": "middle center",
         "type": "scattergeo"
        },
        {
         "hovertext": "Walked along the Via Dolorosa, reflecting on Christ's journey to crucifixion.",
         "lat": [
          31.78004939406585,
          31.78136765981732
         ],
         "line": {
          "color": "blue",
          "width": 2
         },
         "lon": [
          35.232177579097744,
          35.23644054362671
         ],
         "mode": "lines+text",
         "name": "11",
         "opacity": 1,
         "showlegend": false,
         "type": "scattergeo"
        },
        {
         "hovertext": "Walked along the Via Dolorosa, reflecting on Christ's journey to crucifixion.",
         "lat": [
          31.780708526941584
         ],
         "lon": [
          35.234309061362225
         ],
         "marker": {
          "angle": 70.0085998525011,
          "color": "black",
          "opacity": 1,
          "size": 14,
          "symbol": "arrow-wide"
         },
         "mode": "text+markers",
         "name": "11",
         "opacity": 1,
         "showlegend": false,
         "text": "",
         "textfont": {
          "color": "red",
          "family": "Arial",
          "size": 14
         },
         "textposition": "middle center",
         "type": "scattergeo"
        },
        {
         "hovertext": "Observed the Church of St. Anne, believed to be the birthplace of the Virgin Mary.",
         "lat": [
          31.78136765981732,
          31.778494399768512
         ],
         "line": {
          "color": "blue",
          "width": 2
         },
         "lon": [
          35.23644054362671,
          35.22977329116965
         ],
         "mode": "lines+text",
         "name": "12",
         "opacity": 1,
         "showlegend": false,
         "type": "scattergeo"
        },
        {
         "hovertext": "Observed the Church of St. Anne, believed to be the birthplace of the Virgin Mary.",
         "lat": [
          31.779931029792916
         ],
         "lon": [
          35.23310691739818
         ],
         "marker": {
          "angle": -116.88121460842581,
          "color": "black",
          "opacity": 1,
          "size": 14,
          "symbol": "arrow-wide"
         },
         "mode": "text+markers",
         "name": "12",
         "opacity": 1,
         "showlegend": false,
         "text": "",
         "textfont": {
          "color": "red",
          "family": "Arial",
          "size": 14
         },
         "textposition": "middle center",
         "type": "scattergeo"
        },
        {
         "hovertext": "Visited the Church of the Holy Sepulchre, a key religious site.",
         "lat": [
          31.778494399768512,
          31.780586614078345
         ],
         "line": {
          "color": "blue",
          "width": 2
         },
         "lon": [
          35.22977329116965,
          35.23403580281836
         ],
         "mode": "lines+text",
         "name": "13",
         "opacity": 1,
         "showlegend": false,
         "type": "scattergeo"
        },
        {
         "hovertext": "Visited the Church of the Holy Sepulchre, a key religious site.",
         "lat": [
          31.77954050692343
         ],
         "lon": [
          35.231904546994
         ],
         "marker": {
          "angle": 59.99653500361512,
          "color": "black",
          "opacity": 1,
          "size": 14,
          "symbol": "arrow-wide"
         },
         "mode": "text+markers",
         "name": "13",
         "opacity": 1,
         "showlegend": false,
         "text": "",
         "textfont": {
          "color": "red",
          "family": "Arial",
          "size": 14
         },
         "textposition": "middle center",
         "type": "scattergeo"
        }
       ],
       "layout": {
        "geo": {
         "center": {},
         "domain": {
          "x": [
           0,
           1
          ],
          "y": [
           0,
           1
          ]
         },
         "fitbounds": "locations"
        },
        "legend": {
         "tracegroupgap": 0
        },
        "margin": {
         "t": 60
        },
        "template": {
         "data": {
          "bar": [
           {
            "error_x": {
             "color": "#2a3f5f"
            },
            "error_y": {
             "color": "#2a3f5f"
            },
            "marker": {
             "line": {
              "color": "#E5ECF6",
              "width": 0.5
             },
             "pattern": {
              "fillmode": "overlay",
              "size": 10,
              "solidity": 0.2
             }
            },
            "type": "bar"
           }
          ],
          "barpolar": [
           {
            "marker": {
             "line": {
              "color": "#E5ECF6",
              "width": 0.5
             },
             "pattern": {
              "fillmode": "overlay",
              "size": 10,
              "solidity": 0.2
             }
            },
            "type": "barpolar"
           }
          ],
          "carpet": [
           {
            "aaxis": {
             "endlinecolor": "#2a3f5f",
             "gridcolor": "white",
             "linecolor": "white",
             "minorgridcolor": "white",
             "startlinecolor": "#2a3f5f"
            },
            "baxis": {
             "endlinecolor": "#2a3f5f",
             "gridcolor": "white",
             "linecolor": "white",
             "minorgridcolor": "white",
             "startlinecolor": "#2a3f5f"
            },
            "type": "carpet"
           }
          ],
          "choropleth": [
           {
            "colorbar": {
             "outlinewidth": 0,
             "ticks": ""
            },
            "type": "choropleth"
           }
          ],
          "contour": [
           {
            "colorbar": {
             "outlinewidth": 0,
             "ticks": ""
            },
            "colorscale": [
             [
              0,
              "#0d0887"
             ],
             [
              0.1111111111111111,
              "#46039f"
             ],
             [
              0.2222222222222222,
              "#7201a8"
             ],
             [
              0.3333333333333333,
              "#9c179e"
             ],
             [
              0.4444444444444444,
              "#bd3786"
             ],
             [
              0.5555555555555556,
              "#d8576b"
             ],
             [
              0.6666666666666666,
              "#ed7953"
             ],
             [
              0.7777777777777778,
              "#fb9f3a"
             ],
             [
              0.8888888888888888,
              "#fdca26"
             ],
             [
              1,
              "#f0f921"
             ]
            ],
            "type": "contour"
           }
          ],
          "contourcarpet": [
           {
            "colorbar": {
             "outlinewidth": 0,
             "ticks": ""
            },
            "type": "contourcarpet"
           }
          ],
          "heatmap": [
           {
            "colorbar": {
             "outlinewidth": 0,
             "ticks": ""
            },
            "colorscale": [
             [
              0,
              "#0d0887"
             ],
             [
              0.1111111111111111,
              "#46039f"
             ],
             [
              0.2222222222222222,
              "#7201a8"
             ],
             [
              0.3333333333333333,
              "#9c179e"
             ],
             [
              0.4444444444444444,
              "#bd3786"
             ],
             [
              0.5555555555555556,
              "#d8576b"
             ],
             [
              0.6666666666666666,
              "#ed7953"
             ],
             [
              0.7777777777777778,
              "#fb9f3a"
             ],
             [
              0.8888888888888888,
              "#fdca26"
             ],
             [
              1,
              "#f0f921"
             ]
            ],
            "type": "heatmap"
           }
          ],
          "heatmapgl": [
           {
            "colorbar": {
             "outlinewidth": 0,
             "ticks": ""
            },
            "colorscale": [
             [
              0,
              "#0d0887"
             ],
             [
              0.1111111111111111,
              "#46039f"
             ],
             [
              0.2222222222222222,
              "#7201a8"
             ],
             [
              0.3333333333333333,
              "#9c179e"
             ],
             [
              0.4444444444444444,
              "#bd3786"
             ],
             [
              0.5555555555555556,
              "#d8576b"
             ],
             [
              0.6666666666666666,
              "#ed7953"
             ],
             [
              0.7777777777777778,
              "#fb9f3a"
             ],
             [
              0.8888888888888888,
              "#fdca26"
             ],
             [
              1,
              "#f0f921"
             ]
            ],
            "type": "heatmapgl"
           }
          ],
          "histogram": [
           {
            "marker": {
             "pattern": {
              "fillmode": "overlay",
              "size": 10,
              "solidity": 0.2
             }
            },
            "type": "histogram"
           }
          ],
          "histogram2d": [
           {
            "colorbar": {
             "outlinewidth": 0,
             "ticks": ""
            },
            "colorscale": [
             [
              0,
              "#0d0887"
             ],
             [
              0.1111111111111111,
              "#46039f"
             ],
             [
              0.2222222222222222,
              "#7201a8"
             ],
             [
              0.3333333333333333,
              "#9c179e"
             ],
             [
              0.4444444444444444,
              "#bd3786"
             ],
             [
              0.5555555555555556,
              "#d8576b"
             ],
             [
              0.6666666666666666,
              "#ed7953"
             ],
             [
              0.7777777777777778,
              "#fb9f3a"
             ],
             [
              0.8888888888888888,
              "#fdca26"
             ],
             [
              1,
              "#f0f921"
             ]
            ],
            "type": "histogram2d"
           }
          ],
          "histogram2dcontour": [
           {
            "colorbar": {
             "outlinewidth": 0,
             "ticks": ""
            },
            "colorscale": [
             [
              0,
              "#0d0887"
             ],
             [
              0.1111111111111111,
              "#46039f"
             ],
             [
              0.2222222222222222,
              "#7201a8"
             ],
             [
              0.3333333333333333,
              "#9c179e"
             ],
             [
              0.4444444444444444,
              "#bd3786"
             ],
             [
              0.5555555555555556,
              "#d8576b"
             ],
             [
              0.6666666666666666,
              "#ed7953"
             ],
             [
              0.7777777777777778,
              "#fb9f3a"
             ],
             [
              0.8888888888888888,
              "#fdca26"
             ],
             [
              1,
              "#f0f921"
             ]
            ],
            "type": "histogram2dcontour"
           }
          ],
          "mesh3d": [
           {
            "colorbar": {
             "outlinewidth": 0,
             "ticks": ""
            },
            "type": "mesh3d"
           }
          ],
          "parcoords": [
           {
            "line": {
             "colorbar": {
              "outlinewidth": 0,
              "ticks": ""
             }
            },
            "type": "parcoords"
           }
          ],
          "pie": [
           {
            "automargin": true,
            "type": "pie"
           }
          ],
          "scatter": [
           {
            "fillpattern": {
             "fillmode": "overlay",
             "size": 10,
             "solidity": 0.2
            },
            "type": "scatter"
           }
          ],
          "scatter3d": [
           {
            "line": {
             "colorbar": {
              "outlinewidth": 0,
              "ticks": ""
             }
            },
            "marker": {
             "colorbar": {
              "outlinewidth": 0,
              "ticks": ""
             }
            },
            "type": "scatter3d"
           }
          ],
          "scattercarpet": [
           {
            "marker": {
             "colorbar": {
              "outlinewidth": 0,
              "ticks": ""
             }
            },
            "type": "scattercarpet"
           }
          ],
          "scattergeo": [
           {
            "marker": {
             "colorbar": {
              "outlinewidth": 0,
              "ticks": ""
             }
            },
            "type": "scattergeo"
           }
          ],
          "scattergl": [
           {
            "marker": {
             "colorbar": {
              "outlinewidth": 0,
              "ticks": ""
             }
            },
            "type": "scattergl"
           }
          ],
          "scattermapbox": [
           {
            "marker": {
             "colorbar": {
              "outlinewidth": 0,
              "ticks": ""
             }
            },
            "type": "scattermapbox"
           }
          ],
          "scatterpolar": [
           {
            "marker": {
             "colorbar": {
              "outlinewidth": 0,
              "ticks": ""
             }
            },
            "type": "scatterpolar"
           }
          ],
          "scatterpolargl": [
           {
            "marker": {
             "colorbar": {
              "outlinewidth": 0,
              "ticks": ""
             }
            },
            "type": "scatterpolargl"
           }
          ],
          "scatterternary": [
           {
            "marker": {
             "colorbar": {
              "outlinewidth": 0,
              "ticks": ""
             }
            },
            "type": "scatterternary"
           }
          ],
          "surface": [
           {
            "colorbar": {
             "outlinewidth": 0,
             "ticks": ""
            },
            "colorscale": [
             [
              0,
              "#0d0887"
             ],
             [
              0.1111111111111111,
              "#46039f"
             ],
             [
              0.2222222222222222,
              "#7201a8"
             ],
             [
              0.3333333333333333,
              "#9c179e"
             ],
             [
              0.4444444444444444,
              "#bd3786"
             ],
             [
              0.5555555555555556,
              "#d8576b"
             ],
             [
              0.6666666666666666,
              "#ed7953"
             ],
             [
              0.7777777777777778,
              "#fb9f3a"
             ],
             [
              0.8888888888888888,
              "#fdca26"
             ],
             [
              1,
              "#f0f921"
             ]
            ],
            "type": "surface"
           }
          ],
          "table": [
           {
            "cells": {
             "fill": {
              "color": "#EBF0F8"
             },
             "line": {
              "color": "white"
             }
            },
            "header": {
             "fill": {
              "color": "#C8D4E3"
             },
             "line": {
              "color": "white"
             }
            },
            "type": "table"
           }
          ]
         },
         "layout": {
          "annotationdefaults": {
           "arrowcolor": "#2a3f5f",
           "arrowhead": 0,
           "arrowwidth": 1
          },
          "autotypenumbers": "strict",
          "coloraxis": {
           "colorbar": {
            "outlinewidth": 0,
            "ticks": ""
           }
          },
          "colorscale": {
           "diverging": [
            [
             0,
             "#8e0152"
            ],
            [
             0.1,
             "#c51b7d"
            ],
            [
             0.2,
             "#de77ae"
            ],
            [
             0.3,
             "#f1b6da"
            ],
            [
             0.4,
             "#fde0ef"
            ],
            [
             0.5,
             "#f7f7f7"
            ],
            [
             0.6,
             "#e6f5d0"
            ],
            [
             0.7,
             "#b8e186"
            ],
            [
             0.8,
             "#7fbc41"
            ],
            [
             0.9,
             "#4d9221"
            ],
            [
             1,
             "#276419"
            ]
           ],
           "sequential": [
            [
             0,
             "#0d0887"
            ],
            [
             0.1111111111111111,
             "#46039f"
            ],
            [
             0.2222222222222222,
             "#7201a8"
            ],
            [
             0.3333333333333333,
             "#9c179e"
            ],
            [
             0.4444444444444444,
             "#bd3786"
            ],
            [
             0.5555555555555556,
             "#d8576b"
            ],
            [
             0.6666666666666666,
             "#ed7953"
            ],
            [
             0.7777777777777778,
             "#fb9f3a"
            ],
            [
             0.8888888888888888,
             "#fdca26"
            ],
            [
             1,
             "#f0f921"
            ]
           ],
           "sequentialminus": [
            [
             0,
             "#0d0887"
            ],
            [
             0.1111111111111111,
             "#46039f"
            ],
            [
             0.2222222222222222,
             "#7201a8"
            ],
            [
             0.3333333333333333,
             "#9c179e"
            ],
            [
             0.4444444444444444,
             "#bd3786"
            ],
            [
             0.5555555555555556,
             "#d8576b"
            ],
            [
             0.6666666666666666,
             "#ed7953"
            ],
            [
             0.7777777777777778,
             "#fb9f3a"
            ],
            [
             0.8888888888888888,
             "#fdca26"
            ],
            [
             1,
             "#f0f921"
            ]
           ]
          },
          "colorway": [
           "#636efa",
           "#EF553B",
           "#00cc96",
           "#ab63fa",
           "#FFA15A",
           "#19d3f3",
           "#FF6692",
           "#B6E880",
           "#FF97FF",
           "#FECB52"
          ],
          "font": {
           "color": "#2a3f5f"
          },
          "geo": {
           "bgcolor": "white",
           "lakecolor": "white",
           "landcolor": "#E5ECF6",
           "showlakes": true,
           "showland": true,
           "subunitcolor": "white"
          },
          "hoverlabel": {
           "align": "left"
          },
          "hovermode": "closest",
          "mapbox": {
           "style": "light"
          },
          "paper_bgcolor": "white",
          "plot_bgcolor": "#E5ECF6",
          "polar": {
           "angularaxis": {
            "gridcolor": "white",
            "linecolor": "white",
            "ticks": ""
           },
           "bgcolor": "#E5ECF6",
           "radialaxis": {
            "gridcolor": "white",
            "linecolor": "white",
            "ticks": ""
           }
          },
          "scene": {
           "xaxis": {
            "backgroundcolor": "#E5ECF6",
            "gridcolor": "white",
            "gridwidth": 2,
            "linecolor": "white",
            "showbackground": true,
            "ticks": "",
            "zerolinecolor": "white"
           },
           "yaxis": {
            "backgroundcolor": "#E5ECF6",
            "gridcolor": "white",
            "gridwidth": 2,
            "linecolor": "white",
            "showbackground": true,
            "ticks": "",
            "zerolinecolor": "white"
           },
           "zaxis": {
            "backgroundcolor": "#E5ECF6",
            "gridcolor": "white",
            "gridwidth": 2,
            "linecolor": "white",
            "showbackground": true,
            "ticks": "",
            "zerolinecolor": "white"
           }
          },
          "shapedefaults": {
           "line": {
            "color": "#2a3f5f"
           }
          },
          "ternary": {
           "aaxis": {
            "gridcolor": "white",
            "linecolor": "white",
            "ticks": ""
           },
           "baxis": {
            "gridcolor": "white",
            "linecolor": "white",
            "ticks": ""
           },
           "bgcolor": "#E5ECF6",
           "caxis": {
            "gridcolor": "white",
            "linecolor": "white",
            "ticks": ""
           }
          },
          "title": {
           "x": 0.05
          },
          "xaxis": {
           "automargin": true,
           "gridcolor": "white",
           "linecolor": "white",
           "ticks": "",
           "title": {
            "standoff": 15
           },
           "zerolinecolor": "white",
           "zerolinewidth": 2
          },
          "yaxis": {
           "automargin": true,
           "gridcolor": "white",
           "linecolor": "white",
           "ticks": "",
           "title": {
            "standoff": 15
           },
           "zerolinecolor": "white",
           "zerolinewidth": 2
          }
         }
        }
       }
      }
     },
     "metadata": {},
     "output_type": "display_data"
    }
   ],
   "source": [
    "import plotly.express as px\n",
    "import plotly.graph_objs as go\n",
    "import geopandas as gpd\n",
    "import math\n",
    "\n",
    "# Assuming 'best_matches_gdf' is your GeoDataFrame\n",
    "best_matches_gdf['longitude'] = best_matches_gdf.geometry.x\n",
    "best_matches_gdf['latitude'] = best_matches_gdf.geometry.y\n",
    "\n",
    "\n",
    "# Create initial scatter plot\n",
    "fig = px.scatter_geo(best_matches_gdf, lat='latitude', lon='longitude', hover_name='description', text='place_in_gdf')\n",
    "fig.update_traces(textposition='bottom center')\n",
    "\n",
    "mid_lons = []\n",
    "mid_lats = []\n",
    "\n",
    "def calculate_angle(lon1, lat1, lon2, lat2):\n",
    "    angle = math.atan2(lat2 - lat1, lon2 - lon1)\n",
    "    return math.degrees(angle)\n",
    "\n",
    "def calculate_bearing(lat1, lon1, lat2, lon2):\n",
    "    # Convert latitude and longitude from degrees to radians\n",
    "    lat1 = math.radians(lat1)\n",
    "    lon1 = math.radians(lon1)\n",
    "    lat2 = math.radians(lat2)\n",
    "    lon2 = math.radians(lon2)\n",
    "\n",
    "    # Difference in coordinates\n",
    "    d_lon = lon2 - lon1\n",
    "\n",
    "    # Calculate bearing\n",
    "    x = math.sin(d_lon) * math.cos(lat2)\n",
    "    y = math.cos(lat1) * math.sin(lat2) - (math.sin(lat1) * math.cos(lat2) * math.cos(d_lon))\n",
    "\n",
    "    # Obtain bearing in degrees\n",
    "    bearing = math.degrees(math.atan2(x, y))\n",
    "\n",
    "    # Normalize the bearing\n",
    "    bearing = (bearing + 360) % 360\n",
    "\n",
    "    return bearing\n",
    "\n",
    "\n",
    "# Add lines and annotations\n",
    "for i in range(len(best_matches_gdf) - 1):\n",
    "    lon1, lat1 = best_matches_gdf['longitude'].iloc[i], best_matches_gdf['latitude'].iloc[i]\n",
    "    lon2, lat2 = best_matches_gdf['longitude'].iloc[i+1], best_matches_gdf['latitude'].iloc[i+1]\n",
    "\n",
    "    angle = 0\n",
    "    mid_lon = (lon1 + lon2) / 2\n",
    "    mid_lat = (lat1 + lat2) / 2\n",
    "    angle = calculate_angle(lon1, lat1, lon2, lat2)\n",
    "    bearing = calculate_bearing(lat1, lon1, lat2, lon2)\n",
    "\n",
    "    # Adding lines\n",
    "    fig.add_trace(go.Scattergeo(\n",
    "        lon=[lon1, lon2],\n",
    "        lat=[lat1, lat2],\n",
    "        mode='lines+text',\n",
    "        name=i+1,\n",
    "        line=dict(width=2, color='blue'),\n",
    "        hovertext=best_matches_gdf['description'].iloc[i],\n",
    "        opacity=1,\n",
    "        showlegend=False\n",
    "        \n",
    "        )\n",
    "    )\n",
    "\n",
    "    fig.add_trace(go.Scattergeo(\n",
    "        lon=[mid_lon],\n",
    "        lat=[mid_lat],\n",
    "        mode='text+markers',\n",
    "        name=i+1,\n",
    "        hovertext=best_matches_gdf['description'].iloc[i],\n",
    "        opacity=1,\n",
    "        showlegend=False,\n",
    "\n",
    "\n",
    "        text=\"\",  # Assuming 'label' is a column with labels for lines\n",
    "        textposition='middle center',\n",
    "        textfont=dict(\n",
    "        size=14,\n",
    "        color='red',  # Change to your preferred color\n",
    "        family='Arial'  # Specify font family and style\n",
    "    ),\n",
    "        \n",
    "        marker=dict(\n",
    "        color='black',  # Black background\n",
    "        opacity=1,\n",
    "        size=14,\n",
    "        symbol='arrow-wide',\n",
    "        angle=bearing,\n",
    "    ),\n",
    "        )\n",
    "    )\n",
    "\n",
    "    #mid_lons.append(mid_lon)\n",
    "    #mid_lats.append(mid_lat)\n",
    "\n",
    "    #px.scatter(mid_lats, mid_lons, text='pino')\n",
    "    \n",
    "\n",
    "\n",
    "\n",
    "\n",
    "\n",
    "\n",
    "\n",
    "\n",
    "fig.update_geos(fitbounds=\"locations\")\n",
    "\n",
    "# Show the figure\n",
    "fig.show()\n"
   ]
  },
  {
   "cell_type": "code",
   "execution_count": null,
   "metadata": {},
   "outputs": [],
   "source": []
  }
 ],
 "metadata": {
  "kernelspec": {
   "display_name": "Python 3 (ipykernel)",
   "language": "python",
   "name": "python3"
  },
  "language_info": {
   "codemirror_mode": {
    "name": "ipython",
    "version": 3
   },
   "file_extension": ".py",
   "mimetype": "text/x-python",
   "name": "python",
   "nbconvert_exporter": "python",
   "pygments_lexer": "ipython3",
   "version": "3.9.18"
  }
 },
 "nbformat": 4,
 "nbformat_minor": 5
}
