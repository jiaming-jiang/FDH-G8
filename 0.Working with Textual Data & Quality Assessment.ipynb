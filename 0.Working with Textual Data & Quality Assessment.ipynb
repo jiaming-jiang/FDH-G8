{
 "cells": [
  {
   "cell_type": "code",
   "execution_count": null,
   "metadata": {},
   "outputs": [],
   "source": [
    "import re\n",
    "\n",
    "def remove_hyphenation(text):\n",
    "    # Pattern to match words split by a dash and continued on the next line\n",
    "    pattern = r\"-\\s*\\n\\s*\"\n",
    "    # Replace the pattern with an empty string to join the split words\n",
    "    return re.sub(pattern, \"\", text)\n",
    "\n",
    "# Example\n",
    "file_path = \"book.txt\"\n",
    "with open(file_path, 'r', encoding='utf-8') as file:\n",
    "    text = file.read()\n",
    "cleaned_text = remove_hyphenation(text)"
   ]
  },
  {
   "cell_type": "code",
   "execution_count": null,
   "metadata": {
    "id": "dlNOcvaj6Kf1"
   },
   "outputs": [],
   "source": [
    "def filter_special_terms_efficient(text):\n",
    "    \"\"\"Filter out special terms (capitalized words in the middle of sentences)\n",
    "    and replace them with a placeholder, efficiently.\"\"\"\n",
    "    tokens = simple_tokenize(text)\n",
    "\n",
    "    # Identify and replace special terms in the token list\n",
    "    for i, token in enumerate(tokens):\n",
    "        # Ensure the token is not empty and has content before further processing\n",
    "        if not token or len(token) == 0:\n",
    "            continue\n",
    "\n",
    "        # Check if the word is capitalized (likely a proper noun)\n",
    "        if token[0].isupper():\n",
    "            # Ensure the previous token has content before checking its last character\n",
    "            if i == 0 or (i > 0 and len(tokens[i-1]) > 0 and tokens[i-1][-1] in \".!?\"):\n",
    "                continue\n",
    "            tokens[i] = \"SPECIAL_TERM\"\n",
    "\n",
    "    # Combine the tokens back into text\n",
    "    return ' '.join(tokens)\n",
    "\n",
    "# Filter out special terms from the content using the efficient approach\n",
    "filtered_content_efficient = filter_special_terms_efficient(content)\n",
    "\n",
    "# Save the filtered content to a new txt file\n",
    "filtered_file_path_efficient = \"/mnt/data/filtered_book_efficient.txt\"\n",
    "with open(filtered_file_path_efficient, 'w', encoding='utf-8') as file:\n",
    "    file.write(filtered_content_efficient)\n",
    "\n",
    "\n"
   ]
  },
  {
   "cell_type": "code",
   "execution_count": null,
   "metadata": {
    "colab": {
     "base_uri": "https://localhost:8080/"
    },
    "collapsed": true,
    "executionInfo": {
     "elapsed": 456,
     "status": "ok",
     "timestamp": 1697719204007,
     "user": {
      "displayName": "Daniele Belfiore",
      "userId": "13521355889969924041"
     },
     "user_tz": -120
    },
    "id": "CLcZ5oB91u-8",
    "outputId": "ecb265d2-d166-4fab-f93c-b3fbdf1143de"
   },
   "outputs": [
    {
     "name": "stderr",
     "output_type": "stream",
     "text": [
      "[nltk_data] Downloading package punkt to /root/nltk_data...\n",
      "[nltk_data]   Package punkt is already up-to-date!\n"
     ]
    },
    {
     "name": "stdout",
     "output_type": "stream",
     "text": [
      "OCR Quality Score: 72.91%\n"
     ]
    }
   ],
   "source": [
    "import nltk\n",
    "from nltk.corpus import words\n",
    "\n",
    "# Check if the word list is available, and download if not\n",
    "try:\n",
    "    nltk.data.find('corpora/words.zip')\n",
    "except LookupError:\n",
    "    nltk.download('words')\n",
    "nltk.download('punkt')\n",
    "\n",
    "def ocr_quality_score(transcription):\n",
    "    # Load the dictionary\n",
    "    word_list = set(words.words())\n",
    "\n",
    "    # Tokenize the transcription\n",
    "    tokens = nltk.word_tokenize(transcription)\n",
    "\n",
    "    tokens = [token for token in tokens if token != \"SPECIAL_TERM\"]\n",
    "\n",
    "    # Check each token against the dictionary\n",
    "    valid_word_count = sum(1 for token in tokens if token.lower() in word_list)\n",
    "\n",
    "    # Compute the quality score\n",
    "    score = (valid_word_count / len(tokens)) * 100\n",
    "\n",
    "    return score\n",
    "\n",
    "# Read the OCR transcription from a txt file\n",
    "file_path = \"filtered_book.txt\"\n",
    "with open(file_path, 'r', encoding='utf-8') as file:\n",
    "    transcription = file.read()\n",
    "\n",
    "score = ocr_quality_score(cleaned_text)\n"
   ]
  }
 ],
 "metadata": {
  "colab": {
   "authorship_tag": "ABX9TyO609EQF+baCaDXboNgX8z4",
   "provenance": []
  },
  "kernelspec": {
   "display_name": "Python 3 (ipykernel)",
   "language": "python",
   "name": "python3"
  },
  "language_info": {
   "codemirror_mode": {
    "name": "ipython",
    "version": 3
   },
   "file_extension": ".py",
   "mimetype": "text/x-python",
   "name": "python",
   "nbconvert_exporter": "python",
   "pygments_lexer": "ipython3",
   "version": "3.11.5"
  }
 },
 "nbformat": 4,
 "nbformat_minor": 1
}
