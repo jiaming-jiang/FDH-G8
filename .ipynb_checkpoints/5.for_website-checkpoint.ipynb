{
 "cells": [
  {
   "cell_type": "code",
   "execution_count": 31,
   "id": "94952acc",
   "metadata": {
    "collapsed": true
   },
   "outputs": [
    {
     "data": {
      "application/vnd.plotly.v1+json": {
       "config": {
        "plotlyServerURL": "https://plot.ly"
       },
       "data": [
        {
         "cells": {
          "align": "left",
          "fill": {
           "color": "#FEF9E7"
          },
          "values": [
           [
            "Mediterranean Sea",
            "Malta",
            "Beirût",
            "La Bellevue Hotel",
            "Lebanon",
            "Roman Mansion",
            "Jerusalem"
           ],
           [
            "observed",
            "mentioned",
            "visited",
            "stayed",
            "observed",
            "visited",
            "mentioned"
           ],
           [
            "Caught the first glimpse of land while crossing the Mediterranean Sea.",
            "Left their barque at Malta and took passage on board the steamer 'Brigand'.",
            "Visited Beirût, observing its white terraced houses and the lifestyles of its inhabitants.",
            "Secured lodgings at 'La Bellevue' hotel in Beirût, a half oriental, half European establishment.",
            "Admired the snowy peaks of Lebanon from Beirût.",
            "Walked on the floor of an old Roman mansion in Beirût, reflecting on its history.",
            "Preparations and anticipation for the journey towards Jerusalem."
           ],
           [
            "Mediterranean Sea",
            "Malta",
            "Beirut",
            "The Bellevue-Stratford Hotel",
            "Lebanon",
            "Mansion",
            "Jerusalem"
           ]
          ]
         },
         "header": {
          "align": "left",
          "fill": {
           "color": "#EDBB99"
          },
          "values": [
           "Place",
           "Interaction",
           "Description",
           "Wiki Name"
          ]
         },
         "type": "table"
        }
       ],
       "layout": {
        "template": {
         "data": {
          "bar": [
           {
            "error_x": {
             "color": "#2a3f5f"
            },
            "error_y": {
             "color": "#2a3f5f"
            },
            "marker": {
             "line": {
              "color": "#E5ECF6",
              "width": 0.5
             },
             "pattern": {
              "fillmode": "overlay",
              "size": 10,
              "solidity": 0.2
             }
            },
            "type": "bar"
           }
          ],
          "barpolar": [
           {
            "marker": {
             "line": {
              "color": "#E5ECF6",
              "width": 0.5
             },
             "pattern": {
              "fillmode": "overlay",
              "size": 10,
              "solidity": 0.2
             }
            },
            "type": "barpolar"
           }
          ],
          "carpet": [
           {
            "aaxis": {
             "endlinecolor": "#2a3f5f",
             "gridcolor": "white",
             "linecolor": "white",
             "minorgridcolor": "white",
             "startlinecolor": "#2a3f5f"
            },
            "baxis": {
             "endlinecolor": "#2a3f5f",
             "gridcolor": "white",
             "linecolor": "white",
             "minorgridcolor": "white",
             "startlinecolor": "#2a3f5f"
            },
            "type": "carpet"
           }
          ],
          "choropleth": [
           {
            "colorbar": {
             "outlinewidth": 0,
             "ticks": ""
            },
            "type": "choropleth"
           }
          ],
          "contour": [
           {
            "colorbar": {
             "outlinewidth": 0,
             "ticks": ""
            },
            "colorscale": [
             [
              0,
              "#0d0887"
             ],
             [
              0.1111111111111111,
              "#46039f"
             ],
             [
              0.2222222222222222,
              "#7201a8"
             ],
             [
              0.3333333333333333,
              "#9c179e"
             ],
             [
              0.4444444444444444,
              "#bd3786"
             ],
             [
              0.5555555555555556,
              "#d8576b"
             ],
             [
              0.6666666666666666,
              "#ed7953"
             ],
             [
              0.7777777777777778,
              "#fb9f3a"
             ],
             [
              0.8888888888888888,
              "#fdca26"
             ],
             [
              1,
              "#f0f921"
             ]
            ],
            "type": "contour"
           }
          ],
          "contourcarpet": [
           {
            "colorbar": {
             "outlinewidth": 0,
             "ticks": ""
            },
            "type": "contourcarpet"
           }
          ],
          "heatmap": [
           {
            "colorbar": {
             "outlinewidth": 0,
             "ticks": ""
            },
            "colorscale": [
             [
              0,
              "#0d0887"
             ],
             [
              0.1111111111111111,
              "#46039f"
             ],
             [
              0.2222222222222222,
              "#7201a8"
             ],
             [
              0.3333333333333333,
              "#9c179e"
             ],
             [
              0.4444444444444444,
              "#bd3786"
             ],
             [
              0.5555555555555556,
              "#d8576b"
             ],
             [
              0.6666666666666666,
              "#ed7953"
             ],
             [
              0.7777777777777778,
              "#fb9f3a"
             ],
             [
              0.8888888888888888,
              "#fdca26"
             ],
             [
              1,
              "#f0f921"
             ]
            ],
            "type": "heatmap"
           }
          ],
          "heatmapgl": [
           {
            "colorbar": {
             "outlinewidth": 0,
             "ticks": ""
            },
            "colorscale": [
             [
              0,
              "#0d0887"
             ],
             [
              0.1111111111111111,
              "#46039f"
             ],
             [
              0.2222222222222222,
              "#7201a8"
             ],
             [
              0.3333333333333333,
              "#9c179e"
             ],
             [
              0.4444444444444444,
              "#bd3786"
             ],
             [
              0.5555555555555556,
              "#d8576b"
             ],
             [
              0.6666666666666666,
              "#ed7953"
             ],
             [
              0.7777777777777778,
              "#fb9f3a"
             ],
             [
              0.8888888888888888,
              "#fdca26"
             ],
             [
              1,
              "#f0f921"
             ]
            ],
            "type": "heatmapgl"
           }
          ],
          "histogram": [
           {
            "marker": {
             "pattern": {
              "fillmode": "overlay",
              "size": 10,
              "solidity": 0.2
             }
            },
            "type": "histogram"
           }
          ],
          "histogram2d": [
           {
            "colorbar": {
             "outlinewidth": 0,
             "ticks": ""
            },
            "colorscale": [
             [
              0,
              "#0d0887"
             ],
             [
              0.1111111111111111,
              "#46039f"
             ],
             [
              0.2222222222222222,
              "#7201a8"
             ],
             [
              0.3333333333333333,
              "#9c179e"
             ],
             [
              0.4444444444444444,
              "#bd3786"
             ],
             [
              0.5555555555555556,
              "#d8576b"
             ],
             [
              0.6666666666666666,
              "#ed7953"
             ],
             [
              0.7777777777777778,
              "#fb9f3a"
             ],
             [
              0.8888888888888888,
              "#fdca26"
             ],
             [
              1,
              "#f0f921"
             ]
            ],
            "type": "histogram2d"
           }
          ],
          "histogram2dcontour": [
           {
            "colorbar": {
             "outlinewidth": 0,
             "ticks": ""
            },
            "colorscale": [
             [
              0,
              "#0d0887"
             ],
             [
              0.1111111111111111,
              "#46039f"
             ],
             [
              0.2222222222222222,
              "#7201a8"
             ],
             [
              0.3333333333333333,
              "#9c179e"
             ],
             [
              0.4444444444444444,
              "#bd3786"
             ],
             [
              0.5555555555555556,
              "#d8576b"
             ],
             [
              0.6666666666666666,
              "#ed7953"
             ],
             [
              0.7777777777777778,
              "#fb9f3a"
             ],
             [
              0.8888888888888888,
              "#fdca26"
             ],
             [
              1,
              "#f0f921"
             ]
            ],
            "type": "histogram2dcontour"
           }
          ],
          "mesh3d": [
           {
            "colorbar": {
             "outlinewidth": 0,
             "ticks": ""
            },
            "type": "mesh3d"
           }
          ],
          "parcoords": [
           {
            "line": {
             "colorbar": {
              "outlinewidth": 0,
              "ticks": ""
             }
            },
            "type": "parcoords"
           }
          ],
          "pie": [
           {
            "automargin": true,
            "type": "pie"
           }
          ],
          "scatter": [
           {
            "fillpattern": {
             "fillmode": "overlay",
             "size": 10,
             "solidity": 0.2
            },
            "type": "scatter"
           }
          ],
          "scatter3d": [
           {
            "line": {
             "colorbar": {
              "outlinewidth": 0,
              "ticks": ""
             }
            },
            "marker": {
             "colorbar": {
              "outlinewidth": 0,
              "ticks": ""
             }
            },
            "type": "scatter3d"
           }
          ],
          "scattercarpet": [
           {
            "marker": {
             "colorbar": {
              "outlinewidth": 0,
              "ticks": ""
             }
            },
            "type": "scattercarpet"
           }
          ],
          "scattergeo": [
           {
            "marker": {
             "colorbar": {
              "outlinewidth": 0,
              "ticks": ""
             }
            },
            "type": "scattergeo"
           }
          ],
          "scattergl": [
           {
            "marker": {
             "colorbar": {
              "outlinewidth": 0,
              "ticks": ""
             }
            },
            "type": "scattergl"
           }
          ],
          "scattermapbox": [
           {
            "marker": {
             "colorbar": {
              "outlinewidth": 0,
              "ticks": ""
             }
            },
            "type": "scattermapbox"
           }
          ],
          "scatterpolar": [
           {
            "marker": {
             "colorbar": {
              "outlinewidth": 0,
              "ticks": ""
             }
            },
            "type": "scatterpolar"
           }
          ],
          "scatterpolargl": [
           {
            "marker": {
             "colorbar": {
              "outlinewidth": 0,
              "ticks": ""
             }
            },
            "type": "scatterpolargl"
           }
          ],
          "scatterternary": [
           {
            "marker": {
             "colorbar": {
              "outlinewidth": 0,
              "ticks": ""
             }
            },
            "type": "scatterternary"
           }
          ],
          "surface": [
           {
            "colorbar": {
             "outlinewidth": 0,
             "ticks": ""
            },
            "colorscale": [
             [
              0,
              "#0d0887"
             ],
             [
              0.1111111111111111,
              "#46039f"
             ],
             [
              0.2222222222222222,
              "#7201a8"
             ],
             [
              0.3333333333333333,
              "#9c179e"
             ],
             [
              0.4444444444444444,
              "#bd3786"
             ],
             [
              0.5555555555555556,
              "#d8576b"
             ],
             [
              0.6666666666666666,
              "#ed7953"
             ],
             [
              0.7777777777777778,
              "#fb9f3a"
             ],
             [
              0.8888888888888888,
              "#fdca26"
             ],
             [
              1,
              "#f0f921"
             ]
            ],
            "type": "surface"
           }
          ],
          "table": [
           {
            "cells": {
             "fill": {
              "color": "#EBF0F8"
             },
             "line": {
              "color": "white"
             }
            },
            "header": {
             "fill": {
              "color": "#C8D4E3"
             },
             "line": {
              "color": "white"
             }
            },
            "type": "table"
           }
          ]
         },
         "layout": {
          "annotationdefaults": {
           "arrowcolor": "#2a3f5f",
           "arrowhead": 0,
           "arrowwidth": 1
          },
          "autotypenumbers": "strict",
          "coloraxis": {
           "colorbar": {
            "outlinewidth": 0,
            "ticks": ""
           }
          },
          "colorscale": {
           "diverging": [
            [
             0,
             "#8e0152"
            ],
            [
             0.1,
             "#c51b7d"
            ],
            [
             0.2,
             "#de77ae"
            ],
            [
             0.3,
             "#f1b6da"
            ],
            [
             0.4,
             "#fde0ef"
            ],
            [
             0.5,
             "#f7f7f7"
            ],
            [
             0.6,
             "#e6f5d0"
            ],
            [
             0.7,
             "#b8e186"
            ],
            [
             0.8,
             "#7fbc41"
            ],
            [
             0.9,
             "#4d9221"
            ],
            [
             1,
             "#276419"
            ]
           ],
           "sequential": [
            [
             0,
             "#0d0887"
            ],
            [
             0.1111111111111111,
             "#46039f"
            ],
            [
             0.2222222222222222,
             "#7201a8"
            ],
            [
             0.3333333333333333,
             "#9c179e"
            ],
            [
             0.4444444444444444,
             "#bd3786"
            ],
            [
             0.5555555555555556,
             "#d8576b"
            ],
            [
             0.6666666666666666,
             "#ed7953"
            ],
            [
             0.7777777777777778,
             "#fb9f3a"
            ],
            [
             0.8888888888888888,
             "#fdca26"
            ],
            [
             1,
             "#f0f921"
            ]
           ],
           "sequentialminus": [
            [
             0,
             "#0d0887"
            ],
            [
             0.1111111111111111,
             "#46039f"
            ],
            [
             0.2222222222222222,
             "#7201a8"
            ],
            [
             0.3333333333333333,
             "#9c179e"
            ],
            [
             0.4444444444444444,
             "#bd3786"
            ],
            [
             0.5555555555555556,
             "#d8576b"
            ],
            [
             0.6666666666666666,
             "#ed7953"
            ],
            [
             0.7777777777777778,
             "#fb9f3a"
            ],
            [
             0.8888888888888888,
             "#fdca26"
            ],
            [
             1,
             "#f0f921"
            ]
           ]
          },
          "colorway": [
           "#636efa",
           "#EF553B",
           "#00cc96",
           "#ab63fa",
           "#FFA15A",
           "#19d3f3",
           "#FF6692",
           "#B6E880",
           "#FF97FF",
           "#FECB52"
          ],
          "font": {
           "color": "#2a3f5f"
          },
          "geo": {
           "bgcolor": "white",
           "lakecolor": "white",
           "landcolor": "#E5ECF6",
           "showlakes": true,
           "showland": true,
           "subunitcolor": "white"
          },
          "hoverlabel": {
           "align": "left"
          },
          "hovermode": "closest",
          "mapbox": {
           "style": "light"
          },
          "paper_bgcolor": "white",
          "plot_bgcolor": "#E5ECF6",
          "polar": {
           "angularaxis": {
            "gridcolor": "white",
            "linecolor": "white",
            "ticks": ""
           },
           "bgcolor": "#E5ECF6",
           "radialaxis": {
            "gridcolor": "white",
            "linecolor": "white",
            "ticks": ""
           }
          },
          "scene": {
           "xaxis": {
            "backgroundcolor": "#E5ECF6",
            "gridcolor": "white",
            "gridwidth": 2,
            "linecolor": "white",
            "showbackground": true,
            "ticks": "",
            "zerolinecolor": "white"
           },
           "yaxis": {
            "backgroundcolor": "#E5ECF6",
            "gridcolor": "white",
            "gridwidth": 2,
            "linecolor": "white",
            "showbackground": true,
            "ticks": "",
            "zerolinecolor": "white"
           },
           "zaxis": {
            "backgroundcolor": "#E5ECF6",
            "gridcolor": "white",
            "gridwidth": 2,
            "linecolor": "white",
            "showbackground": true,
            "ticks": "",
            "zerolinecolor": "white"
           }
          },
          "shapedefaults": {
           "line": {
            "color": "#2a3f5f"
           }
          },
          "ternary": {
           "aaxis": {
            "gridcolor": "white",
            "linecolor": "white",
            "ticks": ""
           },
           "baxis": {
            "gridcolor": "white",
            "linecolor": "white",
            "ticks": ""
           },
           "bgcolor": "#E5ECF6",
           "caxis": {
            "gridcolor": "white",
            "linecolor": "white",
            "ticks": ""
           }
          },
          "title": {
           "x": 0.05
          },
          "xaxis": {
           "automargin": true,
           "gridcolor": "white",
           "linecolor": "white",
           "ticks": "",
           "title": {
            "standoff": 15
           },
           "zerolinecolor": "white",
           "zerolinewidth": 2
          },
          "yaxis": {
           "automargin": true,
           "gridcolor": "white",
           "linecolor": "white",
           "ticks": "",
           "title": {
            "standoff": 15
           },
           "zerolinecolor": "white",
           "zerolinewidth": 2
          }
         }
        },
        "title": {
         "text": "Interactive Data for Chapter: 1"
        },
        "updatemenus": [
         {
          "buttons": [
           {
            "args": [
             {
              "cells": {
               "values": [
                [
                 "Mediterranean Sea",
                 "Malta",
                 "Beirût",
                 "La Bellevue Hotel",
                 "Lebanon",
                 "Roman Mansion",
                 "Jerusalem"
                ],
                [
                 "observed",
                 "mentioned",
                 "visited",
                 "stayed",
                 "observed",
                 "visited",
                 "mentioned"
                ],
                [
                 "Caught the first glimpse of land while crossing the Mediterranean Sea.",
                 "Left their barque at Malta and took passage on board the steamer 'Brigand'.",
                 "Visited Beirût, observing its white terraced houses and the lifestyles of its inhabitants.",
                 "Secured lodgings at 'La Bellevue' hotel in Beirût, a half oriental, half European establishment.",
                 "Admired the snowy peaks of Lebanon from Beirût.",
                 "Walked on the floor of an old Roman mansion in Beirût, reflecting on its history.",
                 "Preparations and anticipation for the journey towards Jerusalem."
                ],
                [
                 "Mediterranean Sea",
                 "Malta",
                 "Beirut",
                 "The Bellevue-Stratford Hotel",
                 "Lebanon",
                 "Mansion",
                 "Jerusalem"
                ]
               ]
              },
              "title": "Interactive Data for Chapter: 1"
             }
            ],
            "label": "Chapter 1",
            "method": "restyle"
           },
           {
            "args": [
             {
              "cells": {
               "values": [
                [
                 "Beirut",
                 "Roadside khan",
                 "Nebi-Yunas khan",
                 "Sidon",
                 "Tyre",
                 "St. Jean d'Acre",
                 "Plain of Esdraelon",
                 "Mount Carmel",
                 "Ahtlit",
                 "Tantura",
                 "Cæsarea",
                 "Valley of Sharon",
                 "Jaffa",
                 "Ramleh",
                 "Lydda",
                 "Jerusalem"
                ],
                [
                 "mentioned",
                 "stayed",
                 "stayed",
                 "visited",
                 "visited",
                 "passed",
                 "passed",
                 "visited",
                 "passed",
                 "stayed",
                 "visited",
                 "passed",
                 "stayed",
                 "visited",
                 "passed",
                 "visited"
                ],
                [
                 "The journey starts from Beirut, setting the beginning of the travel.",
                 "Stopped for lunch at a roadside khan, experiencing poor shelter in the rain.",
                 "Spent a night at the Nebi-Yunas khan, encountering basic and uncomfortable accommodations.",
                 "Visited the city of Sidon, observing its decline and ruins.",
                 "Reached Tyre, observing the city's desolation and fishermen's nets.",
                 "Passed by St. Jean d'Acre, briefly noting its walls and ruins.",
                 "Traversed the Plain of Esdraelon, noted for its historical battles.",
                 "Climbed Mount Carmel on foot, visiting the Convent of Elijah.",
                 "Passed the ruins of Ahtlit, experiencing a challenging ride.",
                 "Spent a night in Tantura, enduring uncomfortable conditions with animals and insects.",
                 "Visited Cæsarea, observing its ruins and recalling historical events.",
                 "Passed through the Valley of Sharon, admired its floral beauty.",
                 "Stayed in Jaffa, visiting historical sites and experiencing the town.",
                 "Visited Ramleh, staying at a convent and exploring the area.",
                 "Passed by the site of the ancient city Lydda.",
                 "Arrived in Jerusalem, exploring its significant religious and historical sites."
                ],
                [
                 "Beirut",
                 "Roadside Romeo",
                 "Stalemate in Southern Palestine",
                 null,
                 "Tire",
                 "Acre, Israel",
                 "Jezreel Valley",
                 "Mount Carmel",
                 null,
                 "Tanpura",
                 "Julius Caesar",
                 null,
                 "Jaffe",
                 null,
                 null,
                 "Jerusalem"
                ]
               ]
              },
              "title": "Interactive Data for Chapter: 2"
             }
            ],
            "label": "Chapter 2",
            "method": "restyle"
           },
           {
            "args": [
             {
              "cells": {
               "values": [
                [
                 "Jerusalem",
                 "Bethlehem",
                 "Bethany",
                 "Gethsemane",
                 "Calvary",
                 "Mount Olivet",
                 "Zion",
                 "Akra",
                 "Bezetha",
                 "Moriah",
                 "Damascus Gate",
                 "St. Stephen's Gate",
                 "Church of Ascension",
                 "Golden Gate",
                 "Zion Gate",
                 "Jaffa Gate",
                 "Mugrabin Gate",
                 "Virgin's Fount",
                 "Pool of Siloam",
                 "Well of Nehemiah Yuab",
                 "Fortress of David",
                 "Church of Yacobeiah",
                 "Church of St. James",
                 "Armenian Patriarch's palace",
                 "Tomb of David",
                 "Via Dolorosa",
                 "Pool of Bethesda",
                 "Church of St. Anne",
                 "Governor of Jerusalem's residence",
                 "Church of the Holy Sepulchre",
                 "Church of Flagellation",
                 "King Baldwin's Bath"
                ],
                [
                 "visited",
                 "mentioned",
                 "mentioned",
                 "mentioned",
                 "mentioned",
                 "mentioned",
                 "observed",
                 "observed",
                 "observed",
                 "observed",
                 "visited",
                 "visited",
                 "observed",
                 "observed",
                 "visited",
                 "visited",
                 "mentioned",
                 "mentioned",
                 "mentioned",
                 "mentioned",
                 "visited",
                 "visited",
                 "visited",
                 "passed",
                 "visited",
                 "visited",
                 "observed",
                 "observed",
                 "visited",
                 "visited",
                 "passed",
                 "observed"
                ],
                [
                 "Visited and explored various localities in and around Jerusalem.",
                 "Plans to visit Bethlehem and reflect on the birth of Christ.",
                 "Intends to visit Bethany and read about the resurrection of Lazarus.",
                 "Looks forward to visiting Gethsemane to contemplate Christ's agony.",
                 "Aims to visit Calvary and reflect on the story of Christ's death.",
                 "Anticipates visiting Mount Olivet to consider Christ's ascension.",
                 "Observed the hill of Zion, a significant location in Jerusalem.",
                 "Noted the hill of Akra while exploring Jerusalem.",
                 "Bezetha, one of the hills on which Jerusalem is situated, was observed.",
                 "Observed Moriah, another hill forming part of Jerusalem's landscape.",
                 "Visited the Damascus Gate, located midway along the northern wall of Jerusalem.",
                 "Visited St. Stephen's Gate, facing Mount Olivet.",
                 "Observed the Church of Ascension while near St. Stephen's Gate.",
                 "Observed the now closed Golden Gate of the Temple wall.",
                 "Visited Zion Gate, located near the southern part of Jerusalem.",
                 "Visited Jaffa Gate, situated near the west of Jerusalem.",
                 "Mentioned the Mugrabin Gate in the context of the city's water supply.",
                 "Mentioned Virgin's Fount in relation to Jerusalem's water sources.",
                 "Referred to the Pool of Siloam as part of Jerusalem's water infrastructure.",
                 "Mentioned the Well of Nehemiah Yuab (En-rogel) in the context of water access.",
                 "Visited the Fortress of David, including the Tower of Hippicus.",
                 "Visited the ruins of the Church of Yacobeiah, a relic of the crusaders.",
                 "Visited the Church of St. James, related to the beheading of Apostle James.",
                 "Passed the palace of the Armenian Patriarch.",
                 "Visited the Tomb of David and associated religious sites.",
                 "Walked along the Via Dolorosa, reflecting on Christ's journey to crucifixion.",
                 "Observed the site thought to be the Pool of Bethesda.",
                 "Observed the Church of St. Anne, believed to be the birthplace of the Virgin Mary.",
                 "Visited the residence of the Governor of Jerusalem, site of the Fortress of Antonia.",
                 "Visited the Church of the Holy Sepulchre, a key religious site.",
                 "Passed by the Church of Flagellation.",
                 "Observed King Baldwin's Bath, a preserved historical building."
                ],
                [
                 "Jerusalem",
                 "Bethlehem",
                 "Bethany",
                 "Gethsemane",
                 "Calgary",
                 "Mount of Olives",
                 null,
                 "Akram",
                 "Bezetha",
                 null,
                 "Damascus Gate",
                 "Saint Stephen",
                 null,
                 null,
                 "Zion Gate",
                 "Jaffa Gate",
                 "Gihon Spring",
                 "Gihon Spring",
                 "Pool of Siloam",
                 null,
                 "Boeing B-17 Flying Fortress",
                 null,
                 null,
                 "Sis (ancient city)",
                 "David's Tomb",
                 "Via Dolorosa",
                 "Pool of Bethesda",
                 "Church of St. Anne, Vilnius",
                 "Official residence",
                 "Church of the Holy Sepulchre",
                 "Church of the Flagellation",
                 "Roman Baths (Bath)"
                ]
               ]
              },
              "title": "Interactive Data for Chapter: 3"
             }
            ],
            "label": "Chapter 3",
            "method": "restyle"
           },
           {
            "args": [
             {
              "cells": {
               "values": [
                [
                 "Jaffa Gate",
                 "Convent of the Cross",
                 "Upper Pool of Gihon",
                 "Charnel House of the Lion",
                 "Grotto of Jeremiah",
                 "Valley of Jehosaphat",
                 "Pool of Siloam",
                 "Virgin's Fount",
                 "King's Gardens",
                 "Well of Joab",
                 "Hill of Scandal",
                 "Garden of Gethsemane",
                 "Church of the Virgin Mary",
                 "Tombs of the Kings",
                 "Damascus Gate",
                 "Cave of Jeremiah"
                ],
                [
                 "exited",
                 "passed",
                 "observed",
                 "observed",
                 "mentioned",
                 "passed",
                 "visited",
                 "observed",
                 "passed",
                 "visited",
                 "passed",
                 "observed",
                 "visited",
                 "visited",
                 "approached",
                 "visited"
                ],
                [
                 "Exited the city of Jerusalem through Jaffa Gate, bustling with soldiers, Fellahin, and caravans.",
                 "Passed by the road leading to the Convent of the Cross.",
                 "Observed the Upper Pool of Gihon, a popular bathing place for city residents.",
                 "Noted the nearby vaults of the 'Charnel House of the Lion', filled with human skulls.",
                 "Mentioned the Grotto of Jeremiah near the Damascus Gate.",
                 "Passed through the Valley of Jehosaphat, observing the surroundings.",
                 "Visited the Pool of Siloam, known for its five venerated columns.",
                 "Observed women descending into the Virgin's Fount to collect water.",
                 "Passed by the King's Gardens, noted for lush foliage and fruit groves.",
                 "Visited the Well of Joab, a source of water in the confluence of valleys.",
                 "Passed the western slope of the Hill of Scandal.",
                 "Observed the Garden of Gethsemane from a distance.",
                 "Visited the subterranean Church of the Virgin Mary, adorned with lamps and flowers.",
                 "Visited the Tombs of the Kings, noted for its elaborately carved entrance and sarcophagi.",
                 "Approached the city again, coming close to the Damascus Gate.",
                 "Visited the Cave of Jeremiah, believed to be the retreat of the prophet."
                ],
                [
                 "Jaffa Gate",
                 "Magellan's Cross Pavilion",
                 "Pool of Siloam",
                 "Charnel ground",
                 "Church of St. John, Cratloe",
                 "Valley of Josaphat",
                 "Pool of Siloam",
                 "Gihon Spring",
                 null,
                 "Books of Samuel",
                 "Teapot Dome scandal",
                 "Gethsemane",
                 null,
                 "Tombs of the Kings (Paphos)",
                 "Damascus Gate",
                 "David Jeremiah"
                ]
               ]
              },
              "title": "Interactive Data for Chapter: 4"
             }
            ],
            "label": "Chapter 4",
            "method": "restyle"
           },
           {
            "args": [
             {
              "cells": {
               "values": [
                [
                 "Gethsemane",
                 "Mount Olivet",
                 "Church of Ascension",
                 "Bethany",
                 "Chapel of the Prediction",
                 "Jerusalem"
                ],
                [
                 "visited",
                 "visited",
                 "visited",
                 "visited",
                 "observed",
                 "visited"
                ],
                [
                 "Visited the garden of Gethsemane, now a flower garden with ancient olive trees.",
                 "Ascended Mount Olivet, observing the Church of Ascension and the surrounding village.",
                 "Visited the Church of Ascension, observing the foot and staff imprint in solid rock.",
                 "Traveled to Bethany, visiting the cave identified as the tomb of Lazarus.",
                 "Observed the Chapel of the Prediction, built on the rock where Christ lamented over Jerusalem.",
                 "Visited Jerusalem, reflecting on its history and current state."
                ],
                [
                 "Gethsemane",
                 "Mount of Olives",
                 null,
                 "Bethany",
                 "List of dates predicted for apocalyptic events",
                 "Jerusalem"
                ]
               ]
              },
              "title": "Interactive Data for Chapter: 5"
             }
            ],
            "label": "Chapter 5",
            "method": "restyle"
           },
           {
            "args": [
             {
              "cells": {
               "values": [
                [
                 "Mount Olivet",
                 "Village at the top of the mountain",
                 "Well near the village",
                 "Pathway from the city to Jordan"
                ],
                [
                 "stayed",
                 "visited",
                 "observed",
                 "visited"
                ],
                [
                 "Stayed at a summer residence on Mount Olivet, overlooking the Kedron, surrounded by hills abundant in grapes, pomegranates, almonds, apricots, and figs.",
                 "Visited the village for the reception of the Pacha and his Hareem, and engaged in exchanges with the local villagers.",
                 "Observed village maidens at the well near the camping ground, reflecting on the traditional role of women in water collection.",
                 "Visited and reflected upon the historical significance of the pathway leading from the city to Jordan, by way of Bahurim."
                ],
                [
                 "Mount of Olives",
                 "Mountain Top, Pennsylvania",
                 null,
                 null
                ]
               ]
              },
              "title": "Interactive Data for Chapter: 6"
             }
            ],
            "label": "Chapter 6",
            "method": "restyle"
           },
           {
            "args": [
             {
              "cells": {
               "values": [
                [
                 "Valley of Jehosaphat",
                 "Mount Olivet",
                 "Bethany",
                 "Apostles' Fountain",
                 "Wilderness of Judea",
                 "Mount Quarantina",
                 "Dead Sea",
                 "Jericho",
                 "Fountain of Elisha",
                 "Jordan River",
                 "Mount Zion"
                ],
                [
                 "passed",
                 "passed",
                 "passed",
                 "passed",
                 "observed",
                 "observed",
                 "visited",
                 "stayed",
                 "visited",
                 "visited",
                 "stayed"
                ],
                [
                 "Passed through the Valley of Jehosaphat.",
                 "Passed Mount Olivet.",
                 "Passed by the now palmless Bethany.",
                 "Passed the Apostles' Fountain.",
                 "Observed the Wilderness of Judea.",
                 "Observed Mount Quarantina.",
                 "Visited the Dead Sea, experiencing its unique properties.",
                 "Stayed the night in Jericho.",
                 "Visited the Fountain of Elisha.",
                 "Visited the Jordan River, at the traditional baptism site of Christ.",
                 "Returned to residence on Mount Zion."
                ],
                [
                 "Valley of Josaphat",
                 "Mount of Olives",
                 "Bethany",
                 "Paul the Apostle",
                 "Mattathias",
                 "Mount of Temptation",
                 null,
                 "Jericho",
                 null,
                 "Jordan River",
                 "Mount Zion"
                ]
               ]
              },
              "title": "Interactive Data for Chapter: 7"
             }
            ],
            "label": "Chapter 7",
            "method": "restyle"
           },
           {
            "args": [
             {
              "cells": {
               "values": [
                [
                 "Road from Jerusalem to Bethlehem",
                 "Bethlehem",
                 "Church and Monastery covering the Cave of the Nativity",
                 "Cave of the Nativity",
                 "Schoolroom of Miss Williams",
                 "Jerome's Cave",
                 "Joseph's House",
                 "The Manger",
                 "Church of St. Helena",
                 "Grotto of the Nativity"
                ],
                [
                 "passed",
                 "visited",
                 "visited",
                 "visited",
                 "visited",
                 "visited",
                 "visited",
                 "visited",
                 "stayed",
                 "visited"
                ],
                [
                 "Passed through the rough and stony road from Jerusalem to Bethlehem, with a mention of the Plain of Rephaim.",
                 "Visited Bethlehem, described as standing on a hill and having a fine appearance from a distance.",
                 "Visited the Church and Monastery covering the Cave of the Nativity, noted for its imposing appearance and elegant Corinthian pillars.",
                 "Visited the Cave of the Nativity, described as being lighted by lamps and containing a silver star marking the birthplace of Jesus.",
                 "Visited the schoolroom of Miss Williams, engaged in teaching Arab children.",
                 "Visited the site of Jerome's Cave.",
                 "Visited the site reputed to be Joseph's House.",
                 "Visited the site known as 'The Manger'.",
                 "Stayed at the Church of St. Helena after being expelled from the Church of the Nativity.",
                 "Visited the Grotto of the Nativity."
                ],
                [
                 "Bethlehem",
                 "Bethlehem",
                 "Church of the Nativity",
                 "Church of the Nativity",
                 null,
                 "Church of the Nativity",
                 "Joseph (Genesis)",
                 "Management",
                 "Jamestown, Saint Helena",
                 "Church of the Nativity"
                ]
               ]
              },
              "title": "Interactive Data for Chapter: 8"
             }
            ],
            "label": "Chapter 8",
            "method": "restyle"
           },
           {
            "args": [
             {
              "cells": {
               "values": [
                [
                 "Mount Olivet",
                 "Church of Ascension",
                 "Wady Farah",
                 "Valley of Delight",
                 "Enon near to Salim",
                 "Liftah (Nephtoah)",
                 "Jerusalem"
                ],
                [
                 "passed",
                 "observed",
                 "visited",
                 "visited",
                 "mentioned",
                 "visited",
                 "stayed"
                ],
                [
                 "Passed by Mount Olivet while traveling to Wady Farah.",
                 "Observed the Church of Ascension while passing by on the journey.",
                 "Visited Wady Farah, described as a lovely spot near the Holy City.",
                 "Visited the Valley of Delight, encountering peaceful nature and historical ruins.",
                 "Mentioned as a possible identification for Wady Farah, due to its biblical significance.",
                 "Visited Liftah, identified as Nephtoah in the Bible, and noted for its fountain.",
                 "Stayed in Jerusalem, as it was the central location for the excursions."
                ],
                [
                 "Mount of Olives",
                 null,
                 "Fara, Safad",
                 "Valley of Heart's Delight",
                 "New Testament places associated with Jesus",
                 null,
                 "Jerusalem"
                ]
               ]
              },
              "title": "Interactive Data for Chapter: 9"
             }
            ],
            "label": "Chapter 9",
            "method": "restyle"
           },
           {
            "args": [
             {
              "cells": {
               "values": [
                [
                 "Mosque of Omar",
                 "Temple enclosure",
                 "Church of St. Anne",
                 "Golden Gate",
                 "Mosque of Aksa",
                 "Sedna Esa",
                 "Cave of the Sakhrah",
                 "Solomon's Temple"
                ],
                [
                 "visited",
                 "visited",
                 "observed",
                 "mentioned",
                 "visited",
                 "mentioned",
                 "visited",
                 "mentioned"
                ],
                [
                 "Visited and was delighted by the Mosque of Omar, surprised by the invitation from Turkish friends.",
                 "Visited the Temple enclosure, feeling a sense of privilege walking on its hallowed ground.",
                 "Observed the view of the Haram es-Sherif from the Church of St. Anne.",
                 "Mentioned the presence of many women around the Golden Gate during the visit to the enclosure.",
                 "Visited the Mosque of Aksa, noting its intricate design and the differentiation in worship areas for men and women.",
                 "Mentioned Sedna Esa, the reputed cradle of Jesus, but found it closed during the visit.",
                 "Visited the Cave of the Sakhrah, located beneath the Mosque of Omar, noting its religious significance.",
                 "Mentioned the site believed to be Solomon's Temple, imagining its historical and religious significance."
                ],
                [
                 "Mosque of Omar",
                 "Serapeum of Saqqara",
                 "Church of St. Anne, Vilnius",
                 null,
                 "Al-Aqsa",
                 "90377 Sedna",
                 "Well of Souls",
                 "Solomon's Temple"
                ]
               ]
              },
              "title": "Interactive Data for Chapter: 10"
             }
            ],
            "label": "Chapter 10",
            "method": "restyle"
           },
           {
            "args": [
             {
              "cells": {
               "values": [
                [
                 "Parley Room",
                 "Tomb of David",
                 "Turfendah's Home",
                 "Mosque of Omar",
                 "Zion Gate",
                 "Coenaculum",
                 "Keeper's Hareem",
                 "Author's Home"
                ],
                [
                 "stayed",
                 "visited",
                 "visited",
                 "mentioned",
                 "observed",
                 "observed",
                 "visited",
                 "stayed"
                ],
                [
                 "The author was called to the parley room early one morning during the feast of Rhamadan.",
                 "The author planned and eventually visited the Tomb of David.",
                 "Visited Turfendah's home to select clothes for a disguise.",
                 "The author recalls a previous adventure at the Mosque of Omar.",
                 "Passed by the Zion Gate en route to the Tomb of David.",
                 "Noted the Coenaculum while visiting the Tomb of David.",
                 "Was invited to see the keeper's hareem during the visit to the Tomb of David.",
                 "The author returned home after the visit, feeling relieved to be out of danger and disguise."
                ],
                [
                 "Parley Baer",
                 "David's Tomb",
                 null,
                 "Mosque of Omar",
                 "Zion Gate",
                 "Coenaculum",
                 "Muhteşem Yüzyıl",
                 "Writer's home"
                ]
               ]
              },
              "title": "Interactive Data for Chapter: 11"
             }
            ],
            "label": "Chapter 11",
            "method": "restyle"
           },
           {
            "args": [
             {
              "cells": {
               "values": [
                [
                 "Jerusalem",
                 "House of Bash Catib",
                 "Neby Daûd",
                 "Jewish quarter"
                ],
                [
                 "stayed",
                 "visited",
                 "visited",
                 "passed by"
                ],
                [
                 "Stayed in Jerusalem, where the wedding of Effendi Moosa and Dahudeiah was a topic of conversation.",
                 "Visited the house of Bash Catib for the wedding celebration.",
                 "Visited Neby Daûd, the residence of the bride, to participate in the wedding procession.",
                 "Passed through the dark alleys of the Jewish quarter during the wedding procession."
                ],
                [
                 "Jerusalem",
                 null,
                 "Prophets and messengers in Islam",
                 "Jewish Quarter (Jerusalem)"
                ]
               ]
              },
              "title": "Interactive Data for Chapter: 12"
             }
            ],
            "label": "Chapter 12",
            "method": "restyle"
           },
           {
            "args": [
             {
              "cells": {
               "values": [
                [
                 "Damascus",
                 "Jerusalem",
                 "bazaars of Jerusalem",
                 "Wady el Wer",
                 "Bethlehem",
                 "Church of the Holy Sepulchre"
                ],
                [
                 "mentioned",
                 "visited",
                 "visited",
                 "mentioned",
                 "mentioned",
                 "mentioned"
                ],
                [
                 "Referred to as a beautiful city with incomparable bazaars, but distinct from Jerusalem.",
                 "Visited for shopping in its bazaars, exploring its streets and observing its unique atmosphere.",
                 "Visited the bazaars of Jerusalem, noting their variety of costumes and diverse crowd.",
                 "Mentioned as the source of roses used for making rose water sold in the bazaars.",
                 "Referenced in relation to pearl trinkets made by Bethlehemites, sold in Jerusalem bazaars.",
                 "Mentioned in relation to trinkets sold in the bazaars that imitate the church's design."
                ],
                [
                 "Damascus",
                 "Jerusalem",
                 "Bazaar",
                 null,
                 "Bethlehem",
                 "Church of the Holy Sepulchre"
                ]
               ]
              },
              "title": "Interactive Data for Chapter: 13"
             }
            ],
            "label": "Chapter 13",
            "method": "restyle"
           },
           {
            "args": [
             {
              "cells": {
               "values": [
                [
                 "Bazaar",
                 "Home of Turfendah and friends",
                 "Bathing Establishment",
                 "Dressing-room in Bathing Establishment"
                ],
                [
                 "passed",
                 "stayed",
                 "visited",
                 "stayed"
                ],
                [
                 "Escaped the noisy bazaar in the city.",
                 "Dinner and preparations for the bath were done at the home of Turfendah and her friends.",
                 "Visited one of the finest bathing establishments in the city for an afternoon bath.",
                 "Used the dressing-room in the bathing establishment for changing and resting."
                ],
                [
                 "Bazaar",
                 null,
                 "Bathing",
                 "Changing room"
                ]
               ]
              },
              "title": "Interactive Data for Chapter: 14"
             }
            ],
            "label": "Chapter 14",
            "method": "restyle"
           },
           {
            "args": [
             {
              "cells": {
               "values": [
                [
                 "Private house in the Jewish quarter",
                 "Hackmè or dispensary",
                 "House's kitchen",
                 "House's upper court",
                 "Housetop terrace",
                 "Valley of the Tyropoon",
                 "Mount Olivet",
                 "Temple enclosure",
                 "Mugrabin quarter",
                 "Mount Zion",
                 "Council Chamber or Sanhedrim",
                 "Cheesemongers' Valley"
                ],
                [
                 "stayed",
                 "visited",
                 "observed",
                 "visited",
                 "visited",
                 "observed",
                 "observed",
                 "observed",
                 "observed",
                 "observed",
                 "visited",
                 "observed"
                ],
                [
                 "Stayed in a private house situated in the Jewish quarter, featuring a large stone-paved court and various rooms.",
                 "Visited the hackmè or dispensary, which opens on one side of the square court of the house.",
                 "Observed the unique kitchen of the house, featuring Arab copper kettles and a stone fireplace.",
                 "Visited the small upper court of the house, leading to a chamber and dining room.",
                 "Visited the housetop terrace of the house, enclosed by a five-foot-high wall.",
                 "Observed the Valley of the Tyropoon from a high vantage point in the house.",
                 "Observed Mount Olivet from the house, located opposite to it.",
                 "Observed the Temple enclosure from a distance, visible from the house.",
                 "Observed the Mugrabin quarter in the valley, visible from the house.",
                 "Observed Mount Zion, noted for its picturesque and dilapidated buildings.",
                 "Visited the Council Chamber, or Sanhedrim, identified as the Mechemeh or Congressional Hall of Jerusalem.",
                 "Observed the Cheesemongers' Valley, also known as the Tyropoon Valley, from a distance."
                ],
                [
                 "Jewish Quarter (Jerusalem)",
                 null,
                 "Kitchen",
                 "Umeå",
                 "Anjunabeats Volume 7",
                 null,
                 "Mount of Olives",
                 "Serapeum of Saqqara",
                 null,
                 "Mount Zion",
                 "List of North American fraternal orders",
                 "Mount Zion"
                ]
               ]
              },
              "title": "Interactive Data for Chapter: 16"
             }
            ],
            "label": "Chapter 16",
            "method": "restyle"
           },
           {
            "args": [
             {
              "cells": {
               "values": [
                [
                 "Mount Zion",
                 "Church of the Holy Sepulchre",
                 "Temple Walls",
                 "Tomb of Rachel",
                 "Ephrath (Ephratah)",
                 "Bethlehem",
                 "Synagogues in Jerusalem"
                ],
                [
                 "mentioned",
                 "mentioned",
                 "visited",
                 "observed",
                 "mentioned",
                 "mentioned",
                 "visited"
                ],
                [
                 "Mentioned as a place of significance and attachment for the Jewish people living in Jerusalem.",
                 "Mentioned as a place where Jews are not allowed to enter.",
                 "Visited for devotional purposes, particularly on Fridays, where Jews lament the destruction of their Temple.",
                 "Observed as a venerated site near Bethlehem, important in Jewish tradition.",
                 "Mentioned in relation to the Tomb of Rachel, as a nearby location.",
                 "Mentioned in the context of the Tomb of Rachel and its proximity.",
                 "Visited by the author, observing the conduct of worship and rituals."
                ],
                [
                 "Mount Zion",
                 "Church of the Holy Sepulchre",
                 "Kailasanathar Temple, Kanchipuram",
                 "Rachel's Tomb",
                 "Ephrath",
                 "Bethlehem",
                 "Synagogues of Jerusalem"
                ]
               ]
              },
              "title": "Interactive Data for Chapter: 18"
             }
            ],
            "label": "Chapter 18",
            "method": "restyle"
           },
           {
            "args": [
             {
              "cells": {
               "values": [
                [
                 "Church of the Holy Sepulchre",
                 "Stone of Unction",
                 "Scene of the Crucifixion",
                 "Chapel of the Holy Cross",
                 "Tomb of Joseph of Arimathea",
                 "Subterranean part of the Church",
                 "Church of the Nativity"
                ],
                [
                 "visited",
                 "observed",
                 "visited",
                 "visited",
                 "observed",
                 "visited",
                 "mentioned"
                ],
                [
                 "Visited the Church of the Holy Sepulchre, observing its interior and the activities of pilgrims.",
                 "Observed the Stone of Unction, believed to be where Christ was anointed.",
                 "Visited the site within the church marking the scene of the Crucifixion.",
                 "Entered the chapel where the cross was found, associated with Empress Helena.",
                 "Observed the Tomb of Joseph of Arimathea, among other sites in the church.",
                 "Explored the subterranean parts of the Church of the Holy Sepulchre.",
                 "Mentioned in context of the Bethlehemites seeking holy fire for this church."
                ],
                [
                 "Church of the Holy Sepulchre",
                 "The Entombment of Christ (Caravaggio)",
                 "Crucifixion of Jesus",
                 "Chapel of the Holy Cross (Sedona, Arizona)",
                 "Joseph of Arimathea",
                 "Monolithic church",
                 "Church of the Nativity"
                ]
               ]
              },
              "title": "Interactive Data for Chapter: 19"
             }
            ],
            "label": "Chapter 19",
            "method": "restyle"
           },
           {
            "args": [
             {
              "cells": {
               "values": [
                [
                 "Jerusalem",
                 "Bethlehem",
                 "Gardens of Solomon",
                 "Mount Olivet",
                 "Syria"
                ],
                [
                 "observed",
                 "mentioned",
                 "mentioned",
                 "observed",
                 "visited"
                ],
                [
                 "Observed the mild winters and enjoyed summer breezes in Jerusalem, noting its diverse climate.",
                 "Mentioned Bethlehem in the context of the Gardens of Solomon.",
                 "Referred to the Gardens of Solomon near Bethlehem, famous for its varied and luscious fruits.",
                 "Observed Mount Olivet, noting its plantation of olive, fig, pomegranate, mulberry, and almond trees.",
                 "Visited different parts of Syria, experiencing its abundant fruits and vegetation."
                ],
                [
                 "Jerusalem",
                 "Bethlehem",
                 "Solomons cockatoo",
                 "Mount of Olives",
                 "Serbia"
                ]
               ]
              },
              "title": "Interactive Data for Chapter: 20"
             }
            ],
            "label": "Chapter 20",
            "method": "restyle"
           }
          ],
          "direction": "down",
          "showactive": true
         }
        ]
       }
      },
      "text/html": [
       "<div>                            <div id=\"6c4a4abd-c41f-4f34-8992-281555de6dd7\" class=\"plotly-graph-div\" style=\"height:525px; width:100%;\"></div>            <script type=\"text/javascript\">                require([\"plotly\"], function(Plotly) {                    window.PLOTLYENV=window.PLOTLYENV || {};                                    if (document.getElementById(\"6c4a4abd-c41f-4f34-8992-281555de6dd7\")) {                    Plotly.newPlot(                        \"6c4a4abd-c41f-4f34-8992-281555de6dd7\",                        [{\"cells\":{\"align\":\"left\",\"fill\":{\"color\":\"#FEF9E7\"},\"values\":[[\"Mediterranean Sea\",\"Malta\",\"Beir\\u00fbt\",\"La Bellevue Hotel\",\"Lebanon\",\"Roman Mansion\",\"Jerusalem\"],[\"observed\",\"mentioned\",\"visited\",\"stayed\",\"observed\",\"visited\",\"mentioned\"],[\"Caught the first glimpse of land while crossing the Mediterranean Sea.\",\"Left their barque at Malta and took passage on board the steamer 'Brigand'.\",\"Visited Beir\\u00fbt, observing its white terraced houses and the lifestyles of its inhabitants.\",\"Secured lodgings at 'La Bellevue' hotel in Beir\\u00fbt, a half oriental, half European establishment.\",\"Admired the snowy peaks of Lebanon from Beir\\u00fbt.\",\"Walked on the floor of an old Roman mansion in Beir\\u00fbt, reflecting on its history.\",\"Preparations and anticipation for the journey towards Jerusalem.\"],[\"Mediterranean Sea\",\"Malta\",\"Beirut\",\"The Bellevue-Stratford Hotel\",\"Lebanon\",\"Mansion\",\"Jerusalem\"]]},\"header\":{\"align\":\"left\",\"fill\":{\"color\":\"#EDBB99\"},\"values\":[\"Place\",\"Interaction\",\"Description\",\"Wiki Name\"]},\"type\":\"table\"}],                        {\"template\":{\"data\":{\"histogram2dcontour\":[{\"type\":\"histogram2dcontour\",\"colorbar\":{\"outlinewidth\":0,\"ticks\":\"\"},\"colorscale\":[[0.0,\"#0d0887\"],[0.1111111111111111,\"#46039f\"],[0.2222222222222222,\"#7201a8\"],[0.3333333333333333,\"#9c179e\"],[0.4444444444444444,\"#bd3786\"],[0.5555555555555556,\"#d8576b\"],[0.6666666666666666,\"#ed7953\"],[0.7777777777777778,\"#fb9f3a\"],[0.8888888888888888,\"#fdca26\"],[1.0,\"#f0f921\"]]}],\"choropleth\":[{\"type\":\"choropleth\",\"colorbar\":{\"outlinewidth\":0,\"ticks\":\"\"}}],\"histogram2d\":[{\"type\":\"histogram2d\",\"colorbar\":{\"outlinewidth\":0,\"ticks\":\"\"},\"colorscale\":[[0.0,\"#0d0887\"],[0.1111111111111111,\"#46039f\"],[0.2222222222222222,\"#7201a8\"],[0.3333333333333333,\"#9c179e\"],[0.4444444444444444,\"#bd3786\"],[0.5555555555555556,\"#d8576b\"],[0.6666666666666666,\"#ed7953\"],[0.7777777777777778,\"#fb9f3a\"],[0.8888888888888888,\"#fdca26\"],[1.0,\"#f0f921\"]]}],\"heatmap\":[{\"type\":\"heatmap\",\"colorbar\":{\"outlinewidth\":0,\"ticks\":\"\"},\"colorscale\":[[0.0,\"#0d0887\"],[0.1111111111111111,\"#46039f\"],[0.2222222222222222,\"#7201a8\"],[0.3333333333333333,\"#9c179e\"],[0.4444444444444444,\"#bd3786\"],[0.5555555555555556,\"#d8576b\"],[0.6666666666666666,\"#ed7953\"],[0.7777777777777778,\"#fb9f3a\"],[0.8888888888888888,\"#fdca26\"],[1.0,\"#f0f921\"]]}],\"heatmapgl\":[{\"type\":\"heatmapgl\",\"colorbar\":{\"outlinewidth\":0,\"ticks\":\"\"},\"colorscale\":[[0.0,\"#0d0887\"],[0.1111111111111111,\"#46039f\"],[0.2222222222222222,\"#7201a8\"],[0.3333333333333333,\"#9c179e\"],[0.4444444444444444,\"#bd3786\"],[0.5555555555555556,\"#d8576b\"],[0.6666666666666666,\"#ed7953\"],[0.7777777777777778,\"#fb9f3a\"],[0.8888888888888888,\"#fdca26\"],[1.0,\"#f0f921\"]]}],\"contourcarpet\":[{\"type\":\"contourcarpet\",\"colorbar\":{\"outlinewidth\":0,\"ticks\":\"\"}}],\"contour\":[{\"type\":\"contour\",\"colorbar\":{\"outlinewidth\":0,\"ticks\":\"\"},\"colorscale\":[[0.0,\"#0d0887\"],[0.1111111111111111,\"#46039f\"],[0.2222222222222222,\"#7201a8\"],[0.3333333333333333,\"#9c179e\"],[0.4444444444444444,\"#bd3786\"],[0.5555555555555556,\"#d8576b\"],[0.6666666666666666,\"#ed7953\"],[0.7777777777777778,\"#fb9f3a\"],[0.8888888888888888,\"#fdca26\"],[1.0,\"#f0f921\"]]}],\"surface\":[{\"type\":\"surface\",\"colorbar\":{\"outlinewidth\":0,\"ticks\":\"\"},\"colorscale\":[[0.0,\"#0d0887\"],[0.1111111111111111,\"#46039f\"],[0.2222222222222222,\"#7201a8\"],[0.3333333333333333,\"#9c179e\"],[0.4444444444444444,\"#bd3786\"],[0.5555555555555556,\"#d8576b\"],[0.6666666666666666,\"#ed7953\"],[0.7777777777777778,\"#fb9f3a\"],[0.8888888888888888,\"#fdca26\"],[1.0,\"#f0f921\"]]}],\"mesh3d\":[{\"type\":\"mesh3d\",\"colorbar\":{\"outlinewidth\":0,\"ticks\":\"\"}}],\"scatter\":[{\"fillpattern\":{\"fillmode\":\"overlay\",\"size\":10,\"solidity\":0.2},\"type\":\"scatter\"}],\"parcoords\":[{\"type\":\"parcoords\",\"line\":{\"colorbar\":{\"outlinewidth\":0,\"ticks\":\"\"}}}],\"scatterpolargl\":[{\"type\":\"scatterpolargl\",\"marker\":{\"colorbar\":{\"outlinewidth\":0,\"ticks\":\"\"}}}],\"bar\":[{\"error_x\":{\"color\":\"#2a3f5f\"},\"error_y\":{\"color\":\"#2a3f5f\"},\"marker\":{\"line\":{\"color\":\"#E5ECF6\",\"width\":0.5},\"pattern\":{\"fillmode\":\"overlay\",\"size\":10,\"solidity\":0.2}},\"type\":\"bar\"}],\"scattergeo\":[{\"type\":\"scattergeo\",\"marker\":{\"colorbar\":{\"outlinewidth\":0,\"ticks\":\"\"}}}],\"scatterpolar\":[{\"type\":\"scatterpolar\",\"marker\":{\"colorbar\":{\"outlinewidth\":0,\"ticks\":\"\"}}}],\"histogram\":[{\"marker\":{\"pattern\":{\"fillmode\":\"overlay\",\"size\":10,\"solidity\":0.2}},\"type\":\"histogram\"}],\"scattergl\":[{\"type\":\"scattergl\",\"marker\":{\"colorbar\":{\"outlinewidth\":0,\"ticks\":\"\"}}}],\"scatter3d\":[{\"type\":\"scatter3d\",\"line\":{\"colorbar\":{\"outlinewidth\":0,\"ticks\":\"\"}},\"marker\":{\"colorbar\":{\"outlinewidth\":0,\"ticks\":\"\"}}}],\"scattermapbox\":[{\"type\":\"scattermapbox\",\"marker\":{\"colorbar\":{\"outlinewidth\":0,\"ticks\":\"\"}}}],\"scatterternary\":[{\"type\":\"scatterternary\",\"marker\":{\"colorbar\":{\"outlinewidth\":0,\"ticks\":\"\"}}}],\"scattercarpet\":[{\"type\":\"scattercarpet\",\"marker\":{\"colorbar\":{\"outlinewidth\":0,\"ticks\":\"\"}}}],\"carpet\":[{\"aaxis\":{\"endlinecolor\":\"#2a3f5f\",\"gridcolor\":\"white\",\"linecolor\":\"white\",\"minorgridcolor\":\"white\",\"startlinecolor\":\"#2a3f5f\"},\"baxis\":{\"endlinecolor\":\"#2a3f5f\",\"gridcolor\":\"white\",\"linecolor\":\"white\",\"minorgridcolor\":\"white\",\"startlinecolor\":\"#2a3f5f\"},\"type\":\"carpet\"}],\"table\":[{\"cells\":{\"fill\":{\"color\":\"#EBF0F8\"},\"line\":{\"color\":\"white\"}},\"header\":{\"fill\":{\"color\":\"#C8D4E3\"},\"line\":{\"color\":\"white\"}},\"type\":\"table\"}],\"barpolar\":[{\"marker\":{\"line\":{\"color\":\"#E5ECF6\",\"width\":0.5},\"pattern\":{\"fillmode\":\"overlay\",\"size\":10,\"solidity\":0.2}},\"type\":\"barpolar\"}],\"pie\":[{\"automargin\":true,\"type\":\"pie\"}]},\"layout\":{\"autotypenumbers\":\"strict\",\"colorway\":[\"#636efa\",\"#EF553B\",\"#00cc96\",\"#ab63fa\",\"#FFA15A\",\"#19d3f3\",\"#FF6692\",\"#B6E880\",\"#FF97FF\",\"#FECB52\"],\"font\":{\"color\":\"#2a3f5f\"},\"hovermode\":\"closest\",\"hoverlabel\":{\"align\":\"left\"},\"paper_bgcolor\":\"white\",\"plot_bgcolor\":\"#E5ECF6\",\"polar\":{\"bgcolor\":\"#E5ECF6\",\"angularaxis\":{\"gridcolor\":\"white\",\"linecolor\":\"white\",\"ticks\":\"\"},\"radialaxis\":{\"gridcolor\":\"white\",\"linecolor\":\"white\",\"ticks\":\"\"}},\"ternary\":{\"bgcolor\":\"#E5ECF6\",\"aaxis\":{\"gridcolor\":\"white\",\"linecolor\":\"white\",\"ticks\":\"\"},\"baxis\":{\"gridcolor\":\"white\",\"linecolor\":\"white\",\"ticks\":\"\"},\"caxis\":{\"gridcolor\":\"white\",\"linecolor\":\"white\",\"ticks\":\"\"}},\"coloraxis\":{\"colorbar\":{\"outlinewidth\":0,\"ticks\":\"\"}},\"colorscale\":{\"sequential\":[[0.0,\"#0d0887\"],[0.1111111111111111,\"#46039f\"],[0.2222222222222222,\"#7201a8\"],[0.3333333333333333,\"#9c179e\"],[0.4444444444444444,\"#bd3786\"],[0.5555555555555556,\"#d8576b\"],[0.6666666666666666,\"#ed7953\"],[0.7777777777777778,\"#fb9f3a\"],[0.8888888888888888,\"#fdca26\"],[1.0,\"#f0f921\"]],\"sequentialminus\":[[0.0,\"#0d0887\"],[0.1111111111111111,\"#46039f\"],[0.2222222222222222,\"#7201a8\"],[0.3333333333333333,\"#9c179e\"],[0.4444444444444444,\"#bd3786\"],[0.5555555555555556,\"#d8576b\"],[0.6666666666666666,\"#ed7953\"],[0.7777777777777778,\"#fb9f3a\"],[0.8888888888888888,\"#fdca26\"],[1.0,\"#f0f921\"]],\"diverging\":[[0,\"#8e0152\"],[0.1,\"#c51b7d\"],[0.2,\"#de77ae\"],[0.3,\"#f1b6da\"],[0.4,\"#fde0ef\"],[0.5,\"#f7f7f7\"],[0.6,\"#e6f5d0\"],[0.7,\"#b8e186\"],[0.8,\"#7fbc41\"],[0.9,\"#4d9221\"],[1,\"#276419\"]]},\"xaxis\":{\"gridcolor\":\"white\",\"linecolor\":\"white\",\"ticks\":\"\",\"title\":{\"standoff\":15},\"zerolinecolor\":\"white\",\"automargin\":true,\"zerolinewidth\":2},\"yaxis\":{\"gridcolor\":\"white\",\"linecolor\":\"white\",\"ticks\":\"\",\"title\":{\"standoff\":15},\"zerolinecolor\":\"white\",\"automargin\":true,\"zerolinewidth\":2},\"scene\":{\"xaxis\":{\"backgroundcolor\":\"#E5ECF6\",\"gridcolor\":\"white\",\"linecolor\":\"white\",\"showbackground\":true,\"ticks\":\"\",\"zerolinecolor\":\"white\",\"gridwidth\":2},\"yaxis\":{\"backgroundcolor\":\"#E5ECF6\",\"gridcolor\":\"white\",\"linecolor\":\"white\",\"showbackground\":true,\"ticks\":\"\",\"zerolinecolor\":\"white\",\"gridwidth\":2},\"zaxis\":{\"backgroundcolor\":\"#E5ECF6\",\"gridcolor\":\"white\",\"linecolor\":\"white\",\"showbackground\":true,\"ticks\":\"\",\"zerolinecolor\":\"white\",\"gridwidth\":2}},\"shapedefaults\":{\"line\":{\"color\":\"#2a3f5f\"}},\"annotationdefaults\":{\"arrowcolor\":\"#2a3f5f\",\"arrowhead\":0,\"arrowwidth\":1},\"geo\":{\"bgcolor\":\"white\",\"landcolor\":\"#E5ECF6\",\"subunitcolor\":\"white\",\"showland\":true,\"showlakes\":true,\"lakecolor\":\"white\"},\"title\":{\"x\":0.05},\"mapbox\":{\"style\":\"light\"}}},\"title\":{\"text\":\"Interactive Data for Chapter: 1\"},\"updatemenus\":[{\"buttons\":[{\"args\":[{\"cells\":{\"values\":[[\"Mediterranean Sea\",\"Malta\",\"Beir\\u00fbt\",\"La Bellevue Hotel\",\"Lebanon\",\"Roman Mansion\",\"Jerusalem\"],[\"observed\",\"mentioned\",\"visited\",\"stayed\",\"observed\",\"visited\",\"mentioned\"],[\"Caught the first glimpse of land while crossing the Mediterranean Sea.\",\"Left their barque at Malta and took passage on board the steamer 'Brigand'.\",\"Visited Beir\\u00fbt, observing its white terraced houses and the lifestyles of its inhabitants.\",\"Secured lodgings at 'La Bellevue' hotel in Beir\\u00fbt, a half oriental, half European establishment.\",\"Admired the snowy peaks of Lebanon from Beir\\u00fbt.\",\"Walked on the floor of an old Roman mansion in Beir\\u00fbt, reflecting on its history.\",\"Preparations and anticipation for the journey towards Jerusalem.\"],[\"Mediterranean Sea\",\"Malta\",\"Beirut\",\"The Bellevue-Stratford Hotel\",\"Lebanon\",\"Mansion\",\"Jerusalem\"]]},\"title\":\"Interactive Data for Chapter: 1\"}],\"label\":\"Chapter 1\",\"method\":\"restyle\"},{\"args\":[{\"cells\":{\"values\":[[\"Beirut\",\"Roadside khan\",\"Nebi-Yunas khan\",\"Sidon\",\"Tyre\",\"St. Jean d'Acre\",\"Plain of Esdraelon\",\"Mount Carmel\",\"Ahtlit\",\"Tantura\",\"C\\u00e6sarea\",\"Valley of Sharon\",\"Jaffa\",\"Ramleh\",\"Lydda\",\"Jerusalem\"],[\"mentioned\",\"stayed\",\"stayed\",\"visited\",\"visited\",\"passed\",\"passed\",\"visited\",\"passed\",\"stayed\",\"visited\",\"passed\",\"stayed\",\"visited\",\"passed\",\"visited\"],[\"The journey starts from Beirut, setting the beginning of the travel.\",\"Stopped for lunch at a roadside khan, experiencing poor shelter in the rain.\",\"Spent a night at the Nebi-Yunas khan, encountering basic and uncomfortable accommodations.\",\"Visited the city of Sidon, observing its decline and ruins.\",\"Reached Tyre, observing the city's desolation and fishermen's nets.\",\"Passed by St. Jean d'Acre, briefly noting its walls and ruins.\",\"Traversed the Plain of Esdraelon, noted for its historical battles.\",\"Climbed Mount Carmel on foot, visiting the Convent of Elijah.\",\"Passed the ruins of Ahtlit, experiencing a challenging ride.\",\"Spent a night in Tantura, enduring uncomfortable conditions with animals and insects.\",\"Visited C\\u00e6sarea, observing its ruins and recalling historical events.\",\"Passed through the Valley of Sharon, admired its floral beauty.\",\"Stayed in Jaffa, visiting historical sites and experiencing the town.\",\"Visited Ramleh, staying at a convent and exploring the area.\",\"Passed by the site of the ancient city Lydda.\",\"Arrived in Jerusalem, exploring its significant religious and historical sites.\"],[\"Beirut\",\"Roadside Romeo\",\"Stalemate in Southern Palestine\",null,\"Tire\",\"Acre, Israel\",\"Jezreel Valley\",\"Mount Carmel\",null,\"Tanpura\",\"Julius Caesar\",null,\"Jaffe\",null,null,\"Jerusalem\"]]},\"title\":\"Interactive Data for Chapter: 2\"}],\"label\":\"Chapter 2\",\"method\":\"restyle\"},{\"args\":[{\"cells\":{\"values\":[[\"Jerusalem\",\"Bethlehem\",\"Bethany\",\"Gethsemane\",\"Calvary\",\"Mount Olivet\",\"Zion\",\"Akra\",\"Bezetha\",\"Moriah\",\"Damascus Gate\",\"St. Stephen's Gate\",\"Church of Ascension\",\"Golden Gate\",\"Zion Gate\",\"Jaffa Gate\",\"Mugrabin Gate\",\"Virgin's Fount\",\"Pool of Siloam\",\"Well of Nehemiah Yuab\",\"Fortress of David\",\"Church of Yacobeiah\",\"Church of St. James\",\"Armenian Patriarch's palace\",\"Tomb of David\",\"Via Dolorosa\",\"Pool of Bethesda\",\"Church of St. Anne\",\"Governor of Jerusalem's residence\",\"Church of the Holy Sepulchre\",\"Church of Flagellation\",\"King Baldwin's Bath\"],[\"visited\",\"mentioned\",\"mentioned\",\"mentioned\",\"mentioned\",\"mentioned\",\"observed\",\"observed\",\"observed\",\"observed\",\"visited\",\"visited\",\"observed\",\"observed\",\"visited\",\"visited\",\"mentioned\",\"mentioned\",\"mentioned\",\"mentioned\",\"visited\",\"visited\",\"visited\",\"passed\",\"visited\",\"visited\",\"observed\",\"observed\",\"visited\",\"visited\",\"passed\",\"observed\"],[\"Visited and explored various localities in and around Jerusalem.\",\"Plans to visit Bethlehem and reflect on the birth of Christ.\",\"Intends to visit Bethany and read about the resurrection of Lazarus.\",\"Looks forward to visiting Gethsemane to contemplate Christ's agony.\",\"Aims to visit Calvary and reflect on the story of Christ's death.\",\"Anticipates visiting Mount Olivet to consider Christ's ascension.\",\"Observed the hill of Zion, a significant location in Jerusalem.\",\"Noted the hill of Akra while exploring Jerusalem.\",\"Bezetha, one of the hills on which Jerusalem is situated, was observed.\",\"Observed Moriah, another hill forming part of Jerusalem's landscape.\",\"Visited the Damascus Gate, located midway along the northern wall of Jerusalem.\",\"Visited St. Stephen's Gate, facing Mount Olivet.\",\"Observed the Church of Ascension while near St. Stephen's Gate.\",\"Observed the now closed Golden Gate of the Temple wall.\",\"Visited Zion Gate, located near the southern part of Jerusalem.\",\"Visited Jaffa Gate, situated near the west of Jerusalem.\",\"Mentioned the Mugrabin Gate in the context of the city's water supply.\",\"Mentioned Virgin's Fount in relation to Jerusalem's water sources.\",\"Referred to the Pool of Siloam as part of Jerusalem's water infrastructure.\",\"Mentioned the Well of Nehemiah Yuab (En-rogel) in the context of water access.\",\"Visited the Fortress of David, including the Tower of Hippicus.\",\"Visited the ruins of the Church of Yacobeiah, a relic of the crusaders.\",\"Visited the Church of St. James, related to the beheading of Apostle James.\",\"Passed the palace of the Armenian Patriarch.\",\"Visited the Tomb of David and associated religious sites.\",\"Walked along the Via Dolorosa, reflecting on Christ's journey to crucifixion.\",\"Observed the site thought to be the Pool of Bethesda.\",\"Observed the Church of St. Anne, believed to be the birthplace of the Virgin Mary.\",\"Visited the residence of the Governor of Jerusalem, site of the Fortress of Antonia.\",\"Visited the Church of the Holy Sepulchre, a key religious site.\",\"Passed by the Church of Flagellation.\",\"Observed King Baldwin's Bath, a preserved historical building.\"],[\"Jerusalem\",\"Bethlehem\",\"Bethany\",\"Gethsemane\",\"Calgary\",\"Mount of Olives\",null,\"Akram\",\"Bezetha\",null,\"Damascus Gate\",\"Saint Stephen\",null,null,\"Zion Gate\",\"Jaffa Gate\",\"Gihon Spring\",\"Gihon Spring\",\"Pool of Siloam\",null,\"Boeing B-17 Flying Fortress\",null,null,\"Sis (ancient city)\",\"David's Tomb\",\"Via Dolorosa\",\"Pool of Bethesda\",\"Church of St. Anne, Vilnius\",\"Official residence\",\"Church of the Holy Sepulchre\",\"Church of the Flagellation\",\"Roman Baths (Bath)\"]]},\"title\":\"Interactive Data for Chapter: 3\"}],\"label\":\"Chapter 3\",\"method\":\"restyle\"},{\"args\":[{\"cells\":{\"values\":[[\"Jaffa Gate\",\"Convent of the Cross\",\"Upper Pool of Gihon\",\"Charnel House of the Lion\",\"Grotto of Jeremiah\",\"Valley of Jehosaphat\",\"Pool of Siloam\",\"Virgin's Fount\",\"King's Gardens\",\"Well of Joab\",\"Hill of Scandal\",\"Garden of Gethsemane\",\"Church of the Virgin Mary\",\"Tombs of the Kings\",\"Damascus Gate\",\"Cave of Jeremiah\"],[\"exited\",\"passed\",\"observed\",\"observed\",\"mentioned\",\"passed\",\"visited\",\"observed\",\"passed\",\"visited\",\"passed\",\"observed\",\"visited\",\"visited\",\"approached\",\"visited\"],[\"Exited the city of Jerusalem through Jaffa Gate, bustling with soldiers, Fellahin, and caravans.\",\"Passed by the road leading to the Convent of the Cross.\",\"Observed the Upper Pool of Gihon, a popular bathing place for city residents.\",\"Noted the nearby vaults of the 'Charnel House of the Lion', filled with human skulls.\",\"Mentioned the Grotto of Jeremiah near the Damascus Gate.\",\"Passed through the Valley of Jehosaphat, observing the surroundings.\",\"Visited the Pool of Siloam, known for its five venerated columns.\",\"Observed women descending into the Virgin's Fount to collect water.\",\"Passed by the King's Gardens, noted for lush foliage and fruit groves.\",\"Visited the Well of Joab, a source of water in the confluence of valleys.\",\"Passed the western slope of the Hill of Scandal.\",\"Observed the Garden of Gethsemane from a distance.\",\"Visited the subterranean Church of the Virgin Mary, adorned with lamps and flowers.\",\"Visited the Tombs of the Kings, noted for its elaborately carved entrance and sarcophagi.\",\"Approached the city again, coming close to the Damascus Gate.\",\"Visited the Cave of Jeremiah, believed to be the retreat of the prophet.\"],[\"Jaffa Gate\",\"Magellan's Cross Pavilion\",\"Pool of Siloam\",\"Charnel ground\",\"Church of St. John, Cratloe\",\"Valley of Josaphat\",\"Pool of Siloam\",\"Gihon Spring\",null,\"Books of Samuel\",\"Teapot Dome scandal\",\"Gethsemane\",null,\"Tombs of the Kings (Paphos)\",\"Damascus Gate\",\"David Jeremiah\"]]},\"title\":\"Interactive Data for Chapter: 4\"}],\"label\":\"Chapter 4\",\"method\":\"restyle\"},{\"args\":[{\"cells\":{\"values\":[[\"Gethsemane\",\"Mount Olivet\",\"Church of Ascension\",\"Bethany\",\"Chapel of the Prediction\",\"Jerusalem\"],[\"visited\",\"visited\",\"visited\",\"visited\",\"observed\",\"visited\"],[\"Visited the garden of Gethsemane, now a flower garden with ancient olive trees.\",\"Ascended Mount Olivet, observing the Church of Ascension and the surrounding village.\",\"Visited the Church of Ascension, observing the foot and staff imprint in solid rock.\",\"Traveled to Bethany, visiting the cave identified as the tomb of Lazarus.\",\"Observed the Chapel of the Prediction, built on the rock where Christ lamented over Jerusalem.\",\"Visited Jerusalem, reflecting on its history and current state.\"],[\"Gethsemane\",\"Mount of Olives\",null,\"Bethany\",\"List of dates predicted for apocalyptic events\",\"Jerusalem\"]]},\"title\":\"Interactive Data for Chapter: 5\"}],\"label\":\"Chapter 5\",\"method\":\"restyle\"},{\"args\":[{\"cells\":{\"values\":[[\"Mount Olivet\",\"Village at the top of the mountain\",\"Well near the village\",\"Pathway from the city to Jordan\"],[\"stayed\",\"visited\",\"observed\",\"visited\"],[\"Stayed at a summer residence on Mount Olivet, overlooking the Kedron, surrounded by hills abundant in grapes, pomegranates, almonds, apricots, and figs.\",\"Visited the village for the reception of the Pacha and his Hareem, and engaged in exchanges with the local villagers.\",\"Observed village maidens at the well near the camping ground, reflecting on the traditional role of women in water collection.\",\"Visited and reflected upon the historical significance of the pathway leading from the city to Jordan, by way of Bahurim.\"],[\"Mount of Olives\",\"Mountain Top, Pennsylvania\",null,null]]},\"title\":\"Interactive Data for Chapter: 6\"}],\"label\":\"Chapter 6\",\"method\":\"restyle\"},{\"args\":[{\"cells\":{\"values\":[[\"Valley of Jehosaphat\",\"Mount Olivet\",\"Bethany\",\"Apostles' Fountain\",\"Wilderness of Judea\",\"Mount Quarantina\",\"Dead Sea\",\"Jericho\",\"Fountain of Elisha\",\"Jordan River\",\"Mount Zion\"],[\"passed\",\"passed\",\"passed\",\"passed\",\"observed\",\"observed\",\"visited\",\"stayed\",\"visited\",\"visited\",\"stayed\"],[\"Passed through the Valley of Jehosaphat.\",\"Passed Mount Olivet.\",\"Passed by the now palmless Bethany.\",\"Passed the Apostles' Fountain.\",\"Observed the Wilderness of Judea.\",\"Observed Mount Quarantina.\",\"Visited the Dead Sea, experiencing its unique properties.\",\"Stayed the night in Jericho.\",\"Visited the Fountain of Elisha.\",\"Visited the Jordan River, at the traditional baptism site of Christ.\",\"Returned to residence on Mount Zion.\"],[\"Valley of Josaphat\",\"Mount of Olives\",\"Bethany\",\"Paul the Apostle\",\"Mattathias\",\"Mount of Temptation\",null,\"Jericho\",null,\"Jordan River\",\"Mount Zion\"]]},\"title\":\"Interactive Data for Chapter: 7\"}],\"label\":\"Chapter 7\",\"method\":\"restyle\"},{\"args\":[{\"cells\":{\"values\":[[\"Road from Jerusalem to Bethlehem\",\"Bethlehem\",\"Church and Monastery covering the Cave of the Nativity\",\"Cave of the Nativity\",\"Schoolroom of Miss Williams\",\"Jerome's Cave\",\"Joseph's House\",\"The Manger\",\"Church of St. Helena\",\"Grotto of the Nativity\"],[\"passed\",\"visited\",\"visited\",\"visited\",\"visited\",\"visited\",\"visited\",\"visited\",\"stayed\",\"visited\"],[\"Passed through the rough and stony road from Jerusalem to Bethlehem, with a mention of the Plain of Rephaim.\",\"Visited Bethlehem, described as standing on a hill and having a fine appearance from a distance.\",\"Visited the Church and Monastery covering the Cave of the Nativity, noted for its imposing appearance and elegant Corinthian pillars.\",\"Visited the Cave of the Nativity, described as being lighted by lamps and containing a silver star marking the birthplace of Jesus.\",\"Visited the schoolroom of Miss Williams, engaged in teaching Arab children.\",\"Visited the site of Jerome's Cave.\",\"Visited the site reputed to be Joseph's House.\",\"Visited the site known as 'The Manger'.\",\"Stayed at the Church of St. Helena after being expelled from the Church of the Nativity.\",\"Visited the Grotto of the Nativity.\"],[\"Bethlehem\",\"Bethlehem\",\"Church of the Nativity\",\"Church of the Nativity\",null,\"Church of the Nativity\",\"Joseph (Genesis)\",\"Management\",\"Jamestown, Saint Helena\",\"Church of the Nativity\"]]},\"title\":\"Interactive Data for Chapter: 8\"}],\"label\":\"Chapter 8\",\"method\":\"restyle\"},{\"args\":[{\"cells\":{\"values\":[[\"Mount Olivet\",\"Church of Ascension\",\"Wady Farah\",\"Valley of Delight\",\"Enon near to Salim\",\"Liftah (Nephtoah)\",\"Jerusalem\"],[\"passed\",\"observed\",\"visited\",\"visited\",\"mentioned\",\"visited\",\"stayed\"],[\"Passed by Mount Olivet while traveling to Wady Farah.\",\"Observed the Church of Ascension while passing by on the journey.\",\"Visited Wady Farah, described as a lovely spot near the Holy City.\",\"Visited the Valley of Delight, encountering peaceful nature and historical ruins.\",\"Mentioned as a possible identification for Wady Farah, due to its biblical significance.\",\"Visited Liftah, identified as Nephtoah in the Bible, and noted for its fountain.\",\"Stayed in Jerusalem, as it was the central location for the excursions.\"],[\"Mount of Olives\",null,\"Fara, Safad\",\"Valley of Heart's Delight\",\"New Testament places associated with Jesus\",null,\"Jerusalem\"]]},\"title\":\"Interactive Data for Chapter: 9\"}],\"label\":\"Chapter 9\",\"method\":\"restyle\"},{\"args\":[{\"cells\":{\"values\":[[\"Mosque of Omar\",\"Temple enclosure\",\"Church of St. Anne\",\"Golden Gate\",\"Mosque of Aksa\",\"Sedna Esa\",\"Cave of the Sakhrah\",\"Solomon's Temple\"],[\"visited\",\"visited\",\"observed\",\"mentioned\",\"visited\",\"mentioned\",\"visited\",\"mentioned\"],[\"Visited and was delighted by the Mosque of Omar, surprised by the invitation from Turkish friends.\",\"Visited the Temple enclosure, feeling a sense of privilege walking on its hallowed ground.\",\"Observed the view of the Haram es-Sherif from the Church of St. Anne.\",\"Mentioned the presence of many women around the Golden Gate during the visit to the enclosure.\",\"Visited the Mosque of Aksa, noting its intricate design and the differentiation in worship areas for men and women.\",\"Mentioned Sedna Esa, the reputed cradle of Jesus, but found it closed during the visit.\",\"Visited the Cave of the Sakhrah, located beneath the Mosque of Omar, noting its religious significance.\",\"Mentioned the site believed to be Solomon's Temple, imagining its historical and religious significance.\"],[\"Mosque of Omar\",\"Serapeum of Saqqara\",\"Church of St. Anne, Vilnius\",null,\"Al-Aqsa\",\"90377 Sedna\",\"Well of Souls\",\"Solomon's Temple\"]]},\"title\":\"Interactive Data for Chapter: 10\"}],\"label\":\"Chapter 10\",\"method\":\"restyle\"},{\"args\":[{\"cells\":{\"values\":[[\"Parley Room\",\"Tomb of David\",\"Turfendah's Home\",\"Mosque of Omar\",\"Zion Gate\",\"Coenaculum\",\"Keeper's Hareem\",\"Author's Home\"],[\"stayed\",\"visited\",\"visited\",\"mentioned\",\"observed\",\"observed\",\"visited\",\"stayed\"],[\"The author was called to the parley room early one morning during the feast of Rhamadan.\",\"The author planned and eventually visited the Tomb of David.\",\"Visited Turfendah's home to select clothes for a disguise.\",\"The author recalls a previous adventure at the Mosque of Omar.\",\"Passed by the Zion Gate en route to the Tomb of David.\",\"Noted the Coenaculum while visiting the Tomb of David.\",\"Was invited to see the keeper's hareem during the visit to the Tomb of David.\",\"The author returned home after the visit, feeling relieved to be out of danger and disguise.\"],[\"Parley Baer\",\"David's Tomb\",null,\"Mosque of Omar\",\"Zion Gate\",\"Coenaculum\",\"Muhte\\u015fem Y\\u00fczy\\u0131l\",\"Writer's home\"]]},\"title\":\"Interactive Data for Chapter: 11\"}],\"label\":\"Chapter 11\",\"method\":\"restyle\"},{\"args\":[{\"cells\":{\"values\":[[\"Jerusalem\",\"House of Bash Catib\",\"Neby Da\\u00fbd\",\"Jewish quarter\"],[\"stayed\",\"visited\",\"visited\",\"passed by\"],[\"Stayed in Jerusalem, where the wedding of Effendi Moosa and Dahudeiah was a topic of conversation.\",\"Visited the house of Bash Catib for the wedding celebration.\",\"Visited Neby Da\\u00fbd, the residence of the bride, to participate in the wedding procession.\",\"Passed through the dark alleys of the Jewish quarter during the wedding procession.\"],[\"Jerusalem\",null,\"Prophets and messengers in Islam\",\"Jewish Quarter (Jerusalem)\"]]},\"title\":\"Interactive Data for Chapter: 12\"}],\"label\":\"Chapter 12\",\"method\":\"restyle\"},{\"args\":[{\"cells\":{\"values\":[[\"Damascus\",\"Jerusalem\",\"bazaars of Jerusalem\",\"Wady el Wer\",\"Bethlehem\",\"Church of the Holy Sepulchre\"],[\"mentioned\",\"visited\",\"visited\",\"mentioned\",\"mentioned\",\"mentioned\"],[\"Referred to as a beautiful city with incomparable bazaars, but distinct from Jerusalem.\",\"Visited for shopping in its bazaars, exploring its streets and observing its unique atmosphere.\",\"Visited the bazaars of Jerusalem, noting their variety of costumes and diverse crowd.\",\"Mentioned as the source of roses used for making rose water sold in the bazaars.\",\"Referenced in relation to pearl trinkets made by Bethlehemites, sold in Jerusalem bazaars.\",\"Mentioned in relation to trinkets sold in the bazaars that imitate the church's design.\"],[\"Damascus\",\"Jerusalem\",\"Bazaar\",null,\"Bethlehem\",\"Church of the Holy Sepulchre\"]]},\"title\":\"Interactive Data for Chapter: 13\"}],\"label\":\"Chapter 13\",\"method\":\"restyle\"},{\"args\":[{\"cells\":{\"values\":[[\"Bazaar\",\"Home of Turfendah and friends\",\"Bathing Establishment\",\"Dressing-room in Bathing Establishment\"],[\"passed\",\"stayed\",\"visited\",\"stayed\"],[\"Escaped the noisy bazaar in the city.\",\"Dinner and preparations for the bath were done at the home of Turfendah and her friends.\",\"Visited one of the finest bathing establishments in the city for an afternoon bath.\",\"Used the dressing-room in the bathing establishment for changing and resting.\"],[\"Bazaar\",null,\"Bathing\",\"Changing room\"]]},\"title\":\"Interactive Data for Chapter: 14\"}],\"label\":\"Chapter 14\",\"method\":\"restyle\"},{\"args\":[{\"cells\":{\"values\":[[\"Private house in the Jewish quarter\",\"Hackm\\u00e8 or dispensary\",\"House's kitchen\",\"House's upper court\",\"Housetop terrace\",\"Valley of the Tyropoon\",\"Mount Olivet\",\"Temple enclosure\",\"Mugrabin quarter\",\"Mount Zion\",\"Council Chamber or Sanhedrim\",\"Cheesemongers' Valley\"],[\"stayed\",\"visited\",\"observed\",\"visited\",\"visited\",\"observed\",\"observed\",\"observed\",\"observed\",\"observed\",\"visited\",\"observed\"],[\"Stayed in a private house situated in the Jewish quarter, featuring a large stone-paved court and various rooms.\",\"Visited the hackm\\u00e8 or dispensary, which opens on one side of the square court of the house.\",\"Observed the unique kitchen of the house, featuring Arab copper kettles and a stone fireplace.\",\"Visited the small upper court of the house, leading to a chamber and dining room.\",\"Visited the housetop terrace of the house, enclosed by a five-foot-high wall.\",\"Observed the Valley of the Tyropoon from a high vantage point in the house.\",\"Observed Mount Olivet from the house, located opposite to it.\",\"Observed the Temple enclosure from a distance, visible from the house.\",\"Observed the Mugrabin quarter in the valley, visible from the house.\",\"Observed Mount Zion, noted for its picturesque and dilapidated buildings.\",\"Visited the Council Chamber, or Sanhedrim, identified as the Mechemeh or Congressional Hall of Jerusalem.\",\"Observed the Cheesemongers' Valley, also known as the Tyropoon Valley, from a distance.\"],[\"Jewish Quarter (Jerusalem)\",null,\"Kitchen\",\"Ume\\u00e5\",\"Anjunabeats Volume 7\",null,\"Mount of Olives\",\"Serapeum of Saqqara\",null,\"Mount Zion\",\"List of North American fraternal orders\",\"Mount Zion\"]]},\"title\":\"Interactive Data for Chapter: 16\"}],\"label\":\"Chapter 16\",\"method\":\"restyle\"},{\"args\":[{\"cells\":{\"values\":[[\"Mount Zion\",\"Church of the Holy Sepulchre\",\"Temple Walls\",\"Tomb of Rachel\",\"Ephrath (Ephratah)\",\"Bethlehem\",\"Synagogues in Jerusalem\"],[\"mentioned\",\"mentioned\",\"visited\",\"observed\",\"mentioned\",\"mentioned\",\"visited\"],[\"Mentioned as a place of significance and attachment for the Jewish people living in Jerusalem.\",\"Mentioned as a place where Jews are not allowed to enter.\",\"Visited for devotional purposes, particularly on Fridays, where Jews lament the destruction of their Temple.\",\"Observed as a venerated site near Bethlehem, important in Jewish tradition.\",\"Mentioned in relation to the Tomb of Rachel, as a nearby location.\",\"Mentioned in the context of the Tomb of Rachel and its proximity.\",\"Visited by the author, observing the conduct of worship and rituals.\"],[\"Mount Zion\",\"Church of the Holy Sepulchre\",\"Kailasanathar Temple, Kanchipuram\",\"Rachel's Tomb\",\"Ephrath\",\"Bethlehem\",\"Synagogues of Jerusalem\"]]},\"title\":\"Interactive Data for Chapter: 18\"}],\"label\":\"Chapter 18\",\"method\":\"restyle\"},{\"args\":[{\"cells\":{\"values\":[[\"Church of the Holy Sepulchre\",\"Stone of Unction\",\"Scene of the Crucifixion\",\"Chapel of the Holy Cross\",\"Tomb of Joseph of Arimathea\",\"Subterranean part of the Church\",\"Church of the Nativity\"],[\"visited\",\"observed\",\"visited\",\"visited\",\"observed\",\"visited\",\"mentioned\"],[\"Visited the Church of the Holy Sepulchre, observing its interior and the activities of pilgrims.\",\"Observed the Stone of Unction, believed to be where Christ was anointed.\",\"Visited the site within the church marking the scene of the Crucifixion.\",\"Entered the chapel where the cross was found, associated with Empress Helena.\",\"Observed the Tomb of Joseph of Arimathea, among other sites in the church.\",\"Explored the subterranean parts of the Church of the Holy Sepulchre.\",\"Mentioned in context of the Bethlehemites seeking holy fire for this church.\"],[\"Church of the Holy Sepulchre\",\"The Entombment of Christ (Caravaggio)\",\"Crucifixion of Jesus\",\"Chapel of the Holy Cross (Sedona, Arizona)\",\"Joseph of Arimathea\",\"Monolithic church\",\"Church of the Nativity\"]]},\"title\":\"Interactive Data for Chapter: 19\"}],\"label\":\"Chapter 19\",\"method\":\"restyle\"},{\"args\":[{\"cells\":{\"values\":[[\"Jerusalem\",\"Bethlehem\",\"Gardens of Solomon\",\"Mount Olivet\",\"Syria\"],[\"observed\",\"mentioned\",\"mentioned\",\"observed\",\"visited\"],[\"Observed the mild winters and enjoyed summer breezes in Jerusalem, noting its diverse climate.\",\"Mentioned Bethlehem in the context of the Gardens of Solomon.\",\"Referred to the Gardens of Solomon near Bethlehem, famous for its varied and luscious fruits.\",\"Observed Mount Olivet, noting its plantation of olive, fig, pomegranate, mulberry, and almond trees.\",\"Visited different parts of Syria, experiencing its abundant fruits and vegetation.\"],[\"Jerusalem\",\"Bethlehem\",\"Solomons cockatoo\",\"Mount of Olives\",\"Serbia\"]]},\"title\":\"Interactive Data for Chapter: 20\"}],\"label\":\"Chapter 20\",\"method\":\"restyle\"}],\"direction\":\"down\",\"showactive\":true}]},                        {\"responsive\": true}                    ).then(function(){\n",
       "                            \n",
       "var gd = document.getElementById('6c4a4abd-c41f-4f34-8992-281555de6dd7');\n",
       "var x = new MutationObserver(function (mutations, observer) {{\n",
       "        var display = window.getComputedStyle(gd).display;\n",
       "        if (!display || display === 'none') {{\n",
       "            console.log([gd, 'removed!']);\n",
       "            Plotly.purge(gd);\n",
       "            observer.disconnect();\n",
       "        }}\n",
       "}});\n",
       "\n",
       "// Listen for the removal of the full notebook cells\n",
       "var notebookContainer = gd.closest('#notebook-container');\n",
       "if (notebookContainer) {{\n",
       "    x.observe(notebookContainer, {childList: true});\n",
       "}}\n",
       "\n",
       "// Listen for the clearing of the current output cell\n",
       "var outputEl = gd.closest('.output');\n",
       "if (outputEl) {{\n",
       "    x.observe(outputEl, {childList: true});\n",
       "}}\n",
       "\n",
       "                        })                };                });            </script>        </div>"
      ]
     },
     "metadata": {},
     "output_type": "display_data"
    },
    {
     "name": "stdout",
     "output_type": "stream",
     "text": [
      "HTML file saved: interactive_table_fin.html\n"
     ]
    }
   ],
   "source": [
    "import pandas as pd\n",
    "import plotly.graph_objs as go\n",
    "\n",
    "# Replace 'your_file.xlsx' with the path to your Excel file\n",
    "file_path = 'Data/final.xlsx'\n",
    "\n",
    "# Read the Excel file\n",
    "df = pd.read_excel(file_path)\n",
    "\n",
    "# Assuming 'chapter' is a categorical column you want to filter by\n",
    "chapters = df['Chapter'].unique()\n",
    "\n",
    "# Function to create table data for a selected chapter\n",
    "def create_table_data(chapter):\n",
    "    filtered_df = df[df['Chapter'] == chapter]\n",
    "    return [go.Table(\n",
    "        header=dict(\n",
    "            values=['Place', 'Interaction', 'Description', 'Wiki Name'],\n",
    "            fill_color='#EDBB99',\n",
    "            align='left'\n",
    "        ),\n",
    "        cells=dict(\n",
    "            values=[\n",
    "                filtered_df.Place, \n",
    "                filtered_df.interaction, \n",
    "                filtered_df.description, \n",
    "                filtered_df['Wiki Name']\n",
    "            ],\n",
    "            fill_color='#FEF9E7',\n",
    "            align='left'\n",
    "        )\n",
    "    )]\n",
    "\n",
    "# Initial table with the first chapter's data\n",
    "fig = go.Figure(data=create_table_data(chapters[0]))\n",
    "\n",
    "# Update the layout to add a dropdown menu\n",
    "fig.update_layout(\n",
    "    title=f'Interactive Data for Chapter: {chapters[0]}',\n",
    "    updatemenus=[\n",
    "        {\n",
    "            'buttons': [\n",
    "                {\n",
    "                    'label': f\"Chapter {ch}\",\n",
    "                    'method': 'restyle',\n",
    "                    'args': [\n",
    "                        {\n",
    "                            'cells': {\n",
    "                                'values': [\n",
    "                                    df[df['Chapter'] == ch]['Place'], \n",
    "                                    df[df['Chapter'] == ch]['interaction'], \n",
    "                                    df[df['Chapter'] == ch]['description'],\n",
    "                                    df[df['Chapter'] == ch]['Wiki Name']\n",
    "                                ]\n",
    "                            },\n",
    "                            'title': f'Interactive Data for Chapter: {ch}'\n",
    "                        }\n",
    "                    ]\n",
    "                } for ch in chapters\n",
    "            ],\n",
    "            'direction': 'down',\n",
    "            'showactive': True,\n",
    "        }\n",
    "    ]\n",
    ")\n",
    "\n",
    "fig.show()\n",
    "# Save the figure as an HTML file\n",
    "html_file_path = 'interactive_table_fin.html'\n",
    "fig.write_html(html_file_path)\n",
    "\n",
    "print(f\"HTML file saved: {html_file_path}\")"
   ]
  },
  {
   "cell_type": "code",
   "execution_count": 37,
   "id": "0f3ef3df",
   "metadata": {
    "collapsed": true
   },
   "outputs": [
    {
     "data": {
      "application/vnd.plotly.v1+json": {
       "config": {
        "plotlyServerURL": "https://plot.ly"
       },
       "data": [
        {
         "hoverinfo": "none",
         "line": {
          "color": "#888",
          "width": 0.5
         },
         "mode": "lines",
         "type": "scatter",
         "x": [
          0.3611330663724148,
          0.18907366272256235,
          null,
          0.18907366272256235,
          0.019009040779528266,
          null,
          0.019009040779528266,
          -0.16043710248233553,
          null,
          -0.16043710248233553,
          -0.10381908782430685,
          null,
          -0.10381908782430685,
          -0.005421117449585988,
          null,
          -0.005421117449585988,
          0.084750922459842,
          null,
          0.084750922459842,
          0.1824424158727375,
          null,
          0.1824424158727375,
          0.28230830009152164,
          null,
          0.28230830009152164,
          0.38330909927320284,
          null,
          0.38330909927320284,
          0.5059060516770808,
          null,
          0.5059060516770808,
          0.5214472088387785,
          null,
          0.5214472088387785,
          0.4637389671579384,
          null,
          0.4637389671579384,
          0.37981366267089217,
          null,
          0.37981366267089217,
          0.2639155469974523,
          null,
          0.2639155469974523,
          0.104300174627003,
          null,
          0.104300174627003,
          -0.046473410110714305,
          null,
          -0.046473410110714305,
          -0.09216603337727357,
          null,
          -0.09216603337727357,
          -0.0682525483679959,
          null,
          -0.0682525483679959,
          0.02622050470489323,
          null,
          0.02622050470489323,
          0.08476673151102167,
          null,
          0.08476673151102167,
          0.08416981156985477,
          null,
          0.08416981156985477,
          0.057673261973969235,
          null,
          0.057673261973969235,
          0.027451657298230847,
          null,
          0.027451657298230847,
          -0.015458685935128596,
          null,
          -0.015458685935128596,
          -0.03869163873571747,
          null,
          -0.03869163873571747,
          0.026969248655643315,
          null,
          0.026969248655643315,
          0.1650801069690146,
          null,
          0.1650801069690146,
          0.25368251284870097,
          null,
          0.25368251284870097,
          0.28347198967355663,
          null,
          0.28347198967355663,
          0.26631140140236553,
          null,
          0.26631140140236553,
          0.25895599738757297,
          null,
          0.25895599738757297,
          0.26404193447883645,
          null,
          0.26404193447883645,
          0.30517311237757655,
          null,
          0.30517311237757655,
          0.3952728459515503,
          null,
          0.3952728459515503,
          0.5358465912745003,
          null,
          0.5358465912745003,
          0.6863256167648213,
          null,
          0.6863256167648213,
          0.7167508215469631,
          null,
          0.7167508215469631,
          0.6913908816677801,
          null,
          0.6913908816677801,
          0.6281948914955245,
          null,
          0.6281948914955245,
          0.5719526181493909,
          null,
          0.5719526181493909,
          0.526499115843966,
          null,
          0.526499115843966,
          0.4572428496625802,
          null,
          0.4572428496625802,
          0.31097032069698455,
          null,
          0.31097032069698455,
          0.16014868253481523,
          null,
          0.16014868253481523,
          0.034855502191513336,
          null,
          0.034855502191513336,
          -0.07361107763695823,
          null,
          -0.07361107763695823,
          -0.214372221795068,
          null,
          -0.214372221795068,
          -0.3780493693304121,
          null,
          -0.3780493693304121,
          -0.5062468177150791,
          null,
          -0.5062468177150791,
          -0.41962826099553624,
          null,
          -0.41962826099553624,
          -0.2569533230838499,
          null,
          -0.2569533230838499,
          -0.07158692930251415,
          null,
          -0.07158692930251415,
          0.12485749118214266,
          null,
          0.12485749118214266,
          0.3126101425184084,
          null,
          0.3126101425184084,
          0.36253572251794336,
          null,
          0.36253572251794336,
          0.28193589232491856,
          null,
          0.28193589232491856,
          0.23376439892052958,
          null,
          0.23376439892052958,
          0.20945649684039266,
          null,
          0.20945649684039266,
          0.2076688609264155,
          null,
          0.2076688609264155,
          0.21611836909827706,
          null,
          0.21611836909827706,
          0.21019758992626023,
          null,
          0.21019758992626023,
          0.18463945656309014,
          null,
          0.18463945656309014,
          0.1508729504155097,
          null,
          0.1508729504155097,
          0.15320631926210787,
          null,
          0.15320631926210787,
          0.2513596179149853,
          null,
          0.2513596179149853,
          0.36982508102042644,
          null,
          0.36982508102042644,
          0.47739402359856037,
          null,
          0.47739402359856037,
          0.5303276091651918,
          null,
          0.5303276091651918,
          0.5909276338916986,
          null,
          0.5909276338916986,
          0.6535358235110174,
          null,
          0.6535358235110174,
          0.6652718400427641,
          null,
          0.6652718400427641,
          0.5927419609201521,
          null,
          0.5927419609201521,
          0.474502244632703,
          null,
          0.474502244632703,
          0.346194029373575,
          null,
          0.346194029373575,
          0.24398665844624046,
          null,
          0.24398665844624046,
          0.21333064624164735,
          null,
          0.21333064624164735,
          0.2208882346844117,
          null,
          0.2208882346844117,
          0.2664402341545019,
          null,
          0.2664402341545019,
          0.3286864816068486,
          null,
          0.3286864816068486,
          0.4035932245703376,
          null,
          0.4035932245703376,
          0.4082517283305159,
          null,
          0.4082517283305159,
          0.270265890343605,
          null,
          0.270265890343605,
          0.11634188176091705,
          null,
          0.11634188176091705,
          -0.04792958791721487,
          null,
          -0.04792958791721487,
          -0.22141904026632414,
          null,
          -0.22141904026632414,
          -0.3994414644144202,
          null,
          -0.3994414644144202,
          -0.5759459547789957,
          null,
          -0.5759459547789957,
          -0.6908583722137733,
          null,
          -0.6908583722137733,
          -0.6019820998613157,
          null,
          -0.6019820998613157,
          -0.4772330224104913,
          null,
          -0.4772330224104913,
          -0.3295285455152314,
          null,
          -0.3295285455152314,
          -0.15894072561966355,
          null,
          -0.15894072561966355,
          -0.06345281279078555,
          null,
          -0.06345281279078555,
          -0.024841208913636528,
          null,
          -0.024841208913636528,
          -0.028704687877947725,
          null,
          -0.028704687877947725,
          -0.044708105754847495,
          null,
          -0.044708105754847495,
          -0.06072676016244888,
          null,
          -0.06072676016244888,
          -0.03305376302865835,
          null,
          -0.03305376302865835,
          0.0954640256338917,
          null,
          0.0954640256338917,
          0.24198866998517035,
          null,
          0.24198866998517035,
          0.3092804468436563,
          null,
          0.3092804468436563,
          0.2975184889822392,
          null,
          0.2975184889822392,
          0.1933839803907733,
          null,
          0.1933839803907733,
          0.058366991079906685,
          null,
          0.058366991079906685,
          -0.06391102641806581,
          null,
          -0.06391102641806581,
          -0.16584713765049144,
          null,
          -0.16584713765049144,
          -0.25454702369538007,
          null,
          -0.25454702369538007,
          -0.39318393796431444,
          null,
          -0.39318393796431444,
          -0.5298908475361237,
          null,
          -0.5298908475361237,
          -0.6480051756166902,
          null,
          -0.6480051756166902,
          -0.7167507400416068,
          null,
          -0.7167507400416068,
          -0.7879454123395795,
          null,
          -0.7879454123395795,
          -0.7932842062738221,
          null,
          -0.7932842062738221,
          -0.8491316448606276,
          null,
          -0.8491316448606276,
          -0.8691007909732438,
          null,
          -0.8691007909732438,
          -0.7997903991092635,
          null,
          -0.7997903991092635,
          -0.7125472213336416,
          null,
          -0.7125472213336416,
          -0.6370089467002981,
          null,
          -0.6370089467002981,
          -0.5847166193918314,
          null,
          -0.5847166193918314,
          -0.5969252479531647,
          null,
          -0.5969252479531647,
          -0.591001542155685,
          null,
          -0.591001542155685,
          -0.5839813642731406,
          null,
          -0.5839813642731406,
          -0.5572415677590485,
          null,
          -0.5572415677590485,
          -0.46141169284358735,
          null,
          -0.46141169284358735,
          -0.36243262678219434,
          null,
          -0.36243262678219434,
          -0.24338101192200165,
          null,
          -0.24338101192200165,
          -0.11554313360614363,
          null,
          -0.11554313360614363,
          0.04207307329246462,
          null,
          0.04207307329246462,
          0.2210215840706871,
          null,
          0.2210215840706871,
          0.3927073037623039,
          null,
          0.3927073037623039,
          0.4521710322622385,
          null,
          0.4521710322622385,
          0.3589263147825305,
          null,
          0.3589263147825305,
          0.1981014466651353,
          null,
          0.1981014466651353,
          0.1660793078852637,
          null,
          0.1660793078852637,
          0.1683413967163196,
          null,
          0.1683413967163196,
          0.23261444104459292,
          null,
          0.23261444104459292,
          0.2868607642907429,
          null,
          0.2868607642907429,
          0.2822915721318962,
          null,
          0.2822915721318962,
          0.18928572052844722,
          null,
          0.18928572052844722,
          0.03444055036441879,
          null,
          0.03444055036441879,
          -0.13539310741542643,
          null,
          -0.13539310741542643,
          -0.3090112459093749,
          null,
          -0.3090112459093749,
          -0.49471161149175225,
          null,
          -0.49471161149175225,
          -0.5295501165497042,
          null,
          -0.5295501165497042,
          -0.4125041361250768,
          null,
          -0.4125041361250768,
          -0.332817038807644,
          null,
          -0.332817038807644,
          -0.2808953054264398,
          null,
          -0.2808953054264398,
          -0.2473101120377596,
          null,
          -0.2473101120377596,
          -0.24594065148777486,
          null,
          -0.24594065148777486,
          -0.23940893290109863,
          null,
          -0.23940893290109863,
          -0.2982037863940355,
          null,
          -0.2982037863940355,
          -0.34791965821747395,
          null,
          -0.34791965821747395,
          -0.31958107385994633,
          null,
          -0.31958107385994633,
          -0.22260968411924836,
          null,
          -0.22260968411924836,
          -0.08277384116133252,
          null,
          -0.08277384116133252,
          0.09479367908887418,
          null,
          0.09479367908887418,
          0.251670348664874,
          null,
          0.251670348664874,
          0.3238881624314838,
          null,
          0.3238881624314838,
          0.2941420053096365,
          null,
          0.2941420053096365,
          0.17395855486707432,
          null,
          0.17395855486707432,
          -0.011635850255258658,
          null,
          -0.011635850255258658,
          -0.17011092398547187,
          null,
          -0.17011092398547187,
          -0.2607550502507112,
          null,
          -0.2607550502507112,
          -0.32689367811948206,
          null,
          -0.32689367811948206,
          -0.3963609879425249,
          null,
          -0.3963609879425249,
          -0.4913359016399306,
          null,
          -0.4913359016399306,
          -0.6190242579383638,
          null,
          -0.6190242579383638,
          -0.7591064874373522,
          null,
          -0.7591064874373522,
          -0.9302989916119399,
          null
         ],
         "y": [
          0.02650252401069051,
          0.07065879323962425,
          null,
          0.07065879323962425,
          0.08120394266249335,
          null,
          0.08120394266249335,
          0.06776574128371467,
          null,
          0.06776574128371467,
          0.06456568779225857,
          null,
          0.06456568779225857,
          0.08325161413346326,
          null,
          0.08325161413346326,
          0.13250095726832606,
          null,
          0.13250095726832606,
          0.18716201555934509,
          null,
          0.18716201555934509,
          0.27558413428040135,
          null,
          0.27558413428040135,
          0.37688114843681764,
          null,
          0.37688114843681764,
          0.467719427329104,
          null,
          0.467719427329104,
          0.3697382056105609,
          null,
          0.3697382056105609,
          0.23355211940526624,
          null,
          0.23355211940526624,
          0.10485784869408354,
          null,
          0.10485784869408354,
          -0.0158574145990916,
          null,
          -0.0158574145990916,
          -0.08706408039441665,
          null,
          -0.08706408039441665,
          -0.05955598138034671,
          null,
          -0.05955598138034671,
          0.06494189425047127,
          null,
          0.06494189425047127,
          0.20148087325538738,
          null,
          0.20148087325538738,
          0.3157924024195624,
          null,
          0.3157924024195624,
          0.2143023199322489,
          null,
          0.2143023199322489,
          0.08757114405549374,
          null,
          0.08757114405549374,
          -0.04382541602331245,
          null,
          -0.04382541602331245,
          -0.16693241914249804,
          null,
          -0.16693241914249804,
          -0.3266474563541745,
          null,
          -0.3266474563541745,
          -0.4477165963982161,
          null,
          -0.4477165963982161,
          -0.5619163531663309,
          null,
          -0.5619163531663309,
          -0.5856973598355216,
          null,
          -0.5856973598355216,
          -0.45652334978611353,
          null,
          -0.45652334978611353,
          -0.28854080888651384,
          null,
          -0.28854080888651384,
          -0.12568498890900306,
          null,
          -0.12568498890900306,
          0.03226644018849722,
          null,
          0.03226644018849722,
          0.18171579747216837,
          null,
          0.18171579747216837,
          0.3237349857070149,
          null,
          0.3237349857070149,
          0.4407445550464712,
          null,
          0.4407445550464712,
          0.49812714082166915,
          null,
          0.49812714082166915,
          0.4523124728600502,
          null,
          0.4523124728600502,
          0.30071475238764017,
          null,
          0.30071475238764017,
          0.146082383685851,
          null,
          0.146082383685851,
          0.021899468353415764,
          null,
          0.021899468353415764,
          -0.10861994006596692,
          null,
          -0.10861994006596692,
          -0.27160354259717007,
          null,
          -0.27160354259717007,
          -0.4404405884753134,
          null,
          -0.4404405884753134,
          -0.5322808712281355,
          null,
          -0.5322808712281355,
          -0.4576694185358996,
          null,
          -0.4576694185358996,
          -0.3672307786603982,
          null,
          -0.3672307786603982,
          -0.24736797301442578,
          null,
          -0.24736797301442578,
          -0.16447580444608054,
          null,
          -0.16447580444608054,
          -0.12427737102113352,
          null,
          -0.12427737102113352,
          -0.17995079768244537,
          null,
          -0.17995079768244537,
          -0.26749219614981545,
          null,
          -0.26749219614981545,
          -0.3061464142907627,
          null,
          -0.3061464142907627,
          -0.3317351763254468,
          null,
          -0.3317351763254468,
          -0.36078841400276934,
          null,
          -0.36078841400276934,
          -0.4342770496517946,
          null,
          -0.4342770496517946,
          -0.5522011282455931,
          null,
          -0.5522011282455931,
          -0.4558321454550386,
          null,
          -0.4558321454550386,
          -0.34169653991035887,
          null,
          -0.34169653991035887,
          -0.2158959077306134,
          null,
          -0.2158959077306134,
          -0.08347596790232653,
          null,
          -0.08347596790232653,
          0.06571837020397485,
          null,
          0.06571837020397485,
          0.21791345547755095,
          null,
          0.21791345547755095,
          0.38751427057417,
          null,
          0.38751427057417,
          0.5658570802994377,
          null,
          0.5658570802994377,
          0.7226998284480908,
          null,
          0.7226998284480908,
          0.7955158509970144,
          null,
          0.7955158509970144,
          0.7192176962268015,
          null,
          0.7192176962268015,
          0.6026957947572423,
          null,
          0.6026957947572423,
          0.47521537291995036,
          null,
          0.47521537291995036,
          0.31671760033691637,
          null,
          0.31671760033691637,
          0.1355762608821262,
          null,
          0.1355762608821262,
          -0.07055009280408558,
          null,
          -0.07055009280408558,
          -0.25925293415581474,
          null,
          -0.25925293415581474,
          -0.4075417328447397,
          null,
          -0.4075417328447397,
          -0.51334315517937,
          null,
          -0.51334315517937,
          -0.5992462546619798,
          null,
          -0.5992462546619798,
          -0.5290599319745182,
          null,
          -0.5290599319745182,
          -0.4103714915715967,
          null,
          -0.4103714915715967,
          -0.2914036518995912,
          null,
          -0.2914036518995912,
          -0.16748779887062043,
          null,
          -0.16748779887062043,
          -0.02710703897180371,
          null,
          -0.02710703897180371,
          0.13748464393247525,
          null,
          0.13748464393247525,
          0.19572674762727071,
          null,
          0.19572674762727071,
          0.19059197044184648,
          null,
          0.19059197044184648,
          0.17166851961981597,
          null,
          0.17166851961981597,
          0.13304773652661403,
          null,
          0.13304773652661403,
          0.10076015254913558,
          null,
          0.10076015254913558,
          0.06184198019983315,
          null,
          0.06184198019983315,
          -0.0397383728351296,
          null,
          -0.0397383728351296,
          -0.14832758359657627,
          null,
          -0.14832758359657627,
          -0.22358112584823445,
          null,
          -0.22358112584823445,
          -0.288343254706928,
          null,
          -0.288343254706928,
          -0.3139018961140316,
          null,
          -0.3139018961140316,
          -0.23192928724408868,
          null,
          -0.23192928724408868,
          -0.12189254121409024,
          null,
          -0.12189254121409024,
          0.010442663099313293,
          null,
          0.010442663099313293,
          0.16600238039248755,
          null,
          0.16600238039248755,
          0.32179167261812414,
          null,
          0.32179167261812414,
          0.5012513265982453,
          null,
          0.5012513265982453,
          0.6082709676775446,
          null,
          0.6082709676775446,
          0.5424298468673614,
          null,
          0.5424298468673614,
          0.381111510498968,
          null,
          0.381111510498968,
          0.2031189021878707,
          null,
          0.2031189021878707,
          0.08428035896676296,
          null,
          0.08428035896676296,
          0.03726986085607811,
          null,
          0.03726986085607811,
          0.06447791729218683,
          null,
          0.06447791729218683,
          0.134223324833293,
          null,
          0.134223324833293,
          0.20735827658686795,
          null,
          0.20735827658686795,
          0.24917249922246895,
          null,
          0.24917249922246895,
          0.2041122066933438,
          null,
          0.2041122066933438,
          0.08155210074882674,
          null,
          0.08155210074882674,
          -0.06488324433580889,
          null,
          -0.06488324433580889,
          -0.16166689934277542,
          null,
          -0.16166689934277542,
          -0.1791345750692468,
          null,
          -0.1791345750692468,
          -0.08241380431481733,
          null,
          -0.08241380431481733,
          0.0646993427536143,
          null,
          0.0646993427536143,
          0.18641319266313858,
          null,
          0.18641319266313858,
          0.28665622054815204,
          null,
          0.28665622054815204,
          0.39849919273813705,
          null,
          0.39849919273813705,
          0.48707930886111056,
          null,
          0.48707930886111056,
          0.5190320442344349,
          null,
          0.5190320442344349,
          0.41565136222252846,
          null,
          0.41565136222252846,
          0.32660505524316685,
          null,
          0.32660505524316685,
          0.2543545844773938,
          null,
          0.2543545844773938,
          0.21486115463528835,
          null,
          0.21486115463528835,
          0.19248498290921653,
          null,
          0.19248498290921653,
          0.19960892182353251,
          null,
          0.19960892182353251,
          0.21391926596186422,
          null,
          0.21391926596186422,
          0.26793121267741793,
          null,
          0.26793121267741793,
          0.2746150815590563,
          null,
          0.2746150815590563,
          0.19830816079833197,
          null,
          0.19830816079833197,
          0.03231928900372679,
          null,
          0.03231928900372679,
          -0.12490010683497435,
          null,
          -0.12490010683497435,
          -0.20952459780059626,
          null,
          -0.20952459780059626,
          -0.1705941031626882,
          null,
          -0.1705941031626882,
          -0.10131679649679808,
          null,
          -0.10131679649679808,
          -0.06425486396662972,
          null,
          -0.06425486396662972,
          -0.10288300284813977,
          null,
          -0.10288300284813977,
          -0.21015768971223991,
          null,
          -0.21015768971223991,
          -0.31348296313212193,
          null,
          -0.31348296313212193,
          -0.3604657777806291,
          null,
          -0.3604657777806291,
          -0.34653512897245686,
          null,
          -0.34653512897245686,
          -0.2664768139889984,
          null,
          -0.2664768139889984,
          -0.20284268281808476,
          null,
          -0.20284268281808476,
          -0.2451076347915929,
          null,
          -0.2451076347915929,
          -0.274268878530202,
          null,
          -0.274268878530202,
          -0.22316516977441528,
          null,
          -0.22316516977441528,
          -0.13454663550205162,
          null,
          -0.13454663550205162,
          -0.027567832416414022,
          null,
          -0.027567832416414022,
          0.08380259550606828,
          null,
          0.08380259550606828,
          0.17828019669080375,
          null,
          0.17828019669080375,
          0.23264244673876897,
          null,
          0.23264244673876897,
          0.12547610565642664,
          null,
          0.12547610565642664,
          -0.03181773382089308,
          null,
          -0.03181773382089308,
          -0.1723280451221762,
          null,
          -0.1723280451221762,
          -0.28304942687732937,
          null,
          -0.28304942687732937,
          -0.3092561599715316,
          null,
          -0.3092561599715316,
          -0.21955463190925012,
          null,
          -0.21955463190925012,
          -0.045005121964258044,
          null,
          -0.045005121964258044,
          0.16262619138987294,
          null,
          0.16262619138987294,
          0.3433168703085739,
          null,
          0.3433168703085739,
          0.39848073627486547,
          null,
          0.39848073627486547,
          0.30263760887098773,
          null,
          0.30263760887098773,
          0.13712300317501536,
          null,
          0.13712300317501536,
          -0.047593398005543165,
          null,
          -0.047593398005543165,
          -0.231687042463399,
          null,
          -0.231687042463399,
          -0.42647490443487746,
          null,
          -0.42647490443487746,
          -0.6254447489076029,
          null,
          -0.6254447489076029,
          -0.8027852551948266,
          null,
          -0.8027852551948266,
          -1,
          null
         ]
        },
        {
         "hoverinfo": "text",
         "marker": {
          "color": [
           "#636EFA",
           "#636EFA",
           "#636EFA",
           "#636EFA",
           "#636EFA",
           "#636EFA",
           "#636EFA",
           "#EF553B",
           "#EF553B",
           "#EF553B",
           "#EF553B",
           "#EF553B",
           "#EF553B",
           "#EF553B",
           "#EF553B",
           "#EF553B",
           "#EF553B",
           "#EF553B",
           "#EF553B",
           "#EF553B",
           "#EF553B",
           "#EF553B",
           "#EF553B",
           "#00CC96",
           "#00CC96",
           "#00CC96",
           "#00CC96",
           "#00CC96",
           "#00CC96",
           "#00CC96",
           "#00CC96",
           "#00CC96",
           "#00CC96",
           "#00CC96",
           "#00CC96",
           "#00CC96",
           "#00CC96",
           "#00CC96",
           "#00CC96",
           "#00CC96",
           "#00CC96",
           "#00CC96",
           "#00CC96",
           "#00CC96",
           "#00CC96",
           "#00CC96",
           "#00CC96",
           "#00CC96",
           "#00CC96",
           "#00CC96",
           "#00CC96",
           "#00CC96",
           "#00CC96",
           "#00CC96",
           "#00CC96",
           "#AB63FA",
           "#AB63FA",
           "#AB63FA",
           "#AB63FA",
           "#AB63FA",
           "#AB63FA",
           "#AB63FA",
           "#AB63FA",
           "#AB63FA",
           "#AB63FA",
           "#AB63FA",
           "#AB63FA",
           "#AB63FA",
           "#AB63FA",
           "#AB63FA",
           "#AB63FA",
           "#FFA15A",
           "#FFA15A",
           "#FFA15A",
           "#FFA15A",
           "#FFA15A",
           "#FFA15A",
           "#19D3F3",
           "#19D3F3",
           "#19D3F3",
           "#19D3F3",
           "#FF6692",
           "#FF6692",
           "#FF6692",
           "#FF6692",
           "#FF6692",
           "#FF6692",
           "#FF6692",
           "#FF6692",
           "#FF6692",
           "#FF6692",
           "#FF6692",
           "#B6E880",
           "#B6E880",
           "#B6E880",
           "#B6E880",
           "#B6E880",
           "#B6E880",
           "#B6E880",
           "#B6E880",
           "#B6E880",
           "#B6E880",
           "#FF97FF",
           "#FF97FF",
           "#FF97FF",
           "#FF97FF",
           "#FF97FF",
           "#FF97FF",
           "#FF97FF",
           "#FECB52",
           "#FECB52",
           "#FECB52",
           "#FECB52",
           "#FECB52",
           "#FECB52",
           "#FECB52",
           "#FECB52",
           "#636EFA",
           "#636EFA",
           "#636EFA",
           "#636EFA",
           "#636EFA",
           "#636EFA",
           "#636EFA",
           "#636EFA",
           "#EF553B",
           "#EF553B",
           "#EF553B",
           "#EF553B",
           "#00CC96",
           "#00CC96",
           "#00CC96",
           "#00CC96",
           "#00CC96",
           "#00CC96",
           "#AB63FA",
           "#AB63FA",
           "#AB63FA",
           "#AB63FA",
           "#FFA15A",
           "#FFA15A",
           "#FFA15A",
           "#FFA15A",
           "#FFA15A",
           "#FFA15A",
           "#FFA15A",
           "#FFA15A",
           "#FFA15A",
           "#FFA15A",
           "#FFA15A",
           "#FFA15A",
           "#19D3F3",
           "#19D3F3",
           "#19D3F3",
           "#19D3F3",
           "#19D3F3",
           "#19D3F3",
           "#19D3F3",
           "#FF6692",
           "#FF6692",
           "#FF6692",
           "#FF6692",
           "#FF6692",
           "#FF6692",
           "#FF6692",
           "#B6E880",
           "#B6E880",
           "#B6E880",
           "#B6E880",
           "#B6E880"
          ],
          "line": {
           "width": 2
          },
          "showscale": false,
          "size": [
           5,
           5,
           5,
           5,
           5,
           5,
           40,
           5,
           5,
           5,
           5,
           5,
           5,
           5,
           5,
           5,
           5,
           5,
           5,
           5,
           5,
           5,
           40,
           40,
           25,
           15,
           10,
           5,
           35,
           5,
           5,
           5,
           5,
           10,
           5,
           15,
           10,
           10,
           10,
           5,
           10,
           10,
           5,
           5,
           5,
           5,
           5,
           10,
           5,
           5,
           10,
           5,
           20,
           5,
           5,
           10,
           5,
           5,
           5,
           5,
           10,
           10,
           10,
           5,
           5,
           5,
           5,
           5,
           5,
           10,
           5,
           10,
           35,
           15,
           15,
           5,
           40,
           35,
           5,
           5,
           5,
           10,
           35,
           15,
           5,
           5,
           5,
           5,
           5,
           5,
           5,
           15,
           5,
           25,
           5,
           5,
           5,
           5,
           5,
           5,
           5,
           5,
           35,
           15,
           5,
           5,
           5,
           5,
           40,
           10,
           10,
           10,
           10,
           5,
           5,
           5,
           5,
           5,
           10,
           5,
           10,
           10,
           5,
           5,
           5,
           40,
           5,
           5,
           5,
           5,
           40,
           5,
           5,
           25,
           20,
           5,
           5,
           5,
           5,
           5,
           5,
           5,
           5,
           5,
           5,
           35,
           10,
           5,
           15,
           5,
           5,
           15,
           20,
           5,
           5,
           5,
           25,
           5,
           20,
           5,
           5,
           5,
           5,
           5,
           5,
           40,
           25,
           5,
           35,
           5
          ]
         },
         "mode": "markers",
         "text": [
          "1: Mediterranean Sea",
          "2: Malta",
          "3: Beirût",
          "4: La Bellevue Hotel",
          "5: Lebanon",
          "6: Roman Mansion",
          "7: Jerusalem",
          "8: Beirut",
          "9: Roadside khan",
          "10: Nebi-Yunas khan",
          "11: Sidon",
          "12: Tyre",
          "13: St. Jean d'Acre",
          "14: Plain of Esdraelon",
          "15: Mount Carmel",
          "16: Ahtlit",
          "17: Tantura",
          "18: Cæsarea",
          "19: Valley of Sharon",
          "20: Jaffa",
          "21: Ramleh",
          "22: Lydda",
          "23: Jerusalem",
          "24: Jerusalem",
          "25: Bethlehem",
          "26: Bethany",
          "27: Gethsemane",
          "28: Calvary",
          "29: Mount Olivet",
          "30: Zion",
          "31: Akra",
          "32: Bezetha",
          "33: Moriah",
          "34: Damascus Gate",
          "35: St. Stephen's Gate",
          "36: Church of Ascension",
          "37: Golden Gate",
          "38: Zion Gate",
          "39: Jaffa Gate",
          "40: Mugrabin Gate",
          "41: Virgin's Fount",
          "42: Pool of Siloam",
          "43: Well of Nehemiah Yuab",
          "44: Fortress of David",
          "45: Church of Yacobeiah",
          "46: Church of St. James",
          "47: Armenian Patriarch's palace",
          "48: Tomb of David",
          "49: Via Dolorosa",
          "50: Pool of Bethesda",
          "51: Church of St. Anne",
          "52: Governor of Jerusalem's residence",
          "53: Church of the Holy Sepulchre",
          "54: Church of Flagellation",
          "55: King Baldwin's Bath",
          "56: Jaffa Gate",
          "57: Convent of the Cross",
          "58: Upper Pool of Gihon",
          "59: Charnel House of the Lion",
          "60: Grotto of Jeremiah",
          "61: Valley of Jehosaphat",
          "62: Pool of Siloam",
          "63: Virgin's Fount",
          "64: King's Gardens",
          "65: Well of Joab",
          "66: Hill of Scandal",
          "67: Garden of Gethsemane",
          "68: Church of the Virgin Mary",
          "69: Tombs of the Kings",
          "70: Damascus Gate",
          "71: Cave of Jeremiah",
          "72: Gethsemane",
          "73: Mount Olivet",
          "74: Church of Ascension",
          "75: Bethany",
          "76: Chapel of the Prediction",
          "77: Jerusalem",
          "78: Mount Olivet",
          "79: Village at the top of the mountain",
          "80: Well near the village",
          "81: Pathway from the city to Jordan",
          "82: Valley of Jehosaphat",
          "83: Mount Olivet",
          "84: Bethany",
          "85: Apostles' Fountain",
          "86: Wilderness of Judea",
          "87: Mount Quarantina",
          "88: Dead Sea",
          "89: Jericho",
          "90: Fountain of Elisha",
          "91: Jordan River",
          "92: Mount Zion",
          "93: Road from Jerusalem to Bethlehem",
          "94: Bethlehem",
          "95: Church and Monastery covering the Cave of the Nativity",
          "96: Cave of the Nativity",
          "97: Schoolroom of Miss Williams",
          "98: Jerome's Cave",
          "99: Joseph's House",
          "100: The Manger",
          "101: Church of St. Helena",
          "102: Grotto of the Nativity",
          "103: Mount Olivet",
          "104: Church of Ascension",
          "105: Wady Farah",
          "106: Valley of Delight",
          "107: Enon near to Salim",
          "108: Liftah (Nephtoah)",
          "109: Jerusalem",
          "110: Mosque of Omar",
          "111: Temple enclosure",
          "112: Church of St. Anne",
          "113: Golden Gate",
          "114: Mosque of Aksa",
          "115: Sedna Esa",
          "116: Cave of the Sakhrah",
          "117: Solomon's Temple",
          "118: Parley Room",
          "119: Tomb of David",
          "120: Turfendah's Home",
          "121: Mosque of Omar",
          "122: Zion Gate",
          "123: Coenaculum",
          "124: Keeper's Hareem",
          "125: Author's Home",
          "126: Jerusalem",
          "127: House of Bash Catib",
          "128: Neby Daûd",
          "129: Jewish quarter",
          "130: Damascus",
          "131: Jerusalem",
          "132: bazaars of Jerusalem",
          "133: Wady el Wer",
          "134: Bethlehem",
          "135: Church of the Holy Sepulchre",
          "136: Bazaar",
          "137: Home of Turfendah and friends",
          "138: Bathing Establishment",
          "139: Dressing-room in Bathing Establishment",
          "140: Private house in the Jewish quarter",
          "141: Hackmè or dispensary",
          "142: House's kitchen",
          "143: House's upper court",
          "144: Housetop terrace",
          "145: Valley of the Tyropoon",
          "146: Mount Olivet",
          "147: Temple enclosure",
          "148: Mugrabin quarter",
          "149: Mount Zion",
          "150: Council Chamber or Sanhedrim",
          "151: Cheesemongers' Valley",
          "152: Mount Zion",
          "153: Church of the Holy Sepulchre",
          "154: Temple Walls",
          "155: Tomb of Rachel",
          "156: Ephrath (Ephratah)",
          "157: Bethlehem",
          "158: Synagogues in Jerusalem",
          "159: Church of the Holy Sepulchre",
          "160: Stone of Unction",
          "161: Scene of the Crucifixion",
          "162: Chapel of the Holy Cross",
          "163: Tomb of Joseph of Arimathea",
          "164: Subterranean part of the Church",
          "165: Church of the Nativity",
          "166: Jerusalem",
          "167: Bethlehem",
          "168: Gardens of Solomon",
          "169: Mount Olivet",
          "170: Syria"
         ],
         "type": "scatter",
         "x": [
          0.3611330663724148,
          0.18907366272256235,
          0.019009040779528266,
          -0.16043710248233553,
          -0.10381908782430685,
          -0.005421117449585988,
          0.084750922459842,
          0.1824424158727375,
          0.28230830009152164,
          0.38330909927320284,
          0.5059060516770808,
          0.5214472088387785,
          0.4637389671579384,
          0.37981366267089217,
          0.2639155469974523,
          0.104300174627003,
          -0.046473410110714305,
          -0.09216603337727357,
          -0.0682525483679959,
          0.02622050470489323,
          0.08476673151102167,
          0.08416981156985477,
          0.057673261973969235,
          0.027451657298230847,
          -0.015458685935128596,
          -0.03869163873571747,
          0.026969248655643315,
          0.1650801069690146,
          0.25368251284870097,
          0.28347198967355663,
          0.26631140140236553,
          0.25895599738757297,
          0.26404193447883645,
          0.30517311237757655,
          0.3952728459515503,
          0.5358465912745003,
          0.6863256167648213,
          0.7167508215469631,
          0.6913908816677801,
          0.6281948914955245,
          0.5719526181493909,
          0.526499115843966,
          0.4572428496625802,
          0.31097032069698455,
          0.16014868253481523,
          0.034855502191513336,
          -0.07361107763695823,
          -0.214372221795068,
          -0.3780493693304121,
          -0.5062468177150791,
          -0.41962826099553624,
          -0.2569533230838499,
          -0.07158692930251415,
          0.12485749118214266,
          0.3126101425184084,
          0.36253572251794336,
          0.28193589232491856,
          0.23376439892052958,
          0.20945649684039266,
          0.2076688609264155,
          0.21611836909827706,
          0.21019758992626023,
          0.18463945656309014,
          0.1508729504155097,
          0.15320631926210787,
          0.2513596179149853,
          0.36982508102042644,
          0.47739402359856037,
          0.5303276091651918,
          0.5909276338916986,
          0.6535358235110174,
          0.6652718400427641,
          0.5927419609201521,
          0.474502244632703,
          0.346194029373575,
          0.24398665844624046,
          0.21333064624164735,
          0.2208882346844117,
          0.2664402341545019,
          0.3286864816068486,
          0.4035932245703376,
          0.4082517283305159,
          0.270265890343605,
          0.11634188176091705,
          -0.04792958791721487,
          -0.22141904026632414,
          -0.3994414644144202,
          -0.5759459547789957,
          -0.6908583722137733,
          -0.6019820998613157,
          -0.4772330224104913,
          -0.3295285455152314,
          -0.15894072561966355,
          -0.06345281279078555,
          -0.024841208913636528,
          -0.028704687877947725,
          -0.044708105754847495,
          -0.06072676016244888,
          -0.03305376302865835,
          0.0954640256338917,
          0.24198866998517035,
          0.3092804468436563,
          0.2975184889822392,
          0.1933839803907733,
          0.058366991079906685,
          -0.06391102641806581,
          -0.16584713765049144,
          -0.25454702369538007,
          -0.39318393796431444,
          -0.5298908475361237,
          -0.6480051756166902,
          -0.7167507400416068,
          -0.7879454123395795,
          -0.7932842062738221,
          -0.8491316448606276,
          -0.8691007909732438,
          -0.7997903991092635,
          -0.7125472213336416,
          -0.6370089467002981,
          -0.5847166193918314,
          -0.5969252479531647,
          -0.591001542155685,
          -0.5839813642731406,
          -0.5572415677590485,
          -0.46141169284358735,
          -0.36243262678219434,
          -0.24338101192200165,
          -0.11554313360614363,
          0.04207307329246462,
          0.2210215840706871,
          0.3927073037623039,
          0.4521710322622385,
          0.3589263147825305,
          0.1981014466651353,
          0.1660793078852637,
          0.1683413967163196,
          0.23261444104459292,
          0.2868607642907429,
          0.2822915721318962,
          0.18928572052844722,
          0.03444055036441879,
          -0.13539310741542643,
          -0.3090112459093749,
          -0.49471161149175225,
          -0.5295501165497042,
          -0.4125041361250768,
          -0.332817038807644,
          -0.2808953054264398,
          -0.2473101120377596,
          -0.24594065148777486,
          -0.23940893290109863,
          -0.2982037863940355,
          -0.34791965821747395,
          -0.31958107385994633,
          -0.22260968411924836,
          -0.08277384116133252,
          0.09479367908887418,
          0.251670348664874,
          0.3238881624314838,
          0.2941420053096365,
          0.17395855486707432,
          -0.011635850255258658,
          -0.17011092398547187,
          -0.2607550502507112,
          -0.32689367811948206,
          -0.3963609879425249,
          -0.4913359016399306,
          -0.6190242579383638,
          -0.7591064874373522,
          -0.9302989916119399
         ],
         "y": [
          0.02650252401069051,
          0.07065879323962425,
          0.08120394266249335,
          0.06776574128371467,
          0.06456568779225857,
          0.08325161413346326,
          0.13250095726832606,
          0.18716201555934509,
          0.27558413428040135,
          0.37688114843681764,
          0.467719427329104,
          0.3697382056105609,
          0.23355211940526624,
          0.10485784869408354,
          -0.0158574145990916,
          -0.08706408039441665,
          -0.05955598138034671,
          0.06494189425047127,
          0.20148087325538738,
          0.3157924024195624,
          0.2143023199322489,
          0.08757114405549374,
          -0.04382541602331245,
          -0.16693241914249804,
          -0.3266474563541745,
          -0.4477165963982161,
          -0.5619163531663309,
          -0.5856973598355216,
          -0.45652334978611353,
          -0.28854080888651384,
          -0.12568498890900306,
          0.03226644018849722,
          0.18171579747216837,
          0.3237349857070149,
          0.4407445550464712,
          0.49812714082166915,
          0.4523124728600502,
          0.30071475238764017,
          0.146082383685851,
          0.021899468353415764,
          -0.10861994006596692,
          -0.27160354259717007,
          -0.4404405884753134,
          -0.5322808712281355,
          -0.4576694185358996,
          -0.3672307786603982,
          -0.24736797301442578,
          -0.16447580444608054,
          -0.12427737102113352,
          -0.17995079768244537,
          -0.26749219614981545,
          -0.3061464142907627,
          -0.3317351763254468,
          -0.36078841400276934,
          -0.4342770496517946,
          -0.5522011282455931,
          -0.4558321454550386,
          -0.34169653991035887,
          -0.2158959077306134,
          -0.08347596790232653,
          0.06571837020397485,
          0.21791345547755095,
          0.38751427057417,
          0.5658570802994377,
          0.7226998284480908,
          0.7955158509970144,
          0.7192176962268015,
          0.6026957947572423,
          0.47521537291995036,
          0.31671760033691637,
          0.1355762608821262,
          -0.07055009280408558,
          -0.25925293415581474,
          -0.4075417328447397,
          -0.51334315517937,
          -0.5992462546619798,
          -0.5290599319745182,
          -0.4103714915715967,
          -0.2914036518995912,
          -0.16748779887062043,
          -0.02710703897180371,
          0.13748464393247525,
          0.19572674762727071,
          0.19059197044184648,
          0.17166851961981597,
          0.13304773652661403,
          0.10076015254913558,
          0.06184198019983315,
          -0.0397383728351296,
          -0.14832758359657627,
          -0.22358112584823445,
          -0.288343254706928,
          -0.3139018961140316,
          -0.23192928724408868,
          -0.12189254121409024,
          0.010442663099313293,
          0.16600238039248755,
          0.32179167261812414,
          0.5012513265982453,
          0.6082709676775446,
          0.5424298468673614,
          0.381111510498968,
          0.2031189021878707,
          0.08428035896676296,
          0.03726986085607811,
          0.06447791729218683,
          0.134223324833293,
          0.20735827658686795,
          0.24917249922246895,
          0.2041122066933438,
          0.08155210074882674,
          -0.06488324433580889,
          -0.16166689934277542,
          -0.1791345750692468,
          -0.08241380431481733,
          0.0646993427536143,
          0.18641319266313858,
          0.28665622054815204,
          0.39849919273813705,
          0.48707930886111056,
          0.5190320442344349,
          0.41565136222252846,
          0.32660505524316685,
          0.2543545844773938,
          0.21486115463528835,
          0.19248498290921653,
          0.19960892182353251,
          0.21391926596186422,
          0.26793121267741793,
          0.2746150815590563,
          0.19830816079833197,
          0.03231928900372679,
          -0.12490010683497435,
          -0.20952459780059626,
          -0.1705941031626882,
          -0.10131679649679808,
          -0.06425486396662972,
          -0.10288300284813977,
          -0.21015768971223991,
          -0.31348296313212193,
          -0.3604657777806291,
          -0.34653512897245686,
          -0.2664768139889984,
          -0.20284268281808476,
          -0.2451076347915929,
          -0.274268878530202,
          -0.22316516977441528,
          -0.13454663550205162,
          -0.027567832416414022,
          0.08380259550606828,
          0.17828019669080375,
          0.23264244673876897,
          0.12547610565642664,
          -0.03181773382089308,
          -0.1723280451221762,
          -0.28304942687732937,
          -0.3092561599715316,
          -0.21955463190925012,
          -0.045005121964258044,
          0.16262619138987294,
          0.3433168703085739,
          0.39848073627486547,
          0.30263760887098773,
          0.13712300317501536,
          -0.047593398005543165,
          -0.231687042463399,
          -0.42647490443487746,
          -0.6254447489076029,
          -0.8027852551948266,
          -1
         ]
        }
       ],
       "layout": {
        "hovermode": "closest",
        "margin": {
         "b": 20,
         "l": 5,
         "r": 5,
         "t": 40
        },
        "showlegend": false,
        "template": {
         "data": {
          "bar": [
           {
            "error_x": {
             "color": "#2a3f5f"
            },
            "error_y": {
             "color": "#2a3f5f"
            },
            "marker": {
             "line": {
              "color": "#E5ECF6",
              "width": 0.5
             },
             "pattern": {
              "fillmode": "overlay",
              "size": 10,
              "solidity": 0.2
             }
            },
            "type": "bar"
           }
          ],
          "barpolar": [
           {
            "marker": {
             "line": {
              "color": "#E5ECF6",
              "width": 0.5
             },
             "pattern": {
              "fillmode": "overlay",
              "size": 10,
              "solidity": 0.2
             }
            },
            "type": "barpolar"
           }
          ],
          "carpet": [
           {
            "aaxis": {
             "endlinecolor": "#2a3f5f",
             "gridcolor": "white",
             "linecolor": "white",
             "minorgridcolor": "white",
             "startlinecolor": "#2a3f5f"
            },
            "baxis": {
             "endlinecolor": "#2a3f5f",
             "gridcolor": "white",
             "linecolor": "white",
             "minorgridcolor": "white",
             "startlinecolor": "#2a3f5f"
            },
            "type": "carpet"
           }
          ],
          "choropleth": [
           {
            "colorbar": {
             "outlinewidth": 0,
             "ticks": ""
            },
            "type": "choropleth"
           }
          ],
          "contour": [
           {
            "colorbar": {
             "outlinewidth": 0,
             "ticks": ""
            },
            "colorscale": [
             [
              0,
              "#0d0887"
             ],
             [
              0.1111111111111111,
              "#46039f"
             ],
             [
              0.2222222222222222,
              "#7201a8"
             ],
             [
              0.3333333333333333,
              "#9c179e"
             ],
             [
              0.4444444444444444,
              "#bd3786"
             ],
             [
              0.5555555555555556,
              "#d8576b"
             ],
             [
              0.6666666666666666,
              "#ed7953"
             ],
             [
              0.7777777777777778,
              "#fb9f3a"
             ],
             [
              0.8888888888888888,
              "#fdca26"
             ],
             [
              1,
              "#f0f921"
             ]
            ],
            "type": "contour"
           }
          ],
          "contourcarpet": [
           {
            "colorbar": {
             "outlinewidth": 0,
             "ticks": ""
            },
            "type": "contourcarpet"
           }
          ],
          "heatmap": [
           {
            "colorbar": {
             "outlinewidth": 0,
             "ticks": ""
            },
            "colorscale": [
             [
              0,
              "#0d0887"
             ],
             [
              0.1111111111111111,
              "#46039f"
             ],
             [
              0.2222222222222222,
              "#7201a8"
             ],
             [
              0.3333333333333333,
              "#9c179e"
             ],
             [
              0.4444444444444444,
              "#bd3786"
             ],
             [
              0.5555555555555556,
              "#d8576b"
             ],
             [
              0.6666666666666666,
              "#ed7953"
             ],
             [
              0.7777777777777778,
              "#fb9f3a"
             ],
             [
              0.8888888888888888,
              "#fdca26"
             ],
             [
              1,
              "#f0f921"
             ]
            ],
            "type": "heatmap"
           }
          ],
          "heatmapgl": [
           {
            "colorbar": {
             "outlinewidth": 0,
             "ticks": ""
            },
            "colorscale": [
             [
              0,
              "#0d0887"
             ],
             [
              0.1111111111111111,
              "#46039f"
             ],
             [
              0.2222222222222222,
              "#7201a8"
             ],
             [
              0.3333333333333333,
              "#9c179e"
             ],
             [
              0.4444444444444444,
              "#bd3786"
             ],
             [
              0.5555555555555556,
              "#d8576b"
             ],
             [
              0.6666666666666666,
              "#ed7953"
             ],
             [
              0.7777777777777778,
              "#fb9f3a"
             ],
             [
              0.8888888888888888,
              "#fdca26"
             ],
             [
              1,
              "#f0f921"
             ]
            ],
            "type": "heatmapgl"
           }
          ],
          "histogram": [
           {
            "marker": {
             "pattern": {
              "fillmode": "overlay",
              "size": 10,
              "solidity": 0.2
             }
            },
            "type": "histogram"
           }
          ],
          "histogram2d": [
           {
            "colorbar": {
             "outlinewidth": 0,
             "ticks": ""
            },
            "colorscale": [
             [
              0,
              "#0d0887"
             ],
             [
              0.1111111111111111,
              "#46039f"
             ],
             [
              0.2222222222222222,
              "#7201a8"
             ],
             [
              0.3333333333333333,
              "#9c179e"
             ],
             [
              0.4444444444444444,
              "#bd3786"
             ],
             [
              0.5555555555555556,
              "#d8576b"
             ],
             [
              0.6666666666666666,
              "#ed7953"
             ],
             [
              0.7777777777777778,
              "#fb9f3a"
             ],
             [
              0.8888888888888888,
              "#fdca26"
             ],
             [
              1,
              "#f0f921"
             ]
            ],
            "type": "histogram2d"
           }
          ],
          "histogram2dcontour": [
           {
            "colorbar": {
             "outlinewidth": 0,
             "ticks": ""
            },
            "colorscale": [
             [
              0,
              "#0d0887"
             ],
             [
              0.1111111111111111,
              "#46039f"
             ],
             [
              0.2222222222222222,
              "#7201a8"
             ],
             [
              0.3333333333333333,
              "#9c179e"
             ],
             [
              0.4444444444444444,
              "#bd3786"
             ],
             [
              0.5555555555555556,
              "#d8576b"
             ],
             [
              0.6666666666666666,
              "#ed7953"
             ],
             [
              0.7777777777777778,
              "#fb9f3a"
             ],
             [
              0.8888888888888888,
              "#fdca26"
             ],
             [
              1,
              "#f0f921"
             ]
            ],
            "type": "histogram2dcontour"
           }
          ],
          "mesh3d": [
           {
            "colorbar": {
             "outlinewidth": 0,
             "ticks": ""
            },
            "type": "mesh3d"
           }
          ],
          "parcoords": [
           {
            "line": {
             "colorbar": {
              "outlinewidth": 0,
              "ticks": ""
             }
            },
            "type": "parcoords"
           }
          ],
          "pie": [
           {
            "automargin": true,
            "type": "pie"
           }
          ],
          "scatter": [
           {
            "fillpattern": {
             "fillmode": "overlay",
             "size": 10,
             "solidity": 0.2
            },
            "type": "scatter"
           }
          ],
          "scatter3d": [
           {
            "line": {
             "colorbar": {
              "outlinewidth": 0,
              "ticks": ""
             }
            },
            "marker": {
             "colorbar": {
              "outlinewidth": 0,
              "ticks": ""
             }
            },
            "type": "scatter3d"
           }
          ],
          "scattercarpet": [
           {
            "marker": {
             "colorbar": {
              "outlinewidth": 0,
              "ticks": ""
             }
            },
            "type": "scattercarpet"
           }
          ],
          "scattergeo": [
           {
            "marker": {
             "colorbar": {
              "outlinewidth": 0,
              "ticks": ""
             }
            },
            "type": "scattergeo"
           }
          ],
          "scattergl": [
           {
            "marker": {
             "colorbar": {
              "outlinewidth": 0,
              "ticks": ""
             }
            },
            "type": "scattergl"
           }
          ],
          "scattermapbox": [
           {
            "marker": {
             "colorbar": {
              "outlinewidth": 0,
              "ticks": ""
             }
            },
            "type": "scattermapbox"
           }
          ],
          "scatterpolar": [
           {
            "marker": {
             "colorbar": {
              "outlinewidth": 0,
              "ticks": ""
             }
            },
            "type": "scatterpolar"
           }
          ],
          "scatterpolargl": [
           {
            "marker": {
             "colorbar": {
              "outlinewidth": 0,
              "ticks": ""
             }
            },
            "type": "scatterpolargl"
           }
          ],
          "scatterternary": [
           {
            "marker": {
             "colorbar": {
              "outlinewidth": 0,
              "ticks": ""
             }
            },
            "type": "scatterternary"
           }
          ],
          "surface": [
           {
            "colorbar": {
             "outlinewidth": 0,
             "ticks": ""
            },
            "colorscale": [
             [
              0,
              "#0d0887"
             ],
             [
              0.1111111111111111,
              "#46039f"
             ],
             [
              0.2222222222222222,
              "#7201a8"
             ],
             [
              0.3333333333333333,
              "#9c179e"
             ],
             [
              0.4444444444444444,
              "#bd3786"
             ],
             [
              0.5555555555555556,
              "#d8576b"
             ],
             [
              0.6666666666666666,
              "#ed7953"
             ],
             [
              0.7777777777777778,
              "#fb9f3a"
             ],
             [
              0.8888888888888888,
              "#fdca26"
             ],
             [
              1,
              "#f0f921"
             ]
            ],
            "type": "surface"
           }
          ],
          "table": [
           {
            "cells": {
             "fill": {
              "color": "#EBF0F8"
             },
             "line": {
              "color": "white"
             }
            },
            "header": {
             "fill": {
              "color": "#C8D4E3"
             },
             "line": {
              "color": "white"
             }
            },
            "type": "table"
           }
          ]
         },
         "layout": {
          "annotationdefaults": {
           "arrowcolor": "#2a3f5f",
           "arrowhead": 0,
           "arrowwidth": 1
          },
          "autotypenumbers": "strict",
          "coloraxis": {
           "colorbar": {
            "outlinewidth": 0,
            "ticks": ""
           }
          },
          "colorscale": {
           "diverging": [
            [
             0,
             "#8e0152"
            ],
            [
             0.1,
             "#c51b7d"
            ],
            [
             0.2,
             "#de77ae"
            ],
            [
             0.3,
             "#f1b6da"
            ],
            [
             0.4,
             "#fde0ef"
            ],
            [
             0.5,
             "#f7f7f7"
            ],
            [
             0.6,
             "#e6f5d0"
            ],
            [
             0.7,
             "#b8e186"
            ],
            [
             0.8,
             "#7fbc41"
            ],
            [
             0.9,
             "#4d9221"
            ],
            [
             1,
             "#276419"
            ]
           ],
           "sequential": [
            [
             0,
             "#0d0887"
            ],
            [
             0.1111111111111111,
             "#46039f"
            ],
            [
             0.2222222222222222,
             "#7201a8"
            ],
            [
             0.3333333333333333,
             "#9c179e"
            ],
            [
             0.4444444444444444,
             "#bd3786"
            ],
            [
             0.5555555555555556,
             "#d8576b"
            ],
            [
             0.6666666666666666,
             "#ed7953"
            ],
            [
             0.7777777777777778,
             "#fb9f3a"
            ],
            [
             0.8888888888888888,
             "#fdca26"
            ],
            [
             1,
             "#f0f921"
            ]
           ],
           "sequentialminus": [
            [
             0,
             "#0d0887"
            ],
            [
             0.1111111111111111,
             "#46039f"
            ],
            [
             0.2222222222222222,
             "#7201a8"
            ],
            [
             0.3333333333333333,
             "#9c179e"
            ],
            [
             0.4444444444444444,
             "#bd3786"
            ],
            [
             0.5555555555555556,
             "#d8576b"
            ],
            [
             0.6666666666666666,
             "#ed7953"
            ],
            [
             0.7777777777777778,
             "#fb9f3a"
            ],
            [
             0.8888888888888888,
             "#fdca26"
            ],
            [
             1,
             "#f0f921"
            ]
           ]
          },
          "colorway": [
           "#636efa",
           "#EF553B",
           "#00cc96",
           "#ab63fa",
           "#FFA15A",
           "#19d3f3",
           "#FF6692",
           "#B6E880",
           "#FF97FF",
           "#FECB52"
          ],
          "font": {
           "color": "#2a3f5f"
          },
          "geo": {
           "bgcolor": "white",
           "lakecolor": "white",
           "landcolor": "#E5ECF6",
           "showlakes": true,
           "showland": true,
           "subunitcolor": "white"
          },
          "hoverlabel": {
           "align": "left"
          },
          "hovermode": "closest",
          "mapbox": {
           "style": "light"
          },
          "paper_bgcolor": "white",
          "plot_bgcolor": "#E5ECF6",
          "polar": {
           "angularaxis": {
            "gridcolor": "white",
            "linecolor": "white",
            "ticks": ""
           },
           "bgcolor": "#E5ECF6",
           "radialaxis": {
            "gridcolor": "white",
            "linecolor": "white",
            "ticks": ""
           }
          },
          "scene": {
           "xaxis": {
            "backgroundcolor": "#E5ECF6",
            "gridcolor": "white",
            "gridwidth": 2,
            "linecolor": "white",
            "showbackground": true,
            "ticks": "",
            "zerolinecolor": "white"
           },
           "yaxis": {
            "backgroundcolor": "#E5ECF6",
            "gridcolor": "white",
            "gridwidth": 2,
            "linecolor": "white",
            "showbackground": true,
            "ticks": "",
            "zerolinecolor": "white"
           },
           "zaxis": {
            "backgroundcolor": "#E5ECF6",
            "gridcolor": "white",
            "gridwidth": 2,
            "linecolor": "white",
            "showbackground": true,
            "ticks": "",
            "zerolinecolor": "white"
           }
          },
          "shapedefaults": {
           "line": {
            "color": "#2a3f5f"
           }
          },
          "ternary": {
           "aaxis": {
            "gridcolor": "white",
            "linecolor": "white",
            "ticks": ""
           },
           "baxis": {
            "gridcolor": "white",
            "linecolor": "white",
            "ticks": ""
           },
           "bgcolor": "#E5ECF6",
           "caxis": {
            "gridcolor": "white",
            "linecolor": "white",
            "ticks": ""
           }
          },
          "title": {
           "x": 0.05
          },
          "xaxis": {
           "automargin": true,
           "gridcolor": "white",
           "linecolor": "white",
           "ticks": "",
           "title": {
            "standoff": 15
           },
           "zerolinecolor": "white",
           "zerolinewidth": 2
          },
          "yaxis": {
           "automargin": true,
           "gridcolor": "white",
           "linecolor": "white",
           "ticks": "",
           "title": {
            "standoff": 15
           },
           "zerolinecolor": "white",
           "zerolinewidth": 2
          }
         }
        },
        "title": {
         "font": {
          "size": 16
         },
         "text": "<br>Network graph of locations with chapters and frequency-based sizes"
        },
        "xaxis": {
         "showgrid": false,
         "showticklabels": false,
         "zeroline": false
        },
        "yaxis": {
         "showgrid": false,
         "showticklabels": false,
         "zeroline": false
        }
       }
      },
      "text/html": [
       "<div>                            <div id=\"edecc405-3463-4ca4-b4d5-1db1395d480e\" class=\"plotly-graph-div\" style=\"height:525px; width:100%;\"></div>            <script type=\"text/javascript\">                require([\"plotly\"], function(Plotly) {                    window.PLOTLYENV=window.PLOTLYENV || {};                                    if (document.getElementById(\"edecc405-3463-4ca4-b4d5-1db1395d480e\")) {                    Plotly.newPlot(                        \"edecc405-3463-4ca4-b4d5-1db1395d480e\",                        [{\"hoverinfo\":\"none\",\"line\":{\"color\":\"#888\",\"width\":0.5},\"mode\":\"lines\",\"x\":[0.3611330663724148,0.18907366272256235,null,0.18907366272256235,0.019009040779528266,null,0.019009040779528266,-0.16043710248233553,null,-0.16043710248233553,-0.10381908782430685,null,-0.10381908782430685,-0.005421117449585988,null,-0.005421117449585988,0.084750922459842,null,0.084750922459842,0.1824424158727375,null,0.1824424158727375,0.28230830009152164,null,0.28230830009152164,0.38330909927320284,null,0.38330909927320284,0.5059060516770808,null,0.5059060516770808,0.5214472088387785,null,0.5214472088387785,0.4637389671579384,null,0.4637389671579384,0.37981366267089217,null,0.37981366267089217,0.2639155469974523,null,0.2639155469974523,0.104300174627003,null,0.104300174627003,-0.046473410110714305,null,-0.046473410110714305,-0.09216603337727357,null,-0.09216603337727357,-0.0682525483679959,null,-0.0682525483679959,0.02622050470489323,null,0.02622050470489323,0.08476673151102167,null,0.08476673151102167,0.08416981156985477,null,0.08416981156985477,0.057673261973969235,null,0.057673261973969235,0.027451657298230847,null,0.027451657298230847,-0.015458685935128596,null,-0.015458685935128596,-0.03869163873571747,null,-0.03869163873571747,0.026969248655643315,null,0.026969248655643315,0.1650801069690146,null,0.1650801069690146,0.25368251284870097,null,0.25368251284870097,0.28347198967355663,null,0.28347198967355663,0.26631140140236553,null,0.26631140140236553,0.25895599738757297,null,0.25895599738757297,0.26404193447883645,null,0.26404193447883645,0.30517311237757655,null,0.30517311237757655,0.3952728459515503,null,0.3952728459515503,0.5358465912745003,null,0.5358465912745003,0.6863256167648213,null,0.6863256167648213,0.7167508215469631,null,0.7167508215469631,0.6913908816677801,null,0.6913908816677801,0.6281948914955245,null,0.6281948914955245,0.5719526181493909,null,0.5719526181493909,0.526499115843966,null,0.526499115843966,0.4572428496625802,null,0.4572428496625802,0.31097032069698455,null,0.31097032069698455,0.16014868253481523,null,0.16014868253481523,0.034855502191513336,null,0.034855502191513336,-0.07361107763695823,null,-0.07361107763695823,-0.214372221795068,null,-0.214372221795068,-0.3780493693304121,null,-0.3780493693304121,-0.5062468177150791,null,-0.5062468177150791,-0.41962826099553624,null,-0.41962826099553624,-0.2569533230838499,null,-0.2569533230838499,-0.07158692930251415,null,-0.07158692930251415,0.12485749118214266,null,0.12485749118214266,0.3126101425184084,null,0.3126101425184084,0.36253572251794336,null,0.36253572251794336,0.28193589232491856,null,0.28193589232491856,0.23376439892052958,null,0.23376439892052958,0.20945649684039266,null,0.20945649684039266,0.2076688609264155,null,0.2076688609264155,0.21611836909827706,null,0.21611836909827706,0.21019758992626023,null,0.21019758992626023,0.18463945656309014,null,0.18463945656309014,0.1508729504155097,null,0.1508729504155097,0.15320631926210787,null,0.15320631926210787,0.2513596179149853,null,0.2513596179149853,0.36982508102042644,null,0.36982508102042644,0.47739402359856037,null,0.47739402359856037,0.5303276091651918,null,0.5303276091651918,0.5909276338916986,null,0.5909276338916986,0.6535358235110174,null,0.6535358235110174,0.6652718400427641,null,0.6652718400427641,0.5927419609201521,null,0.5927419609201521,0.474502244632703,null,0.474502244632703,0.346194029373575,null,0.346194029373575,0.24398665844624046,null,0.24398665844624046,0.21333064624164735,null,0.21333064624164735,0.2208882346844117,null,0.2208882346844117,0.2664402341545019,null,0.2664402341545019,0.3286864816068486,null,0.3286864816068486,0.4035932245703376,null,0.4035932245703376,0.4082517283305159,null,0.4082517283305159,0.270265890343605,null,0.270265890343605,0.11634188176091705,null,0.11634188176091705,-0.04792958791721487,null,-0.04792958791721487,-0.22141904026632414,null,-0.22141904026632414,-0.3994414644144202,null,-0.3994414644144202,-0.5759459547789957,null,-0.5759459547789957,-0.6908583722137733,null,-0.6908583722137733,-0.6019820998613157,null,-0.6019820998613157,-0.4772330224104913,null,-0.4772330224104913,-0.3295285455152314,null,-0.3295285455152314,-0.15894072561966355,null,-0.15894072561966355,-0.06345281279078555,null,-0.06345281279078555,-0.024841208913636528,null,-0.024841208913636528,-0.028704687877947725,null,-0.028704687877947725,-0.044708105754847495,null,-0.044708105754847495,-0.06072676016244888,null,-0.06072676016244888,-0.03305376302865835,null,-0.03305376302865835,0.0954640256338917,null,0.0954640256338917,0.24198866998517035,null,0.24198866998517035,0.3092804468436563,null,0.3092804468436563,0.2975184889822392,null,0.2975184889822392,0.1933839803907733,null,0.1933839803907733,0.058366991079906685,null,0.058366991079906685,-0.06391102641806581,null,-0.06391102641806581,-0.16584713765049144,null,-0.16584713765049144,-0.25454702369538007,null,-0.25454702369538007,-0.39318393796431444,null,-0.39318393796431444,-0.5298908475361237,null,-0.5298908475361237,-0.6480051756166902,null,-0.6480051756166902,-0.7167507400416068,null,-0.7167507400416068,-0.7879454123395795,null,-0.7879454123395795,-0.7932842062738221,null,-0.7932842062738221,-0.8491316448606276,null,-0.8491316448606276,-0.8691007909732438,null,-0.8691007909732438,-0.7997903991092635,null,-0.7997903991092635,-0.7125472213336416,null,-0.7125472213336416,-0.6370089467002981,null,-0.6370089467002981,-0.5847166193918314,null,-0.5847166193918314,-0.5969252479531647,null,-0.5969252479531647,-0.591001542155685,null,-0.591001542155685,-0.5839813642731406,null,-0.5839813642731406,-0.5572415677590485,null,-0.5572415677590485,-0.46141169284358735,null,-0.46141169284358735,-0.36243262678219434,null,-0.36243262678219434,-0.24338101192200165,null,-0.24338101192200165,-0.11554313360614363,null,-0.11554313360614363,0.04207307329246462,null,0.04207307329246462,0.2210215840706871,null,0.2210215840706871,0.3927073037623039,null,0.3927073037623039,0.4521710322622385,null,0.4521710322622385,0.3589263147825305,null,0.3589263147825305,0.1981014466651353,null,0.1981014466651353,0.1660793078852637,null,0.1660793078852637,0.1683413967163196,null,0.1683413967163196,0.23261444104459292,null,0.23261444104459292,0.2868607642907429,null,0.2868607642907429,0.2822915721318962,null,0.2822915721318962,0.18928572052844722,null,0.18928572052844722,0.03444055036441879,null,0.03444055036441879,-0.13539310741542643,null,-0.13539310741542643,-0.3090112459093749,null,-0.3090112459093749,-0.49471161149175225,null,-0.49471161149175225,-0.5295501165497042,null,-0.5295501165497042,-0.4125041361250768,null,-0.4125041361250768,-0.332817038807644,null,-0.332817038807644,-0.2808953054264398,null,-0.2808953054264398,-0.2473101120377596,null,-0.2473101120377596,-0.24594065148777486,null,-0.24594065148777486,-0.23940893290109863,null,-0.23940893290109863,-0.2982037863940355,null,-0.2982037863940355,-0.34791965821747395,null,-0.34791965821747395,-0.31958107385994633,null,-0.31958107385994633,-0.22260968411924836,null,-0.22260968411924836,-0.08277384116133252,null,-0.08277384116133252,0.09479367908887418,null,0.09479367908887418,0.251670348664874,null,0.251670348664874,0.3238881624314838,null,0.3238881624314838,0.2941420053096365,null,0.2941420053096365,0.17395855486707432,null,0.17395855486707432,-0.011635850255258658,null,-0.011635850255258658,-0.17011092398547187,null,-0.17011092398547187,-0.2607550502507112,null,-0.2607550502507112,-0.32689367811948206,null,-0.32689367811948206,-0.3963609879425249,null,-0.3963609879425249,-0.4913359016399306,null,-0.4913359016399306,-0.6190242579383638,null,-0.6190242579383638,-0.7591064874373522,null,-0.7591064874373522,-0.9302989916119399,null],\"y\":[0.02650252401069051,0.07065879323962425,null,0.07065879323962425,0.08120394266249335,null,0.08120394266249335,0.06776574128371467,null,0.06776574128371467,0.06456568779225857,null,0.06456568779225857,0.08325161413346326,null,0.08325161413346326,0.13250095726832606,null,0.13250095726832606,0.18716201555934509,null,0.18716201555934509,0.27558413428040135,null,0.27558413428040135,0.37688114843681764,null,0.37688114843681764,0.467719427329104,null,0.467719427329104,0.3697382056105609,null,0.3697382056105609,0.23355211940526624,null,0.23355211940526624,0.10485784869408354,null,0.10485784869408354,-0.0158574145990916,null,-0.0158574145990916,-0.08706408039441665,null,-0.08706408039441665,-0.05955598138034671,null,-0.05955598138034671,0.06494189425047127,null,0.06494189425047127,0.20148087325538738,null,0.20148087325538738,0.3157924024195624,null,0.3157924024195624,0.2143023199322489,null,0.2143023199322489,0.08757114405549374,null,0.08757114405549374,-0.04382541602331245,null,-0.04382541602331245,-0.16693241914249804,null,-0.16693241914249804,-0.3266474563541745,null,-0.3266474563541745,-0.4477165963982161,null,-0.4477165963982161,-0.5619163531663309,null,-0.5619163531663309,-0.5856973598355216,null,-0.5856973598355216,-0.45652334978611353,null,-0.45652334978611353,-0.28854080888651384,null,-0.28854080888651384,-0.12568498890900306,null,-0.12568498890900306,0.03226644018849722,null,0.03226644018849722,0.18171579747216837,null,0.18171579747216837,0.3237349857070149,null,0.3237349857070149,0.4407445550464712,null,0.4407445550464712,0.49812714082166915,null,0.49812714082166915,0.4523124728600502,null,0.4523124728600502,0.30071475238764017,null,0.30071475238764017,0.146082383685851,null,0.146082383685851,0.021899468353415764,null,0.021899468353415764,-0.10861994006596692,null,-0.10861994006596692,-0.27160354259717007,null,-0.27160354259717007,-0.4404405884753134,null,-0.4404405884753134,-0.5322808712281355,null,-0.5322808712281355,-0.4576694185358996,null,-0.4576694185358996,-0.3672307786603982,null,-0.3672307786603982,-0.24736797301442578,null,-0.24736797301442578,-0.16447580444608054,null,-0.16447580444608054,-0.12427737102113352,null,-0.12427737102113352,-0.17995079768244537,null,-0.17995079768244537,-0.26749219614981545,null,-0.26749219614981545,-0.3061464142907627,null,-0.3061464142907627,-0.3317351763254468,null,-0.3317351763254468,-0.36078841400276934,null,-0.36078841400276934,-0.4342770496517946,null,-0.4342770496517946,-0.5522011282455931,null,-0.5522011282455931,-0.4558321454550386,null,-0.4558321454550386,-0.34169653991035887,null,-0.34169653991035887,-0.2158959077306134,null,-0.2158959077306134,-0.08347596790232653,null,-0.08347596790232653,0.06571837020397485,null,0.06571837020397485,0.21791345547755095,null,0.21791345547755095,0.38751427057417,null,0.38751427057417,0.5658570802994377,null,0.5658570802994377,0.7226998284480908,null,0.7226998284480908,0.7955158509970144,null,0.7955158509970144,0.7192176962268015,null,0.7192176962268015,0.6026957947572423,null,0.6026957947572423,0.47521537291995036,null,0.47521537291995036,0.31671760033691637,null,0.31671760033691637,0.1355762608821262,null,0.1355762608821262,-0.07055009280408558,null,-0.07055009280408558,-0.25925293415581474,null,-0.25925293415581474,-0.4075417328447397,null,-0.4075417328447397,-0.51334315517937,null,-0.51334315517937,-0.5992462546619798,null,-0.5992462546619798,-0.5290599319745182,null,-0.5290599319745182,-0.4103714915715967,null,-0.4103714915715967,-0.2914036518995912,null,-0.2914036518995912,-0.16748779887062043,null,-0.16748779887062043,-0.02710703897180371,null,-0.02710703897180371,0.13748464393247525,null,0.13748464393247525,0.19572674762727071,null,0.19572674762727071,0.19059197044184648,null,0.19059197044184648,0.17166851961981597,null,0.17166851961981597,0.13304773652661403,null,0.13304773652661403,0.10076015254913558,null,0.10076015254913558,0.06184198019983315,null,0.06184198019983315,-0.0397383728351296,null,-0.0397383728351296,-0.14832758359657627,null,-0.14832758359657627,-0.22358112584823445,null,-0.22358112584823445,-0.288343254706928,null,-0.288343254706928,-0.3139018961140316,null,-0.3139018961140316,-0.23192928724408868,null,-0.23192928724408868,-0.12189254121409024,null,-0.12189254121409024,0.010442663099313293,null,0.010442663099313293,0.16600238039248755,null,0.16600238039248755,0.32179167261812414,null,0.32179167261812414,0.5012513265982453,null,0.5012513265982453,0.6082709676775446,null,0.6082709676775446,0.5424298468673614,null,0.5424298468673614,0.381111510498968,null,0.381111510498968,0.2031189021878707,null,0.2031189021878707,0.08428035896676296,null,0.08428035896676296,0.03726986085607811,null,0.03726986085607811,0.06447791729218683,null,0.06447791729218683,0.134223324833293,null,0.134223324833293,0.20735827658686795,null,0.20735827658686795,0.24917249922246895,null,0.24917249922246895,0.2041122066933438,null,0.2041122066933438,0.08155210074882674,null,0.08155210074882674,-0.06488324433580889,null,-0.06488324433580889,-0.16166689934277542,null,-0.16166689934277542,-0.1791345750692468,null,-0.1791345750692468,-0.08241380431481733,null,-0.08241380431481733,0.0646993427536143,null,0.0646993427536143,0.18641319266313858,null,0.18641319266313858,0.28665622054815204,null,0.28665622054815204,0.39849919273813705,null,0.39849919273813705,0.48707930886111056,null,0.48707930886111056,0.5190320442344349,null,0.5190320442344349,0.41565136222252846,null,0.41565136222252846,0.32660505524316685,null,0.32660505524316685,0.2543545844773938,null,0.2543545844773938,0.21486115463528835,null,0.21486115463528835,0.19248498290921653,null,0.19248498290921653,0.19960892182353251,null,0.19960892182353251,0.21391926596186422,null,0.21391926596186422,0.26793121267741793,null,0.26793121267741793,0.2746150815590563,null,0.2746150815590563,0.19830816079833197,null,0.19830816079833197,0.03231928900372679,null,0.03231928900372679,-0.12490010683497435,null,-0.12490010683497435,-0.20952459780059626,null,-0.20952459780059626,-0.1705941031626882,null,-0.1705941031626882,-0.10131679649679808,null,-0.10131679649679808,-0.06425486396662972,null,-0.06425486396662972,-0.10288300284813977,null,-0.10288300284813977,-0.21015768971223991,null,-0.21015768971223991,-0.31348296313212193,null,-0.31348296313212193,-0.3604657777806291,null,-0.3604657777806291,-0.34653512897245686,null,-0.34653512897245686,-0.2664768139889984,null,-0.2664768139889984,-0.20284268281808476,null,-0.20284268281808476,-0.2451076347915929,null,-0.2451076347915929,-0.274268878530202,null,-0.274268878530202,-0.22316516977441528,null,-0.22316516977441528,-0.13454663550205162,null,-0.13454663550205162,-0.027567832416414022,null,-0.027567832416414022,0.08380259550606828,null,0.08380259550606828,0.17828019669080375,null,0.17828019669080375,0.23264244673876897,null,0.23264244673876897,0.12547610565642664,null,0.12547610565642664,-0.03181773382089308,null,-0.03181773382089308,-0.1723280451221762,null,-0.1723280451221762,-0.28304942687732937,null,-0.28304942687732937,-0.3092561599715316,null,-0.3092561599715316,-0.21955463190925012,null,-0.21955463190925012,-0.045005121964258044,null,-0.045005121964258044,0.16262619138987294,null,0.16262619138987294,0.3433168703085739,null,0.3433168703085739,0.39848073627486547,null,0.39848073627486547,0.30263760887098773,null,0.30263760887098773,0.13712300317501536,null,0.13712300317501536,-0.047593398005543165,null,-0.047593398005543165,-0.231687042463399,null,-0.231687042463399,-0.42647490443487746,null,-0.42647490443487746,-0.6254447489076029,null,-0.6254447489076029,-0.8027852551948266,null,-0.8027852551948266,-1.0,null],\"type\":\"scatter\"},{\"hoverinfo\":\"text\",\"marker\":{\"color\":[\"#636EFA\",\"#636EFA\",\"#636EFA\",\"#636EFA\",\"#636EFA\",\"#636EFA\",\"#636EFA\",\"#EF553B\",\"#EF553B\",\"#EF553B\",\"#EF553B\",\"#EF553B\",\"#EF553B\",\"#EF553B\",\"#EF553B\",\"#EF553B\",\"#EF553B\",\"#EF553B\",\"#EF553B\",\"#EF553B\",\"#EF553B\",\"#EF553B\",\"#EF553B\",\"#00CC96\",\"#00CC96\",\"#00CC96\",\"#00CC96\",\"#00CC96\",\"#00CC96\",\"#00CC96\",\"#00CC96\",\"#00CC96\",\"#00CC96\",\"#00CC96\",\"#00CC96\",\"#00CC96\",\"#00CC96\",\"#00CC96\",\"#00CC96\",\"#00CC96\",\"#00CC96\",\"#00CC96\",\"#00CC96\",\"#00CC96\",\"#00CC96\",\"#00CC96\",\"#00CC96\",\"#00CC96\",\"#00CC96\",\"#00CC96\",\"#00CC96\",\"#00CC96\",\"#00CC96\",\"#00CC96\",\"#00CC96\",\"#AB63FA\",\"#AB63FA\",\"#AB63FA\",\"#AB63FA\",\"#AB63FA\",\"#AB63FA\",\"#AB63FA\",\"#AB63FA\",\"#AB63FA\",\"#AB63FA\",\"#AB63FA\",\"#AB63FA\",\"#AB63FA\",\"#AB63FA\",\"#AB63FA\",\"#AB63FA\",\"#FFA15A\",\"#FFA15A\",\"#FFA15A\",\"#FFA15A\",\"#FFA15A\",\"#FFA15A\",\"#19D3F3\",\"#19D3F3\",\"#19D3F3\",\"#19D3F3\",\"#FF6692\",\"#FF6692\",\"#FF6692\",\"#FF6692\",\"#FF6692\",\"#FF6692\",\"#FF6692\",\"#FF6692\",\"#FF6692\",\"#FF6692\",\"#FF6692\",\"#B6E880\",\"#B6E880\",\"#B6E880\",\"#B6E880\",\"#B6E880\",\"#B6E880\",\"#B6E880\",\"#B6E880\",\"#B6E880\",\"#B6E880\",\"#FF97FF\",\"#FF97FF\",\"#FF97FF\",\"#FF97FF\",\"#FF97FF\",\"#FF97FF\",\"#FF97FF\",\"#FECB52\",\"#FECB52\",\"#FECB52\",\"#FECB52\",\"#FECB52\",\"#FECB52\",\"#FECB52\",\"#FECB52\",\"#636EFA\",\"#636EFA\",\"#636EFA\",\"#636EFA\",\"#636EFA\",\"#636EFA\",\"#636EFA\",\"#636EFA\",\"#EF553B\",\"#EF553B\",\"#EF553B\",\"#EF553B\",\"#00CC96\",\"#00CC96\",\"#00CC96\",\"#00CC96\",\"#00CC96\",\"#00CC96\",\"#AB63FA\",\"#AB63FA\",\"#AB63FA\",\"#AB63FA\",\"#FFA15A\",\"#FFA15A\",\"#FFA15A\",\"#FFA15A\",\"#FFA15A\",\"#FFA15A\",\"#FFA15A\",\"#FFA15A\",\"#FFA15A\",\"#FFA15A\",\"#FFA15A\",\"#FFA15A\",\"#19D3F3\",\"#19D3F3\",\"#19D3F3\",\"#19D3F3\",\"#19D3F3\",\"#19D3F3\",\"#19D3F3\",\"#FF6692\",\"#FF6692\",\"#FF6692\",\"#FF6692\",\"#FF6692\",\"#FF6692\",\"#FF6692\",\"#B6E880\",\"#B6E880\",\"#B6E880\",\"#B6E880\",\"#B6E880\"],\"line\":{\"width\":2},\"showscale\":false,\"size\":[5,5,5,5,5,5,40,5,5,5,5,5,5,5,5,5,5,5,5,5,5,5,40,40,25,15,10,5,35,5,5,5,5,10,5,15,10,10,10,5,10,10,5,5,5,5,5,10,5,5,10,5,20,5,5,10,5,5,5,5,10,10,10,5,5,5,5,5,5,10,5,10,35,15,15,5,40,35,5,5,5,10,35,15,5,5,5,5,5,5,5,15,5,25,5,5,5,5,5,5,5,5,35,15,5,5,5,5,40,10,10,10,10,5,5,5,5,5,10,5,10,10,5,5,5,40,5,5,5,5,40,5,5,25,20,5,5,5,5,5,5,5,5,5,5,35,10,5,15,5,5,15,20,5,5,5,25,5,20,5,5,5,5,5,5,40,25,5,35,5]},\"mode\":\"markers\",\"text\":[\"1: Mediterranean Sea\",\"2: Malta\",\"3: Beir\\u00fbt\",\"4: La Bellevue Hotel\",\"5: Lebanon\",\"6: Roman Mansion\",\"7: Jerusalem\",\"8: Beirut\",\"9: Roadside khan\",\"10: Nebi-Yunas khan\",\"11: Sidon\",\"12: Tyre\",\"13: St. Jean d'Acre\",\"14: Plain of Esdraelon\",\"15: Mount Carmel\",\"16: Ahtlit\",\"17: Tantura\",\"18: C\\u00e6sarea\",\"19: Valley of Sharon\",\"20: Jaffa\",\"21: Ramleh\",\"22: Lydda\",\"23: Jerusalem\",\"24: Jerusalem\",\"25: Bethlehem\",\"26: Bethany\",\"27: Gethsemane\",\"28: Calvary\",\"29: Mount Olivet\",\"30: Zion\",\"31: Akra\",\"32: Bezetha\",\"33: Moriah\",\"34: Damascus Gate\",\"35: St. Stephen's Gate\",\"36: Church of Ascension\",\"37: Golden Gate\",\"38: Zion Gate\",\"39: Jaffa Gate\",\"40: Mugrabin Gate\",\"41: Virgin's Fount\",\"42: Pool of Siloam\",\"43: Well of Nehemiah Yuab\",\"44: Fortress of David\",\"45: Church of Yacobeiah\",\"46: Church of St. James\",\"47: Armenian Patriarch's palace\",\"48: Tomb of David\",\"49: Via Dolorosa\",\"50: Pool of Bethesda\",\"51: Church of St. Anne\",\"52: Governor of Jerusalem's residence\",\"53: Church of the Holy Sepulchre\",\"54: Church of Flagellation\",\"55: King Baldwin's Bath\",\"56: Jaffa Gate\",\"57: Convent of the Cross\",\"58: Upper Pool of Gihon\",\"59: Charnel House of the Lion\",\"60: Grotto of Jeremiah\",\"61: Valley of Jehosaphat\",\"62: Pool of Siloam\",\"63: Virgin's Fount\",\"64: King's Gardens\",\"65: Well of Joab\",\"66: Hill of Scandal\",\"67: Garden of Gethsemane\",\"68: Church of the Virgin Mary\",\"69: Tombs of the Kings\",\"70: Damascus Gate\",\"71: Cave of Jeremiah\",\"72: Gethsemane\",\"73: Mount Olivet\",\"74: Church of Ascension\",\"75: Bethany\",\"76: Chapel of the Prediction\",\"77: Jerusalem\",\"78: Mount Olivet\",\"79: Village at the top of the mountain\",\"80: Well near the village\",\"81: Pathway from the city to Jordan\",\"82: Valley of Jehosaphat\",\"83: Mount Olivet\",\"84: Bethany\",\"85: Apostles' Fountain\",\"86: Wilderness of Judea\",\"87: Mount Quarantina\",\"88: Dead Sea\",\"89: Jericho\",\"90: Fountain of Elisha\",\"91: Jordan River\",\"92: Mount Zion\",\"93: Road from Jerusalem to Bethlehem\",\"94: Bethlehem\",\"95: Church and Monastery covering the Cave of the Nativity\",\"96: Cave of the Nativity\",\"97: Schoolroom of Miss Williams\",\"98: Jerome's Cave\",\"99: Joseph's House\",\"100: The Manger\",\"101: Church of St. Helena\",\"102: Grotto of the Nativity\",\"103: Mount Olivet\",\"104: Church of Ascension\",\"105: Wady Farah\",\"106: Valley of Delight\",\"107: Enon near to Salim\",\"108: Liftah (Nephtoah)\",\"109: Jerusalem\",\"110: Mosque of Omar\",\"111: Temple enclosure\",\"112: Church of St. Anne\",\"113: Golden Gate\",\"114: Mosque of Aksa\",\"115: Sedna Esa\",\"116: Cave of the Sakhrah\",\"117: Solomon's Temple\",\"118: Parley Room\",\"119: Tomb of David\",\"120: Turfendah's Home\",\"121: Mosque of Omar\",\"122: Zion Gate\",\"123: Coenaculum\",\"124: Keeper's Hareem\",\"125: Author's Home\",\"126: Jerusalem\",\"127: House of Bash Catib\",\"128: Neby Da\\u00fbd\",\"129: Jewish quarter\",\"130: Damascus\",\"131: Jerusalem\",\"132: bazaars of Jerusalem\",\"133: Wady el Wer\",\"134: Bethlehem\",\"135: Church of the Holy Sepulchre\",\"136: Bazaar\",\"137: Home of Turfendah and friends\",\"138: Bathing Establishment\",\"139: Dressing-room in Bathing Establishment\",\"140: Private house in the Jewish quarter\",\"141: Hackm\\u00e8 or dispensary\",\"142: House's kitchen\",\"143: House's upper court\",\"144: Housetop terrace\",\"145: Valley of the Tyropoon\",\"146: Mount Olivet\",\"147: Temple enclosure\",\"148: Mugrabin quarter\",\"149: Mount Zion\",\"150: Council Chamber or Sanhedrim\",\"151: Cheesemongers' Valley\",\"152: Mount Zion\",\"153: Church of the Holy Sepulchre\",\"154: Temple Walls\",\"155: Tomb of Rachel\",\"156: Ephrath (Ephratah)\",\"157: Bethlehem\",\"158: Synagogues in Jerusalem\",\"159: Church of the Holy Sepulchre\",\"160: Stone of Unction\",\"161: Scene of the Crucifixion\",\"162: Chapel of the Holy Cross\",\"163: Tomb of Joseph of Arimathea\",\"164: Subterranean part of the Church\",\"165: Church of the Nativity\",\"166: Jerusalem\",\"167: Bethlehem\",\"168: Gardens of Solomon\",\"169: Mount Olivet\",\"170: Syria\"],\"x\":[0.3611330663724148,0.18907366272256235,0.019009040779528266,-0.16043710248233553,-0.10381908782430685,-0.005421117449585988,0.084750922459842,0.1824424158727375,0.28230830009152164,0.38330909927320284,0.5059060516770808,0.5214472088387785,0.4637389671579384,0.37981366267089217,0.2639155469974523,0.104300174627003,-0.046473410110714305,-0.09216603337727357,-0.0682525483679959,0.02622050470489323,0.08476673151102167,0.08416981156985477,0.057673261973969235,0.027451657298230847,-0.015458685935128596,-0.03869163873571747,0.026969248655643315,0.1650801069690146,0.25368251284870097,0.28347198967355663,0.26631140140236553,0.25895599738757297,0.26404193447883645,0.30517311237757655,0.3952728459515503,0.5358465912745003,0.6863256167648213,0.7167508215469631,0.6913908816677801,0.6281948914955245,0.5719526181493909,0.526499115843966,0.4572428496625802,0.31097032069698455,0.16014868253481523,0.034855502191513336,-0.07361107763695823,-0.214372221795068,-0.3780493693304121,-0.5062468177150791,-0.41962826099553624,-0.2569533230838499,-0.07158692930251415,0.12485749118214266,0.3126101425184084,0.36253572251794336,0.28193589232491856,0.23376439892052958,0.20945649684039266,0.2076688609264155,0.21611836909827706,0.21019758992626023,0.18463945656309014,0.1508729504155097,0.15320631926210787,0.2513596179149853,0.36982508102042644,0.47739402359856037,0.5303276091651918,0.5909276338916986,0.6535358235110174,0.6652718400427641,0.5927419609201521,0.474502244632703,0.346194029373575,0.24398665844624046,0.21333064624164735,0.2208882346844117,0.2664402341545019,0.3286864816068486,0.4035932245703376,0.4082517283305159,0.270265890343605,0.11634188176091705,-0.04792958791721487,-0.22141904026632414,-0.3994414644144202,-0.5759459547789957,-0.6908583722137733,-0.6019820998613157,-0.4772330224104913,-0.3295285455152314,-0.15894072561966355,-0.06345281279078555,-0.024841208913636528,-0.028704687877947725,-0.044708105754847495,-0.06072676016244888,-0.03305376302865835,0.0954640256338917,0.24198866998517035,0.3092804468436563,0.2975184889822392,0.1933839803907733,0.058366991079906685,-0.06391102641806581,-0.16584713765049144,-0.25454702369538007,-0.39318393796431444,-0.5298908475361237,-0.6480051756166902,-0.7167507400416068,-0.7879454123395795,-0.7932842062738221,-0.8491316448606276,-0.8691007909732438,-0.7997903991092635,-0.7125472213336416,-0.6370089467002981,-0.5847166193918314,-0.5969252479531647,-0.591001542155685,-0.5839813642731406,-0.5572415677590485,-0.46141169284358735,-0.36243262678219434,-0.24338101192200165,-0.11554313360614363,0.04207307329246462,0.2210215840706871,0.3927073037623039,0.4521710322622385,0.3589263147825305,0.1981014466651353,0.1660793078852637,0.1683413967163196,0.23261444104459292,0.2868607642907429,0.2822915721318962,0.18928572052844722,0.03444055036441879,-0.13539310741542643,-0.3090112459093749,-0.49471161149175225,-0.5295501165497042,-0.4125041361250768,-0.332817038807644,-0.2808953054264398,-0.2473101120377596,-0.24594065148777486,-0.23940893290109863,-0.2982037863940355,-0.34791965821747395,-0.31958107385994633,-0.22260968411924836,-0.08277384116133252,0.09479367908887418,0.251670348664874,0.3238881624314838,0.2941420053096365,0.17395855486707432,-0.011635850255258658,-0.17011092398547187,-0.2607550502507112,-0.32689367811948206,-0.3963609879425249,-0.4913359016399306,-0.6190242579383638,-0.7591064874373522,-0.9302989916119399],\"y\":[0.02650252401069051,0.07065879323962425,0.08120394266249335,0.06776574128371467,0.06456568779225857,0.08325161413346326,0.13250095726832606,0.18716201555934509,0.27558413428040135,0.37688114843681764,0.467719427329104,0.3697382056105609,0.23355211940526624,0.10485784869408354,-0.0158574145990916,-0.08706408039441665,-0.05955598138034671,0.06494189425047127,0.20148087325538738,0.3157924024195624,0.2143023199322489,0.08757114405549374,-0.04382541602331245,-0.16693241914249804,-0.3266474563541745,-0.4477165963982161,-0.5619163531663309,-0.5856973598355216,-0.45652334978611353,-0.28854080888651384,-0.12568498890900306,0.03226644018849722,0.18171579747216837,0.3237349857070149,0.4407445550464712,0.49812714082166915,0.4523124728600502,0.30071475238764017,0.146082383685851,0.021899468353415764,-0.10861994006596692,-0.27160354259717007,-0.4404405884753134,-0.5322808712281355,-0.4576694185358996,-0.3672307786603982,-0.24736797301442578,-0.16447580444608054,-0.12427737102113352,-0.17995079768244537,-0.26749219614981545,-0.3061464142907627,-0.3317351763254468,-0.36078841400276934,-0.4342770496517946,-0.5522011282455931,-0.4558321454550386,-0.34169653991035887,-0.2158959077306134,-0.08347596790232653,0.06571837020397485,0.21791345547755095,0.38751427057417,0.5658570802994377,0.7226998284480908,0.7955158509970144,0.7192176962268015,0.6026957947572423,0.47521537291995036,0.31671760033691637,0.1355762608821262,-0.07055009280408558,-0.25925293415581474,-0.4075417328447397,-0.51334315517937,-0.5992462546619798,-0.5290599319745182,-0.4103714915715967,-0.2914036518995912,-0.16748779887062043,-0.02710703897180371,0.13748464393247525,0.19572674762727071,0.19059197044184648,0.17166851961981597,0.13304773652661403,0.10076015254913558,0.06184198019983315,-0.0397383728351296,-0.14832758359657627,-0.22358112584823445,-0.288343254706928,-0.3139018961140316,-0.23192928724408868,-0.12189254121409024,0.010442663099313293,0.16600238039248755,0.32179167261812414,0.5012513265982453,0.6082709676775446,0.5424298468673614,0.381111510498968,0.2031189021878707,0.08428035896676296,0.03726986085607811,0.06447791729218683,0.134223324833293,0.20735827658686795,0.24917249922246895,0.2041122066933438,0.08155210074882674,-0.06488324433580889,-0.16166689934277542,-0.1791345750692468,-0.08241380431481733,0.0646993427536143,0.18641319266313858,0.28665622054815204,0.39849919273813705,0.48707930886111056,0.5190320442344349,0.41565136222252846,0.32660505524316685,0.2543545844773938,0.21486115463528835,0.19248498290921653,0.19960892182353251,0.21391926596186422,0.26793121267741793,0.2746150815590563,0.19830816079833197,0.03231928900372679,-0.12490010683497435,-0.20952459780059626,-0.1705941031626882,-0.10131679649679808,-0.06425486396662972,-0.10288300284813977,-0.21015768971223991,-0.31348296313212193,-0.3604657777806291,-0.34653512897245686,-0.2664768139889984,-0.20284268281808476,-0.2451076347915929,-0.274268878530202,-0.22316516977441528,-0.13454663550205162,-0.027567832416414022,0.08380259550606828,0.17828019669080375,0.23264244673876897,0.12547610565642664,-0.03181773382089308,-0.1723280451221762,-0.28304942687732937,-0.3092561599715316,-0.21955463190925012,-0.045005121964258044,0.16262619138987294,0.3433168703085739,0.39848073627486547,0.30263760887098773,0.13712300317501536,-0.047593398005543165,-0.231687042463399,-0.42647490443487746,-0.6254447489076029,-0.8027852551948266,-1.0],\"type\":\"scatter\"}],                        {\"hovermode\":\"closest\",\"margin\":{\"b\":20,\"l\":5,\"r\":5,\"t\":40},\"showlegend\":false,\"title\":{\"font\":{\"size\":16},\"text\":\"<br>Network graph of locations with chapters and frequency-based sizes\"},\"xaxis\":{\"showgrid\":false,\"showticklabels\":false,\"zeroline\":false},\"yaxis\":{\"showgrid\":false,\"showticklabels\":false,\"zeroline\":false},\"template\":{\"data\":{\"histogram2dcontour\":[{\"type\":\"histogram2dcontour\",\"colorbar\":{\"outlinewidth\":0,\"ticks\":\"\"},\"colorscale\":[[0.0,\"#0d0887\"],[0.1111111111111111,\"#46039f\"],[0.2222222222222222,\"#7201a8\"],[0.3333333333333333,\"#9c179e\"],[0.4444444444444444,\"#bd3786\"],[0.5555555555555556,\"#d8576b\"],[0.6666666666666666,\"#ed7953\"],[0.7777777777777778,\"#fb9f3a\"],[0.8888888888888888,\"#fdca26\"],[1.0,\"#f0f921\"]]}],\"choropleth\":[{\"type\":\"choropleth\",\"colorbar\":{\"outlinewidth\":0,\"ticks\":\"\"}}],\"histogram2d\":[{\"type\":\"histogram2d\",\"colorbar\":{\"outlinewidth\":0,\"ticks\":\"\"},\"colorscale\":[[0.0,\"#0d0887\"],[0.1111111111111111,\"#46039f\"],[0.2222222222222222,\"#7201a8\"],[0.3333333333333333,\"#9c179e\"],[0.4444444444444444,\"#bd3786\"],[0.5555555555555556,\"#d8576b\"],[0.6666666666666666,\"#ed7953\"],[0.7777777777777778,\"#fb9f3a\"],[0.8888888888888888,\"#fdca26\"],[1.0,\"#f0f921\"]]}],\"heatmap\":[{\"type\":\"heatmap\",\"colorbar\":{\"outlinewidth\":0,\"ticks\":\"\"},\"colorscale\":[[0.0,\"#0d0887\"],[0.1111111111111111,\"#46039f\"],[0.2222222222222222,\"#7201a8\"],[0.3333333333333333,\"#9c179e\"],[0.4444444444444444,\"#bd3786\"],[0.5555555555555556,\"#d8576b\"],[0.6666666666666666,\"#ed7953\"],[0.7777777777777778,\"#fb9f3a\"],[0.8888888888888888,\"#fdca26\"],[1.0,\"#f0f921\"]]}],\"heatmapgl\":[{\"type\":\"heatmapgl\",\"colorbar\":{\"outlinewidth\":0,\"ticks\":\"\"},\"colorscale\":[[0.0,\"#0d0887\"],[0.1111111111111111,\"#46039f\"],[0.2222222222222222,\"#7201a8\"],[0.3333333333333333,\"#9c179e\"],[0.4444444444444444,\"#bd3786\"],[0.5555555555555556,\"#d8576b\"],[0.6666666666666666,\"#ed7953\"],[0.7777777777777778,\"#fb9f3a\"],[0.8888888888888888,\"#fdca26\"],[1.0,\"#f0f921\"]]}],\"contourcarpet\":[{\"type\":\"contourcarpet\",\"colorbar\":{\"outlinewidth\":0,\"ticks\":\"\"}}],\"contour\":[{\"type\":\"contour\",\"colorbar\":{\"outlinewidth\":0,\"ticks\":\"\"},\"colorscale\":[[0.0,\"#0d0887\"],[0.1111111111111111,\"#46039f\"],[0.2222222222222222,\"#7201a8\"],[0.3333333333333333,\"#9c179e\"],[0.4444444444444444,\"#bd3786\"],[0.5555555555555556,\"#d8576b\"],[0.6666666666666666,\"#ed7953\"],[0.7777777777777778,\"#fb9f3a\"],[0.8888888888888888,\"#fdca26\"],[1.0,\"#f0f921\"]]}],\"surface\":[{\"type\":\"surface\",\"colorbar\":{\"outlinewidth\":0,\"ticks\":\"\"},\"colorscale\":[[0.0,\"#0d0887\"],[0.1111111111111111,\"#46039f\"],[0.2222222222222222,\"#7201a8\"],[0.3333333333333333,\"#9c179e\"],[0.4444444444444444,\"#bd3786\"],[0.5555555555555556,\"#d8576b\"],[0.6666666666666666,\"#ed7953\"],[0.7777777777777778,\"#fb9f3a\"],[0.8888888888888888,\"#fdca26\"],[1.0,\"#f0f921\"]]}],\"mesh3d\":[{\"type\":\"mesh3d\",\"colorbar\":{\"outlinewidth\":0,\"ticks\":\"\"}}],\"scatter\":[{\"fillpattern\":{\"fillmode\":\"overlay\",\"size\":10,\"solidity\":0.2},\"type\":\"scatter\"}],\"parcoords\":[{\"type\":\"parcoords\",\"line\":{\"colorbar\":{\"outlinewidth\":0,\"ticks\":\"\"}}}],\"scatterpolargl\":[{\"type\":\"scatterpolargl\",\"marker\":{\"colorbar\":{\"outlinewidth\":0,\"ticks\":\"\"}}}],\"bar\":[{\"error_x\":{\"color\":\"#2a3f5f\"},\"error_y\":{\"color\":\"#2a3f5f\"},\"marker\":{\"line\":{\"color\":\"#E5ECF6\",\"width\":0.5},\"pattern\":{\"fillmode\":\"overlay\",\"size\":10,\"solidity\":0.2}},\"type\":\"bar\"}],\"scattergeo\":[{\"type\":\"scattergeo\",\"marker\":{\"colorbar\":{\"outlinewidth\":0,\"ticks\":\"\"}}}],\"scatterpolar\":[{\"type\":\"scatterpolar\",\"marker\":{\"colorbar\":{\"outlinewidth\":0,\"ticks\":\"\"}}}],\"histogram\":[{\"marker\":{\"pattern\":{\"fillmode\":\"overlay\",\"size\":10,\"solidity\":0.2}},\"type\":\"histogram\"}],\"scattergl\":[{\"type\":\"scattergl\",\"marker\":{\"colorbar\":{\"outlinewidth\":0,\"ticks\":\"\"}}}],\"scatter3d\":[{\"type\":\"scatter3d\",\"line\":{\"colorbar\":{\"outlinewidth\":0,\"ticks\":\"\"}},\"marker\":{\"colorbar\":{\"outlinewidth\":0,\"ticks\":\"\"}}}],\"scattermapbox\":[{\"type\":\"scattermapbox\",\"marker\":{\"colorbar\":{\"outlinewidth\":0,\"ticks\":\"\"}}}],\"scatterternary\":[{\"type\":\"scatterternary\",\"marker\":{\"colorbar\":{\"outlinewidth\":0,\"ticks\":\"\"}}}],\"scattercarpet\":[{\"type\":\"scattercarpet\",\"marker\":{\"colorbar\":{\"outlinewidth\":0,\"ticks\":\"\"}}}],\"carpet\":[{\"aaxis\":{\"endlinecolor\":\"#2a3f5f\",\"gridcolor\":\"white\",\"linecolor\":\"white\",\"minorgridcolor\":\"white\",\"startlinecolor\":\"#2a3f5f\"},\"baxis\":{\"endlinecolor\":\"#2a3f5f\",\"gridcolor\":\"white\",\"linecolor\":\"white\",\"minorgridcolor\":\"white\",\"startlinecolor\":\"#2a3f5f\"},\"type\":\"carpet\"}],\"table\":[{\"cells\":{\"fill\":{\"color\":\"#EBF0F8\"},\"line\":{\"color\":\"white\"}},\"header\":{\"fill\":{\"color\":\"#C8D4E3\"},\"line\":{\"color\":\"white\"}},\"type\":\"table\"}],\"barpolar\":[{\"marker\":{\"line\":{\"color\":\"#E5ECF6\",\"width\":0.5},\"pattern\":{\"fillmode\":\"overlay\",\"size\":10,\"solidity\":0.2}},\"type\":\"barpolar\"}],\"pie\":[{\"automargin\":true,\"type\":\"pie\"}]},\"layout\":{\"autotypenumbers\":\"strict\",\"colorway\":[\"#636efa\",\"#EF553B\",\"#00cc96\",\"#ab63fa\",\"#FFA15A\",\"#19d3f3\",\"#FF6692\",\"#B6E880\",\"#FF97FF\",\"#FECB52\"],\"font\":{\"color\":\"#2a3f5f\"},\"hovermode\":\"closest\",\"hoverlabel\":{\"align\":\"left\"},\"paper_bgcolor\":\"white\",\"plot_bgcolor\":\"#E5ECF6\",\"polar\":{\"bgcolor\":\"#E5ECF6\",\"angularaxis\":{\"gridcolor\":\"white\",\"linecolor\":\"white\",\"ticks\":\"\"},\"radialaxis\":{\"gridcolor\":\"white\",\"linecolor\":\"white\",\"ticks\":\"\"}},\"ternary\":{\"bgcolor\":\"#E5ECF6\",\"aaxis\":{\"gridcolor\":\"white\",\"linecolor\":\"white\",\"ticks\":\"\"},\"baxis\":{\"gridcolor\":\"white\",\"linecolor\":\"white\",\"ticks\":\"\"},\"caxis\":{\"gridcolor\":\"white\",\"linecolor\":\"white\",\"ticks\":\"\"}},\"coloraxis\":{\"colorbar\":{\"outlinewidth\":0,\"ticks\":\"\"}},\"colorscale\":{\"sequential\":[[0.0,\"#0d0887\"],[0.1111111111111111,\"#46039f\"],[0.2222222222222222,\"#7201a8\"],[0.3333333333333333,\"#9c179e\"],[0.4444444444444444,\"#bd3786\"],[0.5555555555555556,\"#d8576b\"],[0.6666666666666666,\"#ed7953\"],[0.7777777777777778,\"#fb9f3a\"],[0.8888888888888888,\"#fdca26\"],[1.0,\"#f0f921\"]],\"sequentialminus\":[[0.0,\"#0d0887\"],[0.1111111111111111,\"#46039f\"],[0.2222222222222222,\"#7201a8\"],[0.3333333333333333,\"#9c179e\"],[0.4444444444444444,\"#bd3786\"],[0.5555555555555556,\"#d8576b\"],[0.6666666666666666,\"#ed7953\"],[0.7777777777777778,\"#fb9f3a\"],[0.8888888888888888,\"#fdca26\"],[1.0,\"#f0f921\"]],\"diverging\":[[0,\"#8e0152\"],[0.1,\"#c51b7d\"],[0.2,\"#de77ae\"],[0.3,\"#f1b6da\"],[0.4,\"#fde0ef\"],[0.5,\"#f7f7f7\"],[0.6,\"#e6f5d0\"],[0.7,\"#b8e186\"],[0.8,\"#7fbc41\"],[0.9,\"#4d9221\"],[1,\"#276419\"]]},\"xaxis\":{\"gridcolor\":\"white\",\"linecolor\":\"white\",\"ticks\":\"\",\"title\":{\"standoff\":15},\"zerolinecolor\":\"white\",\"automargin\":true,\"zerolinewidth\":2},\"yaxis\":{\"gridcolor\":\"white\",\"linecolor\":\"white\",\"ticks\":\"\",\"title\":{\"standoff\":15},\"zerolinecolor\":\"white\",\"automargin\":true,\"zerolinewidth\":2},\"scene\":{\"xaxis\":{\"backgroundcolor\":\"#E5ECF6\",\"gridcolor\":\"white\",\"linecolor\":\"white\",\"showbackground\":true,\"ticks\":\"\",\"zerolinecolor\":\"white\",\"gridwidth\":2},\"yaxis\":{\"backgroundcolor\":\"#E5ECF6\",\"gridcolor\":\"white\",\"linecolor\":\"white\",\"showbackground\":true,\"ticks\":\"\",\"zerolinecolor\":\"white\",\"gridwidth\":2},\"zaxis\":{\"backgroundcolor\":\"#E5ECF6\",\"gridcolor\":\"white\",\"linecolor\":\"white\",\"showbackground\":true,\"ticks\":\"\",\"zerolinecolor\":\"white\",\"gridwidth\":2}},\"shapedefaults\":{\"line\":{\"color\":\"#2a3f5f\"}},\"annotationdefaults\":{\"arrowcolor\":\"#2a3f5f\",\"arrowhead\":0,\"arrowwidth\":1},\"geo\":{\"bgcolor\":\"white\",\"landcolor\":\"#E5ECF6\",\"subunitcolor\":\"white\",\"showland\":true,\"showlakes\":true,\"lakecolor\":\"white\"},\"title\":{\"x\":0.05},\"mapbox\":{\"style\":\"light\"}}}},                        {\"responsive\": true}                    ).then(function(){\n",
       "                            \n",
       "var gd = document.getElementById('edecc405-3463-4ca4-b4d5-1db1395d480e');\n",
       "var x = new MutationObserver(function (mutations, observer) {{\n",
       "        var display = window.getComputedStyle(gd).display;\n",
       "        if (!display || display === 'none') {{\n",
       "            console.log([gd, 'removed!']);\n",
       "            Plotly.purge(gd);\n",
       "            observer.disconnect();\n",
       "        }}\n",
       "}});\n",
       "\n",
       "// Listen for the removal of the full notebook cells\n",
       "var notebookContainer = gd.closest('#notebook-container');\n",
       "if (notebookContainer) {{\n",
       "    x.observe(notebookContainer, {childList: true});\n",
       "}}\n",
       "\n",
       "// Listen for the clearing of the current output cell\n",
       "var outputEl = gd.closest('.output');\n",
       "if (outputEl) {{\n",
       "    x.observe(outputEl, {childList: true});\n",
       "}}\n",
       "\n",
       "                        })                };                });            </script>        </div>"
      ]
     },
     "metadata": {},
     "output_type": "display_data"
    }
   ],
   "source": [
    "import pandas as pd\n",
    "import networkx as nx\n",
    "import plotly.graph_objs as go\n",
    "\n",
    "# Replace 'your_file.xlsx' with the path to your Excel file\n",
    "file_path = 'Data/final.xlsx'\n",
    "\n",
    "# Read the Excel file\n",
    "df = pd.read_excel(file_path)\n",
    "\n",
    "# Enhance DataFrame with 'Order' and 'Chapter' information\n",
    "df['Label'] = df['no'].astype(str) + \": \" + df['Location JSON Name']\n",
    "\n",
    "# Calculate frequency of each location\n",
    "location_frequency = df['Location JSON Name'].value_counts()\n",
    "\n",
    "# Create Source-Target pairs\n",
    "source_target_pairs = [(df['Label'][i], df['Label'][i + 1]) for i in range(len(df) - 1)]\n",
    "\n",
    "# Create a directed graph\n",
    "G = nx.from_pandas_edgelist(pd.DataFrame(source_target_pairs, columns=['Source', 'Target']), \n",
    "                            'Source', 'Target', create_using=nx.DiGraph())\n",
    "\n",
    "# Position the nodes using NetworkX's layout\n",
    "pos = nx.spring_layout(G)\n",
    "\n",
    "# Extract node and edge traces for Plotly\n",
    "edge_trace = go.Scatter(\n",
    "    x=[],\n",
    "    y=[],\n",
    "    line=dict(width=0.5, color='#888'),\n",
    "    hoverinfo='none',\n",
    "    mode='lines')\n",
    "\n",
    "for edge in G.edges():\n",
    "    x0, y0 = pos[edge[0]]\n",
    "    x1, y1 = pos[edge[1]]\n",
    "    edge_trace['x'] += (x0, x1, None)\n",
    "    edge_trace['y'] += (y0, y1, None)\n",
    "\n",
    "# Generate color map for chapters\n",
    "chapter_list = df['Chapter'].unique()\n",
    "colors = px.colors.qualitative.Plotly  # Or any other color sequence\n",
    "color_map = {chapter: colors[i % len(colors)] for i, chapter in enumerate(chapter_list)}\n",
    "\n",
    "node_trace = go.Scatter(\n",
    "    x=[],\n",
    "    y=[],\n",
    "    text=[],\n",
    "    mode='markers',\n",
    "    hoverinfo='text',\n",
    "    marker=dict(\n",
    "        showscale=False,\n",
    "        color=[],\n",
    "        size=[],  # Sizes will be set based on frequency\n",
    "        line_width=2))\n",
    "\n",
    "for node in G.nodes():\n",
    "    x, y = pos[node]\n",
    "    node_trace['x'] += (x,)\n",
    "    node_trace['y'] += (y,)\n",
    "    # Extract chapter from node label\n",
    "    chapter = df[df['Label'] == node]['Chapter'].values[0]\n",
    "    node_trace['marker']['color'] += (color_map[chapter],)\n",
    "    # Set node size based on frequency (with some scaling factor)\n",
    "    location_name = node.split(\": \")[1]\n",
    "    node_size = location_frequency[location_name] * 5  # Example scaling factor\n",
    "    node_trace['marker']['size'] += (node_size,)\n",
    "    node_trace['text'] += (node,)\n",
    "\n",
    "# Create the figure\n",
    "fig = go.Figure(data=[edge_trace, node_trace],\n",
    "             layout=go.Layout(\n",
    "                title='<br>Network graph of locations with chapters and frequency-based sizes',\n",
    "                titlefont_size=16,\n",
    "                showlegend=False,\n",
    "                hovermode='closest',\n",
    "                margin=dict(b=20,l=5,r=5,t=40),\n",
    "                xaxis=dict(showgrid=False, zeroline=False, showticklabels=False),\n",
    "                yaxis=dict(showgrid=False, zeroline=False, showticklabels=False))\n",
    "                )\n",
    "\n",
    "fig.show()\n"
   ]
  },
  {
   "cell_type": "code",
   "execution_count": 38,
   "id": "459b666d",
   "metadata": {},
   "outputs": [
    {
     "name": "stdout",
     "output_type": "stream",
     "text": [
      "HTML file saved: network_all.html\n"
     ]
    }
   ],
   "source": [
    "# Save the figure as an HTML file\n",
    "html_file_path = 'network_all.html'\n",
    "fig.write_html(html_file_path)\n",
    "\n",
    "print(f\"HTML file saved: {html_file_path}\")"
   ]
  },
  {
   "cell_type": "code",
   "execution_count": 102,
   "id": "180eaa0e",
   "metadata": {
    "collapsed": true
   },
   "outputs": [
    {
     "data": {
      "application/vnd.plotly.v1+json": {
       "config": {
        "plotlyServerURL": "https://plot.ly"
       },
       "data": [
        {
         "hoverinfo": "none",
         "line": {
          "color": "#888",
          "width": 0.5
         },
         "mode": "lines",
         "type": "scatter",
         "x": [
          0.8931697758168838,
          0.4954756282008053,
          null,
          0.4954756282008053,
          -0.09401385324160778,
          null,
          -0.09401385324160778,
          -0.7060990882390222,
          null,
          -0.7060990882390222,
          -1.1499669767685312,
          null,
          -1.1499669767685312,
          -1.272523740020337,
          null,
          -1.272523740020337,
          -1.0101363862068775,
          null,
          -1.0101363862068775,
          -0.4155653541892315,
          null,
          -0.4155653541892315,
          0.3502804762719545,
          null,
          0.3502804762719545,
          1.0615079907822496,
          null,
          1.0615079907822496,
          1.493868220239385,
          null,
          1.493868220239385,
          1.4951967432861146,
          null,
          1.4951967432861146,
          1.0376132136083538,
          null,
          1.0376132136083538,
          0.23390997019841175,
          null,
          0.23390997019841175,
          -0.6891295164262031,
          null,
          -0.6891295164262031,
          -1.4545692580039729,
          null,
          -1.4545692580039729,
          -1.818393804972806,
          null,
          -1.818393804972806,
          -1.6469005259090563,
          null,
          -1.6469005259090563,
          -0.9639745672605116,
          null,
          -0.9639745672605116,
          0.04802574965185385,
          null,
          0.04802574965185385,
          1.096389925554082,
          null,
          1.096389925554082,
          1.8626725175645868,
          null,
          1.8626725175645868,
          2.099359319928397,
          null,
          2.099359319928397,
          1.7092570416304105,
          null,
          1.7092570416304105,
          0.7822940309087378,
          null,
          0.7822940309087378,
          -0.4235382496029072,
          null,
          -0.4235382496029072,
          -1.5536994699487485,
          null,
          -1.5536994699487485,
          -2.2613381205302385,
          null,
          -2.2613381205302385,
          -2.3136073308577187,
          null,
          -2.3136073308577187,
          -1.6675096170950292,
          null,
          -1.6675096170950292,
          -0.4907716182605797,
          null,
          -0.4907716182605797,
          0.8808417092940246,
          null,
          0.8808417092940246,
          2.0391989402405524,
          null,
          2.0391989402405524,
          2.625240698726937,
          null,
          2.625240698726937,
          2.4400520905259633,
          null,
          2.4400520905259633,
          1.511273542319984,
          null,
          1.511273542319984,
          0.09296300107946742,
          null,
          0.09296300107946742,
          -1.4034306267975836,
          null,
          -1.4034306267975836,
          -2.5283785788481588,
          null,
          -2.5283785788481588,
          -2.9292852026430234,
          null,
          -2.9292852026430234,
          -2.4606610317481334,
          null,
          -2.4606610317481334,
          -1.235126563973208,
          null,
          -1.235126563973208,
          0.4022002449907799,
          null,
          0.4022002449907799,
          1.970637482798482,
          null,
          1.970637482798482,
          2.9950469692029866,
          null,
          2.9950469692029866,
          3.149695800412824,
          null,
          3.149695800412824,
          2.361335439745215,
          null,
          2.361335439745215,
          0.8390149845487144,
          null,
          0.8390149845487144,
          -0.9806030550133125,
          null,
          -0.9806030550133125,
          -2.5583674115359343,
          null,
          -2.5583674115359343,
          -3.412387953440582,
          null,
          -3.412387953440582,
          -3.2650771571985193,
          null,
          -3.2650771571985193,
          -2.132655917729346,
          null,
          -2.132655917729346,
          -0.3284574070398878,
          null,
          -0.3284574070398878,
          1.6233480674701612,
          null,
          1.6233480674701612,
          3.139985283889504,
          null,
          3.139985283889504,
          3.7540676202935543,
          null,
          3.7540676202935543,
          3.2574081445315333,
          null,
          3.2574081445315333,
          1.7704626912098678,
          null,
          1.7704626912098678,
          -0.2854648253919484,
          null,
          -0.2854648253919484,
          -2.3073542218356566,
          null,
          -2.3073542218356566,
          -3.6873248799928136,
          null,
          -3.6873248799928136,
          -3.9953511586288792,
          null,
          -3.9953511586288792,
          -3.1129299423675336,
          null,
          -3.1129299423675336,
          -1.2762463015828298,
          null,
          -1.2762463015828298,
          0.9863339929022542,
          null,
          0.9863339929022542,
          3.006134218425388,
          null,
          3.006134218425388,
          4.171785091101127,
          null,
          4.171785091101127,
          4.114188489190804,
          null,
          4.114188489190804,
          2.8228937387024278,
          null,
          2.8228937387024278,
          0.6573306413193946,
          null,
          0.6573306413193946,
          -1.752835015759484,
          null,
          -1.752835015759484,
          -3.690725693385801,
          null,
          -3.690725693385801,
          -4.565474509863946,
          null,
          -4.565474509863946,
          -4.092228108084394,
          null,
          -4.092228108084394,
          -2.3841377045282357,
          null,
          -2.3841377045282357,
          0.07316262588635071,
          null,
          0.07316262588635071,
          2.559395385815022,
          null,
          2.559395385815022,
          4.330745148058304,
          null,
          4.330745148058304,
          4.842363474489876,
          null,
          4.842363474489876,
          3.915720494971958,
          null,
          3.915720494971958,
          1.7994684865375048,
          null,
          1.7994684865375048,
          -0.8965716677506457,
          null,
          -0.8965716677506457,
          -3.3770069990619382,
          null,
          -3.3770069990619382,
          -4.895528851013036,
          null,
          -4.895528851013036,
          -4.979401714061115,
          null,
          -4.979401714061115,
          -3.576275705538514,
          null,
          -3.576275705538514,
          -1.0778289403379089,
          null,
          -1.0778289403379089,
          1.7891697579732395,
          null,
          1.7891697579732395,
          4.174204160867088,
          null,
          4.174204160867088,
          5.355321273550826,
          null,
          5.355321273550826,
          4.95756024356404,
          null,
          4.95756024356404,
          3.0714442856422863,
          null,
          3.0714442856422863,
          0.2342410156592411,
          null,
          0.2342410156592411,
          -2.722846160641281,
          null,
          -2.722846160641281,
          -4.918166110627431,
          null,
          -4.918166110627431,
          -5.682469259436561,
          null,
          -5.682469259436561,
          -4.762758076030356,
          null
         ],
         "y": [
          0.5488367107390302,
          0.9783258334005749,
          null,
          0.9783258334005749,
          1.14109248015029,
          null,
          1.14109248015029,
          0.9619446014852047,
          null,
          0.9619446014852047,
          0.4681255648078373,
          null,
          0.4681255648078373,
          -0.21111784382292376,
          null,
          -0.21111784382292376,
          -0.8777831636755993,
          null,
          -0.8777831636755993,
          -1.322817142808986,
          null,
          -1.322817142808986,
          -1.3914646485122901,
          null,
          -1.3914646485122901,
          -1.0358914790130431,
          null,
          -1.0358914790130431,
          -0.3374874360321283,
          null,
          -0.3374874360321283,
          0.510162673454581,
          null,
          0.510162673454581,
          1.254689948365231,
          null,
          1.254689948365231,
          1.660076062701201,
          null,
          1.660076062701201,
          1.5811435246981675,
          null,
          1.5811435246981675,
          1.013982300255884,
          null,
          1.013982300255884,
          0.10518015269678282,
          null,
          0.10518015269678282,
          -0.885265035247805,
          null,
          -0.885265035247805,
          -1.658238449801002,
          null,
          -1.658238449801002,
          -1.9658054368147089,
          null,
          -1.9658054368147089,
          -1.690263870513845,
          null,
          -1.690263870513845,
          -0.8868758725866002,
          null,
          -0.8868758725866002,
          0.2247056621600829,
          null,
          0.2247056621600829,
          1.3200820389615677,
          null,
          1.3200820389615677,
          2.0647604887241418,
          null,
          2.0647604887241418,
          2.2162013328710675,
          null,
          2.2162013328710675,
          1.7021556013908465,
          null,
          1.7021556013908465,
          0.6501676275667383,
          null,
          0.6501676275667383,
          -0.6428927051995691,
          null,
          -0.6428927051995691,
          -1.794406037845411,
          null,
          -1.794406037845411,
          -2.4492214227991136,
          null,
          -2.4492214227991136,
          -2.389014612188177,
          null,
          -2.389014612188177,
          -1.6041635697644874,
          null,
          -1.6041635697644874,
          -0.3047196416498239,
          null,
          -0.3047196416498239,
          1.1351774570814044,
          null,
          1.1351774570814044,
          2.28493833364943,
          null,
          2.28493833364943,
          2.786274789202081,
          null,
          2.786274789202081,
          2.464568882372694,
          null,
          2.464568882372694,
          1.3883215079224722,
          null,
          1.3883215079224722,
          -0.143213698802766,
          null,
          -0.143213698802766,
          -1.6828921328649722,
          null,
          -1.6828921328649722,
          -2.766200872049872,
          null,
          -2.766200872049872,
          -3.0513498117218365,
          null,
          -3.0513498117218365,
          -2.4266961092035535,
          null,
          -2.4266961092035535,
          -1.051852983660335,
          null,
          -1.051852983660335,
          0.6820717933082826,
          null,
          0.6820717933082826,
          2.2635535324420126,
          null,
          2.2635535324420126,
          3.2115536992641607,
          null,
          3.2115536992641607,
          3.221731549624359,
          null,
          3.221731549624359,
          2.263553733887012,
          null,
          2.263553733887012,
          0.5974781423095539,
          null,
          0.5974781423095539,
          -1.295285588992,
          null,
          -1.295285588992,
          -2.8516773709054863,
          null,
          -2.8516773709054863,
          -3.5942818311919056,
          null,
          -3.5942818311919056,
          -3.2775932982443607,
          null,
          -3.2775932982443607,
          -1.968290981500785,
          null,
          -1.968290981500785,
          -0.03351170948570193,
          null,
          -0.03351170948570193,
          1.9617793559222365,
          null,
          1.9617793559222365,
          3.4197305181630147,
          null,
          3.4197305181630147,
          3.888712287530246,
          null,
          3.888712287530246,
          3.2029420769145704,
          null,
          3.2029420769145704,
          1.5395370347319295,
          null,
          1.5395370347319295,
          -0.6262550099322914,
          null,
          -0.6262550099322914,
          -2.6566614624178166,
          null,
          -2.6566614624178166,
          -3.939188321330553,
          null,
          -3.939188321330553,
          -4.0713204708482,
          null,
          -4.0713204708482,
          -2.986440627045847,
          null,
          -2.986440627045847,
          -0.9816897245794876,
          null,
          -0.9816897245794876,
          1.3628878193650868,
          null,
          1.3628878193650868,
          3.3520822202488376,
          null,
          3.3520822202488376,
          4.381660005672619,
          null,
          4.381660005672619,
          4.12178488744076,
          null,
          4.12178488744076,
          2.6220732155936113,
          null,
          2.6220732155936113,
          0.3049901636818693,
          null,
          0.3049901636818693,
          -2.152851036982682,
          null,
          -2.152851036982682,
          -4.0182306336518545,
          null,
          -4.0182306336518545,
          -4.720042199000701,
          null,
          -4.720042199000701,
          -4.023950430548321,
          null,
          -4.023950430548321,
          -2.10962757773562,
          null,
          -2.10962757773562,
          0.4746239019435821,
          null,
          0.4746239019435821,
          2.9687411900143275,
          null,
          2.9687411900143275,
          4.624436545365879,
          null,
          4.624436545365879,
          4.9296590101481215,
          null,
          4.9296590101481215,
          3.7666630487859836,
          null,
          3.7666630487859836,
          1.4549713791762346,
          null,
          1.4549713791762346,
          -1.3358855614583514,
          null,
          -1.3358855614583514,
          -3.780190541061653,
          null,
          -3.780190541061653,
          -5.140340414509631,
          null,
          -5.140340414509631,
          -4.989346881025976,
          null,
          -4.989346881025976,
          -3.3444425295245956,
          null,
          -3.3444425295245956,
          -0.6701084406683357,
          null,
          -0.6701084406683357,
          2.252778799484523,
          null,
          2.252778799484523,
          4.5549116433149806,
          null,
          4.5549116433149806,
          5.53708993808986,
          null,
          5.53708993808986,
          4.882443644995892,
          null,
          4.882443644995892,
          2.7579652213156973,
          null,
          2.7579652213156973,
          -0.22699257557380964,
          null,
          -0.22699257557380964,
          -3.195315328817402,
          null
         ]
        },
        {
         "hoverinfo": "text",
         "marker": {
          "color": [
           "#636EFA",
           "#636EFA",
           "#636EFA",
           "#EF553B",
           "#EF553B",
           "#EF553B",
           "#EF553B",
           "#EF553B",
           "#EF553B",
           "#EF553B",
           "#EF553B",
           "#EF553B",
           "#EF553B",
           "#EF553B",
           "#EF553B",
           "#EF553B",
           "#EF553B",
           "#00CC96",
           "#00CC96",
           "#00CC96",
           "#00CC96",
           "#00CC96",
           "#00CC96",
           "#00CC96",
           "#00CC96",
           "#00CC96",
           "#00CC96",
           "#00CC96",
           "#00CC96",
           "#00CC96",
           "#AB63FA",
           "#AB63FA",
           "#AB63FA",
           "#AB63FA",
           "#AB63FA",
           "#AB63FA",
           "#AB63FA",
           "#AB63FA",
           "#AB63FA",
           "#FFA15A",
           "#FFA15A",
           "#FFA15A",
           "#FFA15A",
           "#19D3F3",
           "#19D3F3",
           "#19D3F3",
           "#FF6692",
           "#FF6692",
           "#FF6692",
           "#FF6692",
           "#FF6692",
           "#FF6692",
           "#FF6692",
           "#FF6692",
           "#FF6692",
           "#B6E880",
           "#B6E880",
           "#B6E880",
           "#B6E880",
           "#B6E880",
           "#B6E880",
           "#B6E880",
           "#B6E880",
           "#B6E880",
           "#B6E880",
           "#FF97FF",
           "#FF97FF",
           "#FF97FF",
           "#FF97FF",
           "#FECB52",
           "#FECB52",
           "#FECB52",
           "#FECB52",
           "#636EFA",
           "#636EFA",
           "#636EFA",
           "#636EFA",
           "#636EFA",
           "#EF553B",
           "#EF553B",
           "#EF553B",
           "#00CC96",
           "#AB63FA",
           "#AB63FA",
           "#AB63FA",
           "#AB63FA",
           "#FFA15A",
           "#FFA15A",
           "#FFA15A",
           "#FFA15A",
           "#FFA15A",
           "#19D3F3",
           "#19D3F3",
           "#FF6692",
           "#FF6692",
           "#FF6692",
           "#FF6692",
           "#B6E880"
          ],
          "line": {
           "width": 2
          },
          "showscale": false,
          "size": [
           15,
           15,
           15,
           15,
           15,
           15,
           15,
           15,
           15,
           15,
           15,
           15,
           15,
           15,
           15,
           15,
           15,
           15,
           15,
           15,
           15,
           15,
           15,
           15,
           15,
           20,
           15,
           15,
           20,
           15,
           15,
           20,
           15,
           15,
           15,
           15,
           15,
           15,
           15,
           15,
           30,
           15,
           20,
           30,
           15,
           15,
           20,
           30,
           20,
           15,
           15,
           15,
           15,
           15,
           15,
           15,
           15,
           15,
           15,
           15,
           15,
           15,
           15,
           15,
           15,
           30,
           15,
           15,
           15,
           15,
           15,
           15,
           15,
           15,
           20,
           15,
           15,
           15,
           15,
           15,
           15,
           15,
           15,
           15,
           15,
           15,
           15,
           15,
           15,
           15,
           15,
           15,
           15,
           20,
           15,
           15,
           15,
           15
          ]
         },
         "mode": "markers+text",
         "text": [
          "1: Beirût",
          "2: La Bellevue Hotel",
          "3: Roman Mansion",
          "4: Roadside khan",
          "5: Nebi-Yunas khan",
          "6: Sidon",
          "7: Tyre",
          "8: St. Jean d'Acre",
          "9: Plain of Esdraelon",
          "10: Mount Carmel",
          "11: Ahtlit",
          "12: Tantura",
          "13: Cæsarea",
          "14: Valley of Sharon",
          "15: Jaffa",
          "16: Ramleh",
          "17: Lydda",
          "18: Damascus Gate",
          "19: St. Stephen's Gate",
          "20: Zion Gate",
          "21: Jaffa Gate",
          "22: Fortress of David",
          "23: Church of Yacobeiah",
          "24: Church of St. James",
          "25: Armenian Patriarch's palace",
          "26: Tomb of David",
          "27: Via Dolorosa",
          "28: Governor of Jerusalem's residence",
          "29: Church of the Holy Sepulchre",
          "30: Church of Flagellation",
          "31: Convent of the Cross",
          "32: Valley of Jehosaphat",
          "33: Pool of Siloam",
          "34: King's Gardens",
          "35: Well of Joab",
          "36: Hill of Scandal",
          "37: Church of the Virgin Mary",
          "38: Tombs of the Kings",
          "39: Cave of Jeremiah",
          "40: Gethsemane",
          "41: Mount Olivet",
          "42: Church of Ascension",
          "43: Bethany",
          "44: Mount Olivet",
          "45: Village at the top of the mountain",
          "46: Pathway from the city to Jordan",
          "47: Valley of Jehosaphat",
          "48: Mount Olivet",
          "49: Bethany",
          "50: Apostles' Fountain",
          "51: Dead Sea",
          "52: Jericho",
          "53: Fountain of Elisha",
          "54: Jordan River",
          "55: Mount Zion",
          "56: Road from Jerusalem to Bethlehem",
          "57: Bethlehem",
          "58: Church and Monastery covering the Cave of the Nativity",
          "59: Cave of the Nativity",
          "60: Schoolroom of Miss Williams",
          "61: Jerome's Cave",
          "62: Joseph's House",
          "63: The Manger",
          "64: Church of St. Helena",
          "65: Grotto of the Nativity",
          "66: Mount Olivet",
          "67: Wady Farah",
          "68: Valley of Delight",
          "69: Liftah (Nephtoah)",
          "70: Mosque of Omar",
          "71: Temple enclosure",
          "72: Mosque of Aksa",
          "73: Cave of the Sakhrah",
          "74: Parley Room",
          "75: Tomb of David",
          "76: Turfendah's Home",
          "77: Keeper's Hareem",
          "78: Author's Home",
          "79: House of Bash Catib",
          "80: Neby Daûd",
          "81: Jewish quarter",
          "82: bazaars of Jerusalem",
          "83: Bazaar",
          "84: Home of Turfendah and friends",
          "85: Bathing Establishment",
          "86: Dressing-room in Bathing Establishment",
          "87: Private house in the Jewish quarter",
          "88: Hackmè or dispensary",
          "89: House's upper court",
          "90: Housetop terrace",
          "91: Council Chamber or Sanhedrim",
          "92: Temple Walls",
          "93: Synagogues in Jerusalem",
          "94: Church of the Holy Sepulchre",
          "95: Scene of the Crucifixion",
          "96: Chapel of the Holy Cross",
          "97: Subterranean part of the Church",
          "98: Syria"
         ],
         "textposition": "bottom center",
         "type": "scatter",
         "x": [
          0.8931697758168838,
          0.4954756282008053,
          -0.09401385324160778,
          -0.7060990882390222,
          -1.1499669767685312,
          -1.272523740020337,
          -1.0101363862068775,
          -0.4155653541892315,
          0.3502804762719545,
          1.0615079907822496,
          1.493868220239385,
          1.4951967432861146,
          1.0376132136083538,
          0.23390997019841175,
          -0.6891295164262031,
          -1.4545692580039729,
          -1.818393804972806,
          -1.6469005259090563,
          -0.9639745672605116,
          0.04802574965185385,
          1.096389925554082,
          1.8626725175645868,
          2.099359319928397,
          1.7092570416304105,
          0.7822940309087378,
          -0.4235382496029072,
          -1.5536994699487485,
          -2.2613381205302385,
          -2.3136073308577187,
          -1.6675096170950292,
          -0.4907716182605797,
          0.8808417092940246,
          2.0391989402405524,
          2.625240698726937,
          2.4400520905259633,
          1.511273542319984,
          0.09296300107946742,
          -1.4034306267975836,
          -2.5283785788481588,
          -2.9292852026430234,
          -2.4606610317481334,
          -1.235126563973208,
          0.4022002449907799,
          1.970637482798482,
          2.9950469692029866,
          3.149695800412824,
          2.361335439745215,
          0.8390149845487144,
          -0.9806030550133125,
          -2.5583674115359343,
          -3.412387953440582,
          -3.2650771571985193,
          -2.132655917729346,
          -0.3284574070398878,
          1.6233480674701612,
          3.139985283889504,
          3.7540676202935543,
          3.2574081445315333,
          1.7704626912098678,
          -0.2854648253919484,
          -2.3073542218356566,
          -3.6873248799928136,
          -3.9953511586288792,
          -3.1129299423675336,
          -1.2762463015828298,
          0.9863339929022542,
          3.006134218425388,
          4.171785091101127,
          4.114188489190804,
          2.8228937387024278,
          0.6573306413193946,
          -1.752835015759484,
          -3.690725693385801,
          -4.565474509863946,
          -4.092228108084394,
          -2.3841377045282357,
          0.07316262588635071,
          2.559395385815022,
          4.330745148058304,
          4.842363474489876,
          3.915720494971958,
          1.7994684865375048,
          -0.8965716677506457,
          -3.3770069990619382,
          -4.895528851013036,
          -4.979401714061115,
          -3.576275705538514,
          -1.0778289403379089,
          1.7891697579732395,
          4.174204160867088,
          5.355321273550826,
          4.95756024356404,
          3.0714442856422863,
          0.2342410156592411,
          -2.722846160641281,
          -4.918166110627431,
          -5.682469259436561,
          -4.762758076030356
         ],
         "y": [
          0.5488367107390302,
          0.9783258334005749,
          1.14109248015029,
          0.9619446014852047,
          0.4681255648078373,
          -0.21111784382292376,
          -0.8777831636755993,
          -1.322817142808986,
          -1.3914646485122901,
          -1.0358914790130431,
          -0.3374874360321283,
          0.510162673454581,
          1.254689948365231,
          1.660076062701201,
          1.5811435246981675,
          1.013982300255884,
          0.10518015269678282,
          -0.885265035247805,
          -1.658238449801002,
          -1.9658054368147089,
          -1.690263870513845,
          -0.8868758725866002,
          0.2247056621600829,
          1.3200820389615677,
          2.0647604887241418,
          2.2162013328710675,
          1.7021556013908465,
          0.6501676275667383,
          -0.6428927051995691,
          -1.794406037845411,
          -2.4492214227991136,
          -2.389014612188177,
          -1.6041635697644874,
          -0.3047196416498239,
          1.1351774570814044,
          2.28493833364943,
          2.786274789202081,
          2.464568882372694,
          1.3883215079224722,
          -0.143213698802766,
          -1.6828921328649722,
          -2.766200872049872,
          -3.0513498117218365,
          -2.4266961092035535,
          -1.051852983660335,
          0.6820717933082826,
          2.2635535324420126,
          3.2115536992641607,
          3.221731549624359,
          2.263553733887012,
          0.5974781423095539,
          -1.295285588992,
          -2.8516773709054863,
          -3.5942818311919056,
          -3.2775932982443607,
          -1.968290981500785,
          -0.03351170948570193,
          1.9617793559222365,
          3.4197305181630147,
          3.888712287530246,
          3.2029420769145704,
          1.5395370347319295,
          -0.6262550099322914,
          -2.6566614624178166,
          -3.939188321330553,
          -4.0713204708482,
          -2.986440627045847,
          -0.9816897245794876,
          1.3628878193650868,
          3.3520822202488376,
          4.381660005672619,
          4.12178488744076,
          2.6220732155936113,
          0.3049901636818693,
          -2.152851036982682,
          -4.0182306336518545,
          -4.720042199000701,
          -4.023950430548321,
          -2.10962757773562,
          0.4746239019435821,
          2.9687411900143275,
          4.624436545365879,
          4.9296590101481215,
          3.7666630487859836,
          1.4549713791762346,
          -1.3358855614583514,
          -3.780190541061653,
          -5.140340414509631,
          -4.989346881025976,
          -3.3444425295245956,
          -0.6701084406683357,
          2.252778799484523,
          4.5549116433149806,
          5.53708993808986,
          4.882443644995892,
          2.7579652213156973,
          -0.22699257557380964,
          -3.195315328817402
         ]
        }
       ],
       "layout": {
        "height": 800,
        "hovermode": "closest",
        "margin": {
         "b": 20,
         "l": 5,
         "r": 5,
         "t": 40
        },
        "showlegend": false,
        "template": {
         "data": {
          "bar": [
           {
            "error_x": {
             "color": "#2a3f5f"
            },
            "error_y": {
             "color": "#2a3f5f"
            },
            "marker": {
             "line": {
              "color": "#E5ECF6",
              "width": 0.5
             },
             "pattern": {
              "fillmode": "overlay",
              "size": 10,
              "solidity": 0.2
             }
            },
            "type": "bar"
           }
          ],
          "barpolar": [
           {
            "marker": {
             "line": {
              "color": "#E5ECF6",
              "width": 0.5
             },
             "pattern": {
              "fillmode": "overlay",
              "size": 10,
              "solidity": 0.2
             }
            },
            "type": "barpolar"
           }
          ],
          "carpet": [
           {
            "aaxis": {
             "endlinecolor": "#2a3f5f",
             "gridcolor": "white",
             "linecolor": "white",
             "minorgridcolor": "white",
             "startlinecolor": "#2a3f5f"
            },
            "baxis": {
             "endlinecolor": "#2a3f5f",
             "gridcolor": "white",
             "linecolor": "white",
             "minorgridcolor": "white",
             "startlinecolor": "#2a3f5f"
            },
            "type": "carpet"
           }
          ],
          "choropleth": [
           {
            "colorbar": {
             "outlinewidth": 0,
             "ticks": ""
            },
            "type": "choropleth"
           }
          ],
          "contour": [
           {
            "colorbar": {
             "outlinewidth": 0,
             "ticks": ""
            },
            "colorscale": [
             [
              0,
              "#0d0887"
             ],
             [
              0.1111111111111111,
              "#46039f"
             ],
             [
              0.2222222222222222,
              "#7201a8"
             ],
             [
              0.3333333333333333,
              "#9c179e"
             ],
             [
              0.4444444444444444,
              "#bd3786"
             ],
             [
              0.5555555555555556,
              "#d8576b"
             ],
             [
              0.6666666666666666,
              "#ed7953"
             ],
             [
              0.7777777777777778,
              "#fb9f3a"
             ],
             [
              0.8888888888888888,
              "#fdca26"
             ],
             [
              1,
              "#f0f921"
             ]
            ],
            "type": "contour"
           }
          ],
          "contourcarpet": [
           {
            "colorbar": {
             "outlinewidth": 0,
             "ticks": ""
            },
            "type": "contourcarpet"
           }
          ],
          "heatmap": [
           {
            "colorbar": {
             "outlinewidth": 0,
             "ticks": ""
            },
            "colorscale": [
             [
              0,
              "#0d0887"
             ],
             [
              0.1111111111111111,
              "#46039f"
             ],
             [
              0.2222222222222222,
              "#7201a8"
             ],
             [
              0.3333333333333333,
              "#9c179e"
             ],
             [
              0.4444444444444444,
              "#bd3786"
             ],
             [
              0.5555555555555556,
              "#d8576b"
             ],
             [
              0.6666666666666666,
              "#ed7953"
             ],
             [
              0.7777777777777778,
              "#fb9f3a"
             ],
             [
              0.8888888888888888,
              "#fdca26"
             ],
             [
              1,
              "#f0f921"
             ]
            ],
            "type": "heatmap"
           }
          ],
          "heatmapgl": [
           {
            "colorbar": {
             "outlinewidth": 0,
             "ticks": ""
            },
            "colorscale": [
             [
              0,
              "#0d0887"
             ],
             [
              0.1111111111111111,
              "#46039f"
             ],
             [
              0.2222222222222222,
              "#7201a8"
             ],
             [
              0.3333333333333333,
              "#9c179e"
             ],
             [
              0.4444444444444444,
              "#bd3786"
             ],
             [
              0.5555555555555556,
              "#d8576b"
             ],
             [
              0.6666666666666666,
              "#ed7953"
             ],
             [
              0.7777777777777778,
              "#fb9f3a"
             ],
             [
              0.8888888888888888,
              "#fdca26"
             ],
             [
              1,
              "#f0f921"
             ]
            ],
            "type": "heatmapgl"
           }
          ],
          "histogram": [
           {
            "marker": {
             "pattern": {
              "fillmode": "overlay",
              "size": 10,
              "solidity": 0.2
             }
            },
            "type": "histogram"
           }
          ],
          "histogram2d": [
           {
            "colorbar": {
             "outlinewidth": 0,
             "ticks": ""
            },
            "colorscale": [
             [
              0,
              "#0d0887"
             ],
             [
              0.1111111111111111,
              "#46039f"
             ],
             [
              0.2222222222222222,
              "#7201a8"
             ],
             [
              0.3333333333333333,
              "#9c179e"
             ],
             [
              0.4444444444444444,
              "#bd3786"
             ],
             [
              0.5555555555555556,
              "#d8576b"
             ],
             [
              0.6666666666666666,
              "#ed7953"
             ],
             [
              0.7777777777777778,
              "#fb9f3a"
             ],
             [
              0.8888888888888888,
              "#fdca26"
             ],
             [
              1,
              "#f0f921"
             ]
            ],
            "type": "histogram2d"
           }
          ],
          "histogram2dcontour": [
           {
            "colorbar": {
             "outlinewidth": 0,
             "ticks": ""
            },
            "colorscale": [
             [
              0,
              "#0d0887"
             ],
             [
              0.1111111111111111,
              "#46039f"
             ],
             [
              0.2222222222222222,
              "#7201a8"
             ],
             [
              0.3333333333333333,
              "#9c179e"
             ],
             [
              0.4444444444444444,
              "#bd3786"
             ],
             [
              0.5555555555555556,
              "#d8576b"
             ],
             [
              0.6666666666666666,
              "#ed7953"
             ],
             [
              0.7777777777777778,
              "#fb9f3a"
             ],
             [
              0.8888888888888888,
              "#fdca26"
             ],
             [
              1,
              "#f0f921"
             ]
            ],
            "type": "histogram2dcontour"
           }
          ],
          "mesh3d": [
           {
            "colorbar": {
             "outlinewidth": 0,
             "ticks": ""
            },
            "type": "mesh3d"
           }
          ],
          "parcoords": [
           {
            "line": {
             "colorbar": {
              "outlinewidth": 0,
              "ticks": ""
             }
            },
            "type": "parcoords"
           }
          ],
          "pie": [
           {
            "automargin": true,
            "type": "pie"
           }
          ],
          "scatter": [
           {
            "fillpattern": {
             "fillmode": "overlay",
             "size": 10,
             "solidity": 0.2
            },
            "type": "scatter"
           }
          ],
          "scatter3d": [
           {
            "line": {
             "colorbar": {
              "outlinewidth": 0,
              "ticks": ""
             }
            },
            "marker": {
             "colorbar": {
              "outlinewidth": 0,
              "ticks": ""
             }
            },
            "type": "scatter3d"
           }
          ],
          "scattercarpet": [
           {
            "marker": {
             "colorbar": {
              "outlinewidth": 0,
              "ticks": ""
             }
            },
            "type": "scattercarpet"
           }
          ],
          "scattergeo": [
           {
            "marker": {
             "colorbar": {
              "outlinewidth": 0,
              "ticks": ""
             }
            },
            "type": "scattergeo"
           }
          ],
          "scattergl": [
           {
            "marker": {
             "colorbar": {
              "outlinewidth": 0,
              "ticks": ""
             }
            },
            "type": "scattergl"
           }
          ],
          "scattermapbox": [
           {
            "marker": {
             "colorbar": {
              "outlinewidth": 0,
              "ticks": ""
             }
            },
            "type": "scattermapbox"
           }
          ],
          "scatterpolar": [
           {
            "marker": {
             "colorbar": {
              "outlinewidth": 0,
              "ticks": ""
             }
            },
            "type": "scatterpolar"
           }
          ],
          "scatterpolargl": [
           {
            "marker": {
             "colorbar": {
              "outlinewidth": 0,
              "ticks": ""
             }
            },
            "type": "scatterpolargl"
           }
          ],
          "scatterternary": [
           {
            "marker": {
             "colorbar": {
              "outlinewidth": 0,
              "ticks": ""
             }
            },
            "type": "scatterternary"
           }
          ],
          "surface": [
           {
            "colorbar": {
             "outlinewidth": 0,
             "ticks": ""
            },
            "colorscale": [
             [
              0,
              "#0d0887"
             ],
             [
              0.1111111111111111,
              "#46039f"
             ],
             [
              0.2222222222222222,
              "#7201a8"
             ],
             [
              0.3333333333333333,
              "#9c179e"
             ],
             [
              0.4444444444444444,
              "#bd3786"
             ],
             [
              0.5555555555555556,
              "#d8576b"
             ],
             [
              0.6666666666666666,
              "#ed7953"
             ],
             [
              0.7777777777777778,
              "#fb9f3a"
             ],
             [
              0.8888888888888888,
              "#fdca26"
             ],
             [
              1,
              "#f0f921"
             ]
            ],
            "type": "surface"
           }
          ],
          "table": [
           {
            "cells": {
             "fill": {
              "color": "#EBF0F8"
             },
             "line": {
              "color": "white"
             }
            },
            "header": {
             "fill": {
              "color": "#C8D4E3"
             },
             "line": {
              "color": "white"
             }
            },
            "type": "table"
           }
          ]
         },
         "layout": {
          "annotationdefaults": {
           "arrowcolor": "#2a3f5f",
           "arrowhead": 0,
           "arrowwidth": 1
          },
          "autotypenumbers": "strict",
          "coloraxis": {
           "colorbar": {
            "outlinewidth": 0,
            "ticks": ""
           }
          },
          "colorscale": {
           "diverging": [
            [
             0,
             "#8e0152"
            ],
            [
             0.1,
             "#c51b7d"
            ],
            [
             0.2,
             "#de77ae"
            ],
            [
             0.3,
             "#f1b6da"
            ],
            [
             0.4,
             "#fde0ef"
            ],
            [
             0.5,
             "#f7f7f7"
            ],
            [
             0.6,
             "#e6f5d0"
            ],
            [
             0.7,
             "#b8e186"
            ],
            [
             0.8,
             "#7fbc41"
            ],
            [
             0.9,
             "#4d9221"
            ],
            [
             1,
             "#276419"
            ]
           ],
           "sequential": [
            [
             0,
             "#0d0887"
            ],
            [
             0.1111111111111111,
             "#46039f"
            ],
            [
             0.2222222222222222,
             "#7201a8"
            ],
            [
             0.3333333333333333,
             "#9c179e"
            ],
            [
             0.4444444444444444,
             "#bd3786"
            ],
            [
             0.5555555555555556,
             "#d8576b"
            ],
            [
             0.6666666666666666,
             "#ed7953"
            ],
            [
             0.7777777777777778,
             "#fb9f3a"
            ],
            [
             0.8888888888888888,
             "#fdca26"
            ],
            [
             1,
             "#f0f921"
            ]
           ],
           "sequentialminus": [
            [
             0,
             "#0d0887"
            ],
            [
             0.1111111111111111,
             "#46039f"
            ],
            [
             0.2222222222222222,
             "#7201a8"
            ],
            [
             0.3333333333333333,
             "#9c179e"
            ],
            [
             0.4444444444444444,
             "#bd3786"
            ],
            [
             0.5555555555555556,
             "#d8576b"
            ],
            [
             0.6666666666666666,
             "#ed7953"
            ],
            [
             0.7777777777777778,
             "#fb9f3a"
            ],
            [
             0.8888888888888888,
             "#fdca26"
            ],
            [
             1,
             "#f0f921"
            ]
           ]
          },
          "colorway": [
           "#636efa",
           "#EF553B",
           "#00cc96",
           "#ab63fa",
           "#FFA15A",
           "#19d3f3",
           "#FF6692",
           "#B6E880",
           "#FF97FF",
           "#FECB52"
          ],
          "font": {
           "color": "#2a3f5f"
          },
          "geo": {
           "bgcolor": "white",
           "lakecolor": "white",
           "landcolor": "#E5ECF6",
           "showlakes": true,
           "showland": true,
           "subunitcolor": "white"
          },
          "hoverlabel": {
           "align": "left"
          },
          "hovermode": "closest",
          "mapbox": {
           "style": "light"
          },
          "paper_bgcolor": "white",
          "plot_bgcolor": "#E5ECF6",
          "polar": {
           "angularaxis": {
            "gridcolor": "white",
            "linecolor": "white",
            "ticks": ""
           },
           "bgcolor": "#E5ECF6",
           "radialaxis": {
            "gridcolor": "white",
            "linecolor": "white",
            "ticks": ""
           }
          },
          "scene": {
           "xaxis": {
            "backgroundcolor": "#E5ECF6",
            "gridcolor": "white",
            "gridwidth": 2,
            "linecolor": "white",
            "showbackground": true,
            "ticks": "",
            "zerolinecolor": "white"
           },
           "yaxis": {
            "backgroundcolor": "#E5ECF6",
            "gridcolor": "white",
            "gridwidth": 2,
            "linecolor": "white",
            "showbackground": true,
            "ticks": "",
            "zerolinecolor": "white"
           },
           "zaxis": {
            "backgroundcolor": "#E5ECF6",
            "gridcolor": "white",
            "gridwidth": 2,
            "linecolor": "white",
            "showbackground": true,
            "ticks": "",
            "zerolinecolor": "white"
           }
          },
          "shapedefaults": {
           "line": {
            "color": "#2a3f5f"
           }
          },
          "ternary": {
           "aaxis": {
            "gridcolor": "white",
            "linecolor": "white",
            "ticks": ""
           },
           "baxis": {
            "gridcolor": "white",
            "linecolor": "white",
            "ticks": ""
           },
           "bgcolor": "#E5ECF6",
           "caxis": {
            "gridcolor": "white",
            "linecolor": "white",
            "ticks": ""
           }
          },
          "title": {
           "x": 0.05
          },
          "xaxis": {
           "automargin": true,
           "gridcolor": "white",
           "linecolor": "white",
           "ticks": "",
           "title": {
            "standoff": 15
           },
           "zerolinecolor": "white",
           "zerolinewidth": 2
          },
          "yaxis": {
           "automargin": true,
           "gridcolor": "white",
           "linecolor": "white",
           "ticks": "",
           "title": {
            "standoff": 15
           },
           "zerolinecolor": "white",
           "zerolinewidth": 2
          }
         }
        },
        "title": {
         "font": {
          "size": 16
         },
         "text": "<br>Network graph of locations with spiral layout"
        },
        "xaxis": {
         "showgrid": false,
         "showticklabels": false,
         "zeroline": false
        },
        "yaxis": {
         "showgrid": false,
         "showticklabels": false,
         "zeroline": false
        }
       }
      },
      "text/html": [
       "<div>                            <div id=\"f945c2b2-5ae9-4a0a-8f46-c546a5a7f056\" class=\"plotly-graph-div\" style=\"height:800px; width:100%;\"></div>            <script type=\"text/javascript\">                require([\"plotly\"], function(Plotly) {                    window.PLOTLYENV=window.PLOTLYENV || {};                                    if (document.getElementById(\"f945c2b2-5ae9-4a0a-8f46-c546a5a7f056\")) {                    Plotly.newPlot(                        \"f945c2b2-5ae9-4a0a-8f46-c546a5a7f056\",                        [{\"hoverinfo\":\"none\",\"line\":{\"color\":\"#888\",\"width\":0.5},\"mode\":\"lines\",\"x\":[0.8931697758168838,0.4954756282008053,null,0.4954756282008053,-0.09401385324160778,null,-0.09401385324160778,-0.7060990882390222,null,-0.7060990882390222,-1.1499669767685312,null,-1.1499669767685312,-1.272523740020337,null,-1.272523740020337,-1.0101363862068775,null,-1.0101363862068775,-0.4155653541892315,null,-0.4155653541892315,0.3502804762719545,null,0.3502804762719545,1.0615079907822496,null,1.0615079907822496,1.493868220239385,null,1.493868220239385,1.4951967432861146,null,1.4951967432861146,1.0376132136083538,null,1.0376132136083538,0.23390997019841175,null,0.23390997019841175,-0.6891295164262031,null,-0.6891295164262031,-1.4545692580039729,null,-1.4545692580039729,-1.818393804972806,null,-1.818393804972806,-1.6469005259090563,null,-1.6469005259090563,-0.9639745672605116,null,-0.9639745672605116,0.04802574965185385,null,0.04802574965185385,1.096389925554082,null,1.096389925554082,1.8626725175645868,null,1.8626725175645868,2.099359319928397,null,2.099359319928397,1.7092570416304105,null,1.7092570416304105,0.7822940309087378,null,0.7822940309087378,-0.4235382496029072,null,-0.4235382496029072,-1.5536994699487485,null,-1.5536994699487485,-2.2613381205302385,null,-2.2613381205302385,-2.3136073308577187,null,-2.3136073308577187,-1.6675096170950292,null,-1.6675096170950292,-0.4907716182605797,null,-0.4907716182605797,0.8808417092940246,null,0.8808417092940246,2.0391989402405524,null,2.0391989402405524,2.625240698726937,null,2.625240698726937,2.4400520905259633,null,2.4400520905259633,1.511273542319984,null,1.511273542319984,0.09296300107946742,null,0.09296300107946742,-1.4034306267975836,null,-1.4034306267975836,-2.5283785788481588,null,-2.5283785788481588,-2.9292852026430234,null,-2.9292852026430234,-2.4606610317481334,null,-2.4606610317481334,-1.235126563973208,null,-1.235126563973208,0.4022002449907799,null,0.4022002449907799,1.970637482798482,null,1.970637482798482,2.9950469692029866,null,2.9950469692029866,3.149695800412824,null,3.149695800412824,2.361335439745215,null,2.361335439745215,0.8390149845487144,null,0.8390149845487144,-0.9806030550133125,null,-0.9806030550133125,-2.5583674115359343,null,-2.5583674115359343,-3.412387953440582,null,-3.412387953440582,-3.2650771571985193,null,-3.2650771571985193,-2.132655917729346,null,-2.132655917729346,-0.3284574070398878,null,-0.3284574070398878,1.6233480674701612,null,1.6233480674701612,3.139985283889504,null,3.139985283889504,3.7540676202935543,null,3.7540676202935543,3.2574081445315333,null,3.2574081445315333,1.7704626912098678,null,1.7704626912098678,-0.2854648253919484,null,-0.2854648253919484,-2.3073542218356566,null,-2.3073542218356566,-3.6873248799928136,null,-3.6873248799928136,-3.9953511586288792,null,-3.9953511586288792,-3.1129299423675336,null,-3.1129299423675336,-1.2762463015828298,null,-1.2762463015828298,0.9863339929022542,null,0.9863339929022542,3.006134218425388,null,3.006134218425388,4.171785091101127,null,4.171785091101127,4.114188489190804,null,4.114188489190804,2.8228937387024278,null,2.8228937387024278,0.6573306413193946,null,0.6573306413193946,-1.752835015759484,null,-1.752835015759484,-3.690725693385801,null,-3.690725693385801,-4.565474509863946,null,-4.565474509863946,-4.092228108084394,null,-4.092228108084394,-2.3841377045282357,null,-2.3841377045282357,0.07316262588635071,null,0.07316262588635071,2.559395385815022,null,2.559395385815022,4.330745148058304,null,4.330745148058304,4.842363474489876,null,4.842363474489876,3.915720494971958,null,3.915720494971958,1.7994684865375048,null,1.7994684865375048,-0.8965716677506457,null,-0.8965716677506457,-3.3770069990619382,null,-3.3770069990619382,-4.895528851013036,null,-4.895528851013036,-4.979401714061115,null,-4.979401714061115,-3.576275705538514,null,-3.576275705538514,-1.0778289403379089,null,-1.0778289403379089,1.7891697579732395,null,1.7891697579732395,4.174204160867088,null,4.174204160867088,5.355321273550826,null,5.355321273550826,4.95756024356404,null,4.95756024356404,3.0714442856422863,null,3.0714442856422863,0.2342410156592411,null,0.2342410156592411,-2.722846160641281,null,-2.722846160641281,-4.918166110627431,null,-4.918166110627431,-5.682469259436561,null,-5.682469259436561,-4.762758076030356,null],\"y\":[0.5488367107390302,0.9783258334005749,null,0.9783258334005749,1.14109248015029,null,1.14109248015029,0.9619446014852047,null,0.9619446014852047,0.4681255648078373,null,0.4681255648078373,-0.21111784382292376,null,-0.21111784382292376,-0.8777831636755993,null,-0.8777831636755993,-1.322817142808986,null,-1.322817142808986,-1.3914646485122901,null,-1.3914646485122901,-1.0358914790130431,null,-1.0358914790130431,-0.3374874360321283,null,-0.3374874360321283,0.510162673454581,null,0.510162673454581,1.254689948365231,null,1.254689948365231,1.660076062701201,null,1.660076062701201,1.5811435246981675,null,1.5811435246981675,1.013982300255884,null,1.013982300255884,0.10518015269678282,null,0.10518015269678282,-0.885265035247805,null,-0.885265035247805,-1.658238449801002,null,-1.658238449801002,-1.9658054368147089,null,-1.9658054368147089,-1.690263870513845,null,-1.690263870513845,-0.8868758725866002,null,-0.8868758725866002,0.2247056621600829,null,0.2247056621600829,1.3200820389615677,null,1.3200820389615677,2.0647604887241418,null,2.0647604887241418,2.2162013328710675,null,2.2162013328710675,1.7021556013908465,null,1.7021556013908465,0.6501676275667383,null,0.6501676275667383,-0.6428927051995691,null,-0.6428927051995691,-1.794406037845411,null,-1.794406037845411,-2.4492214227991136,null,-2.4492214227991136,-2.389014612188177,null,-2.389014612188177,-1.6041635697644874,null,-1.6041635697644874,-0.3047196416498239,null,-0.3047196416498239,1.1351774570814044,null,1.1351774570814044,2.28493833364943,null,2.28493833364943,2.786274789202081,null,2.786274789202081,2.464568882372694,null,2.464568882372694,1.3883215079224722,null,1.3883215079224722,-0.143213698802766,null,-0.143213698802766,-1.6828921328649722,null,-1.6828921328649722,-2.766200872049872,null,-2.766200872049872,-3.0513498117218365,null,-3.0513498117218365,-2.4266961092035535,null,-2.4266961092035535,-1.051852983660335,null,-1.051852983660335,0.6820717933082826,null,0.6820717933082826,2.2635535324420126,null,2.2635535324420126,3.2115536992641607,null,3.2115536992641607,3.221731549624359,null,3.221731549624359,2.263553733887012,null,2.263553733887012,0.5974781423095539,null,0.5974781423095539,-1.295285588992,null,-1.295285588992,-2.8516773709054863,null,-2.8516773709054863,-3.5942818311919056,null,-3.5942818311919056,-3.2775932982443607,null,-3.2775932982443607,-1.968290981500785,null,-1.968290981500785,-0.03351170948570193,null,-0.03351170948570193,1.9617793559222365,null,1.9617793559222365,3.4197305181630147,null,3.4197305181630147,3.888712287530246,null,3.888712287530246,3.2029420769145704,null,3.2029420769145704,1.5395370347319295,null,1.5395370347319295,-0.6262550099322914,null,-0.6262550099322914,-2.6566614624178166,null,-2.6566614624178166,-3.939188321330553,null,-3.939188321330553,-4.0713204708482,null,-4.0713204708482,-2.986440627045847,null,-2.986440627045847,-0.9816897245794876,null,-0.9816897245794876,1.3628878193650868,null,1.3628878193650868,3.3520822202488376,null,3.3520822202488376,4.381660005672619,null,4.381660005672619,4.12178488744076,null,4.12178488744076,2.6220732155936113,null,2.6220732155936113,0.3049901636818693,null,0.3049901636818693,-2.152851036982682,null,-2.152851036982682,-4.0182306336518545,null,-4.0182306336518545,-4.720042199000701,null,-4.720042199000701,-4.023950430548321,null,-4.023950430548321,-2.10962757773562,null,-2.10962757773562,0.4746239019435821,null,0.4746239019435821,2.9687411900143275,null,2.9687411900143275,4.624436545365879,null,4.624436545365879,4.9296590101481215,null,4.9296590101481215,3.7666630487859836,null,3.7666630487859836,1.4549713791762346,null,1.4549713791762346,-1.3358855614583514,null,-1.3358855614583514,-3.780190541061653,null,-3.780190541061653,-5.140340414509631,null,-5.140340414509631,-4.989346881025976,null,-4.989346881025976,-3.3444425295245956,null,-3.3444425295245956,-0.6701084406683357,null,-0.6701084406683357,2.252778799484523,null,2.252778799484523,4.5549116433149806,null,4.5549116433149806,5.53708993808986,null,5.53708993808986,4.882443644995892,null,4.882443644995892,2.7579652213156973,null,2.7579652213156973,-0.22699257557380964,null,-0.22699257557380964,-3.195315328817402,null],\"type\":\"scatter\"},{\"hoverinfo\":\"text\",\"marker\":{\"color\":[\"#636EFA\",\"#636EFA\",\"#636EFA\",\"#EF553B\",\"#EF553B\",\"#EF553B\",\"#EF553B\",\"#EF553B\",\"#EF553B\",\"#EF553B\",\"#EF553B\",\"#EF553B\",\"#EF553B\",\"#EF553B\",\"#EF553B\",\"#EF553B\",\"#EF553B\",\"#00CC96\",\"#00CC96\",\"#00CC96\",\"#00CC96\",\"#00CC96\",\"#00CC96\",\"#00CC96\",\"#00CC96\",\"#00CC96\",\"#00CC96\",\"#00CC96\",\"#00CC96\",\"#00CC96\",\"#AB63FA\",\"#AB63FA\",\"#AB63FA\",\"#AB63FA\",\"#AB63FA\",\"#AB63FA\",\"#AB63FA\",\"#AB63FA\",\"#AB63FA\",\"#FFA15A\",\"#FFA15A\",\"#FFA15A\",\"#FFA15A\",\"#19D3F3\",\"#19D3F3\",\"#19D3F3\",\"#FF6692\",\"#FF6692\",\"#FF6692\",\"#FF6692\",\"#FF6692\",\"#FF6692\",\"#FF6692\",\"#FF6692\",\"#FF6692\",\"#B6E880\",\"#B6E880\",\"#B6E880\",\"#B6E880\",\"#B6E880\",\"#B6E880\",\"#B6E880\",\"#B6E880\",\"#B6E880\",\"#B6E880\",\"#FF97FF\",\"#FF97FF\",\"#FF97FF\",\"#FF97FF\",\"#FECB52\",\"#FECB52\",\"#FECB52\",\"#FECB52\",\"#636EFA\",\"#636EFA\",\"#636EFA\",\"#636EFA\",\"#636EFA\",\"#EF553B\",\"#EF553B\",\"#EF553B\",\"#00CC96\",\"#AB63FA\",\"#AB63FA\",\"#AB63FA\",\"#AB63FA\",\"#FFA15A\",\"#FFA15A\",\"#FFA15A\",\"#FFA15A\",\"#FFA15A\",\"#19D3F3\",\"#19D3F3\",\"#FF6692\",\"#FF6692\",\"#FF6692\",\"#FF6692\",\"#B6E880\"],\"line\":{\"width\":2},\"showscale\":false,\"size\":[15,15,15,15,15,15,15,15,15,15,15,15,15,15,15,15,15,15,15,15,15,15,15,15,15,20,15,15,20,15,15,20,15,15,15,15,15,15,15,15,30,15,20,30,15,15,20,30,20,15,15,15,15,15,15,15,15,15,15,15,15,15,15,15,15,30,15,15,15,15,15,15,15,15,20,15,15,15,15,15,15,15,15,15,15,15,15,15,15,15,15,15,15,20,15,15,15,15]},\"mode\":\"markers+text\",\"text\":[\"1: Beir\\u00fbt\",\"2: La Bellevue Hotel\",\"3: Roman Mansion\",\"4: Roadside khan\",\"5: Nebi-Yunas khan\",\"6: Sidon\",\"7: Tyre\",\"8: St. Jean d'Acre\",\"9: Plain of Esdraelon\",\"10: Mount Carmel\",\"11: Ahtlit\",\"12: Tantura\",\"13: C\\u00e6sarea\",\"14: Valley of Sharon\",\"15: Jaffa\",\"16: Ramleh\",\"17: Lydda\",\"18: Damascus Gate\",\"19: St. Stephen's Gate\",\"20: Zion Gate\",\"21: Jaffa Gate\",\"22: Fortress of David\",\"23: Church of Yacobeiah\",\"24: Church of St. James\",\"25: Armenian Patriarch's palace\",\"26: Tomb of David\",\"27: Via Dolorosa\",\"28: Governor of Jerusalem's residence\",\"29: Church of the Holy Sepulchre\",\"30: Church of Flagellation\",\"31: Convent of the Cross\",\"32: Valley of Jehosaphat\",\"33: Pool of Siloam\",\"34: King's Gardens\",\"35: Well of Joab\",\"36: Hill of Scandal\",\"37: Church of the Virgin Mary\",\"38: Tombs of the Kings\",\"39: Cave of Jeremiah\",\"40: Gethsemane\",\"41: Mount Olivet\",\"42: Church of Ascension\",\"43: Bethany\",\"44: Mount Olivet\",\"45: Village at the top of the mountain\",\"46: Pathway from the city to Jordan\",\"47: Valley of Jehosaphat\",\"48: Mount Olivet\",\"49: Bethany\",\"50: Apostles' Fountain\",\"51: Dead Sea\",\"52: Jericho\",\"53: Fountain of Elisha\",\"54: Jordan River\",\"55: Mount Zion\",\"56: Road from Jerusalem to Bethlehem\",\"57: Bethlehem\",\"58: Church and Monastery covering the Cave of the Nativity\",\"59: Cave of the Nativity\",\"60: Schoolroom of Miss Williams\",\"61: Jerome's Cave\",\"62: Joseph's House\",\"63: The Manger\",\"64: Church of St. Helena\",\"65: Grotto of the Nativity\",\"66: Mount Olivet\",\"67: Wady Farah\",\"68: Valley of Delight\",\"69: Liftah (Nephtoah)\",\"70: Mosque of Omar\",\"71: Temple enclosure\",\"72: Mosque of Aksa\",\"73: Cave of the Sakhrah\",\"74: Parley Room\",\"75: Tomb of David\",\"76: Turfendah's Home\",\"77: Keeper's Hareem\",\"78: Author's Home\",\"79: House of Bash Catib\",\"80: Neby Da\\u00fbd\",\"81: Jewish quarter\",\"82: bazaars of Jerusalem\",\"83: Bazaar\",\"84: Home of Turfendah and friends\",\"85: Bathing Establishment\",\"86: Dressing-room in Bathing Establishment\",\"87: Private house in the Jewish quarter\",\"88: Hackm\\u00e8 or dispensary\",\"89: House's upper court\",\"90: Housetop terrace\",\"91: Council Chamber or Sanhedrim\",\"92: Temple Walls\",\"93: Synagogues in Jerusalem\",\"94: Church of the Holy Sepulchre\",\"95: Scene of the Crucifixion\",\"96: Chapel of the Holy Cross\",\"97: Subterranean part of the Church\",\"98: Syria\"],\"textposition\":\"bottom center\",\"x\":[0.8931697758168838,0.4954756282008053,-0.09401385324160778,-0.7060990882390222,-1.1499669767685312,-1.272523740020337,-1.0101363862068775,-0.4155653541892315,0.3502804762719545,1.0615079907822496,1.493868220239385,1.4951967432861146,1.0376132136083538,0.23390997019841175,-0.6891295164262031,-1.4545692580039729,-1.818393804972806,-1.6469005259090563,-0.9639745672605116,0.04802574965185385,1.096389925554082,1.8626725175645868,2.099359319928397,1.7092570416304105,0.7822940309087378,-0.4235382496029072,-1.5536994699487485,-2.2613381205302385,-2.3136073308577187,-1.6675096170950292,-0.4907716182605797,0.8808417092940246,2.0391989402405524,2.625240698726937,2.4400520905259633,1.511273542319984,0.09296300107946742,-1.4034306267975836,-2.5283785788481588,-2.9292852026430234,-2.4606610317481334,-1.235126563973208,0.4022002449907799,1.970637482798482,2.9950469692029866,3.149695800412824,2.361335439745215,0.8390149845487144,-0.9806030550133125,-2.5583674115359343,-3.412387953440582,-3.2650771571985193,-2.132655917729346,-0.3284574070398878,1.6233480674701612,3.139985283889504,3.7540676202935543,3.2574081445315333,1.7704626912098678,-0.2854648253919484,-2.3073542218356566,-3.6873248799928136,-3.9953511586288792,-3.1129299423675336,-1.2762463015828298,0.9863339929022542,3.006134218425388,4.171785091101127,4.114188489190804,2.8228937387024278,0.6573306413193946,-1.752835015759484,-3.690725693385801,-4.565474509863946,-4.092228108084394,-2.3841377045282357,0.07316262588635071,2.559395385815022,4.330745148058304,4.842363474489876,3.915720494971958,1.7994684865375048,-0.8965716677506457,-3.3770069990619382,-4.895528851013036,-4.979401714061115,-3.576275705538514,-1.0778289403379089,1.7891697579732395,4.174204160867088,5.355321273550826,4.95756024356404,3.0714442856422863,0.2342410156592411,-2.722846160641281,-4.918166110627431,-5.682469259436561,-4.762758076030356],\"y\":[0.5488367107390302,0.9783258334005749,1.14109248015029,0.9619446014852047,0.4681255648078373,-0.21111784382292376,-0.8777831636755993,-1.322817142808986,-1.3914646485122901,-1.0358914790130431,-0.3374874360321283,0.510162673454581,1.254689948365231,1.660076062701201,1.5811435246981675,1.013982300255884,0.10518015269678282,-0.885265035247805,-1.658238449801002,-1.9658054368147089,-1.690263870513845,-0.8868758725866002,0.2247056621600829,1.3200820389615677,2.0647604887241418,2.2162013328710675,1.7021556013908465,0.6501676275667383,-0.6428927051995691,-1.794406037845411,-2.4492214227991136,-2.389014612188177,-1.6041635697644874,-0.3047196416498239,1.1351774570814044,2.28493833364943,2.786274789202081,2.464568882372694,1.3883215079224722,-0.143213698802766,-1.6828921328649722,-2.766200872049872,-3.0513498117218365,-2.4266961092035535,-1.051852983660335,0.6820717933082826,2.2635535324420126,3.2115536992641607,3.221731549624359,2.263553733887012,0.5974781423095539,-1.295285588992,-2.8516773709054863,-3.5942818311919056,-3.2775932982443607,-1.968290981500785,-0.03351170948570193,1.9617793559222365,3.4197305181630147,3.888712287530246,3.2029420769145704,1.5395370347319295,-0.6262550099322914,-2.6566614624178166,-3.939188321330553,-4.0713204708482,-2.986440627045847,-0.9816897245794876,1.3628878193650868,3.3520822202488376,4.381660005672619,4.12178488744076,2.6220732155936113,0.3049901636818693,-2.152851036982682,-4.0182306336518545,-4.720042199000701,-4.023950430548321,-2.10962757773562,0.4746239019435821,2.9687411900143275,4.624436545365879,4.9296590101481215,3.7666630487859836,1.4549713791762346,-1.3358855614583514,-3.780190541061653,-5.140340414509631,-4.989346881025976,-3.3444425295245956,-0.6701084406683357,2.252778799484523,4.5549116433149806,5.53708993808986,4.882443644995892,2.7579652213156973,-0.22699257557380964,-3.195315328817402],\"type\":\"scatter\"}],                        {\"height\":800,\"hovermode\":\"closest\",\"margin\":{\"b\":20,\"l\":5,\"r\":5,\"t\":40},\"showlegend\":false,\"title\":{\"font\":{\"size\":16},\"text\":\"<br>Network graph of locations with spiral layout\"},\"xaxis\":{\"showgrid\":false,\"showticklabels\":false,\"zeroline\":false},\"yaxis\":{\"showgrid\":false,\"showticklabels\":false,\"zeroline\":false},\"template\":{\"data\":{\"histogram2dcontour\":[{\"type\":\"histogram2dcontour\",\"colorbar\":{\"outlinewidth\":0,\"ticks\":\"\"},\"colorscale\":[[0.0,\"#0d0887\"],[0.1111111111111111,\"#46039f\"],[0.2222222222222222,\"#7201a8\"],[0.3333333333333333,\"#9c179e\"],[0.4444444444444444,\"#bd3786\"],[0.5555555555555556,\"#d8576b\"],[0.6666666666666666,\"#ed7953\"],[0.7777777777777778,\"#fb9f3a\"],[0.8888888888888888,\"#fdca26\"],[1.0,\"#f0f921\"]]}],\"choropleth\":[{\"type\":\"choropleth\",\"colorbar\":{\"outlinewidth\":0,\"ticks\":\"\"}}],\"histogram2d\":[{\"type\":\"histogram2d\",\"colorbar\":{\"outlinewidth\":0,\"ticks\":\"\"},\"colorscale\":[[0.0,\"#0d0887\"],[0.1111111111111111,\"#46039f\"],[0.2222222222222222,\"#7201a8\"],[0.3333333333333333,\"#9c179e\"],[0.4444444444444444,\"#bd3786\"],[0.5555555555555556,\"#d8576b\"],[0.6666666666666666,\"#ed7953\"],[0.7777777777777778,\"#fb9f3a\"],[0.8888888888888888,\"#fdca26\"],[1.0,\"#f0f921\"]]}],\"heatmap\":[{\"type\":\"heatmap\",\"colorbar\":{\"outlinewidth\":0,\"ticks\":\"\"},\"colorscale\":[[0.0,\"#0d0887\"],[0.1111111111111111,\"#46039f\"],[0.2222222222222222,\"#7201a8\"],[0.3333333333333333,\"#9c179e\"],[0.4444444444444444,\"#bd3786\"],[0.5555555555555556,\"#d8576b\"],[0.6666666666666666,\"#ed7953\"],[0.7777777777777778,\"#fb9f3a\"],[0.8888888888888888,\"#fdca26\"],[1.0,\"#f0f921\"]]}],\"heatmapgl\":[{\"type\":\"heatmapgl\",\"colorbar\":{\"outlinewidth\":0,\"ticks\":\"\"},\"colorscale\":[[0.0,\"#0d0887\"],[0.1111111111111111,\"#46039f\"],[0.2222222222222222,\"#7201a8\"],[0.3333333333333333,\"#9c179e\"],[0.4444444444444444,\"#bd3786\"],[0.5555555555555556,\"#d8576b\"],[0.6666666666666666,\"#ed7953\"],[0.7777777777777778,\"#fb9f3a\"],[0.8888888888888888,\"#fdca26\"],[1.0,\"#f0f921\"]]}],\"contourcarpet\":[{\"type\":\"contourcarpet\",\"colorbar\":{\"outlinewidth\":0,\"ticks\":\"\"}}],\"contour\":[{\"type\":\"contour\",\"colorbar\":{\"outlinewidth\":0,\"ticks\":\"\"},\"colorscale\":[[0.0,\"#0d0887\"],[0.1111111111111111,\"#46039f\"],[0.2222222222222222,\"#7201a8\"],[0.3333333333333333,\"#9c179e\"],[0.4444444444444444,\"#bd3786\"],[0.5555555555555556,\"#d8576b\"],[0.6666666666666666,\"#ed7953\"],[0.7777777777777778,\"#fb9f3a\"],[0.8888888888888888,\"#fdca26\"],[1.0,\"#f0f921\"]]}],\"surface\":[{\"type\":\"surface\",\"colorbar\":{\"outlinewidth\":0,\"ticks\":\"\"},\"colorscale\":[[0.0,\"#0d0887\"],[0.1111111111111111,\"#46039f\"],[0.2222222222222222,\"#7201a8\"],[0.3333333333333333,\"#9c179e\"],[0.4444444444444444,\"#bd3786\"],[0.5555555555555556,\"#d8576b\"],[0.6666666666666666,\"#ed7953\"],[0.7777777777777778,\"#fb9f3a\"],[0.8888888888888888,\"#fdca26\"],[1.0,\"#f0f921\"]]}],\"mesh3d\":[{\"type\":\"mesh3d\",\"colorbar\":{\"outlinewidth\":0,\"ticks\":\"\"}}],\"scatter\":[{\"fillpattern\":{\"fillmode\":\"overlay\",\"size\":10,\"solidity\":0.2},\"type\":\"scatter\"}],\"parcoords\":[{\"type\":\"parcoords\",\"line\":{\"colorbar\":{\"outlinewidth\":0,\"ticks\":\"\"}}}],\"scatterpolargl\":[{\"type\":\"scatterpolargl\",\"marker\":{\"colorbar\":{\"outlinewidth\":0,\"ticks\":\"\"}}}],\"bar\":[{\"error_x\":{\"color\":\"#2a3f5f\"},\"error_y\":{\"color\":\"#2a3f5f\"},\"marker\":{\"line\":{\"color\":\"#E5ECF6\",\"width\":0.5},\"pattern\":{\"fillmode\":\"overlay\",\"size\":10,\"solidity\":0.2}},\"type\":\"bar\"}],\"scattergeo\":[{\"type\":\"scattergeo\",\"marker\":{\"colorbar\":{\"outlinewidth\":0,\"ticks\":\"\"}}}],\"scatterpolar\":[{\"type\":\"scatterpolar\",\"marker\":{\"colorbar\":{\"outlinewidth\":0,\"ticks\":\"\"}}}],\"histogram\":[{\"marker\":{\"pattern\":{\"fillmode\":\"overlay\",\"size\":10,\"solidity\":0.2}},\"type\":\"histogram\"}],\"scattergl\":[{\"type\":\"scattergl\",\"marker\":{\"colorbar\":{\"outlinewidth\":0,\"ticks\":\"\"}}}],\"scatter3d\":[{\"type\":\"scatter3d\",\"line\":{\"colorbar\":{\"outlinewidth\":0,\"ticks\":\"\"}},\"marker\":{\"colorbar\":{\"outlinewidth\":0,\"ticks\":\"\"}}}],\"scattermapbox\":[{\"type\":\"scattermapbox\",\"marker\":{\"colorbar\":{\"outlinewidth\":0,\"ticks\":\"\"}}}],\"scatterternary\":[{\"type\":\"scatterternary\",\"marker\":{\"colorbar\":{\"outlinewidth\":0,\"ticks\":\"\"}}}],\"scattercarpet\":[{\"type\":\"scattercarpet\",\"marker\":{\"colorbar\":{\"outlinewidth\":0,\"ticks\":\"\"}}}],\"carpet\":[{\"aaxis\":{\"endlinecolor\":\"#2a3f5f\",\"gridcolor\":\"white\",\"linecolor\":\"white\",\"minorgridcolor\":\"white\",\"startlinecolor\":\"#2a3f5f\"},\"baxis\":{\"endlinecolor\":\"#2a3f5f\",\"gridcolor\":\"white\",\"linecolor\":\"white\",\"minorgridcolor\":\"white\",\"startlinecolor\":\"#2a3f5f\"},\"type\":\"carpet\"}],\"table\":[{\"cells\":{\"fill\":{\"color\":\"#EBF0F8\"},\"line\":{\"color\":\"white\"}},\"header\":{\"fill\":{\"color\":\"#C8D4E3\"},\"line\":{\"color\":\"white\"}},\"type\":\"table\"}],\"barpolar\":[{\"marker\":{\"line\":{\"color\":\"#E5ECF6\",\"width\":0.5},\"pattern\":{\"fillmode\":\"overlay\",\"size\":10,\"solidity\":0.2}},\"type\":\"barpolar\"}],\"pie\":[{\"automargin\":true,\"type\":\"pie\"}]},\"layout\":{\"autotypenumbers\":\"strict\",\"colorway\":[\"#636efa\",\"#EF553B\",\"#00cc96\",\"#ab63fa\",\"#FFA15A\",\"#19d3f3\",\"#FF6692\",\"#B6E880\",\"#FF97FF\",\"#FECB52\"],\"font\":{\"color\":\"#2a3f5f\"},\"hovermode\":\"closest\",\"hoverlabel\":{\"align\":\"left\"},\"paper_bgcolor\":\"white\",\"plot_bgcolor\":\"#E5ECF6\",\"polar\":{\"bgcolor\":\"#E5ECF6\",\"angularaxis\":{\"gridcolor\":\"white\",\"linecolor\":\"white\",\"ticks\":\"\"},\"radialaxis\":{\"gridcolor\":\"white\",\"linecolor\":\"white\",\"ticks\":\"\"}},\"ternary\":{\"bgcolor\":\"#E5ECF6\",\"aaxis\":{\"gridcolor\":\"white\",\"linecolor\":\"white\",\"ticks\":\"\"},\"baxis\":{\"gridcolor\":\"white\",\"linecolor\":\"white\",\"ticks\":\"\"},\"caxis\":{\"gridcolor\":\"white\",\"linecolor\":\"white\",\"ticks\":\"\"}},\"coloraxis\":{\"colorbar\":{\"outlinewidth\":0,\"ticks\":\"\"}},\"colorscale\":{\"sequential\":[[0.0,\"#0d0887\"],[0.1111111111111111,\"#46039f\"],[0.2222222222222222,\"#7201a8\"],[0.3333333333333333,\"#9c179e\"],[0.4444444444444444,\"#bd3786\"],[0.5555555555555556,\"#d8576b\"],[0.6666666666666666,\"#ed7953\"],[0.7777777777777778,\"#fb9f3a\"],[0.8888888888888888,\"#fdca26\"],[1.0,\"#f0f921\"]],\"sequentialminus\":[[0.0,\"#0d0887\"],[0.1111111111111111,\"#46039f\"],[0.2222222222222222,\"#7201a8\"],[0.3333333333333333,\"#9c179e\"],[0.4444444444444444,\"#bd3786\"],[0.5555555555555556,\"#d8576b\"],[0.6666666666666666,\"#ed7953\"],[0.7777777777777778,\"#fb9f3a\"],[0.8888888888888888,\"#fdca26\"],[1.0,\"#f0f921\"]],\"diverging\":[[0,\"#8e0152\"],[0.1,\"#c51b7d\"],[0.2,\"#de77ae\"],[0.3,\"#f1b6da\"],[0.4,\"#fde0ef\"],[0.5,\"#f7f7f7\"],[0.6,\"#e6f5d0\"],[0.7,\"#b8e186\"],[0.8,\"#7fbc41\"],[0.9,\"#4d9221\"],[1,\"#276419\"]]},\"xaxis\":{\"gridcolor\":\"white\",\"linecolor\":\"white\",\"ticks\":\"\",\"title\":{\"standoff\":15},\"zerolinecolor\":\"white\",\"automargin\":true,\"zerolinewidth\":2},\"yaxis\":{\"gridcolor\":\"white\",\"linecolor\":\"white\",\"ticks\":\"\",\"title\":{\"standoff\":15},\"zerolinecolor\":\"white\",\"automargin\":true,\"zerolinewidth\":2},\"scene\":{\"xaxis\":{\"backgroundcolor\":\"#E5ECF6\",\"gridcolor\":\"white\",\"linecolor\":\"white\",\"showbackground\":true,\"ticks\":\"\",\"zerolinecolor\":\"white\",\"gridwidth\":2},\"yaxis\":{\"backgroundcolor\":\"#E5ECF6\",\"gridcolor\":\"white\",\"linecolor\":\"white\",\"showbackground\":true,\"ticks\":\"\",\"zerolinecolor\":\"white\",\"gridwidth\":2},\"zaxis\":{\"backgroundcolor\":\"#E5ECF6\",\"gridcolor\":\"white\",\"linecolor\":\"white\",\"showbackground\":true,\"ticks\":\"\",\"zerolinecolor\":\"white\",\"gridwidth\":2}},\"shapedefaults\":{\"line\":{\"color\":\"#2a3f5f\"}},\"annotationdefaults\":{\"arrowcolor\":\"#2a3f5f\",\"arrowhead\":0,\"arrowwidth\":1},\"geo\":{\"bgcolor\":\"white\",\"landcolor\":\"#E5ECF6\",\"subunitcolor\":\"white\",\"showland\":true,\"showlakes\":true,\"lakecolor\":\"white\"},\"title\":{\"x\":0.05},\"mapbox\":{\"style\":\"light\"}}}},                        {\"responsive\": true}                    ).then(function(){\n",
       "                            \n",
       "var gd = document.getElementById('f945c2b2-5ae9-4a0a-8f46-c546a5a7f056');\n",
       "var x = new MutationObserver(function (mutations, observer) {{\n",
       "        var display = window.getComputedStyle(gd).display;\n",
       "        if (!display || display === 'none') {{\n",
       "            console.log([gd, 'removed!']);\n",
       "            Plotly.purge(gd);\n",
       "            observer.disconnect();\n",
       "        }}\n",
       "}});\n",
       "\n",
       "// Listen for the removal of the full notebook cells\n",
       "var notebookContainer = gd.closest('#notebook-container');\n",
       "if (notebookContainer) {{\n",
       "    x.observe(notebookContainer, {childList: true});\n",
       "}}\n",
       "\n",
       "// Listen for the clearing of the current output cell\n",
       "var outputEl = gd.closest('.output');\n",
       "if (outputEl) {{\n",
       "    x.observe(outputEl, {childList: true});\n",
       "}}\n",
       "\n",
       "                        })                };                });            </script>        </div>"
      ]
     },
     "metadata": {},
     "output_type": "display_data"
    }
   ],
   "source": [
    "import pandas as pd\n",
    "import networkx as nx\n",
    "import plotly.graph_objs as go\n",
    "import plotly.express as px\n",
    "import math\n",
    "\n",
    "# Replace 'your_file.xlsx' with the path to your Excel file\n",
    "file_path = 'Data/final_visited.xlsx'\n",
    "\n",
    "# Read the Excel file\n",
    "df = pd.read_excel(file_path)\n",
    "\n",
    "# Enhance DataFrame with 'Order' and 'Chapter' information\n",
    "df['Label'] = df['no'].astype(str) + \": \" + df['Location JSON Name']\n",
    "\n",
    "# Calculate frequency of each location\n",
    "location_frequency = df['Location JSON Name'].value_counts()\n",
    "\n",
    "# Function to create a spiral layout\n",
    "def create_spiral_positions(df, spacing=0.5510):\n",
    "    theta = spacing\n",
    "    a = 1\n",
    "    b = spacing / (2 * math.pi)\n",
    "    positions = {}\n",
    "    for _, row in df.iterrows():\n",
    "        r = a + b * theta\n",
    "        x, y = r * math.cos(theta), r * math.sin(theta)\n",
    "        positions[row['Label']] = (x, y)\n",
    "        theta += spacing\n",
    "    return positions\n",
    "\n",
    "# Create Source-Target pairs\n",
    "source_target_pairs = [(df['Label'].iloc[i], df['Label'].iloc[i + 1]) for i in range(len(df) - 1)]\n",
    "\n",
    "# Create a directed graph with the edges\n",
    "G = nx.DiGraph(source_target_pairs)\n",
    "\n",
    "# Define node positions using the spiral layout function\n",
    "pos = create_spiral_positions(df)\n",
    "\n",
    "# Extract node and edge traces for Plotly\n",
    "edge_trace = go.Scatter(\n",
    "    x=[],\n",
    "    y=[],\n",
    "    line=dict(width=0.5, color='#888'),\n",
    "    hoverinfo='none',\n",
    "    mode='lines'\n",
    ")\n",
    "\n",
    "for edge in G.edges():\n",
    "    x0, y0 = pos[edge[0]]\n",
    "    x1, y1 = pos[edge[1]]\n",
    "    edge_trace['x'] += tuple([x0, x1, None])\n",
    "    edge_trace['y'] += tuple([y0, y1, None])\n",
    "\n",
    "# Generate color map for chapters\n",
    "chapter_list = df['Chapter'].unique()\n",
    "colors = px.colors.qualitative.Plotly\n",
    "color_map = {chapter: colors[i % len(colors)] for i, chapter in enumerate(chapter_list)}\n",
    "\n",
    "# Define node trace\n",
    "node_trace = go.Scatter(\n",
    "    x=[],\n",
    "    y=[],\n",
    "    text=[],\n",
    "    mode='markers+text',\n",
    "    hoverinfo='text',\n",
    "    marker=dict(\n",
    "        showscale=False,\n",
    "        color=[],\n",
    "        size=[],\n",
    "        line=dict(width=2)\n",
    "    ),\n",
    "    textposition='bottom center'\n",
    ")\n",
    "\n",
    "for node in G.nodes():\n",
    "    x, y = pos[node]\n",
    "    node_trace['x'] += tuple([x])\n",
    "    node_trace['y'] += tuple([y])\n",
    "    node_trace['text'] += tuple([node])\n",
    "\n",
    "    location_name = node.split(\": \")[1]\n",
    "    node_size = (location_frequency[location_name] * 5) + 10  # Adjust size by frequency\n",
    "    node_trace['marker']['size'] += tuple([node_size])\n",
    "\n",
    "    chapter = df[df['Label'] == node]['Chapter'].values[0]\n",
    "    node_trace['marker']['color'] += tuple([color_map[chapter]])\n",
    "\n",
    "# Create the figure\n",
    "fig = go.Figure(data=[edge_trace, node_trace],\n",
    "                layout=go.Layout(\n",
    "                    title='<br>Network graph of locations with spiral layout',\n",
    "                    titlefont_size=16,\n",
    "                    showlegend=False,\n",
    "                    hovermode='closest',\n",
    "                    margin=dict(b=20, l=5, r=5, t=40),\n",
    "                    xaxis=dict(showgrid=False, zeroline=False, showticklabels=False),\n",
    "                    yaxis=dict(showgrid=False, zeroline=False, showticklabels=False),\n",
    "                    height=800\n",
    "                ))\n",
    "\n",
    "fig.show()\n"
   ]
  },
  {
   "cell_type": "code",
   "execution_count": 103,
   "id": "f4da1355",
   "metadata": {},
   "outputs": [
    {
     "name": "stdout",
     "output_type": "stream",
     "text": [
      "HTML file saved: network_v_spiral3.html\n"
     ]
    }
   ],
   "source": [
    "# Save the figure as an HTML file\n",
    "html_file_path = 'network_v_spiral3.html'\n",
    "fig.write_html(html_file_path)\n",
    "\n",
    "print(f\"HTML file saved: {html_file_path}\")"
   ]
  }
 ],
 "metadata": {
  "kernelspec": {
   "display_name": "Python 3 (ipykernel)",
   "language": "python",
   "name": "python3"
  },
  "language_info": {
   "codemirror_mode": {
    "name": "ipython",
    "version": 3
   },
   "file_extension": ".py",
   "mimetype": "text/x-python",
   "name": "python",
   "nbconvert_exporter": "python",
   "pygments_lexer": "ipython3",
   "version": "3.11.5"
  }
 },
 "nbformat": 4,
 "nbformat_minor": 5
}
